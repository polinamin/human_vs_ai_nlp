{
 "cells": [
  {
   "cell_type": "code",
   "execution_count": 8,
   "id": "559d14ca-9ed9-4d48-8843-fc94d4135a14",
   "metadata": {
    "tags": []
   },
   "outputs": [],
   "source": [
    "import numpy as np\n",
    "import pandas as pd\n",
    "import praw\n",
    "import time\n",
    "from pmaw import PushshiftAPI\n",
    "import openai\n",
    "import matplotlib.pyplot as plt\n",
    "from sklearn.model_selection import train_test_split, GridSearchCV\n",
    "from sklearn.pipeline import Pipeline\n",
    "from sklearn.naive_bayes import MultinomialNB, BernoulliNB, GaussianNB\n",
    "from sklearn.linear_model import LogisticRegression\n",
    "from sklearn.metrics import confusion_matrix, ConfusionMatrixDisplay\n",
    "from sklearn.feature_extraction.text import CountVectorizer, TfidfVectorizer\n",
    "\n",
    "import nltk\n",
    "from statistics import mean"
   ]
  },
  {
   "cell_type": "code",
   "execution_count": 3,
   "id": "4753c815-3e6d-4c39-8d11-a0a13b59a002",
   "metadata": {
    "tags": []
   },
   "outputs": [],
   "source": [
    "df = pd.read_csv(\"combined_data_for_use.csv\", index_col=0)"
   ]
  },
  {
   "cell_type": "code",
   "execution_count": 5,
   "id": "a0822bc7-397d-4424-a71e-e7434c7ed61c",
   "metadata": {
    "tags": []
   },
   "outputs": [
    {
     "data": {
      "text/html": [
       "<div>\n",
       "<style scoped>\n",
       "    .dataframe tbody tr th:only-of-type {\n",
       "        vertical-align: middle;\n",
       "    }\n",
       "\n",
       "    .dataframe tbody tr th {\n",
       "        vertical-align: top;\n",
       "    }\n",
       "\n",
       "    .dataframe thead th {\n",
       "        text-align: right;\n",
       "    }\n",
       "</style>\n",
       "<table border=\"1\" class=\"dataframe\">\n",
       "  <thead>\n",
       "    <tr style=\"text-align: right;\">\n",
       "      <th></th>\n",
       "      <th>question</th>\n",
       "      <th>ai_answer</th>\n",
       "      <th>human_answer</th>\n",
       "    </tr>\n",
       "  </thead>\n",
       "  <tbody>\n",
       "    <tr>\n",
       "      <th>4402</th>\n",
       "      <td>Would you leave a high paying job because you ...</td>\n",
       "      <td>\\n\\nThere is no definitive answer to this ques...</td>\n",
       "      <td>The truth is that a job is not just a job, it’...</td>\n",
       "    </tr>\n",
       "    <tr>\n",
       "      <th>2354</th>\n",
       "      <td>What exactly are magnetic lines of flux?</td>\n",
       "      <td>\\n\\nA magnetic line of flux is a line of force...</td>\n",
       "      <td>Those lines you see are the result of several ...</td>\n",
       "    </tr>\n",
       "    <tr>\n",
       "      <th>200</th>\n",
       "      <td>$74K salary as a degree-less 25-year-old, is i...</td>\n",
       "      <td>\\n\\nThere is no definitive answer, as the sala...</td>\n",
       "      <td>You finished 3 years of engineering? That’s th...</td>\n",
       "    </tr>\n",
       "    <tr>\n",
       "      <th>4239</th>\n",
       "      <td>Has Anyone Else Felt Like This?</td>\n",
       "      <td>\\n\\nI feel like this a lot.</td>\n",
       "      <td>I felt exactly the same way about 6 months ago...</td>\n",
       "    </tr>\n",
       "    <tr>\n",
       "      <th>2149</th>\n",
       "      <td>Does normal metabolic function eventually retu...</td>\n",
       "      <td>\\n\\nThere is no one answer to this question as...</td>\n",
       "      <td>Part of the problem is the adipose cells. When...</td>\n",
       "    </tr>\n",
       "    <tr>\n",
       "      <th>864</th>\n",
       "      <td>After 8 months, I have finally landed a SWE work.</td>\n",
       "      <td>\\n\\nAfter 8 months of hard work, I have finall...</td>\n",
       "      <td>The amazing thing about this career is your fi...</td>\n",
       "    </tr>\n",
       "    <tr>\n",
       "      <th>518</th>\n",
       "      <td>Who has landed a position in 2023?</td>\n",
       "      <td>\\n\\nThe person who has landed a position in 20...</td>\n",
       "      <td>1.) 2.5yoe\\n2.) 4 offers within 2 months. Firs...</td>\n",
       "    </tr>\n",
       "    <tr>\n",
       "      <th>841</th>\n",
       "      <td>Would you spend your own money to get a good h...</td>\n",
       "      <td>\\n\\nI do not know if I would spend my own mone...</td>\n",
       "      <td>[deleted]</td>\n",
       "    </tr>\n",
       "    <tr>\n",
       "      <th>963</th>\n",
       "      <td>Does this feedback mean I’m a bad developer?</td>\n",
       "      <td>\\n\\nIf you receive feedback that you are not a...</td>\n",
       "      <td>I've worked with a new hire who received a lot...</td>\n",
       "    </tr>\n",
       "    <tr>\n",
       "      <th>2183</th>\n",
       "      <td>Why does hot air cool?</td>\n",
       "      <td>\\n\\nHot air cools because it loses energy as i...</td>\n",
       "      <td>Thermal cameras aren't that great at accuratel...</td>\n",
       "    </tr>\n",
       "    <tr>\n",
       "      <th>1</th>\n",
       "      <td>Quitting after 8 years without notice. Am I wr...</td>\n",
       "      <td>\\n\\nYes, you are wrong. You are allowed to qui...</td>\n",
       "      <td>You are not wrong.\\nLoyalty is a two-way stree...</td>\n",
       "    </tr>\n",
       "    <tr>\n",
       "      <th>5484</th>\n",
       "      <td>What was life like for the average commoner du...</td>\n",
       "      <td>\\n\\nThe average commoner during civil wars hap...</td>\n",
       "      <td>The lives of commoners during interregnums or ...</td>\n",
       "    </tr>\n",
       "    <tr>\n",
       "      <th>821</th>\n",
       "      <td>Got laid off suddenly, feeling lost</td>\n",
       "      <td>and alone?\\n\\nIf you have recently been laid ...</td>\n",
       "      <td>I was laid off late March and got an offer for...</td>\n",
       "    </tr>\n",
       "    <tr>\n",
       "      <th>2729</th>\n",
       "      <td>Can I apply pressure in a vacuum?</td>\n",
       "      <td>\\n\\nNo, pressure can not be applied in a vacuum.</td>\n",
       "      <td>Yes, the syringe will act as if there is nothi...</td>\n",
       "    </tr>\n",
       "    <tr>\n",
       "      <th>2021</th>\n",
       "      <td>Given that the speed of light changes based on...</td>\n",
       "      <td>\\n\\nNo, it is not possible for matter or energ...</td>\n",
       "      <td>Yes, 100% possible.\\n\\nAn earthly example: Cer...</td>\n",
       "    </tr>\n",
       "    <tr>\n",
       "      <th>3431</th>\n",
       "      <td>Why don't wireless signals interfere with each...</td>\n",
       "      <td>\\n\\nThe interference between wireless signals ...</td>\n",
       "      <td>Oh, but they totally do! Boat radars, for exam...</td>\n",
       "    </tr>\n",
       "    <tr>\n",
       "      <th>276</th>\n",
       "      <td>My Tech lead just ripped me a new one</td>\n",
       "      <td>\\n\\nI'm sorry to hear that. I'll definitely be...</td>\n",
       "      <td>Take it</td>\n",
       "    </tr>\n",
       "    <tr>\n",
       "      <th>3187</th>\n",
       "      <td>Is there a type of precipitation that exists o...</td>\n",
       "      <td>\\n\\nThere is no known type of precipitation th...</td>\n",
       "      <td>It “rains” liquid methane on Saturn’s moon of ...</td>\n",
       "    </tr>\n",
       "    <tr>\n",
       "      <th>1143</th>\n",
       "      <td>Solved coding exercise minutes after Zoom ended</td>\n",
       "      <td>\\n\\nThe solution to this coding exercise is:\\n...</td>\n",
       "      <td>It is a move that will either be seen as a pos...</td>\n",
       "    </tr>\n",
       "    <tr>\n",
       "      <th>1139</th>\n",
       "      <td>Is it possible to switch from defense to regul...</td>\n",
       "      <td>\\n\\nIt is possible to switch to a regular FAAN...</td>\n",
       "      <td>Plot twist, working in defense can make it eas...</td>\n",
       "    </tr>\n",
       "  </tbody>\n",
       "</table>\n",
       "</div>"
      ],
      "text/plain": [
       "                                               question  \\\n",
       "4402  Would you leave a high paying job because you ...   \n",
       "2354           What exactly are magnetic lines of flux?   \n",
       "200   $74K salary as a degree-less 25-year-old, is i...   \n",
       "4239                    Has Anyone Else Felt Like This?   \n",
       "2149  Does normal metabolic function eventually retu...   \n",
       "864   After 8 months, I have finally landed a SWE work.   \n",
       "518                  Who has landed a position in 2023?   \n",
       "841   Would you spend your own money to get a good h...   \n",
       "963        Does this feedback mean I’m a bad developer?   \n",
       "2183                             Why does hot air cool?   \n",
       "1     Quitting after 8 years without notice. Am I wr...   \n",
       "5484  What was life like for the average commoner du...   \n",
       "821                 Got laid off suddenly, feeling lost   \n",
       "2729                  Can I apply pressure in a vacuum?   \n",
       "2021  Given that the speed of light changes based on...   \n",
       "3431  Why don't wireless signals interfere with each...   \n",
       "276               My Tech lead just ripped me a new one   \n",
       "3187  Is there a type of precipitation that exists o...   \n",
       "1143    Solved coding exercise minutes after Zoom ended   \n",
       "1139  Is it possible to switch from defense to regul...   \n",
       "\n",
       "                                              ai_answer  \\\n",
       "4402  \\n\\nThere is no definitive answer to this ques...   \n",
       "2354  \\n\\nA magnetic line of flux is a line of force...   \n",
       "200   \\n\\nThere is no definitive answer, as the sala...   \n",
       "4239                        \\n\\nI feel like this a lot.   \n",
       "2149  \\n\\nThere is no one answer to this question as...   \n",
       "864   \\n\\nAfter 8 months of hard work, I have finall...   \n",
       "518   \\n\\nThe person who has landed a position in 20...   \n",
       "841   \\n\\nI do not know if I would spend my own mone...   \n",
       "963   \\n\\nIf you receive feedback that you are not a...   \n",
       "2183  \\n\\nHot air cools because it loses energy as i...   \n",
       "1     \\n\\nYes, you are wrong. You are allowed to qui...   \n",
       "5484  \\n\\nThe average commoner during civil wars hap...   \n",
       "821    and alone?\\n\\nIf you have recently been laid ...   \n",
       "2729   \\n\\nNo, pressure can not be applied in a vacuum.   \n",
       "2021  \\n\\nNo, it is not possible for matter or energ...   \n",
       "3431  \\n\\nThe interference between wireless signals ...   \n",
       "276   \\n\\nI'm sorry to hear that. I'll definitely be...   \n",
       "3187  \\n\\nThere is no known type of precipitation th...   \n",
       "1143  \\n\\nThe solution to this coding exercise is:\\n...   \n",
       "1139  \\n\\nIt is possible to switch to a regular FAAN...   \n",
       "\n",
       "                                           human_answer  \n",
       "4402  The truth is that a job is not just a job, it’...  \n",
       "2354  Those lines you see are the result of several ...  \n",
       "200   You finished 3 years of engineering? That’s th...  \n",
       "4239  I felt exactly the same way about 6 months ago...  \n",
       "2149  Part of the problem is the adipose cells. When...  \n",
       "864   The amazing thing about this career is your fi...  \n",
       "518   1.) 2.5yoe\\n2.) 4 offers within 2 months. Firs...  \n",
       "841                                           [deleted]  \n",
       "963   I've worked with a new hire who received a lot...  \n",
       "2183  Thermal cameras aren't that great at accuratel...  \n",
       "1     You are not wrong.\\nLoyalty is a two-way stree...  \n",
       "5484  The lives of commoners during interregnums or ...  \n",
       "821   I was laid off late March and got an offer for...  \n",
       "2729  Yes, the syringe will act as if there is nothi...  \n",
       "2021  Yes, 100% possible.\\n\\nAn earthly example: Cer...  \n",
       "3431  Oh, but they totally do! Boat radars, for exam...  \n",
       "276                                             Take it  \n",
       "3187  It “rains” liquid methane on Saturn’s moon of ...  \n",
       "1143  It is a move that will either be seen as a pos...  \n",
       "1139  Plot twist, working in defense can make it eas...  "
      ]
     },
     "execution_count": 5,
     "metadata": {},
     "output_type": "execute_result"
    }
   ],
   "source": [
    "df.sample(n=20)"
   ]
  },
  {
   "cell_type": "markdown",
   "id": "07ef5b7c-4b54-4256-8b10-9aee0716c336",
   "metadata": {},
   "source": [
    "## EDA and pre-processing"
   ]
  },
  {
   "cell_type": "code",
   "execution_count": 7,
   "id": "7a2ced30-4211-4e43-9151-27af309e46af",
   "metadata": {
    "tags": []
   },
   "outputs": [
    {
     "name": "stdout",
     "output_type": "stream",
     "text": [
      "4877\n",
      "0.8830345826543545\n"
     ]
    }
   ],
   "source": [
    "#how many questions are questions?\n",
    "count_q = 0\n",
    "for t in df[\"question\"]:\n",
    "    if \"?\" in t:\n",
    "        count_q +=1\n",
    "print(count_q)\n",
    "print(count_q/len(df))"
   ]
  },
  {
   "cell_type": "code",
   "execution_count": 13,
   "id": "cc89c6cc-0631-454b-ba29-a90ae382cb86",
   "metadata": {
    "tags": []
   },
   "outputs": [
    {
     "data": {
      "text/plain": [
       "45.58917255114974"
      ]
     },
     "execution_count": 13,
     "metadata": {},
     "output_type": "execute_result"
    }
   ],
   "source": [
    "#how many words on average are in the responses (ai vs human)\n",
    "count_words = [len(nltk.word_tokenize(p)) for p in df[\"ai_answer\"]]\n",
    "mean(count_words)"
   ]
  },
  {
   "cell_type": "code",
   "execution_count": 27,
   "id": "a7e38edf-1b22-4968-bb8e-9d8781211cd2",
   "metadata": {
    "tags": []
   },
   "outputs": [
    {
     "data": {
      "text/plain": [
       "234.3706319029513"
      ]
     },
     "execution_count": 27,
     "metadata": {},
     "output_type": "execute_result"
    }
   ],
   "source": [
    "mean(df['ai_answer'].str.len())"
   ]
  },
  {
   "cell_type": "code",
   "execution_count": 28,
   "id": "2f79deb5-a5b4-4c27-b3ab-343f360447bc",
   "metadata": {
    "tags": []
   },
   "outputs": [
    {
     "data": {
      "text/plain": [
       "673.4162592793772"
      ]
     },
     "execution_count": 28,
     "metadata": {},
     "output_type": "execute_result"
    }
   ],
   "source": [
    "mean(df['human_answer'].str.len())"
   ]
  },
  {
   "cell_type": "code",
   "execution_count": 14,
   "id": "ff4905b0-3052-4b43-8e50-530a308a1103",
   "metadata": {
    "tags": []
   },
   "outputs": [
    {
     "data": {
      "text/plain": [
       "130.36212203512585"
      ]
     },
     "execution_count": 14,
     "metadata": {},
     "output_type": "execute_result"
    }
   ],
   "source": [
    "count_words = [len(nltk.word_tokenize(p)) for p in df[\"human_answer\"]]\n",
    "mean(count_words)"
   ]
  },
  {
   "cell_type": "code",
   "execution_count": 29,
   "id": "140140c2-3041-47f3-8a5a-13400dd95de8",
   "metadata": {
    "tags": []
   },
   "outputs": [],
   "source": [
    "# remove rows with 1 word responses: [deleted] , [removed]\n",
    "# may want to research why these showed up as top comments"
   ]
  },
  {
   "cell_type": "code",
   "execution_count": 56,
   "id": "f10ff6a2-584c-4f20-b538-d6edfce63aac",
   "metadata": {
    "tags": []
   },
   "outputs": [],
   "source": [
    "df_filtered_ = df[df[\"human_answer\"] != \"[deleted]\"]\n",
    "df_filtered_ = df[df[\"human_answer\"] != \"[removed]\"]"
   ]
  },
  {
   "cell_type": "code",
   "execution_count": 57,
   "id": "cb564dad-65d5-4842-8b39-58bbf6ad49f0",
   "metadata": {
    "tags": []
   },
   "outputs": [
    {
     "name": "stderr",
     "output_type": "stream",
     "text": [
      "/var/folders/r7/lck4_m6n3qvgvrpymc_hdq900000gn/T/ipykernel_74977/3015071509.py:1: SettingWithCopyWarning: \n",
      "A value is trying to be set on a copy of a slice from a DataFrame.\n",
      "Try using .loc[row_indexer,col_indexer] = value instead\n",
      "\n",
      "See the caveats in the documentation: https://pandas.pydata.org/pandas-docs/stable/user_guide/indexing.html#returning-a-view-versus-a-copy\n",
      "  df_filtered_[\"question\"] = [t if \"?\" in t else 0 for t in df_filtered_[\"question\"]]\n"
     ]
    }
   ],
   "source": [
    "df_filtered_[\"question\"] = [t if \"?\" in t else 0 for t in df_filtered_[\"question\"]]"
   ]
  },
  {
   "cell_type": "code",
   "execution_count": 58,
   "id": "9b0c435d-485b-4d5d-8337-c861c27660e0",
   "metadata": {
    "tags": []
   },
   "outputs": [
    {
     "name": "stderr",
     "output_type": "stream",
     "text": [
      "/var/folders/r7/lck4_m6n3qvgvrpymc_hdq900000gn/T/ipykernel_74977/2411922918.py:1: SettingWithCopyWarning: \n",
      "A value is trying to be set on a copy of a slice from a DataFrame.\n",
      "Try using .loc[row_indexer,col_indexer] = value instead\n",
      "\n",
      "See the caveats in the documentation: https://pandas.pydata.org/pandas-docs/stable/user_guide/indexing.html#returning-a-view-versus-a-copy\n",
      "  df_filtered_[\"is_human\"] = [0 if i != \"\" else 1 for i in df_filtered_[\"human_answer\"]]\n"
     ]
    }
   ],
   "source": [
    "df_filtered_[\"is_human\"] = [0 if i != \"\" else 1 for i in df_filtered_[\"human_answer\"]]"
   ]
  },
  {
   "cell_type": "code",
   "execution_count": 59,
   "id": "6d50d951-cf7a-45cb-8591-1be5c26afbf1",
   "metadata": {
    "tags": []
   },
   "outputs": [
    {
     "name": "stderr",
     "output_type": "stream",
     "text": [
      "/var/folders/r7/lck4_m6n3qvgvrpymc_hdq900000gn/T/ipykernel_74977/3279253241.py:1: SettingWithCopyWarning: \n",
      "A value is trying to be set on a copy of a slice from a DataFrame.\n",
      "Try using .loc[row_indexer,col_indexer] = value instead\n",
      "\n",
      "See the caveats in the documentation: https://pandas.pydata.org/pandas-docs/stable/user_guide/indexing.html#returning-a-view-versus-a-copy\n",
      "  df_filtered_[\"is_ai\"] = [1 if i != \"\" else 0 for i in df_filtered_[\"ai_answer\"]]\n"
     ]
    }
   ],
   "source": [
    "df_filtered_[\"is_ai\"] = [1 if i != \"\" else 0 for i in df_filtered_[\"ai_answer\"]]"
   ]
  },
  {
   "cell_type": "code",
   "execution_count": 60,
   "id": "89150c8b-612a-4336-9384-3a070eee3338",
   "metadata": {
    "tags": []
   },
   "outputs": [
    {
     "name": "stderr",
     "output_type": "stream",
     "text": [
      "/var/folders/r7/lck4_m6n3qvgvrpymc_hdq900000gn/T/ipykernel_74977/4270538928.py:1: SettingWithCopyWarning: \n",
      "A value is trying to be set on a copy of a slice from a DataFrame.\n",
      "Try using .loc[row_indexer,col_indexer] = value instead\n",
      "\n",
      "See the caveats in the documentation: https://pandas.pydata.org/pandas-docs/stable/user_guide/indexing.html#returning-a-view-versus-a-copy\n",
      "  df_filtered_[\"question_dubs\"] = df_filtered_[\"question\"]\n"
     ]
    }
   ],
   "source": [
    "df_filtered_[\"question_dubs\"] = df_filtered_[\"question\"]"
   ]
  },
  {
   "cell_type": "code",
   "execution_count": 61,
   "id": "06ccc71d-bf93-4761-821e-1e325ff90eb5",
   "metadata": {
    "tags": []
   },
   "outputs": [
    {
     "data": {
      "text/html": [
       "<div>\n",
       "<style scoped>\n",
       "    .dataframe tbody tr th:only-of-type {\n",
       "        vertical-align: middle;\n",
       "    }\n",
       "\n",
       "    .dataframe tbody tr th {\n",
       "        vertical-align: top;\n",
       "    }\n",
       "\n",
       "    .dataframe thead th {\n",
       "        text-align: right;\n",
       "    }\n",
       "</style>\n",
       "<table border=\"1\" class=\"dataframe\">\n",
       "  <thead>\n",
       "    <tr style=\"text-align: right;\">\n",
       "      <th></th>\n",
       "      <th>question</th>\n",
       "      <th>ai_answer</th>\n",
       "      <th>human_answer</th>\n",
       "      <th>is_human</th>\n",
       "      <th>is_ai</th>\n",
       "      <th>question_dubs</th>\n",
       "    </tr>\n",
       "  </thead>\n",
       "  <tbody>\n",
       "    <tr>\n",
       "      <th>0</th>\n",
       "      <td>Redditors who make +$100K and aren’t being kil...</td>\n",
       "      <td>\\n\\nSome Redditors who make +$100K and aren’t ...</td>\n",
       "      <td>If that’s important to you then not working at...</td>\n",
       "      <td>0</td>\n",
       "      <td>1</td>\n",
       "      <td>Redditors who make +$100K and aren’t being kil...</td>\n",
       "    </tr>\n",
       "    <tr>\n",
       "      <th>1</th>\n",
       "      <td>Quitting after 8 years without notice. Am I wr...</td>\n",
       "      <td>\\n\\nYes, you are wrong. You are allowed to qui...</td>\n",
       "      <td>You are not wrong.\\nLoyalty is a two-way stree...</td>\n",
       "      <td>0</td>\n",
       "      <td>1</td>\n",
       "      <td>Quitting after 8 years without notice. Am I wr...</td>\n",
       "    </tr>\n",
       "    <tr>\n",
       "      <th>2</th>\n",
       "      <td>My boss is pressuring to tell him where my new...</td>\n",
       "      <td>\\n\\nIf you are in a position of authority and ...</td>\n",
       "      <td>No. Do not say anything to him. Managers are n...</td>\n",
       "      <td>0</td>\n",
       "      <td>1</td>\n",
       "      <td>My boss is pressuring to tell him where my new...</td>\n",
       "    </tr>\n",
       "    <tr>\n",
       "      <th>3</th>\n",
       "      <td>BS’ed my way into a 160K job offer, am I crazy...</td>\n",
       "      <td>\\n\\nThere is no definitive answer to this ques...</td>\n",
       "      <td>Literally every single person I've known who e...</td>\n",
       "      <td>0</td>\n",
       "      <td>1</td>\n",
       "      <td>BS’ed my way into a 160K job offer, am I crazy...</td>\n",
       "    </tr>\n",
       "    <tr>\n",
       "      <th>4</th>\n",
       "      <td>My boss confronted me about only working 7 hou...</td>\n",
       "      <td>\\n\\nIf your boss confronts you about working o...</td>\n",
       "      <td>Work an extra 15 minutes and tell him you didn...</td>\n",
       "      <td>0</td>\n",
       "      <td>1</td>\n",
       "      <td>My boss confronted me about only working 7 hou...</td>\n",
       "    </tr>\n",
       "  </tbody>\n",
       "</table>\n",
       "</div>"
      ],
      "text/plain": [
       "                                            question  \\\n",
       "0  Redditors who make +$100K and aren’t being kil...   \n",
       "1  Quitting after 8 years without notice. Am I wr...   \n",
       "2  My boss is pressuring to tell him where my new...   \n",
       "3  BS’ed my way into a 160K job offer, am I crazy...   \n",
       "4  My boss confronted me about only working 7 hou...   \n",
       "\n",
       "                                           ai_answer  \\\n",
       "0  \\n\\nSome Redditors who make +$100K and aren’t ...   \n",
       "1  \\n\\nYes, you are wrong. You are allowed to qui...   \n",
       "2  \\n\\nIf you are in a position of authority and ...   \n",
       "3  \\n\\nThere is no definitive answer to this ques...   \n",
       "4  \\n\\nIf your boss confronts you about working o...   \n",
       "\n",
       "                                        human_answer  is_human  is_ai  \\\n",
       "0  If that’s important to you then not working at...         0      1   \n",
       "1  You are not wrong.\\nLoyalty is a two-way stree...         0      1   \n",
       "2  No. Do not say anything to him. Managers are n...         0      1   \n",
       "3  Literally every single person I've known who e...         0      1   \n",
       "4  Work an extra 15 minutes and tell him you didn...         0      1   \n",
       "\n",
       "                                       question_dubs  \n",
       "0  Redditors who make +$100K and aren’t being kil...  \n",
       "1  Quitting after 8 years without notice. Am I wr...  \n",
       "2  My boss is pressuring to tell him where my new...  \n",
       "3  BS’ed my way into a 160K job offer, am I crazy...  \n",
       "4  My boss confronted me about only working 7 hou...  "
      ]
     },
     "execution_count": 61,
     "metadata": {},
     "output_type": "execute_result"
    }
   ],
   "source": [
    "df_filtered_.head()"
   ]
  },
  {
   "cell_type": "code",
   "execution_count": 62,
   "id": "1d9e74ca-7a05-447b-8a54-c09e6561ab8c",
   "metadata": {
    "tags": []
   },
   "outputs": [
    {
     "name": "stderr",
     "output_type": "stream",
     "text": [
      "/var/folders/r7/lck4_m6n3qvgvrpymc_hdq900000gn/T/ipykernel_74977/2681310793.py:1: FutureWarning: The frame.append method is deprecated and will be removed from pandas in a future version. Use pandas.concat instead.\n",
      "  df_consolidated_ = df_filtered_[['question', 'human_answer', \"is_human\"]].append(df_filtered_[[\n"
     ]
    }
   ],
   "source": [
    "df_consolidated_ = df_filtered_[['question', 'human_answer', \"is_human\"]].append(df_filtered_[[\n",
    "    'question_dubs','ai_answer',\"is_ai\"]].set_axis(['question', 'human_answer',\"is_human\"], axis=1)).reset_index(drop=True)"
   ]
  },
  {
   "cell_type": "code",
   "execution_count": 66,
   "id": "0d2c3292-8a36-4472-b1df-cbd34c8a572b",
   "metadata": {
    "tags": []
   },
   "outputs": [],
   "source": [
    "df_consolidated_.rename(columns={\"human_answer\": \"answer\"}, inplace=True)"
   ]
  },
  {
   "cell_type": "code",
   "execution_count": 67,
   "id": "4d2c8c6c-8556-4370-87cc-71c5cebf54c2",
   "metadata": {
    "tags": []
   },
   "outputs": [],
   "source": [
    "#remove phrases that would give away AI answer\n",
    "df_consolidated_.loc[df_consolidated_[\"is_human\"] == 1, \"answer\"] = df_consolidated_[\"answer\"].str.replace(\"I am only a machine\", \"\")\n",
    "df_consolidated_.loc[df_consolidated_[\"is_human\"] == 1, \"answer\"] = df_consolidated_[\"answer\"].str.replace(\"As an AI language model\", \"\")"
   ]
  },
  {
   "cell_type": "code",
   "execution_count": 68,
   "id": "0323edc3-4911-4797-b298-85896cba8adc",
   "metadata": {
    "tags": []
   },
   "outputs": [],
   "source": [
    "from nltk.corpus import stopwords\n",
    "from nltk.stem import PorterStemmer, SnowballStemmer\n",
    "from nltk import WordNetLemmatizer\n",
    "from nltk.tokenize import RegexpTokenizer\n",
    "import nltk\n",
    "\n",
    " \n",
    "nltk_stop = stopwords.words('english')"
   ]
  },
  {
   "cell_type": "code",
   "execution_count": 69,
   "id": "b8aada0c-fe6c-41b6-a303-ea1744c954d5",
   "metadata": {
    "tags": []
   },
   "outputs": [],
   "source": [
    "tokenizer = RegexpTokenizer(r'\\w+')\n",
    "lemmatizer = WordNetLemmatizer()\n",
    "stemmer = SnowballStemmer(\"english\")"
   ]
  },
  {
   "cell_type": "code",
   "execution_count": 70,
   "id": "c181e111-637f-4466-8782-73891358a6db",
   "metadata": {
    "tags": []
   },
   "outputs": [],
   "source": [
    "#split answers into tokens(words)\n",
    "df_consolidated_splits = df_consolidated_[\"answer\"].apply(nltk.word_tokenize)"
   ]
  },
  {
   "cell_type": "code",
   "execution_count": 71,
   "id": "7bfc241c-2dbd-40b0-9222-301792216d10",
   "metadata": {
    "tags": []
   },
   "outputs": [],
   "source": [
    "#lemmatize and rejoin tokens for each answer\n",
    "for i in range(len(df_consolidated_splits)):\n",
    "    df_consolidated_splits[i] = ' '.join([lemmatizer.lemmatize(w) for w in df_consolidated_splits[i]])"
   ]
  },
  {
   "cell_type": "code",
   "execution_count": 72,
   "id": "9816fd15-2715-4d0d-ac51-06a58844df06",
   "metadata": {
    "tags": []
   },
   "outputs": [
    {
     "data": {
      "text/plain": [
       "0    If that ’ s important to you then not working ...\n",
       "1    You are not wrong . Loyalty is a two-way stree...\n",
       "2    No . Do not say anything to him . Managers are...\n",
       "3    Literally every single person I 've known who ...\n",
       "4    Work an extra 15 minute and tell him you didn ...\n",
       "Name: answer, dtype: object"
      ]
     },
     "execution_count": 72,
     "metadata": {},
     "output_type": "execute_result"
    }
   ],
   "source": [
    "df_consolidated_splits.head()"
   ]
  },
  {
   "cell_type": "code",
   "execution_count": 74,
   "id": "52288498-38da-4bd8-b278-433d3f18f64f",
   "metadata": {
    "tags": []
   },
   "outputs": [],
   "source": [
    "df_consolidated_[\"answer\"] = df_consolidated_splits"
   ]
  },
  {
   "cell_type": "code",
   "execution_count": 77,
   "id": "9fae3500-5f74-4930-861d-809a512fcbee",
   "metadata": {
    "tags": []
   },
   "outputs": [],
   "source": [
    "X = df_consolidated_[\"answer\"]\n",
    "y = df_consolidated_[\"is_human\"]"
   ]
  },
  {
   "cell_type": "code",
   "execution_count": 78,
   "id": "b3d8ddeb-129a-4a25-90b1-7c97207ab03b",
   "metadata": {
    "tags": []
   },
   "outputs": [],
   "source": [
    "# Split the data into the training and testing sets.\n",
    "X_train, X_test, y_train, y_test = train_test_split(X,\n",
    "                                                    y,\n",
    "                                                    random_state=42)"
   ]
  },
  {
   "cell_type": "code",
   "execution_count": 79,
   "id": "1c54f6d5-e742-4b0f-8b52-94bf556b038c",
   "metadata": {
    "tags": []
   },
   "outputs": [],
   "source": [
    "pipe = Pipeline([\n",
    "    ('cvec', CountVectorizer()),\n",
    "    ('bnb', BernoulliNB())\n",
    "])"
   ]
  },
  {
   "cell_type": "code",
   "execution_count": 80,
   "id": "bf736497-df40-441c-b98a-a542b7fe48aa",
   "metadata": {
    "tags": []
   },
   "outputs": [],
   "source": [
    "pipe_params = {\n",
    "    'cvec__max_features' : [5000],\n",
    "    'cvec__min_df' : [2,5],\n",
    "    'cvec__max_df' : [0.9, 0.95],\n",
    "    'cvec__ngram_range' : [(1,1), (1, 2), (2,2)],\n",
    "    'cvec__stop_words' : ['english', nltk_stop],\n",
    "}"
   ]
  },
  {
   "cell_type": "code",
   "execution_count": 81,
   "id": "aa165180-781d-42a7-a1c7-a678f94fd644",
   "metadata": {
    "tags": []
   },
   "outputs": [],
   "source": [
    "gs = GridSearchCV(pipe, \n",
    "                  pipe_params, \n",
    "                  cv = 5)"
   ]
  },
  {
   "cell_type": "code",
   "execution_count": 82,
   "id": "47da0e0d-7fe5-4066-bca8-013a7f32f17c",
   "metadata": {
    "tags": []
   },
   "outputs": [
    {
     "data": {
      "text/html": [
       "<style>#sk-container-id-1 {color: black;}#sk-container-id-1 pre{padding: 0;}#sk-container-id-1 div.sk-toggleable {background-color: white;}#sk-container-id-1 label.sk-toggleable__label {cursor: pointer;display: block;width: 100%;margin-bottom: 0;padding: 0.3em;box-sizing: border-box;text-align: center;}#sk-container-id-1 label.sk-toggleable__label-arrow:before {content: \"▸\";float: left;margin-right: 0.25em;color: #696969;}#sk-container-id-1 label.sk-toggleable__label-arrow:hover:before {color: black;}#sk-container-id-1 div.sk-estimator:hover label.sk-toggleable__label-arrow:before {color: black;}#sk-container-id-1 div.sk-toggleable__content {max-height: 0;max-width: 0;overflow: hidden;text-align: left;background-color: #f0f8ff;}#sk-container-id-1 div.sk-toggleable__content pre {margin: 0.2em;color: black;border-radius: 0.25em;background-color: #f0f8ff;}#sk-container-id-1 input.sk-toggleable__control:checked~div.sk-toggleable__content {max-height: 200px;max-width: 100%;overflow: auto;}#sk-container-id-1 input.sk-toggleable__control:checked~label.sk-toggleable__label-arrow:before {content: \"▾\";}#sk-container-id-1 div.sk-estimator input.sk-toggleable__control:checked~label.sk-toggleable__label {background-color: #d4ebff;}#sk-container-id-1 div.sk-label input.sk-toggleable__control:checked~label.sk-toggleable__label {background-color: #d4ebff;}#sk-container-id-1 input.sk-hidden--visually {border: 0;clip: rect(1px 1px 1px 1px);clip: rect(1px, 1px, 1px, 1px);height: 1px;margin: -1px;overflow: hidden;padding: 0;position: absolute;width: 1px;}#sk-container-id-1 div.sk-estimator {font-family: monospace;background-color: #f0f8ff;border: 1px dotted black;border-radius: 0.25em;box-sizing: border-box;margin-bottom: 0.5em;}#sk-container-id-1 div.sk-estimator:hover {background-color: #d4ebff;}#sk-container-id-1 div.sk-parallel-item::after {content: \"\";width: 100%;border-bottom: 1px solid gray;flex-grow: 1;}#sk-container-id-1 div.sk-label:hover label.sk-toggleable__label {background-color: #d4ebff;}#sk-container-id-1 div.sk-serial::before {content: \"\";position: absolute;border-left: 1px solid gray;box-sizing: border-box;top: 0;bottom: 0;left: 50%;z-index: 0;}#sk-container-id-1 div.sk-serial {display: flex;flex-direction: column;align-items: center;background-color: white;padding-right: 0.2em;padding-left: 0.2em;position: relative;}#sk-container-id-1 div.sk-item {position: relative;z-index: 1;}#sk-container-id-1 div.sk-parallel {display: flex;align-items: stretch;justify-content: center;background-color: white;position: relative;}#sk-container-id-1 div.sk-item::before, #sk-container-id-1 div.sk-parallel-item::before {content: \"\";position: absolute;border-left: 1px solid gray;box-sizing: border-box;top: 0;bottom: 0;left: 50%;z-index: -1;}#sk-container-id-1 div.sk-parallel-item {display: flex;flex-direction: column;z-index: 1;position: relative;background-color: white;}#sk-container-id-1 div.sk-parallel-item:first-child::after {align-self: flex-end;width: 50%;}#sk-container-id-1 div.sk-parallel-item:last-child::after {align-self: flex-start;width: 50%;}#sk-container-id-1 div.sk-parallel-item:only-child::after {width: 0;}#sk-container-id-1 div.sk-dashed-wrapped {border: 1px dashed gray;margin: 0 0.4em 0.5em 0.4em;box-sizing: border-box;padding-bottom: 0.4em;background-color: white;}#sk-container-id-1 div.sk-label label {font-family: monospace;font-weight: bold;display: inline-block;line-height: 1.2em;}#sk-container-id-1 div.sk-label-container {text-align: center;}#sk-container-id-1 div.sk-container {/* jupyter's `normalize.less` sets `[hidden] { display: none; }` but bootstrap.min.css set `[hidden] { display: none !important; }` so we also need the `!important` here to be able to override the default hidden behavior on the sphinx rendered scikit-learn.org. See: https://github.com/scikit-learn/scikit-learn/issues/21755 */display: inline-block !important;position: relative;}#sk-container-id-1 div.sk-text-repr-fallback {display: none;}</style><div id=\"sk-container-id-1\" class=\"sk-top-container\"><div class=\"sk-text-repr-fallback\"><pre>GridSearchCV(cv=5,\n",
       "             estimator=Pipeline(steps=[(&#x27;cvec&#x27;, CountVectorizer()),\n",
       "                                       (&#x27;bnb&#x27;, BernoulliNB())]),\n",
       "             param_grid={&#x27;cvec__max_df&#x27;: [0.9, 0.95],\n",
       "                         &#x27;cvec__max_features&#x27;: [5000], &#x27;cvec__min_df&#x27;: [2, 5],\n",
       "                         &#x27;cvec__ngram_range&#x27;: [(1, 1), (1, 2), (2, 2)],\n",
       "                         &#x27;cvec__stop_words&#x27;: [&#x27;english&#x27;,\n",
       "                                              [&#x27;i&#x27;, &#x27;me&#x27;, &#x27;my&#x27;, &#x27;myself&#x27;, &#x27;we&#x27;,\n",
       "                                               &#x27;our&#x27;, &#x27;ours&#x27;, &#x27;ourselves&#x27;,\n",
       "                                               &#x27;you&#x27;, &quot;you&#x27;re&quot;, &quot;you&#x27;ve&quot;,\n",
       "                                               &quot;you&#x27;ll&quot;, &quot;you&#x27;d&quot;, &#x27;your&#x27;,\n",
       "                                               &#x27;yours&#x27;, &#x27;yourself&#x27;,\n",
       "                                               &#x27;yourselves&#x27;, &#x27;he&#x27;, &#x27;him&#x27;, &#x27;his&#x27;,\n",
       "                                               &#x27;himself&#x27;, &#x27;she&#x27;, &quot;she&#x27;s&quot;, &#x27;her&#x27;,\n",
       "                                               &#x27;hers&#x27;, &#x27;herself&#x27;, &#x27;it&#x27;, &quot;it&#x27;s&quot;,\n",
       "                                               &#x27;its&#x27;, &#x27;itself&#x27;, ...]]})</pre><b>In a Jupyter environment, please rerun this cell to show the HTML representation or trust the notebook. <br />On GitHub, the HTML representation is unable to render, please try loading this page with nbviewer.org.</b></div><div class=\"sk-container\" hidden><div class=\"sk-item sk-dashed-wrapped\"><div class=\"sk-label-container\"><div class=\"sk-label sk-toggleable\"><input class=\"sk-toggleable__control sk-hidden--visually\" id=\"sk-estimator-id-1\" type=\"checkbox\" ><label for=\"sk-estimator-id-1\" class=\"sk-toggleable__label sk-toggleable__label-arrow\">GridSearchCV</label><div class=\"sk-toggleable__content\"><pre>GridSearchCV(cv=5,\n",
       "             estimator=Pipeline(steps=[(&#x27;cvec&#x27;, CountVectorizer()),\n",
       "                                       (&#x27;bnb&#x27;, BernoulliNB())]),\n",
       "             param_grid={&#x27;cvec__max_df&#x27;: [0.9, 0.95],\n",
       "                         &#x27;cvec__max_features&#x27;: [5000], &#x27;cvec__min_df&#x27;: [2, 5],\n",
       "                         &#x27;cvec__ngram_range&#x27;: [(1, 1), (1, 2), (2, 2)],\n",
       "                         &#x27;cvec__stop_words&#x27;: [&#x27;english&#x27;,\n",
       "                                              [&#x27;i&#x27;, &#x27;me&#x27;, &#x27;my&#x27;, &#x27;myself&#x27;, &#x27;we&#x27;,\n",
       "                                               &#x27;our&#x27;, &#x27;ours&#x27;, &#x27;ourselves&#x27;,\n",
       "                                               &#x27;you&#x27;, &quot;you&#x27;re&quot;, &quot;you&#x27;ve&quot;,\n",
       "                                               &quot;you&#x27;ll&quot;, &quot;you&#x27;d&quot;, &#x27;your&#x27;,\n",
       "                                               &#x27;yours&#x27;, &#x27;yourself&#x27;,\n",
       "                                               &#x27;yourselves&#x27;, &#x27;he&#x27;, &#x27;him&#x27;, &#x27;his&#x27;,\n",
       "                                               &#x27;himself&#x27;, &#x27;she&#x27;, &quot;she&#x27;s&quot;, &#x27;her&#x27;,\n",
       "                                               &#x27;hers&#x27;, &#x27;herself&#x27;, &#x27;it&#x27;, &quot;it&#x27;s&quot;,\n",
       "                                               &#x27;its&#x27;, &#x27;itself&#x27;, ...]]})</pre></div></div></div><div class=\"sk-parallel\"><div class=\"sk-parallel-item\"><div class=\"sk-item\"><div class=\"sk-label-container\"><div class=\"sk-label sk-toggleable\"><input class=\"sk-toggleable__control sk-hidden--visually\" id=\"sk-estimator-id-2\" type=\"checkbox\" ><label for=\"sk-estimator-id-2\" class=\"sk-toggleable__label sk-toggleable__label-arrow\">estimator: Pipeline</label><div class=\"sk-toggleable__content\"><pre>Pipeline(steps=[(&#x27;cvec&#x27;, CountVectorizer()), (&#x27;bnb&#x27;, BernoulliNB())])</pre></div></div></div><div class=\"sk-serial\"><div class=\"sk-item\"><div class=\"sk-serial\"><div class=\"sk-item\"><div class=\"sk-estimator sk-toggleable\"><input class=\"sk-toggleable__control sk-hidden--visually\" id=\"sk-estimator-id-3\" type=\"checkbox\" ><label for=\"sk-estimator-id-3\" class=\"sk-toggleable__label sk-toggleable__label-arrow\">CountVectorizer</label><div class=\"sk-toggleable__content\"><pre>CountVectorizer()</pre></div></div></div><div class=\"sk-item\"><div class=\"sk-estimator sk-toggleable\"><input class=\"sk-toggleable__control sk-hidden--visually\" id=\"sk-estimator-id-4\" type=\"checkbox\" ><label for=\"sk-estimator-id-4\" class=\"sk-toggleable__label sk-toggleable__label-arrow\">BernoulliNB</label><div class=\"sk-toggleable__content\"><pre>BernoulliNB()</pre></div></div></div></div></div></div></div></div></div></div></div></div>"
      ],
      "text/plain": [
       "GridSearchCV(cv=5,\n",
       "             estimator=Pipeline(steps=[('cvec', CountVectorizer()),\n",
       "                                       ('bnb', BernoulliNB())]),\n",
       "             param_grid={'cvec__max_df': [0.9, 0.95],\n",
       "                         'cvec__max_features': [5000], 'cvec__min_df': [2, 5],\n",
       "                         'cvec__ngram_range': [(1, 1), (1, 2), (2, 2)],\n",
       "                         'cvec__stop_words': ['english',\n",
       "                                              ['i', 'me', 'my', 'myself', 'we',\n",
       "                                               'our', 'ours', 'ourselves',\n",
       "                                               'you', \"you're\", \"you've\",\n",
       "                                               \"you'll\", \"you'd\", 'your',\n",
       "                                               'yours', 'yourself',\n",
       "                                               'yourselves', 'he', 'him', 'his',\n",
       "                                               'himself', 'she', \"she's\", 'her',\n",
       "                                               'hers', 'herself', 'it', \"it's\",\n",
       "                                               'its', 'itself', ...]]})"
      ]
     },
     "execution_count": 82,
     "metadata": {},
     "output_type": "execute_result"
    }
   ],
   "source": [
    "gs.fit(X_train, y_train)"
   ]
  },
  {
   "cell_type": "code",
   "execution_count": 83,
   "id": "021bd2d5-d2c6-4635-93b0-56747924235f",
   "metadata": {
    "tags": []
   },
   "outputs": [
    {
     "data": {
      "text/plain": [
       "0.7910725356478612"
      ]
     },
     "execution_count": 83,
     "metadata": {},
     "output_type": "execute_result"
    }
   ],
   "source": [
    "gs.best_score_"
   ]
  },
  {
   "cell_type": "code",
   "execution_count": 84,
   "id": "5523deeb-d92a-4b2b-97ee-597eb9a904f0",
   "metadata": {
    "tags": []
   },
   "outputs": [
    {
     "name": "stdout",
     "output_type": "stream",
     "text": [
      "0.8040917544947304\n",
      "0.7958348828560803\n"
     ]
    }
   ],
   "source": [
    "print(gs.score(X_train,y_train))\n",
    "print(gs.score(X_test,y_test))\n"
   ]
  },
  {
   "cell_type": "code",
   "execution_count": 85,
   "id": "f54db852-f8b5-433b-b708-018bdd3087d8",
   "metadata": {
    "tags": []
   },
   "outputs": [],
   "source": [
    "pipe_params_tvec = {\n",
    "    'tvec__max_features' : [5000],\n",
    "    'tvec__min_df' : [2,5],\n",
    "    'tvec__max_df' : [0.9, 0.95],\n",
    "    'tvec__ngram_range' : [(1,1), (1, 2), (2,2)],\n",
    "    'tvec__stop_words' : ['english', nltk_stop]\n",
    "}"
   ]
  },
  {
   "cell_type": "code",
   "execution_count": 86,
   "id": "3e976ecf-8f20-444f-a0b5-ea1a8e206355",
   "metadata": {
    "tags": []
   },
   "outputs": [],
   "source": [
    "pipe_tvec = Pipeline([\n",
    "    ('tvec', TfidfVectorizer()),\n",
    "    ('bnb', BernoulliNB())\n",
    "])"
   ]
  },
  {
   "cell_type": "code",
   "execution_count": 88,
   "id": "90487fc9-0844-4d07-92b5-ce5675623e0a",
   "metadata": {
    "tags": []
   },
   "outputs": [],
   "source": [
    "gs_tvec = GridSearchCV(pipe_tvec, \n",
    "                  pipe_params_tvec, \n",
    "                  cv = 5)"
   ]
  },
  {
   "cell_type": "code",
   "execution_count": 89,
   "id": "7d8e56d9-23b3-4c16-a374-d7141b27ef24",
   "metadata": {
    "tags": []
   },
   "outputs": [
    {
     "data": {
      "text/html": [
       "<style>#sk-container-id-2 {color: black;}#sk-container-id-2 pre{padding: 0;}#sk-container-id-2 div.sk-toggleable {background-color: white;}#sk-container-id-2 label.sk-toggleable__label {cursor: pointer;display: block;width: 100%;margin-bottom: 0;padding: 0.3em;box-sizing: border-box;text-align: center;}#sk-container-id-2 label.sk-toggleable__label-arrow:before {content: \"▸\";float: left;margin-right: 0.25em;color: #696969;}#sk-container-id-2 label.sk-toggleable__label-arrow:hover:before {color: black;}#sk-container-id-2 div.sk-estimator:hover label.sk-toggleable__label-arrow:before {color: black;}#sk-container-id-2 div.sk-toggleable__content {max-height: 0;max-width: 0;overflow: hidden;text-align: left;background-color: #f0f8ff;}#sk-container-id-2 div.sk-toggleable__content pre {margin: 0.2em;color: black;border-radius: 0.25em;background-color: #f0f8ff;}#sk-container-id-2 input.sk-toggleable__control:checked~div.sk-toggleable__content {max-height: 200px;max-width: 100%;overflow: auto;}#sk-container-id-2 input.sk-toggleable__control:checked~label.sk-toggleable__label-arrow:before {content: \"▾\";}#sk-container-id-2 div.sk-estimator input.sk-toggleable__control:checked~label.sk-toggleable__label {background-color: #d4ebff;}#sk-container-id-2 div.sk-label input.sk-toggleable__control:checked~label.sk-toggleable__label {background-color: #d4ebff;}#sk-container-id-2 input.sk-hidden--visually {border: 0;clip: rect(1px 1px 1px 1px);clip: rect(1px, 1px, 1px, 1px);height: 1px;margin: -1px;overflow: hidden;padding: 0;position: absolute;width: 1px;}#sk-container-id-2 div.sk-estimator {font-family: monospace;background-color: #f0f8ff;border: 1px dotted black;border-radius: 0.25em;box-sizing: border-box;margin-bottom: 0.5em;}#sk-container-id-2 div.sk-estimator:hover {background-color: #d4ebff;}#sk-container-id-2 div.sk-parallel-item::after {content: \"\";width: 100%;border-bottom: 1px solid gray;flex-grow: 1;}#sk-container-id-2 div.sk-label:hover label.sk-toggleable__label {background-color: #d4ebff;}#sk-container-id-2 div.sk-serial::before {content: \"\";position: absolute;border-left: 1px solid gray;box-sizing: border-box;top: 0;bottom: 0;left: 50%;z-index: 0;}#sk-container-id-2 div.sk-serial {display: flex;flex-direction: column;align-items: center;background-color: white;padding-right: 0.2em;padding-left: 0.2em;position: relative;}#sk-container-id-2 div.sk-item {position: relative;z-index: 1;}#sk-container-id-2 div.sk-parallel {display: flex;align-items: stretch;justify-content: center;background-color: white;position: relative;}#sk-container-id-2 div.sk-item::before, #sk-container-id-2 div.sk-parallel-item::before {content: \"\";position: absolute;border-left: 1px solid gray;box-sizing: border-box;top: 0;bottom: 0;left: 50%;z-index: -1;}#sk-container-id-2 div.sk-parallel-item {display: flex;flex-direction: column;z-index: 1;position: relative;background-color: white;}#sk-container-id-2 div.sk-parallel-item:first-child::after {align-self: flex-end;width: 50%;}#sk-container-id-2 div.sk-parallel-item:last-child::after {align-self: flex-start;width: 50%;}#sk-container-id-2 div.sk-parallel-item:only-child::after {width: 0;}#sk-container-id-2 div.sk-dashed-wrapped {border: 1px dashed gray;margin: 0 0.4em 0.5em 0.4em;box-sizing: border-box;padding-bottom: 0.4em;background-color: white;}#sk-container-id-2 div.sk-label label {font-family: monospace;font-weight: bold;display: inline-block;line-height: 1.2em;}#sk-container-id-2 div.sk-label-container {text-align: center;}#sk-container-id-2 div.sk-container {/* jupyter's `normalize.less` sets `[hidden] { display: none; }` but bootstrap.min.css set `[hidden] { display: none !important; }` so we also need the `!important` here to be able to override the default hidden behavior on the sphinx rendered scikit-learn.org. See: https://github.com/scikit-learn/scikit-learn/issues/21755 */display: inline-block !important;position: relative;}#sk-container-id-2 div.sk-text-repr-fallback {display: none;}</style><div id=\"sk-container-id-2\" class=\"sk-top-container\"><div class=\"sk-text-repr-fallback\"><pre>GridSearchCV(cv=5,\n",
       "             estimator=Pipeline(steps=[(&#x27;tvec&#x27;, TfidfVectorizer()),\n",
       "                                       (&#x27;bnb&#x27;, BernoulliNB())]),\n",
       "             param_grid={&#x27;tvec__max_df&#x27;: [0.9, 0.95],\n",
       "                         &#x27;tvec__max_features&#x27;: [5000], &#x27;tvec__min_df&#x27;: [2, 5],\n",
       "                         &#x27;tvec__ngram_range&#x27;: [(1, 1), (1, 2), (2, 2)],\n",
       "                         &#x27;tvec__stop_words&#x27;: [&#x27;english&#x27;,\n",
       "                                              [&#x27;i&#x27;, &#x27;me&#x27;, &#x27;my&#x27;, &#x27;myself&#x27;, &#x27;we&#x27;,\n",
       "                                               &#x27;our&#x27;, &#x27;ours&#x27;, &#x27;ourselves&#x27;,\n",
       "                                               &#x27;you&#x27;, &quot;you&#x27;re&quot;, &quot;you&#x27;ve&quot;,\n",
       "                                               &quot;you&#x27;ll&quot;, &quot;you&#x27;d&quot;, &#x27;your&#x27;,\n",
       "                                               &#x27;yours&#x27;, &#x27;yourself&#x27;,\n",
       "                                               &#x27;yourselves&#x27;, &#x27;he&#x27;, &#x27;him&#x27;, &#x27;his&#x27;,\n",
       "                                               &#x27;himself&#x27;, &#x27;she&#x27;, &quot;she&#x27;s&quot;, &#x27;her&#x27;,\n",
       "                                               &#x27;hers&#x27;, &#x27;herself&#x27;, &#x27;it&#x27;, &quot;it&#x27;s&quot;,\n",
       "                                               &#x27;its&#x27;, &#x27;itself&#x27;, ...]]})</pre><b>In a Jupyter environment, please rerun this cell to show the HTML representation or trust the notebook. <br />On GitHub, the HTML representation is unable to render, please try loading this page with nbviewer.org.</b></div><div class=\"sk-container\" hidden><div class=\"sk-item sk-dashed-wrapped\"><div class=\"sk-label-container\"><div class=\"sk-label sk-toggleable\"><input class=\"sk-toggleable__control sk-hidden--visually\" id=\"sk-estimator-id-5\" type=\"checkbox\" ><label for=\"sk-estimator-id-5\" class=\"sk-toggleable__label sk-toggleable__label-arrow\">GridSearchCV</label><div class=\"sk-toggleable__content\"><pre>GridSearchCV(cv=5,\n",
       "             estimator=Pipeline(steps=[(&#x27;tvec&#x27;, TfidfVectorizer()),\n",
       "                                       (&#x27;bnb&#x27;, BernoulliNB())]),\n",
       "             param_grid={&#x27;tvec__max_df&#x27;: [0.9, 0.95],\n",
       "                         &#x27;tvec__max_features&#x27;: [5000], &#x27;tvec__min_df&#x27;: [2, 5],\n",
       "                         &#x27;tvec__ngram_range&#x27;: [(1, 1), (1, 2), (2, 2)],\n",
       "                         &#x27;tvec__stop_words&#x27;: [&#x27;english&#x27;,\n",
       "                                              [&#x27;i&#x27;, &#x27;me&#x27;, &#x27;my&#x27;, &#x27;myself&#x27;, &#x27;we&#x27;,\n",
       "                                               &#x27;our&#x27;, &#x27;ours&#x27;, &#x27;ourselves&#x27;,\n",
       "                                               &#x27;you&#x27;, &quot;you&#x27;re&quot;, &quot;you&#x27;ve&quot;,\n",
       "                                               &quot;you&#x27;ll&quot;, &quot;you&#x27;d&quot;, &#x27;your&#x27;,\n",
       "                                               &#x27;yours&#x27;, &#x27;yourself&#x27;,\n",
       "                                               &#x27;yourselves&#x27;, &#x27;he&#x27;, &#x27;him&#x27;, &#x27;his&#x27;,\n",
       "                                               &#x27;himself&#x27;, &#x27;she&#x27;, &quot;she&#x27;s&quot;, &#x27;her&#x27;,\n",
       "                                               &#x27;hers&#x27;, &#x27;herself&#x27;, &#x27;it&#x27;, &quot;it&#x27;s&quot;,\n",
       "                                               &#x27;its&#x27;, &#x27;itself&#x27;, ...]]})</pre></div></div></div><div class=\"sk-parallel\"><div class=\"sk-parallel-item\"><div class=\"sk-item\"><div class=\"sk-label-container\"><div class=\"sk-label sk-toggleable\"><input class=\"sk-toggleable__control sk-hidden--visually\" id=\"sk-estimator-id-6\" type=\"checkbox\" ><label for=\"sk-estimator-id-6\" class=\"sk-toggleable__label sk-toggleable__label-arrow\">estimator: Pipeline</label><div class=\"sk-toggleable__content\"><pre>Pipeline(steps=[(&#x27;tvec&#x27;, TfidfVectorizer()), (&#x27;bnb&#x27;, BernoulliNB())])</pre></div></div></div><div class=\"sk-serial\"><div class=\"sk-item\"><div class=\"sk-serial\"><div class=\"sk-item\"><div class=\"sk-estimator sk-toggleable\"><input class=\"sk-toggleable__control sk-hidden--visually\" id=\"sk-estimator-id-7\" type=\"checkbox\" ><label for=\"sk-estimator-id-7\" class=\"sk-toggleable__label sk-toggleable__label-arrow\">TfidfVectorizer</label><div class=\"sk-toggleable__content\"><pre>TfidfVectorizer()</pre></div></div></div><div class=\"sk-item\"><div class=\"sk-estimator sk-toggleable\"><input class=\"sk-toggleable__control sk-hidden--visually\" id=\"sk-estimator-id-8\" type=\"checkbox\" ><label for=\"sk-estimator-id-8\" class=\"sk-toggleable__label sk-toggleable__label-arrow\">BernoulliNB</label><div class=\"sk-toggleable__content\"><pre>BernoulliNB()</pre></div></div></div></div></div></div></div></div></div></div></div></div>"
      ],
      "text/plain": [
       "GridSearchCV(cv=5,\n",
       "             estimator=Pipeline(steps=[('tvec', TfidfVectorizer()),\n",
       "                                       ('bnb', BernoulliNB())]),\n",
       "             param_grid={'tvec__max_df': [0.9, 0.95],\n",
       "                         'tvec__max_features': [5000], 'tvec__min_df': [2, 5],\n",
       "                         'tvec__ngram_range': [(1, 1), (1, 2), (2, 2)],\n",
       "                         'tvec__stop_words': ['english',\n",
       "                                              ['i', 'me', 'my', 'myself', 'we',\n",
       "                                               'our', 'ours', 'ourselves',\n",
       "                                               'you', \"you're\", \"you've\",\n",
       "                                               \"you'll\", \"you'd\", 'your',\n",
       "                                               'yours', 'yourself',\n",
       "                                               'yourselves', 'he', 'him', 'his',\n",
       "                                               'himself', 'she', \"she's\", 'her',\n",
       "                                               'hers', 'herself', 'it', \"it's\",\n",
       "                                               'its', 'itself', ...]]})"
      ]
     },
     "execution_count": 89,
     "metadata": {},
     "output_type": "execute_result"
    }
   ],
   "source": [
    "gs_tvec.fit(X_train, y_train)"
   ]
  },
  {
   "cell_type": "code",
   "execution_count": 90,
   "id": "f4aa853d-c607-4853-9add-d11c196c924d",
   "metadata": {
    "tags": []
   },
   "outputs": [
    {
     "data": {
      "text/plain": [
       "0.7910725356478612"
      ]
     },
     "execution_count": 90,
     "metadata": {},
     "output_type": "execute_result"
    }
   ],
   "source": [
    "gs_tvec.best_score_"
   ]
  },
  {
   "cell_type": "code",
   "execution_count": 91,
   "id": "759a2e1b-c453-4f99-b0e8-28cb8355bb05",
   "metadata": {
    "tags": []
   },
   "outputs": [
    {
     "name": "stdout",
     "output_type": "stream",
     "text": [
      "0.8040917544947304\n",
      "0.7958348828560803\n"
     ]
    }
   ],
   "source": [
    "print(gs_tvec.score(X_train,y_train))\n",
    "print(gs_tvec.score(X_test,y_test))"
   ]
  }
 ],
 "metadata": {
  "kernelspec": {
   "display_name": "Python 3 (ipykernel)",
   "language": "python",
   "name": "python3"
  },
  "language_info": {
   "codemirror_mode": {
    "name": "ipython",
    "version": 3
   },
   "file_extension": ".py",
   "mimetype": "text/x-python",
   "name": "python",
   "nbconvert_exporter": "python",
   "pygments_lexer": "ipython3",
   "version": "3.11.4"
  }
 },
 "nbformat": 4,
 "nbformat_minor": 5
}
