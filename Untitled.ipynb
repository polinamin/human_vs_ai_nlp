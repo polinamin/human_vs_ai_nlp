{
 "cells": [
  {
   "cell_type": "code",
   "execution_count": 1,
   "id": "2af29982-0370-4466-ba3d-2447b8e51dd9",
   "metadata": {
    "tags": []
   },
   "outputs": [],
   "source": [
    "import numpy as np\n",
    "import pandas as pd\n",
    "import praw\n",
    "import time\n",
    "from pmaw import PushshiftAPI\n",
    "import openai\n",
    "import matplotlib.pyplot as plt\n",
    "from sklearn.model_selection import train_test_split, GridSearchCV\n",
    "from sklearn.pipeline import Pipeline\n",
    "from sklearn.naive_bayes import MultinomialNB, BernoulliNB, GaussianNB\n",
    "from sklearn.linear_model import LogisticRegression\n",
    "from sklearn.metrics import confusion_matrix, ConfusionMatrixDisplay\n",
    "from sklearn.feature_extraction.text import CountVectorizer, TfidfVectorizer\n",
    "\n",
    "import nltk\n",
    "from statistics import mean"
   ]
  },
  {
   "cell_type": "code",
   "execution_count": 2,
   "id": "62f355c3-b119-4eb5-9498-f4a835a8704a",
   "metadata": {
    "tags": []
   },
   "outputs": [],
   "source": [
    "df = pd.read_csv(\"combined_data_for_use.csv\", index_col=0)"
   ]
  },
  {
   "cell_type": "code",
   "execution_count": 3,
   "id": "15a854e4-5adf-41ee-bf96-f28a120ff9ad",
   "metadata": {
    "tags": []
   },
   "outputs": [],
   "source": [
    "reddit = pd.read_csv(\"reddit_data_pull.csv\", index_col=0)"
   ]
  },
  {
   "cell_type": "code",
   "execution_count": 4,
   "id": "6b783ea3-c40e-4d67-971f-3fdfdefb780e",
   "metadata": {
    "tags": []
   },
   "outputs": [
    {
     "data": {
      "text/html": [
       "<div>\n",
       "<style scoped>\n",
       "    .dataframe tbody tr th:only-of-type {\n",
       "        vertical-align: middle;\n",
       "    }\n",
       "\n",
       "    .dataframe tbody tr th {\n",
       "        vertical-align: top;\n",
       "    }\n",
       "\n",
       "    .dataframe thead th {\n",
       "        text-align: right;\n",
       "    }\n",
       "</style>\n",
       "<table border=\"1\" class=\"dataframe\">\n",
       "  <thead>\n",
       "    <tr style=\"text-align: right;\">\n",
       "      <th></th>\n",
       "      <th>question</th>\n",
       "      <th>ai_answer</th>\n",
       "      <th>human_answer</th>\n",
       "    </tr>\n",
       "  </thead>\n",
       "  <tbody>\n",
       "    <tr>\n",
       "      <th>0</th>\n",
       "      <td>Redditors who make +$100K and aren’t being kil...</td>\n",
       "      <td>\\n\\nSome Redditors who make +$100K and aren’t ...</td>\n",
       "      <td>If that’s important to you then not working at...</td>\n",
       "    </tr>\n",
       "    <tr>\n",
       "      <th>1</th>\n",
       "      <td>Quitting after 8 years without notice. Am I wr...</td>\n",
       "      <td>\\n\\nYes, you are wrong. You are allowed to qui...</td>\n",
       "      <td>You are not wrong.\\nLoyalty is a two-way stree...</td>\n",
       "    </tr>\n",
       "  </tbody>\n",
       "</table>\n",
       "</div>"
      ],
      "text/plain": [
       "                                            question  \\\n",
       "0  Redditors who make +$100K and aren’t being kil...   \n",
       "1  Quitting after 8 years without notice. Am I wr...   \n",
       "\n",
       "                                           ai_answer  \\\n",
       "0  \\n\\nSome Redditors who make +$100K and aren’t ...   \n",
       "1  \\n\\nYes, you are wrong. You are allowed to qui...   \n",
       "\n",
       "                                        human_answer  \n",
       "0  If that’s important to you then not working at...  \n",
       "1  You are not wrong.\\nLoyalty is a two-way stree...  "
      ]
     },
     "execution_count": 4,
     "metadata": {},
     "output_type": "execute_result"
    }
   ],
   "source": [
    "df.head(2)"
   ]
  },
  {
   "cell_type": "code",
   "execution_count": 5,
   "id": "59f5a340-5976-410e-9619-8e5a6c786343",
   "metadata": {
    "tags": []
   },
   "outputs": [
    {
     "data": {
      "text/html": [
       "<div>\n",
       "<style scoped>\n",
       "    .dataframe tbody tr th:only-of-type {\n",
       "        vertical-align: middle;\n",
       "    }\n",
       "\n",
       "    .dataframe tbody tr th {\n",
       "        vertical-align: top;\n",
       "    }\n",
       "\n",
       "    .dataframe thead th {\n",
       "        text-align: right;\n",
       "    }\n",
       "</style>\n",
       "<table border=\"1\" class=\"dataframe\">\n",
       "  <thead>\n",
       "    <tr style=\"text-align: right;\">\n",
       "      <th></th>\n",
       "      <th>title</th>\n",
       "      <th>selftext</th>\n",
       "      <th>comments</th>\n",
       "      <th>created_utc</th>\n",
       "      <th>comment_upvotes</th>\n",
       "      <th>top_comment</th>\n",
       "    </tr>\n",
       "  </thead>\n",
       "  <tbody>\n",
       "    <tr>\n",
       "      <th>0</th>\n",
       "      <td>Redditors who make +$100K and aren’t being kil...</td>\n",
       "      <td>careerguidance</td>\n",
       "      <td>&lt;praw.models.comment_forest.CommentForest obje...</td>\n",
       "      <td>1.683823e+09</td>\n",
       "      <td>2012</td>\n",
       "      <td>If that’s important to you then not working at...</td>\n",
       "    </tr>\n",
       "    <tr>\n",
       "      <th>1</th>\n",
       "      <td>Quitting after 8 years without notice. Am I wr...</td>\n",
       "      <td>careerguidance</td>\n",
       "      <td>&lt;praw.models.comment_forest.CommentForest obje...</td>\n",
       "      <td>1.692499e+09</td>\n",
       "      <td>2269</td>\n",
       "      <td>You are not wrong.\\nLoyalty is a two-way stree...</td>\n",
       "    </tr>\n",
       "  </tbody>\n",
       "</table>\n",
       "</div>"
      ],
      "text/plain": [
       "                                               title        selftext  \\\n",
       "0  Redditors who make +$100K and aren’t being kil...  careerguidance   \n",
       "1  Quitting after 8 years without notice. Am I wr...  careerguidance   \n",
       "\n",
       "                                            comments   created_utc  \\\n",
       "0  <praw.models.comment_forest.CommentForest obje...  1.683823e+09   \n",
       "1  <praw.models.comment_forest.CommentForest obje...  1.692499e+09   \n",
       "\n",
       "   comment_upvotes                                        top_comment  \n",
       "0             2012  If that’s important to you then not working at...  \n",
       "1             2269  You are not wrong.\\nLoyalty is a two-way stree...  "
      ]
     },
     "execution_count": 5,
     "metadata": {},
     "output_type": "execute_result"
    }
   ],
   "source": [
    "reddit.head(2)"
   ]
  },
  {
   "cell_type": "code",
   "execution_count": 9,
   "id": "c81a27b5-aa6b-4bd0-85a4-130d31eaf79e",
   "metadata": {
    "tags": []
   },
   "outputs": [],
   "source": [
    "reddit.rename(columns={\"title\": \"question\"}, inplace=True)"
   ]
  },
  {
   "cell_type": "code",
   "execution_count": 10,
   "id": "41c384a5-d316-40bf-86e1-5d9442c54793",
   "metadata": {
    "tags": []
   },
   "outputs": [
    {
     "data": {
      "text/html": [
       "<div>\n",
       "<style scoped>\n",
       "    .dataframe tbody tr th:only-of-type {\n",
       "        vertical-align: middle;\n",
       "    }\n",
       "\n",
       "    .dataframe tbody tr th {\n",
       "        vertical-align: top;\n",
       "    }\n",
       "\n",
       "    .dataframe thead th {\n",
       "        text-align: right;\n",
       "    }\n",
       "</style>\n",
       "<table border=\"1\" class=\"dataframe\">\n",
       "  <thead>\n",
       "    <tr style=\"text-align: right;\">\n",
       "      <th></th>\n",
       "      <th>question</th>\n",
       "      <th>selftext</th>\n",
       "      <th>comments</th>\n",
       "      <th>created_utc</th>\n",
       "      <th>comment_upvotes</th>\n",
       "      <th>top_comment</th>\n",
       "    </tr>\n",
       "  </thead>\n",
       "  <tbody>\n",
       "    <tr>\n",
       "      <th>0</th>\n",
       "      <td>Redditors who make +$100K and aren’t being kil...</td>\n",
       "      <td>careerguidance</td>\n",
       "      <td>&lt;praw.models.comment_forest.CommentForest obje...</td>\n",
       "      <td>1.683823e+09</td>\n",
       "      <td>2012</td>\n",
       "      <td>If that’s important to you then not working at...</td>\n",
       "    </tr>\n",
       "    <tr>\n",
       "      <th>1</th>\n",
       "      <td>Quitting after 8 years without notice. Am I wr...</td>\n",
       "      <td>careerguidance</td>\n",
       "      <td>&lt;praw.models.comment_forest.CommentForest obje...</td>\n",
       "      <td>1.692499e+09</td>\n",
       "      <td>2269</td>\n",
       "      <td>You are not wrong.\\nLoyalty is a two-way stree...</td>\n",
       "    </tr>\n",
       "  </tbody>\n",
       "</table>\n",
       "</div>"
      ],
      "text/plain": [
       "                                            question        selftext  \\\n",
       "0  Redditors who make +$100K and aren’t being kil...  careerguidance   \n",
       "1  Quitting after 8 years without notice. Am I wr...  careerguidance   \n",
       "\n",
       "                                            comments   created_utc  \\\n",
       "0  <praw.models.comment_forest.CommentForest obje...  1.683823e+09   \n",
       "1  <praw.models.comment_forest.CommentForest obje...  1.692499e+09   \n",
       "\n",
       "   comment_upvotes                                        top_comment  \n",
       "0             2012  If that’s important to you then not working at...  \n",
       "1             2269  You are not wrong.\\nLoyalty is a two-way stree...  "
      ]
     },
     "execution_count": 10,
     "metadata": {},
     "output_type": "execute_result"
    }
   ],
   "source": [
    "reddit.head(2)"
   ]
  },
  {
   "cell_type": "code",
   "execution_count": 16,
   "id": "78307126-6c5b-4968-be99-e65c77b12459",
   "metadata": {
    "tags": []
   },
   "outputs": [],
   "source": [
    "df_exp = pd.merge(df, reddit[[\"question\", \"selftext\"]], on=\"question\", how=\"left\")"
   ]
  },
  {
   "cell_type": "code",
   "execution_count": 19,
   "id": "303684f4-708c-46f1-8902-38ff5e0f5391",
   "metadata": {
    "tags": []
   },
   "outputs": [
    {
     "data": {
      "text/plain": [
       "array(['careerguidance', 'cscareerquestions', 'askscience', 'AsksReddit',\n",
       "       'AskHistory'], dtype=object)"
      ]
     },
     "execution_count": 19,
     "metadata": {},
     "output_type": "execute_result"
    }
   ],
   "source": [
    "df_exp[\"selftext\"].unique()"
   ]
  }
 ],
 "metadata": {
  "kernelspec": {
   "display_name": "Python 3 (ipykernel)",
   "language": "python",
   "name": "python3"
  },
  "language_info": {
   "codemirror_mode": {
    "name": "ipython",
    "version": 3
   },
   "file_extension": ".py",
   "mimetype": "text/x-python",
   "name": "python",
   "nbconvert_exporter": "python",
   "pygments_lexer": "ipython3",
   "version": "3.11.4"
  }
 },
 "nbformat": 4,
 "nbformat_minor": 5
}
