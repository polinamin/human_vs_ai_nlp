{
 "cells": [
  {
   "cell_type": "code",
   "execution_count": 17,
   "id": "49b11639-75bb-41ea-b9aa-10ed7583c7fd",
   "metadata": {
    "tags": []
   },
   "outputs": [],
   "source": [
    "import pandas as pd"
   ]
  },
  {
   "cell_type": "code",
   "execution_count": 187,
   "id": "d2be14e6-143d-465f-baa8-845f3e924ade",
   "metadata": {
    "tags": []
   },
   "outputs": [],
   "source": [
    "import praw\n",
    "from pmaw import PushshiftAPI\n",
    "import openai\n",
    "import matplotlib.pyplot as plt\n",
    "from sklearn.model_selection import train_test_split, GridSearchCV\n",
    "from sklearn.pipeline import Pipeline\n",
    "from sklearn.naive_bayes import MultinomialNB, BernoulliNB, GaussianNB\n",
    "from sklearn.linear_model import LogisticRegression\n",
    "from sklearn.metrics import confusion_matrix, ConfusionMatrixDisplay\n",
    "from sklearn.feature_extraction.text import CountVectorizer, TfidfVectorizer"
   ]
  },
  {
   "cell_type": "code",
   "execution_count": 19,
   "id": "20bccfbb-2bd0-4241-9673-be48a5df7b18",
   "metadata": {
    "tags": []
   },
   "outputs": [],
   "source": [
    "reddit = praw.Reddit(\n",
    "    client_id=\"bS2woFNO7TolN-CSV6_Gmg\",\n",
    "    client_secret=\"3djpRwiN5aHfy8EVEdtGrQ5UW_7G0g\",\n",
    "    redirect_url=\"http://localhost:8080\",\n",
    "    user_agent=\"GA project 1 by u/sillypolly\",\n",
    ")\n",
    "#print(reddit.auth.url(scopes=[\"identity\"], state=\"...\", duration=\"permanent\"))"
   ]
  },
  {
   "cell_type": "code",
   "execution_count": 20,
   "id": "4b4f1776-2749-4637-a57f-4e4359f97d58",
   "metadata": {
    "tags": []
   },
   "outputs": [],
   "source": [
    "reddit = praw.Reddit(\n",
    "    client_id=\"bS2woFNO7TolN-CSV6_Gmg\",\n",
    "    client_secret=\"3djpRwiN5aHfy8EVEdtGrQ5UW_7G0g\",\n",
    "    password=\"P0lin@rocks\",\n",
    "    user_agent=\"GA project 1 by u/sillypolly\",\n",
    "    username=\"sillypolly\"\n",
    ")"
   ]
  },
  {
   "cell_type": "code",
   "execution_count": 21,
   "id": "7d999d02-7c17-4a2d-a22f-698f49c43bb4",
   "metadata": {
    "tags": []
   },
   "outputs": [
    {
     "name": "stdout",
     "output_type": "stream",
     "text": [
      "sillypolly\n"
     ]
    }
   ],
   "source": [
    "print(reddit.user.me())\n"
   ]
  },
  {
   "cell_type": "code",
   "execution_count": 22,
   "id": "1d9e7314-a215-420e-aafa-a2714f8fb2e6",
   "metadata": {
    "tags": []
   },
   "outputs": [
    {
     "name": "stdout",
     "output_type": "stream",
     "text": [
      "False\n"
     ]
    }
   ],
   "source": [
    "print(reddit.read_only)"
   ]
  },
  {
   "cell_type": "code",
   "execution_count": 23,
   "id": "76433a9f-64fe-4a39-801a-b8d5497802bd",
   "metadata": {
    "tags": []
   },
   "outputs": [
    {
     "data": {
      "text/plain": [
       "<praw.models.listing.generator.ListingGenerator at 0x28d359f90>"
      ]
     },
     "execution_count": 23,
     "metadata": {},
     "output_type": "execute_result"
    }
   ],
   "source": [
    "reddit.user.me().saved(limit=None)"
   ]
  },
  {
   "cell_type": "code",
   "execution_count": 24,
   "id": "f49da939-e581-415b-963f-3e9652964b22",
   "metadata": {
    "tags": []
   },
   "outputs": [],
   "source": [
    "api_praw = PushshiftAPI(praw=reddit)"
   ]
  },
  {
   "cell_type": "code",
   "execution_count": 25,
   "id": "26f3305b-cb97-45a3-8357-3803f5933f62",
   "metadata": {},
   "outputs": [],
   "source": [
    "reddit.read_only = True"
   ]
  },
  {
   "cell_type": "code",
   "execution_count": 26,
   "id": "0b9f560a-3aa9-4039-993e-3fb576f3e36f",
   "metadata": {
    "tags": []
   },
   "outputs": [],
   "source": [
    "import os"
   ]
  },
  {
   "cell_type": "code",
   "execution_count": 27,
   "id": "cc1c476e-22b0-46f5-9fa3-724e09c0d647",
   "metadata": {
    "tags": []
   },
   "outputs": [],
   "source": [
    "openai.api_key = os.environ.get(\"OPENAI_API_KEY\")"
   ]
  },
  {
   "cell_type": "code",
   "execution_count": 12,
   "id": "bf9c45cf-d891-4a22-b9bd-f2d266c47f5c",
   "metadata": {
    "tags": []
   },
   "outputs": [
    {
     "name": "stdout",
     "output_type": "stream",
     "text": [
      "# conda environments:\n",
      "#\n",
      "base                  *  /Users/polinaminkovski/anaconda3\n",
      "project-env              /Users/polinaminkovski/anaconda3/envs/project-env\n",
      "\n"
     ]
    }
   ],
   "source": [
    "!conda env list"
   ]
  },
  {
   "cell_type": "code",
   "execution_count": 99,
   "id": "910a9669-5dfc-4fdd-9e53-6348b609fa5f",
   "metadata": {
    "tags": []
   },
   "outputs": [],
   "source": [
    "data_1 = []"
   ]
  },
  {
   "cell_type": "code",
   "execution_count": 114,
   "id": "06254277-1b02-4a0b-8f71-614ba7f4dda5",
   "metadata": {
    "tags": []
   },
   "outputs": [],
   "source": [
    "subreddit = reddit.subreddit(\"CareerGuidance\").top(limit = 2000, time_filter = 'year')"
   ]
  },
  {
   "cell_type": "code",
   "execution_count": 115,
   "id": "6d221a31-18b3-4120-8d4a-b94a03ff5d45",
   "metadata": {
    "collapsed": true,
    "jupyter": {
     "outputs_hidden": true
    },
    "tags": []
   },
   "outputs": [
    {
     "data": {
      "text/html": [
       "<div>\n",
       "<style scoped>\n",
       "    .dataframe tbody tr th:only-of-type {\n",
       "        vertical-align: middle;\n",
       "    }\n",
       "\n",
       "    .dataframe tbody tr th {\n",
       "        vertical-align: top;\n",
       "    }\n",
       "\n",
       "    .dataframe thead th {\n",
       "        text-align: right;\n",
       "    }\n",
       "</style>\n",
       "<table border=\"1\" class=\"dataframe\">\n",
       "  <thead>\n",
       "    <tr style=\"text-align: right;\">\n",
       "      <th></th>\n",
       "      <th>title</th>\n",
       "      <th>selftext</th>\n",
       "      <th>comments</th>\n",
       "      <th>created_utc</th>\n",
       "      <th>comment_upvotes</th>\n",
       "      <th>top_comment</th>\n",
       "    </tr>\n",
       "  </thead>\n",
       "  <tbody>\n",
       "    <tr>\n",
       "      <th>0</th>\n",
       "      <td>Redditors who make +$100K and aren’t being kil...</td>\n",
       "      <td>careerguidance</td>\n",
       "      <td>(jjrltoe, jjrloy9, jjrj0ix, jjrqv1u, jjrkukd, ...</td>\n",
       "      <td>1.683823e+09</td>\n",
       "      <td>2012</td>\n",
       "      <td>If that’s important to you then not working at...</td>\n",
       "    </tr>\n",
       "    <tr>\n",
       "      <th>1</th>\n",
       "      <td>Quitting after 8 years without notice. Am I wr...</td>\n",
       "      <td>careerguidance</td>\n",
       "      <td>(jwy89qz, jwy71ys, jwy92k5, jwyd2wg, jwy8pbg, ...</td>\n",
       "      <td>1.692499e+09</td>\n",
       "      <td>2269</td>\n",
       "      <td>You are not wrong.\\nLoyalty is a two-way stree...</td>\n",
       "    </tr>\n",
       "    <tr>\n",
       "      <th>2</th>\n",
       "      <td>My boss is pressuring to tell him where my new...</td>\n",
       "      <td>careerguidance</td>\n",
       "      <td>(jtj5lbh, jtj4y6i, jtjhn8p, jtj6fjl, jtjfnyy, ...</td>\n",
       "      <td>1.690384e+09</td>\n",
       "      <td>2483</td>\n",
       "      <td>No. Do not say anything to him. Managers are n...</td>\n",
       "    </tr>\n",
       "    <tr>\n",
       "      <th>3</th>\n",
       "      <td>BS’ed my way into a 160K job offer, am I crazy...</td>\n",
       "      <td>careerguidance</td>\n",
       "      <td>(jza8nj5, jza84ye, jza4o7j, jza7hpb, jzaaybs, ...</td>\n",
       "      <td>1.693943e+09</td>\n",
       "      <td>3388</td>\n",
       "      <td>Literally every single person I've known who e...</td>\n",
       "    </tr>\n",
       "    <tr>\n",
       "      <th>4</th>\n",
       "      <td>My boss confronted me about only working 7 hou...</td>\n",
       "      <td>careerguidance</td>\n",
       "      <td>(jy5lzz7, jy618tp, jy5jca5, jy5rfkp, jy5i9o6, ...</td>\n",
       "      <td>1.693260e+09</td>\n",
       "      <td>2297</td>\n",
       "      <td>Work an extra 15 minutes and tell him you didn...</td>\n",
       "    </tr>\n",
       "    <tr>\n",
       "      <th>...</th>\n",
       "      <td>...</td>\n",
       "      <td>...</td>\n",
       "      <td>...</td>\n",
       "      <td>...</td>\n",
       "      <td>...</td>\n",
       "      <td>...</td>\n",
       "    </tr>\n",
       "    <tr>\n",
       "      <th>4527</th>\n",
       "      <td>Where are you now, English majors?</td>\n",
       "      <td>careerguidance</td>\n",
       "      <td>(j5kbk9w, j5jtwln, j5jwwy9, j5k53gd, j5keu3k, ...</td>\n",
       "      <td>1.674482e+09</td>\n",
       "      <td>143</td>\n",
       "      <td>Retired after 40 years in financial services. ...</td>\n",
       "    </tr>\n",
       "    <tr>\n",
       "      <th>4528</th>\n",
       "      <td>Do I leave a good job I haven't been at long f...</td>\n",
       "      <td>careerguidance</td>\n",
       "      <td>(j1vx5i4, j1w0cen, j1vvznz, j1wanot, j1vtqho, ...</td>\n",
       "      <td>1.672170e+09</td>\n",
       "      <td>202</td>\n",
       "      <td>There is not a soul on this planet that is wor...</td>\n",
       "    </tr>\n",
       "    <tr>\n",
       "      <th>4529</th>\n",
       "      <td>How to leave my job when I’m the only employee?</td>\n",
       "      <td>careerguidance</td>\n",
       "      <td>(jzhvhtu, jzhuzf5, jzidudv, jzi5d2v, jzhv5je, ...</td>\n",
       "      <td>1.694069e+09</td>\n",
       "      <td>114</td>\n",
       "      <td>If they cared about you they would fight to ke...</td>\n",
       "    </tr>\n",
       "    <tr>\n",
       "      <th>4530</th>\n",
       "      <td>I belive I am not fit to be in the corporate w...</td>\n",
       "      <td>careerguidance</td>\n",
       "      <td>(ju7o753, ju7ix3v, ju7sypy, ju8s6mf, ju7fyt5, ...</td>\n",
       "      <td>1.690810e+09</td>\n",
       "      <td>97</td>\n",
       "      <td>Expecting life fulfillment from your job will ...</td>\n",
       "    </tr>\n",
       "    <tr>\n",
       "      <th>4531</th>\n",
       "      <td>What’s a job that’s low on stress but decent o...</td>\n",
       "      <td>careerguidance</td>\n",
       "      <td>(jc2xxqd, jc2sv7p, jc4m2uf, jc3ig8p, jc2rt8r, ...</td>\n",
       "      <td>1.678725e+09</td>\n",
       "      <td>106</td>\n",
       "      <td>Painting. You can easily make 60k a year. I li...</td>\n",
       "    </tr>\n",
       "  </tbody>\n",
       "</table>\n",
       "<p>4532 rows × 6 columns</p>\n",
       "</div>"
      ],
      "text/plain": [
       "                                                  title        selftext  \\\n",
       "0     Redditors who make +$100K and aren’t being kil...  careerguidance   \n",
       "1     Quitting after 8 years without notice. Am I wr...  careerguidance   \n",
       "2     My boss is pressuring to tell him where my new...  careerguidance   \n",
       "3     BS’ed my way into a 160K job offer, am I crazy...  careerguidance   \n",
       "4     My boss confronted me about only working 7 hou...  careerguidance   \n",
       "...                                                 ...             ...   \n",
       "4527                 Where are you now, English majors?  careerguidance   \n",
       "4528  Do I leave a good job I haven't been at long f...  careerguidance   \n",
       "4529    How to leave my job when I’m the only employee?  careerguidance   \n",
       "4530  I belive I am not fit to be in the corporate w...  careerguidance   \n",
       "4531  What’s a job that’s low on stress but decent o...  careerguidance   \n",
       "\n",
       "                                               comments   created_utc  \\\n",
       "0     (jjrltoe, jjrloy9, jjrj0ix, jjrqv1u, jjrkukd, ...  1.683823e+09   \n",
       "1     (jwy89qz, jwy71ys, jwy92k5, jwyd2wg, jwy8pbg, ...  1.692499e+09   \n",
       "2     (jtj5lbh, jtj4y6i, jtjhn8p, jtj6fjl, jtjfnyy, ...  1.690384e+09   \n",
       "3     (jza8nj5, jza84ye, jza4o7j, jza7hpb, jzaaybs, ...  1.693943e+09   \n",
       "4     (jy5lzz7, jy618tp, jy5jca5, jy5rfkp, jy5i9o6, ...  1.693260e+09   \n",
       "...                                                 ...           ...   \n",
       "4527  (j5kbk9w, j5jtwln, j5jwwy9, j5k53gd, j5keu3k, ...  1.674482e+09   \n",
       "4528  (j1vx5i4, j1w0cen, j1vvznz, j1wanot, j1vtqho, ...  1.672170e+09   \n",
       "4529  (jzhvhtu, jzhuzf5, jzidudv, jzi5d2v, jzhv5je, ...  1.694069e+09   \n",
       "4530  (ju7o753, ju7ix3v, ju7sypy, ju8s6mf, ju7fyt5, ...  1.690810e+09   \n",
       "4531  (jc2xxqd, jc2sv7p, jc4m2uf, jc3ig8p, jc2rt8r, ...  1.678725e+09   \n",
       "\n",
       "      comment_upvotes                                        top_comment  \n",
       "0                2012  If that’s important to you then not working at...  \n",
       "1                2269  You are not wrong.\\nLoyalty is a two-way stree...  \n",
       "2                2483  No. Do not say anything to him. Managers are n...  \n",
       "3                3388  Literally every single person I've known who e...  \n",
       "4                2297  Work an extra 15 minutes and tell him you didn...  \n",
       "...               ...                                                ...  \n",
       "4527              143  Retired after 40 years in financial services. ...  \n",
       "4528              202  There is not a soul on this planet that is wor...  \n",
       "4529              114  If they cared about you they would fight to ke...  \n",
       "4530               97  Expecting life fulfillment from your job will ...  \n",
       "4531              106  Painting. You can easily make 60k a year. I li...  \n",
       "\n",
       "[4532 rows x 6 columns]"
      ]
     },
     "execution_count": 115,
     "metadata": {},
     "output_type": "execute_result"
    }
   ],
   "source": [
    "for post in subreddit:\n",
    "    if not post.over_18:\n",
    "        post.comments.replace_more(limit = 0)\n",
    "        highest_ups = -1\n",
    "        for comment in post.comments:\n",
    "            if comment.ups > highest_ups:\n",
    "                best_comment = comment.body\n",
    "                highest_ups = comment.ups\n",
    "        data_1.append(\n",
    "            {'title': post.title,\n",
    "            'selftext': post.subreddit,\n",
    "            'comments': post.comments,\n",
    "            'created_utc': post.created_utc,\n",
    "            'comment_upvotes': highest_ups,\n",
    "            'top_comment': best_comment\n",
    "            }\n",
    "        )"
   ]
  },
  {
   "cell_type": "code",
   "execution_count": 102,
   "id": "cebacc65-2a7d-43e3-9687-58422b1856f9",
   "metadata": {
    "tags": []
   },
   "outputs": [],
   "source": [
    "subreddit1 = reddit.subreddit(\"cscareerquestions\").top(limit = 5000, time_filter = 'year')"
   ]
  },
  {
   "cell_type": "code",
   "execution_count": 103,
   "id": "e39b6884-68a3-4f9c-85f7-ab954cf8cc4e",
   "metadata": {
    "collapsed": true,
    "jupyter": {
     "outputs_hidden": true
    },
    "tags": []
   },
   "outputs": [
    {
     "data": {
      "text/html": [
       "<div>\n",
       "<style scoped>\n",
       "    .dataframe tbody tr th:only-of-type {\n",
       "        vertical-align: middle;\n",
       "    }\n",
       "\n",
       "    .dataframe tbody tr th {\n",
       "        vertical-align: top;\n",
       "    }\n",
       "\n",
       "    .dataframe thead th {\n",
       "        text-align: right;\n",
       "    }\n",
       "</style>\n",
       "<table border=\"1\" class=\"dataframe\">\n",
       "  <thead>\n",
       "    <tr style=\"text-align: right;\">\n",
       "      <th></th>\n",
       "      <th>title</th>\n",
       "      <th>selftext</th>\n",
       "      <th>comments</th>\n",
       "      <th>created_utc</th>\n",
       "      <th>comment_upvotes</th>\n",
       "      <th>top_comment</th>\n",
       "    </tr>\n",
       "  </thead>\n",
       "  <tbody>\n",
       "    <tr>\n",
       "      <th>0</th>\n",
       "      <td>Redditors who make +$100K and aren’t being kil...</td>\n",
       "      <td>careerguidance</td>\n",
       "      <td>(jjrltoe, jjrloy9, jjrj0ix, jjrqv1u, jjrkukd, ...</td>\n",
       "      <td>1.683823e+09</td>\n",
       "      <td>2012</td>\n",
       "      <td>If that’s important to you then not working at...</td>\n",
       "    </tr>\n",
       "    <tr>\n",
       "      <th>1</th>\n",
       "      <td>Quitting after 8 years without notice. Am I wr...</td>\n",
       "      <td>careerguidance</td>\n",
       "      <td>(jwy89qz, jwy71ys, jwy92k5, jwyd2wg, jwy8pbg, ...</td>\n",
       "      <td>1.692499e+09</td>\n",
       "      <td>2269</td>\n",
       "      <td>You are not wrong.\\nLoyalty is a two-way stree...</td>\n",
       "    </tr>\n",
       "    <tr>\n",
       "      <th>2</th>\n",
       "      <td>My boss is pressuring to tell him where my new...</td>\n",
       "      <td>careerguidance</td>\n",
       "      <td>(jtj5lbh, jtj4y6i, jtjhn8p, jtj6fjl, jtjfnyy, ...</td>\n",
       "      <td>1.690384e+09</td>\n",
       "      <td>2483</td>\n",
       "      <td>No. Do not say anything to him. Managers are n...</td>\n",
       "    </tr>\n",
       "    <tr>\n",
       "      <th>3</th>\n",
       "      <td>BS’ed my way into a 160K job offer, am I crazy...</td>\n",
       "      <td>careerguidance</td>\n",
       "      <td>(jza8nj5, jza84ye, jza4o7j, jza7hpb, jzaaybs, ...</td>\n",
       "      <td>1.693943e+09</td>\n",
       "      <td>3388</td>\n",
       "      <td>Literally every single person I've known who e...</td>\n",
       "    </tr>\n",
       "    <tr>\n",
       "      <th>4</th>\n",
       "      <td>My boss confronted me about only working 7 hou...</td>\n",
       "      <td>careerguidance</td>\n",
       "      <td>(jy5lzz7, jy618tp, jy5jca5, jy5rfkp, jy5i9o6, ...</td>\n",
       "      <td>1.693260e+09</td>\n",
       "      <td>2297</td>\n",
       "      <td>Work an extra 15 minutes and tell him you didn...</td>\n",
       "    </tr>\n",
       "    <tr>\n",
       "      <th>...</th>\n",
       "      <td>...</td>\n",
       "      <td>...</td>\n",
       "      <td>...</td>\n",
       "      <td>...</td>\n",
       "      <td>...</td>\n",
       "      <td>...</td>\n",
       "    </tr>\n",
       "    <tr>\n",
       "      <th>1250</th>\n",
       "      <td>Random company I applied to on LinkedIn turns ...</td>\n",
       "      <td>cscareerquestions</td>\n",
       "      <td>(jsiovyk, jsiyep1, jsjc0e5, jsix7h5, jsji36k, ...</td>\n",
       "      <td>1.689722e+09</td>\n",
       "      <td>385</td>\n",
       "      <td>RUN. Specifically looking for new college grad...</td>\n",
       "    </tr>\n",
       "    <tr>\n",
       "      <th>1251</th>\n",
       "      <td>Does messaging strangers for job referrals work?</td>\n",
       "      <td>cscareerquestions</td>\n",
       "      <td>(jkq910s, jkq5efm, jkq6sfz, jkq6sgn, jkqagfv, ...</td>\n",
       "      <td>1.684464e+09</td>\n",
       "      <td>287</td>\n",
       "      <td>I would be open to referring a stranger depend...</td>\n",
       "    </tr>\n",
       "    <tr>\n",
       "      <th>1252</th>\n",
       "      <td>I have a B.S. in Computer Science and graduate...</td>\n",
       "      <td>cscareerquestions</td>\n",
       "      <td>(jcccx5u, jcd36xp, jcc7h4v, jccc2sk, jcccc6p, ...</td>\n",
       "      <td>1.678909e+09</td>\n",
       "      <td>240</td>\n",
       "      <td>Delete the Summary, reverse the order of the j...</td>\n",
       "    </tr>\n",
       "    <tr>\n",
       "      <th>1253</th>\n",
       "      <td>Apart from tech skills, has the hiring bar for...</td>\n",
       "      <td>cscareerquestions</td>\n",
       "      <td>(jkpaj98, jkotv5m, jkoqfti, jkop63h, jkp6z0f, ...</td>\n",
       "      <td>1.684443e+09</td>\n",
       "      <td>184</td>\n",
       "      <td>What is happening now is the same thing that h...</td>\n",
       "    </tr>\n",
       "    <tr>\n",
       "      <th>1254</th>\n",
       "      <td>Feeling incompetent and it’s killing me</td>\n",
       "      <td>cscareerquestions</td>\n",
       "      <td>(jlihz2j, jliigcs, jlhyss7, jli4zqm, jli3hf1, ...</td>\n",
       "      <td>1.684972e+09</td>\n",
       "      <td>171</td>\n",
       "      <td>1. Writing a lot of code\\n2. Working with peop...</td>\n",
       "    </tr>\n",
       "  </tbody>\n",
       "</table>\n",
       "<p>1255 rows × 6 columns</p>\n",
       "</div>"
      ],
      "text/plain": [
       "                                                  title           selftext  \\\n",
       "0     Redditors who make +$100K and aren’t being kil...     careerguidance   \n",
       "1     Quitting after 8 years without notice. Am I wr...     careerguidance   \n",
       "2     My boss is pressuring to tell him where my new...     careerguidance   \n",
       "3     BS’ed my way into a 160K job offer, am I crazy...     careerguidance   \n",
       "4     My boss confronted me about only working 7 hou...     careerguidance   \n",
       "...                                                 ...                ...   \n",
       "1250  Random company I applied to on LinkedIn turns ...  cscareerquestions   \n",
       "1251   Does messaging strangers for job referrals work?  cscareerquestions   \n",
       "1252  I have a B.S. in Computer Science and graduate...  cscareerquestions   \n",
       "1253  Apart from tech skills, has the hiring bar for...  cscareerquestions   \n",
       "1254            Feeling incompetent and it’s killing me  cscareerquestions   \n",
       "\n",
       "                                               comments   created_utc  \\\n",
       "0     (jjrltoe, jjrloy9, jjrj0ix, jjrqv1u, jjrkukd, ...  1.683823e+09   \n",
       "1     (jwy89qz, jwy71ys, jwy92k5, jwyd2wg, jwy8pbg, ...  1.692499e+09   \n",
       "2     (jtj5lbh, jtj4y6i, jtjhn8p, jtj6fjl, jtjfnyy, ...  1.690384e+09   \n",
       "3     (jza8nj5, jza84ye, jza4o7j, jza7hpb, jzaaybs, ...  1.693943e+09   \n",
       "4     (jy5lzz7, jy618tp, jy5jca5, jy5rfkp, jy5i9o6, ...  1.693260e+09   \n",
       "...                                                 ...           ...   \n",
       "1250  (jsiovyk, jsiyep1, jsjc0e5, jsix7h5, jsji36k, ...  1.689722e+09   \n",
       "1251  (jkq910s, jkq5efm, jkq6sfz, jkq6sgn, jkqagfv, ...  1.684464e+09   \n",
       "1252  (jcccx5u, jcd36xp, jcc7h4v, jccc2sk, jcccc6p, ...  1.678909e+09   \n",
       "1253  (jkpaj98, jkotv5m, jkoqfti, jkop63h, jkp6z0f, ...  1.684443e+09   \n",
       "1254  (jlihz2j, jliigcs, jlhyss7, jli4zqm, jli3hf1, ...  1.684972e+09   \n",
       "\n",
       "      comment_upvotes                                        top_comment  \n",
       "0                2012  If that’s important to you then not working at...  \n",
       "1                2269  You are not wrong.\\nLoyalty is a two-way stree...  \n",
       "2                2483  No. Do not say anything to him. Managers are n...  \n",
       "3                3388  Literally every single person I've known who e...  \n",
       "4                2297  Work an extra 15 minutes and tell him you didn...  \n",
       "...               ...                                                ...  \n",
       "1250              385  RUN. Specifically looking for new college grad...  \n",
       "1251              287  I would be open to referring a stranger depend...  \n",
       "1252              240  Delete the Summary, reverse the order of the j...  \n",
       "1253              184  What is happening now is the same thing that h...  \n",
       "1254              171  1. Writing a lot of code\\n2. Working with peop...  \n",
       "\n",
       "[1255 rows x 6 columns]"
      ]
     },
     "execution_count": 103,
     "metadata": {},
     "output_type": "execute_result"
    }
   ],
   "source": [
    "for post in subreddit1:\n",
    "    if not post.over_18:\n",
    "        post.comments.replace_more(limit = 0)\n",
    "        highest_ups = -1\n",
    "        for comment in post.comments:\n",
    "            if comment.ups > highest_ups:\n",
    "                best_comment = comment.body\n",
    "                highest_ups = comment.ups\n",
    "        data_1.append(\n",
    "            {'title': post.title,\n",
    "            'selftext': post.subreddit,\n",
    "            'comments': post.comments,\n",
    "            'created_utc': post.created_utc,\n",
    "            'comment_upvotes': highest_ups,\n",
    "            'top_comment': best_comment\n",
    "            }\n",
    "        )"
   ]
  },
  {
   "cell_type": "code",
   "execution_count": 110,
   "id": "1a26f1de-1ac6-4e7b-bff3-1a7931f1a87d",
   "metadata": {
    "tags": []
   },
   "outputs": [],
   "source": [
    "subreddit2 = reddit.subreddit(\"askscience\").top(limit = 2000, time_filter = 'year')"
   ]
  },
  {
   "cell_type": "code",
   "execution_count": 111,
   "id": "548a542c-2391-4f0a-8796-5fef1cca98e3",
   "metadata": {
    "tags": []
   },
   "outputs": [],
   "source": [
    "for post in subreddit2:\n",
    "    if not post.over_18:\n",
    "        post.comments.replace_more(limit = 0)\n",
    "        highest_ups = -1\n",
    "        for comment in post.comments:\n",
    "            if comment.ups > highest_ups:\n",
    "                best_comment = comment.body\n",
    "                highest_ups = comment.ups\n",
    "        data_1.append(\n",
    "            {'title': post.title,\n",
    "            'selftext': post.subreddit,\n",
    "            'comments': post.comments,\n",
    "            'created_utc': post.created_utc,\n",
    "            'comment_upvotes': highest_ups,\n",
    "            'top_comment': best_comment\n",
    "            }\n",
    "        )"
   ]
  },
  {
   "cell_type": "code",
   "execution_count": 106,
   "id": "1b8139da-e8c5-4132-96af-735bf736c616",
   "metadata": {
    "tags": []
   },
   "outputs": [],
   "source": [
    "subreddit3 = reddit.subreddit(\"asksreddit\").top(limit = 2000, time_filter = 'year')"
   ]
  },
  {
   "cell_type": "code",
   "execution_count": 107,
   "id": "6d4170f1-9693-4cb2-b3c5-302f231da4d1",
   "metadata": {
    "collapsed": true,
    "jupyter": {
     "outputs_hidden": true
    },
    "tags": []
   },
   "outputs": [
    {
     "data": {
      "text/html": [
       "<div>\n",
       "<style scoped>\n",
       "    .dataframe tbody tr th:only-of-type {\n",
       "        vertical-align: middle;\n",
       "    }\n",
       "\n",
       "    .dataframe tbody tr th {\n",
       "        vertical-align: top;\n",
       "    }\n",
       "\n",
       "    .dataframe thead th {\n",
       "        text-align: right;\n",
       "    }\n",
       "</style>\n",
       "<table border=\"1\" class=\"dataframe\">\n",
       "  <thead>\n",
       "    <tr style=\"text-align: right;\">\n",
       "      <th></th>\n",
       "      <th>title</th>\n",
       "      <th>selftext</th>\n",
       "      <th>comments</th>\n",
       "      <th>created_utc</th>\n",
       "      <th>comment_upvotes</th>\n",
       "      <th>top_comment</th>\n",
       "    </tr>\n",
       "  </thead>\n",
       "  <tbody>\n",
       "    <tr>\n",
       "      <th>0</th>\n",
       "      <td>Redditors who make +$100K and aren’t being kil...</td>\n",
       "      <td>careerguidance</td>\n",
       "      <td>(jjrltoe, jjrloy9, jjrj0ix, jjrqv1u, jjrkukd, ...</td>\n",
       "      <td>1.683823e+09</td>\n",
       "      <td>2012</td>\n",
       "      <td>If that’s important to you then not working at...</td>\n",
       "    </tr>\n",
       "    <tr>\n",
       "      <th>1</th>\n",
       "      <td>Quitting after 8 years without notice. Am I wr...</td>\n",
       "      <td>careerguidance</td>\n",
       "      <td>(jwy89qz, jwy71ys, jwy92k5, jwyd2wg, jwy8pbg, ...</td>\n",
       "      <td>1.692499e+09</td>\n",
       "      <td>2269</td>\n",
       "      <td>You are not wrong.\\nLoyalty is a two-way stree...</td>\n",
       "    </tr>\n",
       "    <tr>\n",
       "      <th>2</th>\n",
       "      <td>My boss is pressuring to tell him where my new...</td>\n",
       "      <td>careerguidance</td>\n",
       "      <td>(jtj5lbh, jtj4y6i, jtjhn8p, jtj6fjl, jtjfnyy, ...</td>\n",
       "      <td>1.690384e+09</td>\n",
       "      <td>2483</td>\n",
       "      <td>No. Do not say anything to him. Managers are n...</td>\n",
       "    </tr>\n",
       "    <tr>\n",
       "      <th>3</th>\n",
       "      <td>BS’ed my way into a 160K job offer, am I crazy...</td>\n",
       "      <td>careerguidance</td>\n",
       "      <td>(jza8nj5, jza84ye, jza4o7j, jza7hpb, jzaaybs, ...</td>\n",
       "      <td>1.693943e+09</td>\n",
       "      <td>3388</td>\n",
       "      <td>Literally every single person I've known who e...</td>\n",
       "    </tr>\n",
       "    <tr>\n",
       "      <th>4</th>\n",
       "      <td>My boss confronted me about only working 7 hou...</td>\n",
       "      <td>careerguidance</td>\n",
       "      <td>(jy5lzz7, jy618tp, jy5jca5, jy5rfkp, jy5i9o6, ...</td>\n",
       "      <td>1.693260e+09</td>\n",
       "      <td>2297</td>\n",
       "      <td>Work an extra 15 minutes and tell him you didn...</td>\n",
       "    </tr>\n",
       "    <tr>\n",
       "      <th>...</th>\n",
       "      <td>...</td>\n",
       "      <td>...</td>\n",
       "      <td>...</td>\n",
       "      <td>...</td>\n",
       "      <td>...</td>\n",
       "      <td>...</td>\n",
       "    </tr>\n",
       "    <tr>\n",
       "      <th>1750</th>\n",
       "      <td>Could you make gamma rays via Bremsstrahlung?</td>\n",
       "      <td>askscience</td>\n",
       "      <td>(jg845x0, jg7jug9, jg7yhny, jg8a6x6, jg8qd24, ...</td>\n",
       "      <td>1.681464e+09</td>\n",
       "      <td>200</td>\n",
       "      <td>Some of the other comments are about x and gam...</td>\n",
       "    </tr>\n",
       "    <tr>\n",
       "      <th>1751</th>\n",
       "      <td>Quote from an article on the Guardian news web...</td>\n",
       "      <td>askscience</td>\n",
       "      <td>(iwzju6o, ix0jsuh, iwz812j, ix036id, ix0hkm4, ...</td>\n",
       "      <td>1.668853e+09</td>\n",
       "      <td>405</td>\n",
       "      <td>I believe it is an inaccurate statement.  They...</td>\n",
       "    </tr>\n",
       "    <tr>\n",
       "      <th>1752</th>\n",
       "      <td>How fast do bubbles rise in water?</td>\n",
       "      <td>askscience</td>\n",
       "      <td>(irpci2q, irpojn2, irpznxu, irpc0n0, irpdlhd, ...</td>\n",
       "      <td>1.665361e+09</td>\n",
       "      <td>597</td>\n",
       "      <td>Bubbles are ellipsoidal in shape, motion is ir...</td>\n",
       "    </tr>\n",
       "    <tr>\n",
       "      <th>1753</th>\n",
       "      <td>How do cancer vaccines stand out from other st...</td>\n",
       "      <td>askscience</td>\n",
       "      <td>(jlsvm83, jlsj1sq, jltxsc5, jltj8bc, jltuw69, ...</td>\n",
       "      <td>1.685158e+09</td>\n",
       "      <td>111</td>\n",
       "      <td>Cancer vaccines are targeted against antigens ...</td>\n",
       "    </tr>\n",
       "    <tr>\n",
       "      <th>1754</th>\n",
       "      <td>r/AsksReddit needs moderators and is currently...</td>\n",
       "      <td>AsksReddit</td>\n",
       "      <td>()</td>\n",
       "      <td>1.573170e+09</td>\n",
       "      <td>-1</td>\n",
       "      <td>Cancer vaccines are targeted against antigens ...</td>\n",
       "    </tr>\n",
       "  </tbody>\n",
       "</table>\n",
       "<p>1755 rows × 6 columns</p>\n",
       "</div>"
      ],
      "text/plain": [
       "                                                  title        selftext  \\\n",
       "0     Redditors who make +$100K and aren’t being kil...  careerguidance   \n",
       "1     Quitting after 8 years without notice. Am I wr...  careerguidance   \n",
       "2     My boss is pressuring to tell him where my new...  careerguidance   \n",
       "3     BS’ed my way into a 160K job offer, am I crazy...  careerguidance   \n",
       "4     My boss confronted me about only working 7 hou...  careerguidance   \n",
       "...                                                 ...             ...   \n",
       "1750      Could you make gamma rays via Bremsstrahlung?      askscience   \n",
       "1751  Quote from an article on the Guardian news web...      askscience   \n",
       "1752                 How fast do bubbles rise in water?      askscience   \n",
       "1753  How do cancer vaccines stand out from other st...      askscience   \n",
       "1754  r/AsksReddit needs moderators and is currently...      AsksReddit   \n",
       "\n",
       "                                               comments   created_utc  \\\n",
       "0     (jjrltoe, jjrloy9, jjrj0ix, jjrqv1u, jjrkukd, ...  1.683823e+09   \n",
       "1     (jwy89qz, jwy71ys, jwy92k5, jwyd2wg, jwy8pbg, ...  1.692499e+09   \n",
       "2     (jtj5lbh, jtj4y6i, jtjhn8p, jtj6fjl, jtjfnyy, ...  1.690384e+09   \n",
       "3     (jza8nj5, jza84ye, jza4o7j, jza7hpb, jzaaybs, ...  1.693943e+09   \n",
       "4     (jy5lzz7, jy618tp, jy5jca5, jy5rfkp, jy5i9o6, ...  1.693260e+09   \n",
       "...                                                 ...           ...   \n",
       "1750  (jg845x0, jg7jug9, jg7yhny, jg8a6x6, jg8qd24, ...  1.681464e+09   \n",
       "1751  (iwzju6o, ix0jsuh, iwz812j, ix036id, ix0hkm4, ...  1.668853e+09   \n",
       "1752  (irpci2q, irpojn2, irpznxu, irpc0n0, irpdlhd, ...  1.665361e+09   \n",
       "1753  (jlsvm83, jlsj1sq, jltxsc5, jltj8bc, jltuw69, ...  1.685158e+09   \n",
       "1754                                                 ()  1.573170e+09   \n",
       "\n",
       "      comment_upvotes                                        top_comment  \n",
       "0                2012  If that’s important to you then not working at...  \n",
       "1                2269  You are not wrong.\\nLoyalty is a two-way stree...  \n",
       "2                2483  No. Do not say anything to him. Managers are n...  \n",
       "3                3388  Literally every single person I've known who e...  \n",
       "4                2297  Work an extra 15 minutes and tell him you didn...  \n",
       "...               ...                                                ...  \n",
       "1750              200  Some of the other comments are about x and gam...  \n",
       "1751              405  I believe it is an inaccurate statement.  They...  \n",
       "1752              597  Bubbles are ellipsoidal in shape, motion is ir...  \n",
       "1753              111  Cancer vaccines are targeted against antigens ...  \n",
       "1754               -1  Cancer vaccines are targeted against antigens ...  \n",
       "\n",
       "[1755 rows x 6 columns]"
      ]
     },
     "execution_count": 107,
     "metadata": {},
     "output_type": "execute_result"
    }
   ],
   "source": [
    "for post in subreddit3:\n",
    "    if not post.over_18:\n",
    "        post.comments.replace_more(limit = 0)\n",
    "        highest_ups = -1\n",
    "        for comment in post.comments:\n",
    "            if comment.ups > highest_ups:\n",
    "                best_comment = comment.body\n",
    "                highest_ups = comment.ups\n",
    "        data_1.append(\n",
    "            {'title': post.title,\n",
    "            'selftext': post.subreddit,\n",
    "            'comments': post.comments,\n",
    "            'created_utc': post.created_utc,\n",
    "            'comment_upvotes': highest_ups,\n",
    "            'top_comment': best_comment\n",
    "            }\n",
    "        )"
   ]
  },
  {
   "cell_type": "code",
   "execution_count": 118,
   "id": "4cca11ce-d4b1-4e19-b3bd-d4e5032c65f2",
   "metadata": {
    "tags": []
   },
   "outputs": [],
   "source": [
    "subreddit4 = reddit.subreddit(\"AskHistory\").top(limit = 2000, time_filter = 'year')"
   ]
  },
  {
   "cell_type": "code",
   "execution_count": 120,
   "id": "a4bf21b7-a925-4aa2-b0c0-737822f53cf3",
   "metadata": {
    "tags": []
   },
   "outputs": [],
   "source": [
    "for post in subreddit4:\n",
    "    if not post.over_18:\n",
    "        post.comments.replace_more(limit = 0)\n",
    "        highest_ups = -1\n",
    "        for comment in post.comments:\n",
    "            if comment.ups > highest_ups:\n",
    "                best_comment = comment.body\n",
    "                highest_ups = comment.ups\n",
    "        data_1.append(\n",
    "            {'title': post.title,\n",
    "            'selftext': post.subreddit,\n",
    "            'comments': post.comments,\n",
    "            'created_utc': post.created_utc,\n",
    "            'comment_upvotes': highest_ups,\n",
    "            'top_comment': best_comment\n",
    "            }\n",
    "        )"
   ]
  },
  {
   "cell_type": "code",
   "execution_count": 121,
   "id": "37a32390-942e-49c4-a542-c68f3ef0be44",
   "metadata": {
    "tags": []
   },
   "outputs": [
    {
     "data": {
      "text/plain": [
       "5523"
      ]
     },
     "execution_count": 121,
     "metadata": {},
     "output_type": "execute_result"
    }
   ],
   "source": [
    "len(data_1)"
   ]
  },
  {
   "cell_type": "code",
   "execution_count": null,
   "id": "ae2dacff-3b63-4a35-abf2-85787ec8428d",
   "metadata": {
    "tags": []
   },
   "outputs": [],
   "source": [
    "subreddit5 = reddit.subreddit(\"AskEngineers\").top(limit = 500, time_filter = 'year')"
   ]
  },
  {
   "cell_type": "code",
   "execution_count": null,
   "id": "4d34891f-c683-4db0-bb35-5ea6b3b3f996",
   "metadata": {
    "tags": []
   },
   "outputs": [],
   "source": [
    "for post in subreddit5:\n",
    "    if not post.over_18:\n",
    "        post.comments.replace_more(limit = 0)\n",
    "        highest_ups = -1\n",
    "        for comment in post.comments:\n",
    "            if comment.ups > highest_ups:\n",
    "                best_comment = comment.body\n",
    "                highest_ups = comment.ups\n",
    "        data_1.append(\n",
    "            {'title': post.title,\n",
    "            'selftext': post.subreddit,\n",
    "            'comments': post.comments,\n",
    "            'created_utc': post.created_utc,\n",
    "            'comment_upvotes': highest_ups,\n",
    "            'top_comment': best_comment\n",
    "            }\n",
    "        )\n",
    "pd.DataFrame(data_1)"
   ]
  },
  {
   "cell_type": "code",
   "execution_count": null,
   "id": "0d226f20-9665-44f9-8edb-e14c1a3b1299",
   "metadata": {},
   "outputs": [],
   "source": [
    "#Count number of prompts with Question marks in them"
   ]
  },
  {
   "cell_type": "code",
   "execution_count": 85,
   "id": "5bebd33c-e973-47f5-aee5-470a048caae8",
   "metadata": {
    "tags": []
   },
   "outputs": [],
   "source": [
    "davinci_prompts = [p['title'] for p in data_1]"
   ]
  },
  {
   "cell_type": "code",
   "execution_count": 86,
   "id": "32e06d54-739a-4d87-856f-500c711c7427",
   "metadata": {
    "tags": []
   },
   "outputs": [
    {
     "name": "stdout",
     "output_type": "stream",
     "text": [
      "49\n",
      "0.1101123595505618\n"
     ]
    }
   ],
   "source": [
    "count_q = 0\n",
    "for t in davinci_prompts:\n",
    "    if \"?\" in t:\n",
    "        count_q +=1\n",
    "print(count_q)\n",
    "print(count_q/len(data_))"
   ]
  },
  {
   "cell_type": "code",
   "execution_count": 87,
   "id": "ad025d2e-a632-437a-a433-915805df4cd7",
   "metadata": {
    "tags": []
   },
   "outputs": [],
   "source": [
    "davinci_prompts_adj = [p['title'] for p in data_1 if \"?\" in p[\"title\"]]"
   ]
  },
  {
   "cell_type": "code",
   "execution_count": null,
   "id": "0d17afda-91bc-46ac-b488-b2073f41a0d8",
   "metadata": {
    "tags": []
   },
   "outputs": [],
   "source": [
    "#average number of words in each question prompt"
   ]
  },
  {
   "cell_type": "code",
   "execution_count": 89,
   "id": "474183ad-3723-4701-8eb7-620b299b8d67",
   "metadata": {
    "tags": []
   },
   "outputs": [
    {
     "data": {
      "text/plain": [
       "17.877551020408163"
      ]
     },
     "execution_count": 89,
     "metadata": {},
     "output_type": "execute_result"
    }
   ],
   "source": [
    "import nltk\n",
    "from statistics import mean\n",
    "\n",
    "davinci_prompts_adj_tokens = [len(nltk.word_tokenize(p['title'])) for p in data_1]\n",
    "mean(davinci_prompts_adj_tokens)"
   ]
  },
  {
   "cell_type": "code",
   "execution_count": 90,
   "id": "b7ee9b31-28fa-41e9-9a79-08eac17377b9",
   "metadata": {
    "tags": []
   },
   "outputs": [],
   "source": [
    "davinci_responses = []\n",
    "message = [{'role': 'user', 'content': \"Answer the following question as a user:\"}]\n",
    "dv_response = openai.Completion.create(\n",
    "    model = 'text-davinci-003',\n",
    "    prompt = davinci_prompts_sample,\n",
    "    temperature = 0.6,\n",
    "    max_tokens = 8000\n",
    ")\n",
    "\n",
    "#for i in range(0,len(davinci_prompts_adj)):\n",
    " #   davinci_responses.append(completions_with_backoff(\n",
    "  #  model = 'text-davinci-003',\n",
    "   # prompt = davinci_prompts_sample,\n",
    "#message = [{'role': 'user', 'content': \"Answer the following question as a user:\"}]\n",
    " #   temperature = 0.6,\n",
    "  #  max_tokens = 500))"
   ]
  },
  {
   "cell_type": "code",
   "execution_count": 148,
   "id": "ec5695af-6b02-46cb-8a7b-cfcd6da00960",
   "metadata": {
    "collapsed": true,
    "jupyter": {
     "outputs_hidden": true
    },
    "tags": []
   },
   "outputs": [
    {
     "name": "stdout",
     "output_type": "stream",
     "text": [
      "['The decision between a 78k job offer with student loan forgiveness and a 120k job offer without student loan forgiveness depends on various factors and personal circumstances. Here are a few considerations to help you make the decision:\\n\\n1. Student Loans: Evaluate the amount of student loan debt you have and calculate the potential savings from the student loan forgiveness program. Consider the interest rates, repayment terms, and how long it would take to pay off the loans without forgiveness. This will give you an idea of the financial impact of each option.\\n\\n2. Long-term Financial Goals: Consider your long-term financial goals and how each job offer aligns with them. If you prioritize paying off your student loans quickly, the 78k job offer with forgiveness may be more appealing. However, if you have other financial goals, such as saving for retirement or buying a house, the higher salary of the 120k job offer may be more beneficial.\\n\\n3. Job Satisfaction and Growth Opportunities: Evaluate the potential for career growth and job satisfaction in each offer. A higher salary may not necessarily equate to higher job satisfaction or better growth opportunities. Consider factors such as work-life balance, job responsibilities, company culture, and potential for promotions or raises.\\n\\n4. Cost of Living: Consider the cost of living in the area where each job is located. A higher salary may be offset by a higher cost of living, while a lower salary may go further in an area with a lower cost of living.\\n\\n5. Personal Preferences: Consider your personal preferences and values. Some individuals may prioritize job security, work-life balance, or job flexibility over a higher salary. Others may prioritize financial stability and the ability to pay off debts quickly.\\n\\nUltimately, the decision depends on your individual circumstances, financial goals, and personal preferences. It may be helpful to weigh the pros and cons of each offer, consider the long-term implications, and seek advice from a financial advisor or trusted individuals who know your specific situation.', \"If you are experiencing complete disconnection for work, here are some steps you can take to fix the issue:\\n\\n1. Check your internet connection: Ensure that your internet connection is stable and working properly. Test your connection by visiting other websites or streaming videos to confirm if the problem is specific to your work-related applications or if it's a general internet issue.\\n\\n2. Restart your router/modem: Power off your router or modem, wait for a few seconds, and then power it back on. This can help resolve any temporary network issues or conflicts.\\n\\n3. Verify your network settings: Ensure that your network settings are correctly configured. Check if you are using the correct IP address, subnet mask, gateway, and DNS settings. You may need to contact your internet service provider (ISP) for assistance with this.\\n\\n4. Use a wired connection: If you are currently using a wireless connection, try connecting your device directly to the router or modem using an Ethernet cable. Wired connections tend to be more stable and reliable.\\n\\n5. Update your network drivers: Outdated or faulty network drivers can cause disconnection issues. Update your network drivers to the latest version available. You can do this by visiting the manufacturer's website or using a driver update software.\\n\\n6. Disable unnecessary network applications: Some applications running in the background can consume a significant amount of bandwidth, causing connectivity issues. Close or disable any non-essential applications that may be using your network resources.\\n\\n7. Restart your device: Sometimes a simple restart can fix connectivity problems. Turn off your device, wait for a few seconds, and then turn it back on again.\\n\\n8. Check for hardware issues: If the above steps don't resolve the disconnection problem, there may be an issue with your network hardware. Check the cables, connectors, and any other networking equipment to ensure they are working properly. If necessary, contact a professional technician for assistance.\\n\\n9. Contact your IT department or service provider: If you are unable to fix the disconnection problem on your own, reach out to your company's IT department or contact your internet service provider for further assistance. They may be able to diagnose and resolve the issue remotely or guide you through additional troubleshooting steps.\\n\\nRemember, the specific steps to fix a complete disconnection for work may vary depending on your network setup and equipment. It's always best to consult with professionals or support personnel for more accurate guidance.\", \"Congratulations on landing a job! It's great that you have another offer on the table as well. Here are a few steps you can consider taking in this situation:\\n\\n1. Evaluate the new job offer: Carefully assess the details of the new job offer, including salary, benefits, work environment, growth opportunities, and any other factors that are important to you. Compare it to your current job offer and determine if the new offer is truly better for your long-term goals and overall satisfaction.\\n\\n2. Consider your priorities: Reflect on your career goals, personal circumstances, and priorities. Think about what aspects of a job are most important to you, such as salary, job security, work-life balance, growth potential, or the industry you want to work in. This will help you make a decision that aligns with your long-term plans.\\n\\n3. Weigh the risks and benefits: Assess the potential risks and benefits associated with both job offers. Consider factors like job stability, company reputation, growth potential, commute, work hours, and the overall fit with your skills and interests. This analysis will help you make an informed decision.\\n\\n4. Communicate with both employers: If you decide to consider the new job offer, it is essential to communicate professionally and respectfully with both employers. Inform your current employer about the situation and express your gratitude for the opportunity. If you choose the new offer, decline the first job offer politely and professionally, thanking them for their consideration.\\n\\n5. Trust your instincts: Ultimately, trust your instincts and choose the job offer that feels right for you. Consider not only the immediate benefits but also the long-term potential for growth, job satisfaction, and advancement in your chosen career path.\\n\\nRemember, it is not uncommon for situations like this to arise, and employers understand that candidates may receive multiple offers. Making a decision can be challenging, but by carefully evaluating your options and considering your priorities, you can make a choice that aligns with your goals and interests.\", 'When responding to a scathing email from your boss, it\\'s important to remain professional, calm, and constructive. Here\\'s a step-by-step guide to help you navigate the situation effectively:\\n\\n1. Take a deep breath: Before responding, take some time to calm down and gain perspective. Avoid the temptation to react impulsively or defensively.\\n\\n2. Read and understand the email: Carefully read through your boss\\'s email, ensuring you fully comprehend their concerns, criticisms, or feedback. Take note of the specific points mentioned and the underlying issues.\\n\\n3. Acknowledge receipt and express gratitude: Begin your response by acknowledging the email and expressing gratitude for your boss\\'s feedback. Show appreciation for their time and effort in providing detailed input.\\n\\nExample: \"Dear [Boss\\'s Name], Thank you for taking the time to share your thoughts and provide me with valuable feedback in your recent email. I appreciate your input and the opportunity to address the concerns you\\'ve raised.\"\\n\\n4. Apologize if necessary: If you believe an apology is warranted, take responsibility for any mistakes or shortcomings on your part. Be sincere and avoid making excuses or shifting blame.\\n\\nExample: \"I want to sincerely apologize for any inconvenience or disappointment caused by my actions. I accept full responsibility for the errors made and understand the impact they may have had on the project/team/organization.\"\\n\\n5. Address each point logically: Respond to each point raised in the email, providing clear and concise explanations, solutions, or plans for improvement. Be honest and transparent while emphasizing your commitment to making positive changes.\\n\\nExample: \"Regarding the issue you mentioned about [specific point], I understand the importance of [concern] and have taken immediate steps to rectify the situation. Moving forward, I will [explain your course of action].\"\\n\\n6. Seek clarification if needed: If there are any aspects that you don\\'t fully understand or require further clarification, politely ask for additional information. This shows your willingness to address concerns comprehensively.\\n\\nExample: \"I would greatly appreciate it if you could provide more details or examples to help me better understand your expectations in regard to [specific point]. This will enable me to make more targeted improvements.\"\\n\\n7. Offer solutions or improvements: Propose specific solutions or improvements to address the issues raised. Demonstrate your commitment to growth and the desire to enhance your performance.\\n\\nExample: \"In order to prevent similar issues from occurring in the future, I have developed a plan to [describe your proposed solution]. I believe this will', \"There are several jobs that require little to no human interaction. Some examples include:\\n\\n1. Data entry clerk: This job involves inputting data into computer systems or databases, typically without the need for much interaction with colleagues or clients.\\n\\n2. Night security guard: As a night security guard, you may have limited interaction with others, as your primary responsibility is to monitor and secure the premises during quiet hours.\\n\\n3. Freelance writer or editor: Many writers and editors work from home or in quiet environments, allowing them to focus on their tasks without much interaction with others.\\n\\n4. Laboratory technician: Working in a laboratory often involves conducting experiments, analyzing samples, and recording data, which can be done independently with minimal interaction.\\n\\n5. Truck driver: Long-haul truck drivers spend a significant amount of time alone in their trucks, driving long distances and delivering goods.\\n\\n6. Online seller or entrepreneur: Running an online business or selling products through e-commerce platforms allows you to work independently, with limited face-to-face interaction.\\n\\n7. Librarian: While some interaction with patrons may be necessary, working as a librarian generally involves tasks such as organizing books, cataloging, and maintaining the library, which can be done in a relatively quiet and independent environment.\\n\\n8. Transcriptionist: Transcribing audio recordings into written form can often be done remotely, requiring minimal interaction with others.\\n\\nIt's important to note that the level of human interaction can vary within these jobs, and some may still require occasional collaboration or communication with colleagues or clients.\", 'There is no right or wrong answer to this question as it ultimately depends on your personal circumstances and priorities. Accepting a better offer can be a wise decision if it aligns with your career goals, provides better benefits or growth opportunities, or improves your overall work-life balance. However, it is important to consider the potential consequences of accepting a new offer too soon, such as burning bridges with your current employer or negatively impacting your professional reputation. It is advisable to carefully evaluate the pros and cons, weigh the potential risks and rewards, and make a decision that best suits your individual situation.', 'It is not possible to determine whether a Gmail username is professional without knowing the actual username. The professionalism of a Gmail username depends on the content and format of the username chosen by the user.', \"I'm sorry to hear that your request for a raise was turned down due to lack of experience. It can be frustrating when you believe you have been delivering positive results but are not recognized for it. In such situations, it may be helpful to have a conversation with your supervisor or manager to understand their reasoning and discuss potential opportunities for growth and development.\\n\\nHere are a few steps you can take:\\n\\n1. Request feedback: Ask your supervisor for specific feedback on what areas they believe you lack experience in. This will provide you with valuable information on where you can focus your efforts to improve and gain the necessary experience.\\n\\n2. Discuss your achievements: Clearly articulate the results you have delivered and the impact they have had on the company. Emphasize how your contributions have positively affected the organization and its goals.\\n\\n3. Highlight your potential: Express your eagerness to learn and grow. Discuss any additional training or development opportunities you are willing to undertake to bridge the experience gap. Show your commitment to enhancing your skills and becoming an even more valuable asset to the company.\\n\\n4. Propose a trial period: Suggest the idea of a trial period during which you can demonstrate your capabilities and ability to handle higher-level responsibilities. This allows your employer to assess your performance and potentially reconsider their decision.\\n\\n5. Seek alternative forms of recognition: If a raise is not possible at the moment, inquire about other forms of recognition, such as a title change, increased responsibilities, or performance-based bonuses. These alternatives may not provide immediate financial benefits, but they can be stepping stones towards future advancement.\\n\\nRemember to approach these discussions with professionalism, confidence, and a willingness to listen to your employer's perspective. It's essential to remain open to feedback and be prepared to work on areas where you may need more experience.\", 'Working as a janitor involves performing a variety of cleaning and maintenance tasks in various settings such as offices, schools, hospitals, or residential buildings. Some common responsibilities of a janitor may include:\\n\\n1. Sweeping, mopping, and vacuuming floors\\n2. Cleaning and disinfecting restrooms and replenishing supplies\\n3. Emptying trash cans and disposing of waste\\n4. Dusting and polishing furniture, fixtures, and surfaces\\n5. Cleaning windows, mirrors, and glass surfaces\\n6. Maintaining cleanliness in common areas such as lobbies, hallways, and elevators\\n7. Operating and maintaining cleaning equipment and tools\\n8. Reporting any maintenance or repair needs to appropriate personnel\\n9. Adhering to safety procedures and using protective equipment when necessary\\n10. Following specific cleaning protocols and schedules.\\n\\nWorking as a janitor requires physical stamina, attention to detail, and the ability to work independently. It may involve working evenings, weekends, or overnight shifts to minimize disruption during regular business hours. While it may not be a glamorous job, being a janitor can be rewarding as you contribute to creating a clean and safe environment for others.', \"Yes, there are several career paths that do not necessarily require friendliness as a primary skill. Here are a few examples:\\n\\n1. Research Scientist: In this field, the focus is primarily on conducting research, experiments, and analysis. While collaboration and communication skills may be necessary to work with colleagues, friendliness is not a core requirement.\\n\\n2. Software Developer: Software developers primarily work on coding and programming tasks. They often spend a significant amount of time working independently or in small teams. While effective communication skills are valuable, friendliness is not a mandatory skill for success in this field.\\n\\n3. Data Analyst: Data analysts work with large datasets, analyzing and interpreting information to support decision-making processes. This role typically involves working with numbers and statistics rather than extensive interpersonal interactions.\\n\\n4. Freelance Writer: Many freelance writers have the freedom to work remotely and independently. While some client communication may be necessary, the focus is primarily on writing content rather than maintaining a friendly demeanor.\\n\\n5. Engineering: Many branches of engineering, such as civil, mechanical, or electrical engineering, involve technical problem-solving and design work. While teamwork and collaboration are essential, friendliness is not a prerequisite for success in these fields.\\n\\nIt's important to note that while friendliness may not be a primary requirement in these careers, developing effective communication and interpersonal skills can still be beneficial for professional growth and success.\", \"I'm sorry to hear about your experience. It can be disheartening to be let go from a job, but it's important to use this as a learning opportunity and work towards improving yourself. Here are some steps you can take to change and grow as a developer:\\n\\n1. Reflect on the reasons for your performance issues: Take some time to analyze what went wrong during your first week. Identify specific areas where you struggled and try to understand the reasons behind it. Was it a lack of technical skills, difficulty adapting to the work environment, or challenges in time management? This self-reflection will help you pinpoint areas for improvement.\\n\\n2. Seek feedback: Reach out to your former supervisor or colleagues and ask for constructive feedback about your performance. Understand their perspective on where you fell short and what you could have done differently. This feedback will provide valuable insights and help you identify areas that need improvement.\\n\\n3. Enhance your technical skills: Identify the specific technical skills required for the job you were let go from and focus on improving them. Consider taking online courses, attending workshops, or participating in coding bootcamps to strengthen your skills in those areas. Practice coding regularly, work on personal projects, and explore open-source contributions to gain practical experience.\\n\\n4. Develop a learning plan: Based on the feedback and self-reflection, create a learning plan to address the areas where you struggled. Break down the skills and knowledge you need to acquire into smaller, manageable goals. Set a timeline for achieving these goals and track your progress regularly.\\n\\n5. Seek mentorship and guidance: Reach out to experienced developers or join developer communities where you can find mentors who can provide guidance and support. They can offer advice, share their experiences, and help you navigate through challenges.\\n\\n6. Improve your soft skills: Technical skills are essential, but soft skills like effective communication, teamwork, and time management are equally important. Work on enhancing these skills to become a well-rounded developer. Practice effective communication, collaborate on group projects, and develop strategies for managing your time efficiently.\\n\\n7. Gain practical experience: Look for opportunities to gain practical experience in the field. Consider freelancing, contributing to open-source projects, or participating in coding competitions. These experiences will not only enhance your skills but also provide you with real-world exposure.\\n\\n8. Stay updated with industry trends: The tech industry is ever-evolving, and staying updated with the latest trends and technologies is crucial. Follow industry blogs, attend webinars, and join relevant online\", 'The decision to switch jobs depends on various factors and individual circumstances. While a salary increase of $25k to $50k is significant, it is essential to consider the following aspects before making a decision:\\n\\n1. Job Satisfaction: Evaluate your current job satisfaction. If you are unhappy with your current position, switching jobs may be a valid option. However, if you are generally satisfied with your current job, it might be worth considering whether a higher salary is the only factor driving your decision.\\n\\n2. Career Growth: Assess the potential for career growth in your current position. If the new job offers better growth opportunities, it might justify switching earlier than usual. Consider the long-term benefits and potential for advancement in both positions.\\n\\n3. Financial Stability: Examine your financial situation and stability. If you are in a comfortable position and can afford to wait longer before switching jobs, it might be beneficial to gain more experience and enhance your skills before making a move.\\n\\n4. Company Culture and Fit: Evaluate the company culture and work environment of both positions. Consider whether the new job aligns with your values, career goals, and provides a better work-life balance.\\n\\n5. Future Prospects: Consider the potential impact on your future prospects. Evaluate the reputation and industry standing of both companies. Will the new job enhance your resume and open doors to better opportunities in the future?\\n\\nUltimately, there is no definitive answer to whether 8 months is too soon to switch jobs for a salary increase. It is a personal decision that requires careful consideration of these factors and an understanding of your own career goals and priorities.', \"I'm really sorry to hear about your mom's situation. Dealing with a family member's health issues can be incredibly stressful. Regarding your job, it's important to communicate your situation to your employer and try to find a resolution that works for both parties. Here are a few steps you can take:\\n\\n1. Inform your employer: Schedule a meeting with your supervisor or human resources department to explain the situation. Clearly explain that your mom is undergoing a heart transplant in another state, which requires you to be present during this critical time.\\n\\n2. Provide necessary documentation: Gather any relevant documentation, such as medical records or a letter from your mom's healthcare provider, to substantiate your need for time off. This can help your employer understand the seriousness of the situation.\\n\\n3. Discuss your options: Talk about potential solutions with your employer. This could include taking unpaid leave, using vacation days, or exploring the possibility of remote work if applicable. Be open to compromise and try to find a solution that meets both your needs and your employer's requirements.\\n\\n4. Familiarize yourself with company policies: Review your company's policies regarding medical leave, personal leave, and any other relevant policies. Knowing your rights and the company's obligations can help you navigate the situation more effectively.\\n\\n5. Seek legal advice if necessary: If your employer refuses to accommodate your situation or violates any employment laws, consider seeking legal advice from an employment attorney who can guide you on your rights and options.\\n\\nRemember, open and honest communication is vital in these situations. Try to maintain a professional and respectful tone throughout your discussions with your employer.\", 'It\\'s never too late to turn things around and make positive changes in your life. Here are a few steps you can take to start moving in the right direction:\\n\\n1. Reflect on your past: Take some time to reflect on the choices you\\'ve made and the reasons behind them. Understanding why you\\'ve \"fucked off\" in the past can help you avoid making similar mistakes in the future.\\n\\n2. Set meaningful goals: Think about what you want to achieve in life. Set specific, achievable goals that align with your values and interests. Break them down into smaller, manageable steps to make them more attainable.\\n\\n3. Develop a plan: Create a plan of action to reach your goals. Identify the skills, knowledge, or resources you may need to acquire along the way. Having a clear plan will help you stay focused and motivated.\\n\\n4. Take responsibility: Acknowledge that you are responsible for your own actions and outcomes. Avoid blaming others or making excuses. Embrace a mindset of personal accountability, as it will empower you to take control of your life.\\n\\n5. Seek guidance and support: Surround yourself with positive influences and seek guidance from mentors, friends, or family members who can offer advice and support. Consider finding a mentor or joining support groups related to your interests or goals.\\n\\n6. Educate yourself: Invest in your personal and professional development. Read books, take courses, attend workshops or seminars, or pursue higher education if necessary. Continuous learning will help you gain new skills and broaden your perspectives.\\n\\n7. Take action: Start taking small steps towards your goals every day. Even if progress seems slow at first, consistent effort will yield results over time. Stay committed and persevere through challenges or setbacks.\\n\\n8. Stay focused and motivated: Stay focused on your goals and remind yourself of the reasons why you want to make a change. Celebrate small victories along the way to maintain motivation and momentum.\\n\\nRemember, change takes time and effort. Be patient with yourself and stay committed to your journey of personal growth and improvement.', \"When responding to your boss's feedback about your eye contact, it is important to remain professional and receptive. Here's a suggested response:\\n\\nDear [Boss's Name],\\n\\nThank you for providing me with feedback regarding my eye contact. I appreciate your openness in discussing areas where I can improve my professional communication skills. \\n\\nI understand that maintaining appropriate eye contact is crucial in fostering effective communication, and I will make a conscious effort to enhance this aspect of my interactions. I will strive to maintain consistent eye contact during our conversations and meetings, ensuring that I am actively engaged and attentive. \\n\\nIf you have any specific suggestions or techniques that could help me improve my eye contact, I would be grateful to learn from your expertise. Your guidance will undoubtedly assist me in developing this skill further.\\n\\nOnce again, thank you for bringing this to my attention. I value your feedback and will continue to work on enhancing my communication abilities.\\n\\nSincerely,\\n[Your Name]\", 'Yes, it is not uncommon for people to switch careers only to realize later that they made a mistake. Career choices are often influenced by various factors such as personal interests, financial considerations, societal pressure, or the desire for change. However, sometimes the new career may not meet expectations, or individuals may discover that they were not as passionate about it as they initially thought. Additionally, changing careers often involves a learning curve, and some people may find it difficult to adapt to the new field or face unexpected challenges. In such cases, individuals may choose to either switch careers again or find ways to make the best of their current situation.', \"No, every company is not necessarily toxic. The culture and environment of a company can vary greatly depending on various factors such as leadership, values, and policies. While some companies may have toxic work environments characterized by unhealthy competition, lack of transparency, and poor treatment of employees, there are also many companies that prioritize employee well-being, foster positive work cultures, and promote a healthy work-life balance. It is important to research and evaluate a company's values and work environment before making any assumptions about its toxicity.\", \"It ultimately depends on the individual's personal circumstances and priorities. However, it is rare for someone to turn down a $50,000 raise, as it represents a significant increase in income. Some reasons someone might consider turning it down could include:\\n\\n1. Job satisfaction: If the raise comes with added responsibilities or a role that the individual does not enjoy or find fulfilling, they may prioritize job satisfaction over the financial gain.\\n2. Work-life balance: If the raise requires significantly more hours or a higher level of commitment, the individual may prefer to maintain a better work-life balance and prioritize their personal time over the increase in income.\\n3. Career goals: If the raise takes the individual further away from their long-term career goals or hinders their ability to pursue opportunities in their desired field, they may choose to decline the raise.\\n4. Company culture or values: If the raise is associated with a company or work environment that does not align with the individual's values or has a toxic culture, they may prefer to prioritize their well-being and choose not to accept the raise.\\n5. Other non-monetary factors: There may be other factors, such as location, commute, or job security, that play a significant role in the decision to turn down a raise.\\n\\nUltimately, the decision to turn down a $50,000 raise is highly personal and depends on the individual's unique circumstances and priorities.\", 'Transitioning from a blue-collar job to a white-collar job requires a combination of skills, education, and networking. Here are some steps you can take to make this transition:\\n\\n1. Research and identify target jobs: Begin by researching white-collar jobs that align with your skills, interests, and long-term goals. Look for positions that require skills you already possess or are willing to acquire through additional education or training.\\n\\n2. Assess your skills and identify gaps: Evaluate your existing skills and identify any gaps that may hinder your transition. Determine which skills are necessary for your desired white-collar job and explore ways to acquire them. This may involve taking courses, pursuing higher education, or gaining relevant certifications.\\n\\n3. Pursue education and training: If your desired white-collar job requires specific qualifications or degrees, consider pursuing higher education or specialized training programs. Look for community colleges, trade schools, or online courses that offer relevant programs that can help you gain the necessary knowledge and credentials.\\n\\n4. Network and build connections: Networking is crucial when transitioning to a white-collar job. Attend industry events, seminars, or conferences to meet professionals in your target field. Utilize online platforms like LinkedIn to connect with professionals and join relevant industry groups. Networking can provide valuable insights, job leads, and potential referrals.\\n\\n5. Update your resume and cover letter: Tailor your resume and cover letter to highlight transferrable skills and experiences that are relevant to the white-collar job you are applying for. Emphasize any relevant education, certifications, or training you have acquired during your transition.\\n\\n6. Gain relevant experience: Look for opportunities to gain relevant experience in your target field. This can include internships, volunteering, or taking on part-time roles in your desired industry. This hands-on experience will enhance your resume and make you more competitive as you transition to a white-collar job.\\n\\n7. Be adaptable and open to entry-level positions: Recognize that transitioning to a white-collar job may require starting at an entry-level position. Be open to these opportunities, as they can provide a platform for growth and advancement within your desired field.\\n\\n8. Develop professional skills: White-collar jobs often require strong communication, problem-solving, and analytical skills. Focus on developing these skills through self-study, online courses, or workshops. Enhancing your professional skills can make you a more attractive candidate for white-collar positions.\\n\\n9. Stay updated on industry trends: Continuously educate yourself about industry trends, advancements, and best practices in your target field.', \"I'm sorry, but I need more context or information to understand what specific action or behavior you are referring to. Please provide more details so I can assist you better.\"]\n"
     ]
    }
   ],
   "source": [
    "prompt = davinci_prompts_sample\n",
    "message = [{'role': 'user', 'content': \"Answer the following question as a user:\"}]\n",
    "output = []\n",
    "for i in range(len(prompt)):\n",
    "    response = openai.ChatCompletion.create(\n",
    "        model = 'gpt-3.5-turbo',\n",
    "        messages = [{'role': 'user', 'content': prompt[i]}],\n",
    "        temperature = 0.6,\n",
    "        max_tokens = 200\n",
    "      )\n",
    "  \n",
    "    chat_response = response['choices'][0]['message']['content']\n",
    "    output.append(chat_response)\n",
    "\n",
    "print(output)\n"
   ]
  },
  {
   "cell_type": "code",
   "execution_count": 122,
   "id": "c9ed9c81-79b7-45f2-b43c-8834087137be",
   "metadata": {
    "tags": []
   },
   "outputs": [],
   "source": [
    "davinci_prompts_full = [p['title'] for p in data_1]"
   ]
  },
  {
   "cell_type": "code",
   "execution_count": 124,
   "id": "20d42bde-3ffd-4537-af42-027d81c8a982",
   "metadata": {
    "tags": []
   },
   "outputs": [
    {
     "name": "stdout",
     "output_type": "stream",
     "text": [
      "4877\n",
      "0.8830345826543545\n"
     ]
    }
   ],
   "source": [
    "count_q = 0\n",
    "for t in davinci_prompts_full:\n",
    "    if \"?\" in t:\n",
    "        count_q +=1\n",
    "print(count_q)\n",
    "print(count_q/len(data_1))"
   ]
  },
  {
   "cell_type": "code",
   "execution_count": 125,
   "id": "ac63d135-6ad4-4064-bdfc-289ebffb3f74",
   "metadata": {
    "tags": []
   },
   "outputs": [],
   "source": [
    "davinci_prompts_adj1 = [p['title'] for p in data_1 if \"?\" in p[\"title\"]]"
   ]
  },
  {
   "cell_type": "code",
   "execution_count": 126,
   "id": "d4b757e6-a841-46f7-8008-44014612451f",
   "metadata": {
    "tags": []
   },
   "outputs": [
    {
     "data": {
      "text/plain": [
       "17.595147564729313"
      ]
     },
     "execution_count": 126,
     "metadata": {},
     "output_type": "execute_result"
    }
   ],
   "source": [
    "import nltk\n",
    "from statistics import mean\n",
    "\n",
    "davinci_prompts_adj_tokens1 = [len(nltk.word_tokenize(p['title'])) for p in data_1]\n",
    "mean(davinci_prompts_adj_tokens1)"
   ]
  },
  {
   "cell_type": "code",
   "execution_count": 151,
   "id": "5589edc1-5e35-4e70-8513-2385c080101f",
   "metadata": {
    "tags": []
   },
   "outputs": [
    {
     "ename": "Timeout",
     "evalue": "Request timed out: HTTPSConnectionPool(host='api.openai.com', port=443): Read timed out. (read timeout=600)",
     "output_type": "error",
     "traceback": [
      "\u001b[0;31m---------------------------------------------------------------------------\u001b[0m",
      "\u001b[0;31mTimeoutError\u001b[0m                              Traceback (most recent call last)",
      "File \u001b[0;32m~/anaconda3/lib/python3.11/site-packages/urllib3/connectionpool.py:466\u001b[0m, in \u001b[0;36mHTTPConnectionPool._make_request\u001b[0;34m(self, conn, method, url, timeout, chunked, **httplib_request_kw)\u001b[0m\n\u001b[1;32m    462\u001b[0m         \u001b[38;5;28;01mexcept\u001b[39;00m \u001b[38;5;167;01mBaseException\u001b[39;00m \u001b[38;5;28;01mas\u001b[39;00m e:\n\u001b[1;32m    463\u001b[0m             \u001b[38;5;66;03m# Remove the TypeError from the exception chain in\u001b[39;00m\n\u001b[1;32m    464\u001b[0m             \u001b[38;5;66;03m# Python 3 (including for exceptions like SystemExit).\u001b[39;00m\n\u001b[1;32m    465\u001b[0m             \u001b[38;5;66;03m# Otherwise it looks like a bug in the code.\u001b[39;00m\n\u001b[0;32m--> 466\u001b[0m             six\u001b[38;5;241m.\u001b[39mraise_from(e, \u001b[38;5;28;01mNone\u001b[39;00m)\n\u001b[1;32m    467\u001b[0m \u001b[38;5;28;01mexcept\u001b[39;00m (SocketTimeout, BaseSSLError, SocketError) \u001b[38;5;28;01mas\u001b[39;00m e:\n",
      "File \u001b[0;32m<string>:3\u001b[0m, in \u001b[0;36mraise_from\u001b[0;34m(value, from_value)\u001b[0m\n",
      "File \u001b[0;32m~/anaconda3/lib/python3.11/site-packages/urllib3/connectionpool.py:461\u001b[0m, in \u001b[0;36mHTTPConnectionPool._make_request\u001b[0;34m(self, conn, method, url, timeout, chunked, **httplib_request_kw)\u001b[0m\n\u001b[1;32m    460\u001b[0m \u001b[38;5;28;01mtry\u001b[39;00m:\n\u001b[0;32m--> 461\u001b[0m     httplib_response \u001b[38;5;241m=\u001b[39m conn\u001b[38;5;241m.\u001b[39mgetresponse()\n\u001b[1;32m    462\u001b[0m \u001b[38;5;28;01mexcept\u001b[39;00m \u001b[38;5;167;01mBaseException\u001b[39;00m \u001b[38;5;28;01mas\u001b[39;00m e:\n\u001b[1;32m    463\u001b[0m     \u001b[38;5;66;03m# Remove the TypeError from the exception chain in\u001b[39;00m\n\u001b[1;32m    464\u001b[0m     \u001b[38;5;66;03m# Python 3 (including for exceptions like SystemExit).\u001b[39;00m\n\u001b[1;32m    465\u001b[0m     \u001b[38;5;66;03m# Otherwise it looks like a bug in the code.\u001b[39;00m\n",
      "File \u001b[0;32m~/anaconda3/lib/python3.11/http/client.py:1378\u001b[0m, in \u001b[0;36mHTTPConnection.getresponse\u001b[0;34m(self)\u001b[0m\n\u001b[1;32m   1377\u001b[0m \u001b[38;5;28;01mtry\u001b[39;00m:\n\u001b[0;32m-> 1378\u001b[0m     response\u001b[38;5;241m.\u001b[39mbegin()\n\u001b[1;32m   1379\u001b[0m \u001b[38;5;28;01mexcept\u001b[39;00m \u001b[38;5;167;01mConnectionError\u001b[39;00m:\n",
      "File \u001b[0;32m~/anaconda3/lib/python3.11/http/client.py:318\u001b[0m, in \u001b[0;36mHTTPResponse.begin\u001b[0;34m(self)\u001b[0m\n\u001b[1;32m    317\u001b[0m \u001b[38;5;28;01mwhile\u001b[39;00m \u001b[38;5;28;01mTrue\u001b[39;00m:\n\u001b[0;32m--> 318\u001b[0m     version, status, reason \u001b[38;5;241m=\u001b[39m \u001b[38;5;28mself\u001b[39m\u001b[38;5;241m.\u001b[39m_read_status()\n\u001b[1;32m    319\u001b[0m     \u001b[38;5;28;01mif\u001b[39;00m status \u001b[38;5;241m!=\u001b[39m CONTINUE:\n",
      "File \u001b[0;32m~/anaconda3/lib/python3.11/http/client.py:279\u001b[0m, in \u001b[0;36mHTTPResponse._read_status\u001b[0;34m(self)\u001b[0m\n\u001b[1;32m    278\u001b[0m \u001b[38;5;28;01mdef\u001b[39;00m \u001b[38;5;21m_read_status\u001b[39m(\u001b[38;5;28mself\u001b[39m):\n\u001b[0;32m--> 279\u001b[0m     line \u001b[38;5;241m=\u001b[39m \u001b[38;5;28mstr\u001b[39m(\u001b[38;5;28mself\u001b[39m\u001b[38;5;241m.\u001b[39mfp\u001b[38;5;241m.\u001b[39mreadline(_MAXLINE \u001b[38;5;241m+\u001b[39m \u001b[38;5;241m1\u001b[39m), \u001b[38;5;124m\"\u001b[39m\u001b[38;5;124miso-8859-1\u001b[39m\u001b[38;5;124m\"\u001b[39m)\n\u001b[1;32m    280\u001b[0m     \u001b[38;5;28;01mif\u001b[39;00m \u001b[38;5;28mlen\u001b[39m(line) \u001b[38;5;241m>\u001b[39m _MAXLINE:\n",
      "File \u001b[0;32m~/anaconda3/lib/python3.11/socket.py:706\u001b[0m, in \u001b[0;36mSocketIO.readinto\u001b[0;34m(self, b)\u001b[0m\n\u001b[1;32m    705\u001b[0m \u001b[38;5;28;01mtry\u001b[39;00m:\n\u001b[0;32m--> 706\u001b[0m     \u001b[38;5;28;01mreturn\u001b[39;00m \u001b[38;5;28mself\u001b[39m\u001b[38;5;241m.\u001b[39m_sock\u001b[38;5;241m.\u001b[39mrecv_into(b)\n\u001b[1;32m    707\u001b[0m \u001b[38;5;28;01mexcept\u001b[39;00m timeout:\n",
      "File \u001b[0;32m~/anaconda3/lib/python3.11/ssl.py:1278\u001b[0m, in \u001b[0;36mSSLSocket.recv_into\u001b[0;34m(self, buffer, nbytes, flags)\u001b[0m\n\u001b[1;32m   1275\u001b[0m         \u001b[38;5;28;01mraise\u001b[39;00m \u001b[38;5;167;01mValueError\u001b[39;00m(\n\u001b[1;32m   1276\u001b[0m           \u001b[38;5;124m\"\u001b[39m\u001b[38;5;124mnon-zero flags not allowed in calls to recv_into() on \u001b[39m\u001b[38;5;132;01m%s\u001b[39;00m\u001b[38;5;124m\"\u001b[39m \u001b[38;5;241m%\u001b[39m\n\u001b[1;32m   1277\u001b[0m           \u001b[38;5;28mself\u001b[39m\u001b[38;5;241m.\u001b[39m\u001b[38;5;18m__class__\u001b[39m)\n\u001b[0;32m-> 1278\u001b[0m     \u001b[38;5;28;01mreturn\u001b[39;00m \u001b[38;5;28mself\u001b[39m\u001b[38;5;241m.\u001b[39mread(nbytes, buffer)\n\u001b[1;32m   1279\u001b[0m \u001b[38;5;28;01melse\u001b[39;00m:\n",
      "File \u001b[0;32m~/anaconda3/lib/python3.11/ssl.py:1134\u001b[0m, in \u001b[0;36mSSLSocket.read\u001b[0;34m(self, len, buffer)\u001b[0m\n\u001b[1;32m   1133\u001b[0m \u001b[38;5;28;01mif\u001b[39;00m buffer \u001b[38;5;129;01mis\u001b[39;00m \u001b[38;5;129;01mnot\u001b[39;00m \u001b[38;5;28;01mNone\u001b[39;00m:\n\u001b[0;32m-> 1134\u001b[0m     \u001b[38;5;28;01mreturn\u001b[39;00m \u001b[38;5;28mself\u001b[39m\u001b[38;5;241m.\u001b[39m_sslobj\u001b[38;5;241m.\u001b[39mread(\u001b[38;5;28mlen\u001b[39m, buffer)\n\u001b[1;32m   1135\u001b[0m \u001b[38;5;28;01melse\u001b[39;00m:\n",
      "\u001b[0;31mTimeoutError\u001b[0m: The read operation timed out",
      "\nDuring handling of the above exception, another exception occurred:\n",
      "\u001b[0;31mReadTimeoutError\u001b[0m                          Traceback (most recent call last)",
      "File \u001b[0;32m~/anaconda3/lib/python3.11/site-packages/requests/adapters.py:486\u001b[0m, in \u001b[0;36mHTTPAdapter.send\u001b[0;34m(self, request, stream, timeout, verify, cert, proxies)\u001b[0m\n\u001b[1;32m    485\u001b[0m \u001b[38;5;28;01mtry\u001b[39;00m:\n\u001b[0;32m--> 486\u001b[0m     resp \u001b[38;5;241m=\u001b[39m conn\u001b[38;5;241m.\u001b[39murlopen(\n\u001b[1;32m    487\u001b[0m         method\u001b[38;5;241m=\u001b[39mrequest\u001b[38;5;241m.\u001b[39mmethod,\n\u001b[1;32m    488\u001b[0m         url\u001b[38;5;241m=\u001b[39murl,\n\u001b[1;32m    489\u001b[0m         body\u001b[38;5;241m=\u001b[39mrequest\u001b[38;5;241m.\u001b[39mbody,\n\u001b[1;32m    490\u001b[0m         headers\u001b[38;5;241m=\u001b[39mrequest\u001b[38;5;241m.\u001b[39mheaders,\n\u001b[1;32m    491\u001b[0m         redirect\u001b[38;5;241m=\u001b[39m\u001b[38;5;28;01mFalse\u001b[39;00m,\n\u001b[1;32m    492\u001b[0m         assert_same_host\u001b[38;5;241m=\u001b[39m\u001b[38;5;28;01mFalse\u001b[39;00m,\n\u001b[1;32m    493\u001b[0m         preload_content\u001b[38;5;241m=\u001b[39m\u001b[38;5;28;01mFalse\u001b[39;00m,\n\u001b[1;32m    494\u001b[0m         decode_content\u001b[38;5;241m=\u001b[39m\u001b[38;5;28;01mFalse\u001b[39;00m,\n\u001b[1;32m    495\u001b[0m         retries\u001b[38;5;241m=\u001b[39m\u001b[38;5;28mself\u001b[39m\u001b[38;5;241m.\u001b[39mmax_retries,\n\u001b[1;32m    496\u001b[0m         timeout\u001b[38;5;241m=\u001b[39mtimeout,\n\u001b[1;32m    497\u001b[0m         chunked\u001b[38;5;241m=\u001b[39mchunked,\n\u001b[1;32m    498\u001b[0m     )\n\u001b[1;32m    500\u001b[0m \u001b[38;5;28;01mexcept\u001b[39;00m (ProtocolError, \u001b[38;5;167;01mOSError\u001b[39;00m) \u001b[38;5;28;01mas\u001b[39;00m err:\n",
      "File \u001b[0;32m~/anaconda3/lib/python3.11/site-packages/urllib3/connectionpool.py:798\u001b[0m, in \u001b[0;36mHTTPConnectionPool.urlopen\u001b[0;34m(self, method, url, body, headers, retries, redirect, assert_same_host, timeout, pool_timeout, release_conn, chunked, body_pos, **response_kw)\u001b[0m\n\u001b[1;32m    796\u001b[0m     e \u001b[38;5;241m=\u001b[39m ProtocolError(\u001b[38;5;124m\"\u001b[39m\u001b[38;5;124mConnection aborted.\u001b[39m\u001b[38;5;124m\"\u001b[39m, e)\n\u001b[0;32m--> 798\u001b[0m retries \u001b[38;5;241m=\u001b[39m retries\u001b[38;5;241m.\u001b[39mincrement(\n\u001b[1;32m    799\u001b[0m     method, url, error\u001b[38;5;241m=\u001b[39me, _pool\u001b[38;5;241m=\u001b[39m\u001b[38;5;28mself\u001b[39m, _stacktrace\u001b[38;5;241m=\u001b[39msys\u001b[38;5;241m.\u001b[39mexc_info()[\u001b[38;5;241m2\u001b[39m]\n\u001b[1;32m    800\u001b[0m )\n\u001b[1;32m    801\u001b[0m retries\u001b[38;5;241m.\u001b[39msleep()\n",
      "File \u001b[0;32m~/anaconda3/lib/python3.11/site-packages/urllib3/util/retry.py:550\u001b[0m, in \u001b[0;36mRetry.increment\u001b[0;34m(self, method, url, response, error, _pool, _stacktrace)\u001b[0m\n\u001b[1;32m    549\u001b[0m \u001b[38;5;28;01mif\u001b[39;00m read \u001b[38;5;129;01mis\u001b[39;00m \u001b[38;5;28;01mFalse\u001b[39;00m \u001b[38;5;129;01mor\u001b[39;00m \u001b[38;5;129;01mnot\u001b[39;00m \u001b[38;5;28mself\u001b[39m\u001b[38;5;241m.\u001b[39m_is_method_retryable(method):\n\u001b[0;32m--> 550\u001b[0m     \u001b[38;5;28;01mraise\u001b[39;00m six\u001b[38;5;241m.\u001b[39mreraise(\u001b[38;5;28mtype\u001b[39m(error), error, _stacktrace)\n\u001b[1;32m    551\u001b[0m \u001b[38;5;28;01melif\u001b[39;00m read \u001b[38;5;129;01mis\u001b[39;00m \u001b[38;5;129;01mnot\u001b[39;00m \u001b[38;5;28;01mNone\u001b[39;00m:\n",
      "File \u001b[0;32m~/anaconda3/lib/python3.11/site-packages/urllib3/packages/six.py:770\u001b[0m, in \u001b[0;36mreraise\u001b[0;34m(tp, value, tb)\u001b[0m\n\u001b[1;32m    769\u001b[0m         \u001b[38;5;28;01mraise\u001b[39;00m value\u001b[38;5;241m.\u001b[39mwith_traceback(tb)\n\u001b[0;32m--> 770\u001b[0m     \u001b[38;5;28;01mraise\u001b[39;00m value\n\u001b[1;32m    771\u001b[0m \u001b[38;5;28;01mfinally\u001b[39;00m:\n",
      "File \u001b[0;32m~/anaconda3/lib/python3.11/site-packages/urllib3/connectionpool.py:714\u001b[0m, in \u001b[0;36mHTTPConnectionPool.urlopen\u001b[0;34m(self, method, url, body, headers, retries, redirect, assert_same_host, timeout, pool_timeout, release_conn, chunked, body_pos, **response_kw)\u001b[0m\n\u001b[1;32m    713\u001b[0m \u001b[38;5;66;03m# Make the request on the httplib connection object.\u001b[39;00m\n\u001b[0;32m--> 714\u001b[0m httplib_response \u001b[38;5;241m=\u001b[39m \u001b[38;5;28mself\u001b[39m\u001b[38;5;241m.\u001b[39m_make_request(\n\u001b[1;32m    715\u001b[0m     conn,\n\u001b[1;32m    716\u001b[0m     method,\n\u001b[1;32m    717\u001b[0m     url,\n\u001b[1;32m    718\u001b[0m     timeout\u001b[38;5;241m=\u001b[39mtimeout_obj,\n\u001b[1;32m    719\u001b[0m     body\u001b[38;5;241m=\u001b[39mbody,\n\u001b[1;32m    720\u001b[0m     headers\u001b[38;5;241m=\u001b[39mheaders,\n\u001b[1;32m    721\u001b[0m     chunked\u001b[38;5;241m=\u001b[39mchunked,\n\u001b[1;32m    722\u001b[0m )\n\u001b[1;32m    724\u001b[0m \u001b[38;5;66;03m# If we're going to release the connection in ``finally:``, then\u001b[39;00m\n\u001b[1;32m    725\u001b[0m \u001b[38;5;66;03m# the response doesn't need to know about the connection. Otherwise\u001b[39;00m\n\u001b[1;32m    726\u001b[0m \u001b[38;5;66;03m# it will also try to release it and we'll have a double-release\u001b[39;00m\n\u001b[1;32m    727\u001b[0m \u001b[38;5;66;03m# mess.\u001b[39;00m\n",
      "File \u001b[0;32m~/anaconda3/lib/python3.11/site-packages/urllib3/connectionpool.py:468\u001b[0m, in \u001b[0;36mHTTPConnectionPool._make_request\u001b[0;34m(self, conn, method, url, timeout, chunked, **httplib_request_kw)\u001b[0m\n\u001b[1;32m    467\u001b[0m \u001b[38;5;28;01mexcept\u001b[39;00m (SocketTimeout, BaseSSLError, SocketError) \u001b[38;5;28;01mas\u001b[39;00m e:\n\u001b[0;32m--> 468\u001b[0m     \u001b[38;5;28mself\u001b[39m\u001b[38;5;241m.\u001b[39m_raise_timeout(err\u001b[38;5;241m=\u001b[39me, url\u001b[38;5;241m=\u001b[39murl, timeout_value\u001b[38;5;241m=\u001b[39mread_timeout)\n\u001b[1;32m    469\u001b[0m     \u001b[38;5;28;01mraise\u001b[39;00m\n",
      "File \u001b[0;32m~/anaconda3/lib/python3.11/site-packages/urllib3/connectionpool.py:357\u001b[0m, in \u001b[0;36mHTTPConnectionPool._raise_timeout\u001b[0;34m(self, err, url, timeout_value)\u001b[0m\n\u001b[1;32m    356\u001b[0m \u001b[38;5;28;01mif\u001b[39;00m \u001b[38;5;28misinstance\u001b[39m(err, SocketTimeout):\n\u001b[0;32m--> 357\u001b[0m     \u001b[38;5;28;01mraise\u001b[39;00m ReadTimeoutError(\n\u001b[1;32m    358\u001b[0m         \u001b[38;5;28mself\u001b[39m, url, \u001b[38;5;124m\"\u001b[39m\u001b[38;5;124mRead timed out. (read timeout=\u001b[39m\u001b[38;5;132;01m%s\u001b[39;00m\u001b[38;5;124m)\u001b[39m\u001b[38;5;124m\"\u001b[39m \u001b[38;5;241m%\u001b[39m timeout_value\n\u001b[1;32m    359\u001b[0m     )\n\u001b[1;32m    361\u001b[0m \u001b[38;5;66;03m# See the above comment about EAGAIN in Python 3. In Python 2 we have\u001b[39;00m\n\u001b[1;32m    362\u001b[0m \u001b[38;5;66;03m# to specifically catch it and throw the timeout error\u001b[39;00m\n",
      "\u001b[0;31mReadTimeoutError\u001b[0m: HTTPSConnectionPool(host='api.openai.com', port=443): Read timed out. (read timeout=600)",
      "\nDuring handling of the above exception, another exception occurred:\n",
      "\u001b[0;31mReadTimeout\u001b[0m                               Traceback (most recent call last)",
      "File \u001b[0;32m~/anaconda3/lib/python3.11/site-packages/openai/api_requestor.py:596\u001b[0m, in \u001b[0;36mAPIRequestor.request_raw\u001b[0;34m(self, method, url, params, supplied_headers, files, stream, request_id, request_timeout)\u001b[0m\n\u001b[1;32m    595\u001b[0m \u001b[38;5;28;01mtry\u001b[39;00m:\n\u001b[0;32m--> 596\u001b[0m     result \u001b[38;5;241m=\u001b[39m _thread_context\u001b[38;5;241m.\u001b[39msession\u001b[38;5;241m.\u001b[39mrequest(\n\u001b[1;32m    597\u001b[0m         method,\n\u001b[1;32m    598\u001b[0m         abs_url,\n\u001b[1;32m    599\u001b[0m         headers\u001b[38;5;241m=\u001b[39mheaders,\n\u001b[1;32m    600\u001b[0m         data\u001b[38;5;241m=\u001b[39mdata,\n\u001b[1;32m    601\u001b[0m         files\u001b[38;5;241m=\u001b[39mfiles,\n\u001b[1;32m    602\u001b[0m         stream\u001b[38;5;241m=\u001b[39mstream,\n\u001b[1;32m    603\u001b[0m         timeout\u001b[38;5;241m=\u001b[39mrequest_timeout \u001b[38;5;28;01mif\u001b[39;00m request_timeout \u001b[38;5;28;01melse\u001b[39;00m TIMEOUT_SECS,\n\u001b[1;32m    604\u001b[0m         proxies\u001b[38;5;241m=\u001b[39m_thread_context\u001b[38;5;241m.\u001b[39msession\u001b[38;5;241m.\u001b[39mproxies,\n\u001b[1;32m    605\u001b[0m     )\n\u001b[1;32m    606\u001b[0m \u001b[38;5;28;01mexcept\u001b[39;00m requests\u001b[38;5;241m.\u001b[39mexceptions\u001b[38;5;241m.\u001b[39mTimeout \u001b[38;5;28;01mas\u001b[39;00m e:\n",
      "File \u001b[0;32m~/anaconda3/lib/python3.11/site-packages/requests/sessions.py:589\u001b[0m, in \u001b[0;36mSession.request\u001b[0;34m(self, method, url, params, data, headers, cookies, files, auth, timeout, allow_redirects, proxies, hooks, stream, verify, cert, json)\u001b[0m\n\u001b[1;32m    588\u001b[0m send_kwargs\u001b[38;5;241m.\u001b[39mupdate(settings)\n\u001b[0;32m--> 589\u001b[0m resp \u001b[38;5;241m=\u001b[39m \u001b[38;5;28mself\u001b[39m\u001b[38;5;241m.\u001b[39msend(prep, \u001b[38;5;241m*\u001b[39m\u001b[38;5;241m*\u001b[39msend_kwargs)\n\u001b[1;32m    591\u001b[0m \u001b[38;5;28;01mreturn\u001b[39;00m resp\n",
      "File \u001b[0;32m~/anaconda3/lib/python3.11/site-packages/requests/sessions.py:703\u001b[0m, in \u001b[0;36mSession.send\u001b[0;34m(self, request, **kwargs)\u001b[0m\n\u001b[1;32m    702\u001b[0m \u001b[38;5;66;03m# Send the request\u001b[39;00m\n\u001b[0;32m--> 703\u001b[0m r \u001b[38;5;241m=\u001b[39m adapter\u001b[38;5;241m.\u001b[39msend(request, \u001b[38;5;241m*\u001b[39m\u001b[38;5;241m*\u001b[39mkwargs)\n\u001b[1;32m    705\u001b[0m \u001b[38;5;66;03m# Total elapsed time of the request (approximately)\u001b[39;00m\n",
      "File \u001b[0;32m~/anaconda3/lib/python3.11/site-packages/requests/adapters.py:532\u001b[0m, in \u001b[0;36mHTTPAdapter.send\u001b[0;34m(self, request, stream, timeout, verify, cert, proxies)\u001b[0m\n\u001b[1;32m    531\u001b[0m \u001b[38;5;28;01melif\u001b[39;00m \u001b[38;5;28misinstance\u001b[39m(e, ReadTimeoutError):\n\u001b[0;32m--> 532\u001b[0m     \u001b[38;5;28;01mraise\u001b[39;00m ReadTimeout(e, request\u001b[38;5;241m=\u001b[39mrequest)\n\u001b[1;32m    533\u001b[0m \u001b[38;5;28;01melif\u001b[39;00m \u001b[38;5;28misinstance\u001b[39m(e, _InvalidHeader):\n",
      "\u001b[0;31mReadTimeout\u001b[0m: HTTPSConnectionPool(host='api.openai.com', port=443): Read timed out. (read timeout=600)",
      "\nThe above exception was the direct cause of the following exception:\n",
      "\u001b[0;31mTimeout\u001b[0m                                   Traceback (most recent call last)",
      "Cell \u001b[0;32mIn[151], line 5\u001b[0m\n\u001b[1;32m      3\u001b[0m output_full \u001b[38;5;241m=\u001b[39m []\n\u001b[1;32m      4\u001b[0m \u001b[38;5;28;01mfor\u001b[39;00m i \u001b[38;5;129;01min\u001b[39;00m \u001b[38;5;28mrange\u001b[39m(\u001b[38;5;28mlen\u001b[39m(prompt)):\n\u001b[0;32m----> 5\u001b[0m     response \u001b[38;5;241m=\u001b[39m openai\u001b[38;5;241m.\u001b[39mChatCompletion\u001b[38;5;241m.\u001b[39mcreate(\n\u001b[1;32m      6\u001b[0m         model \u001b[38;5;241m=\u001b[39m \u001b[38;5;124m'\u001b[39m\u001b[38;5;124mgpt-3.5-turbo\u001b[39m\u001b[38;5;124m'\u001b[39m,\n\u001b[1;32m      7\u001b[0m         messages \u001b[38;5;241m=\u001b[39m [{\u001b[38;5;124m'\u001b[39m\u001b[38;5;124mrole\u001b[39m\u001b[38;5;124m'\u001b[39m: \u001b[38;5;124m'\u001b[39m\u001b[38;5;124muser\u001b[39m\u001b[38;5;124m'\u001b[39m, \u001b[38;5;124m'\u001b[39m\u001b[38;5;124mcontent\u001b[39m\u001b[38;5;124m'\u001b[39m: prompt[i]}],\n\u001b[1;32m      8\u001b[0m         temperature \u001b[38;5;241m=\u001b[39m \u001b[38;5;241m0.6\u001b[39m,\n\u001b[1;32m      9\u001b[0m         max_tokens \u001b[38;5;241m=\u001b[39m \u001b[38;5;241m200\u001b[39m\n\u001b[1;32m     10\u001b[0m       )\n\u001b[1;32m     12\u001b[0m     chat_response \u001b[38;5;241m=\u001b[39m response[\u001b[38;5;124m'\u001b[39m\u001b[38;5;124mchoices\u001b[39m\u001b[38;5;124m'\u001b[39m][\u001b[38;5;241m0\u001b[39m][\u001b[38;5;124m'\u001b[39m\u001b[38;5;124mmessage\u001b[39m\u001b[38;5;124m'\u001b[39m][\u001b[38;5;124m'\u001b[39m\u001b[38;5;124mcontent\u001b[39m\u001b[38;5;124m'\u001b[39m]\n\u001b[1;32m     13\u001b[0m     output_full\u001b[38;5;241m.\u001b[39mappend(chat_response)\n",
      "File \u001b[0;32m~/anaconda3/lib/python3.11/site-packages/openai/api_resources/chat_completion.py:25\u001b[0m, in \u001b[0;36mChatCompletion.create\u001b[0;34m(cls, *args, **kwargs)\u001b[0m\n\u001b[1;32m     23\u001b[0m \u001b[38;5;28;01mwhile\u001b[39;00m \u001b[38;5;28;01mTrue\u001b[39;00m:\n\u001b[1;32m     24\u001b[0m     \u001b[38;5;28;01mtry\u001b[39;00m:\n\u001b[0;32m---> 25\u001b[0m         \u001b[38;5;28;01mreturn\u001b[39;00m \u001b[38;5;28msuper\u001b[39m()\u001b[38;5;241m.\u001b[39mcreate(\u001b[38;5;241m*\u001b[39margs, \u001b[38;5;241m*\u001b[39m\u001b[38;5;241m*\u001b[39mkwargs)\n\u001b[1;32m     26\u001b[0m     \u001b[38;5;28;01mexcept\u001b[39;00m TryAgain \u001b[38;5;28;01mas\u001b[39;00m e:\n\u001b[1;32m     27\u001b[0m         \u001b[38;5;28;01mif\u001b[39;00m timeout \u001b[38;5;129;01mis\u001b[39;00m \u001b[38;5;129;01mnot\u001b[39;00m \u001b[38;5;28;01mNone\u001b[39;00m \u001b[38;5;129;01mand\u001b[39;00m time\u001b[38;5;241m.\u001b[39mtime() \u001b[38;5;241m>\u001b[39m start \u001b[38;5;241m+\u001b[39m timeout:\n",
      "File \u001b[0;32m~/anaconda3/lib/python3.11/site-packages/openai/api_resources/abstract/engine_api_resource.py:153\u001b[0m, in \u001b[0;36mEngineAPIResource.create\u001b[0;34m(cls, api_key, api_base, api_type, request_id, api_version, organization, **params)\u001b[0m\n\u001b[1;32m    127\u001b[0m \u001b[38;5;129m@classmethod\u001b[39m\n\u001b[1;32m    128\u001b[0m \u001b[38;5;28;01mdef\u001b[39;00m \u001b[38;5;21mcreate\u001b[39m(\n\u001b[1;32m    129\u001b[0m     \u001b[38;5;28mcls\u001b[39m,\n\u001b[0;32m   (...)\u001b[0m\n\u001b[1;32m    136\u001b[0m     \u001b[38;5;241m*\u001b[39m\u001b[38;5;241m*\u001b[39mparams,\n\u001b[1;32m    137\u001b[0m ):\n\u001b[1;32m    138\u001b[0m     (\n\u001b[1;32m    139\u001b[0m         deployment_id,\n\u001b[1;32m    140\u001b[0m         engine,\n\u001b[0;32m   (...)\u001b[0m\n\u001b[1;32m    150\u001b[0m         api_key, api_base, api_type, api_version, organization, \u001b[38;5;241m*\u001b[39m\u001b[38;5;241m*\u001b[39mparams\n\u001b[1;32m    151\u001b[0m     )\n\u001b[0;32m--> 153\u001b[0m     response, _, api_key \u001b[38;5;241m=\u001b[39m requestor\u001b[38;5;241m.\u001b[39mrequest(\n\u001b[1;32m    154\u001b[0m         \u001b[38;5;124m\"\u001b[39m\u001b[38;5;124mpost\u001b[39m\u001b[38;5;124m\"\u001b[39m,\n\u001b[1;32m    155\u001b[0m         url,\n\u001b[1;32m    156\u001b[0m         params\u001b[38;5;241m=\u001b[39mparams,\n\u001b[1;32m    157\u001b[0m         headers\u001b[38;5;241m=\u001b[39mheaders,\n\u001b[1;32m    158\u001b[0m         stream\u001b[38;5;241m=\u001b[39mstream,\n\u001b[1;32m    159\u001b[0m         request_id\u001b[38;5;241m=\u001b[39mrequest_id,\n\u001b[1;32m    160\u001b[0m         request_timeout\u001b[38;5;241m=\u001b[39mrequest_timeout,\n\u001b[1;32m    161\u001b[0m     )\n\u001b[1;32m    163\u001b[0m     \u001b[38;5;28;01mif\u001b[39;00m stream:\n\u001b[1;32m    164\u001b[0m         \u001b[38;5;66;03m# must be an iterator\u001b[39;00m\n\u001b[1;32m    165\u001b[0m         \u001b[38;5;28;01massert\u001b[39;00m \u001b[38;5;129;01mnot\u001b[39;00m \u001b[38;5;28misinstance\u001b[39m(response, OpenAIResponse)\n",
      "File \u001b[0;32m~/anaconda3/lib/python3.11/site-packages/openai/api_requestor.py:288\u001b[0m, in \u001b[0;36mAPIRequestor.request\u001b[0;34m(self, method, url, params, headers, files, stream, request_id, request_timeout)\u001b[0m\n\u001b[1;32m    277\u001b[0m \u001b[38;5;28;01mdef\u001b[39;00m \u001b[38;5;21mrequest\u001b[39m(\n\u001b[1;32m    278\u001b[0m     \u001b[38;5;28mself\u001b[39m,\n\u001b[1;32m    279\u001b[0m     method,\n\u001b[0;32m   (...)\u001b[0m\n\u001b[1;32m    286\u001b[0m     request_timeout: Optional[Union[\u001b[38;5;28mfloat\u001b[39m, Tuple[\u001b[38;5;28mfloat\u001b[39m, \u001b[38;5;28mfloat\u001b[39m]]] \u001b[38;5;241m=\u001b[39m \u001b[38;5;28;01mNone\u001b[39;00m,\n\u001b[1;32m    287\u001b[0m ) \u001b[38;5;241m-\u001b[39m\u001b[38;5;241m>\u001b[39m Tuple[Union[OpenAIResponse, Iterator[OpenAIResponse]], \u001b[38;5;28mbool\u001b[39m, \u001b[38;5;28mstr\u001b[39m]:\n\u001b[0;32m--> 288\u001b[0m     result \u001b[38;5;241m=\u001b[39m \u001b[38;5;28mself\u001b[39m\u001b[38;5;241m.\u001b[39mrequest_raw(\n\u001b[1;32m    289\u001b[0m         method\u001b[38;5;241m.\u001b[39mlower(),\n\u001b[1;32m    290\u001b[0m         url,\n\u001b[1;32m    291\u001b[0m         params\u001b[38;5;241m=\u001b[39mparams,\n\u001b[1;32m    292\u001b[0m         supplied_headers\u001b[38;5;241m=\u001b[39mheaders,\n\u001b[1;32m    293\u001b[0m         files\u001b[38;5;241m=\u001b[39mfiles,\n\u001b[1;32m    294\u001b[0m         stream\u001b[38;5;241m=\u001b[39mstream,\n\u001b[1;32m    295\u001b[0m         request_id\u001b[38;5;241m=\u001b[39mrequest_id,\n\u001b[1;32m    296\u001b[0m         request_timeout\u001b[38;5;241m=\u001b[39mrequest_timeout,\n\u001b[1;32m    297\u001b[0m     )\n\u001b[1;32m    298\u001b[0m     resp, got_stream \u001b[38;5;241m=\u001b[39m \u001b[38;5;28mself\u001b[39m\u001b[38;5;241m.\u001b[39m_interpret_response(result, stream)\n\u001b[1;32m    299\u001b[0m     \u001b[38;5;28;01mreturn\u001b[39;00m resp, got_stream, \u001b[38;5;28mself\u001b[39m\u001b[38;5;241m.\u001b[39mapi_key\n",
      "File \u001b[0;32m~/anaconda3/lib/python3.11/site-packages/openai/api_requestor.py:607\u001b[0m, in \u001b[0;36mAPIRequestor.request_raw\u001b[0;34m(self, method, url, params, supplied_headers, files, stream, request_id, request_timeout)\u001b[0m\n\u001b[1;32m    596\u001b[0m     result \u001b[38;5;241m=\u001b[39m _thread_context\u001b[38;5;241m.\u001b[39msession\u001b[38;5;241m.\u001b[39mrequest(\n\u001b[1;32m    597\u001b[0m         method,\n\u001b[1;32m    598\u001b[0m         abs_url,\n\u001b[0;32m   (...)\u001b[0m\n\u001b[1;32m    604\u001b[0m         proxies\u001b[38;5;241m=\u001b[39m_thread_context\u001b[38;5;241m.\u001b[39msession\u001b[38;5;241m.\u001b[39mproxies,\n\u001b[1;32m    605\u001b[0m     )\n\u001b[1;32m    606\u001b[0m \u001b[38;5;28;01mexcept\u001b[39;00m requests\u001b[38;5;241m.\u001b[39mexceptions\u001b[38;5;241m.\u001b[39mTimeout \u001b[38;5;28;01mas\u001b[39;00m e:\n\u001b[0;32m--> 607\u001b[0m     \u001b[38;5;28;01mraise\u001b[39;00m error\u001b[38;5;241m.\u001b[39mTimeout(\u001b[38;5;124m\"\u001b[39m\u001b[38;5;124mRequest timed out: \u001b[39m\u001b[38;5;132;01m{}\u001b[39;00m\u001b[38;5;124m\"\u001b[39m\u001b[38;5;241m.\u001b[39mformat(e)) \u001b[38;5;28;01mfrom\u001b[39;00m \u001b[38;5;21;01me\u001b[39;00m\n\u001b[1;32m    608\u001b[0m \u001b[38;5;28;01mexcept\u001b[39;00m requests\u001b[38;5;241m.\u001b[39mexceptions\u001b[38;5;241m.\u001b[39mRequestException \u001b[38;5;28;01mas\u001b[39;00m e:\n\u001b[1;32m    609\u001b[0m     \u001b[38;5;28;01mraise\u001b[39;00m error\u001b[38;5;241m.\u001b[39mAPIConnectionError(\n\u001b[1;32m    610\u001b[0m         \u001b[38;5;124m\"\u001b[39m\u001b[38;5;124mError communicating with OpenAI: \u001b[39m\u001b[38;5;132;01m{}\u001b[39;00m\u001b[38;5;124m\"\u001b[39m\u001b[38;5;241m.\u001b[39mformat(e)\n\u001b[1;32m    611\u001b[0m     ) \u001b[38;5;28;01mfrom\u001b[39;00m \u001b[38;5;21;01me\u001b[39;00m\n",
      "\u001b[0;31mTimeout\u001b[0m: Request timed out: HTTPSConnectionPool(host='api.openai.com', port=443): Read timed out. (read timeout=600)"
     ]
    }
   ],
   "source": [
    "#1\n",
    "prompt = f\"Answer the following question as a user: {davinci_prompts_adj1}\"\n",
    "output_full = []\n",
    "for i in range(500):\n",
    "    response = openai.ChatCompletion.create(\n",
    "        model = 'gpt-3.5-turbo',\n",
    "        messages = [{'role': 'user', 'content': prompt[i]}],\n",
    "        temperature = 0.6,\n",
    "        max_tokens = 200\n",
    "      )\n",
    "  \n",
    "    chat_response = response['choices'][0]['message']['content']\n",
    "    output_full.append(chat_response)"
   ]
  },
  {
   "cell_type": "code",
   "execution_count": 151,
   "id": "a8dc0251-829c-4b7c-9eed-0543b54d16a8",
   "metadata": {
    "tags": []
   },
   "outputs": [
    {
     "ename": "Timeout",
     "evalue": "Request timed out: HTTPSConnectionPool(host='api.openai.com', port=443): Read timed out. (read timeout=600)",
     "output_type": "error",
     "traceback": [
      "\u001b[0;31m---------------------------------------------------------------------------\u001b[0m",
      "\u001b[0;31mTimeoutError\u001b[0m                              Traceback (most recent call last)",
      "File \u001b[0;32m~/anaconda3/lib/python3.11/site-packages/urllib3/connectionpool.py:466\u001b[0m, in \u001b[0;36mHTTPConnectionPool._make_request\u001b[0;34m(self, conn, method, url, timeout, chunked, **httplib_request_kw)\u001b[0m\n\u001b[1;32m    462\u001b[0m         \u001b[38;5;28;01mexcept\u001b[39;00m \u001b[38;5;167;01mBaseException\u001b[39;00m \u001b[38;5;28;01mas\u001b[39;00m e:\n\u001b[1;32m    463\u001b[0m             \u001b[38;5;66;03m# Remove the TypeError from the exception chain in\u001b[39;00m\n\u001b[1;32m    464\u001b[0m             \u001b[38;5;66;03m# Python 3 (including for exceptions like SystemExit).\u001b[39;00m\n\u001b[1;32m    465\u001b[0m             \u001b[38;5;66;03m# Otherwise it looks like a bug in the code.\u001b[39;00m\n\u001b[0;32m--> 466\u001b[0m             six\u001b[38;5;241m.\u001b[39mraise_from(e, \u001b[38;5;28;01mNone\u001b[39;00m)\n\u001b[1;32m    467\u001b[0m \u001b[38;5;28;01mexcept\u001b[39;00m (SocketTimeout, BaseSSLError, SocketError) \u001b[38;5;28;01mas\u001b[39;00m e:\n",
      "File \u001b[0;32m<string>:3\u001b[0m, in \u001b[0;36mraise_from\u001b[0;34m(value, from_value)\u001b[0m\n",
      "File \u001b[0;32m~/anaconda3/lib/python3.11/site-packages/urllib3/connectionpool.py:461\u001b[0m, in \u001b[0;36mHTTPConnectionPool._make_request\u001b[0;34m(self, conn, method, url, timeout, chunked, **httplib_request_kw)\u001b[0m\n\u001b[1;32m    460\u001b[0m \u001b[38;5;28;01mtry\u001b[39;00m:\n\u001b[0;32m--> 461\u001b[0m     httplib_response \u001b[38;5;241m=\u001b[39m conn\u001b[38;5;241m.\u001b[39mgetresponse()\n\u001b[1;32m    462\u001b[0m \u001b[38;5;28;01mexcept\u001b[39;00m \u001b[38;5;167;01mBaseException\u001b[39;00m \u001b[38;5;28;01mas\u001b[39;00m e:\n\u001b[1;32m    463\u001b[0m     \u001b[38;5;66;03m# Remove the TypeError from the exception chain in\u001b[39;00m\n\u001b[1;32m    464\u001b[0m     \u001b[38;5;66;03m# Python 3 (including for exceptions like SystemExit).\u001b[39;00m\n\u001b[1;32m    465\u001b[0m     \u001b[38;5;66;03m# Otherwise it looks like a bug in the code.\u001b[39;00m\n",
      "File \u001b[0;32m~/anaconda3/lib/python3.11/http/client.py:1378\u001b[0m, in \u001b[0;36mHTTPConnection.getresponse\u001b[0;34m(self)\u001b[0m\n\u001b[1;32m   1377\u001b[0m \u001b[38;5;28;01mtry\u001b[39;00m:\n\u001b[0;32m-> 1378\u001b[0m     response\u001b[38;5;241m.\u001b[39mbegin()\n\u001b[1;32m   1379\u001b[0m \u001b[38;5;28;01mexcept\u001b[39;00m \u001b[38;5;167;01mConnectionError\u001b[39;00m:\n",
      "File \u001b[0;32m~/anaconda3/lib/python3.11/http/client.py:318\u001b[0m, in \u001b[0;36mHTTPResponse.begin\u001b[0;34m(self)\u001b[0m\n\u001b[1;32m    317\u001b[0m \u001b[38;5;28;01mwhile\u001b[39;00m \u001b[38;5;28;01mTrue\u001b[39;00m:\n\u001b[0;32m--> 318\u001b[0m     version, status, reason \u001b[38;5;241m=\u001b[39m \u001b[38;5;28mself\u001b[39m\u001b[38;5;241m.\u001b[39m_read_status()\n\u001b[1;32m    319\u001b[0m     \u001b[38;5;28;01mif\u001b[39;00m status \u001b[38;5;241m!=\u001b[39m CONTINUE:\n",
      "File \u001b[0;32m~/anaconda3/lib/python3.11/http/client.py:279\u001b[0m, in \u001b[0;36mHTTPResponse._read_status\u001b[0;34m(self)\u001b[0m\n\u001b[1;32m    278\u001b[0m \u001b[38;5;28;01mdef\u001b[39;00m \u001b[38;5;21m_read_status\u001b[39m(\u001b[38;5;28mself\u001b[39m):\n\u001b[0;32m--> 279\u001b[0m     line \u001b[38;5;241m=\u001b[39m \u001b[38;5;28mstr\u001b[39m(\u001b[38;5;28mself\u001b[39m\u001b[38;5;241m.\u001b[39mfp\u001b[38;5;241m.\u001b[39mreadline(_MAXLINE \u001b[38;5;241m+\u001b[39m \u001b[38;5;241m1\u001b[39m), \u001b[38;5;124m\"\u001b[39m\u001b[38;5;124miso-8859-1\u001b[39m\u001b[38;5;124m\"\u001b[39m)\n\u001b[1;32m    280\u001b[0m     \u001b[38;5;28;01mif\u001b[39;00m \u001b[38;5;28mlen\u001b[39m(line) \u001b[38;5;241m>\u001b[39m _MAXLINE:\n",
      "File \u001b[0;32m~/anaconda3/lib/python3.11/socket.py:706\u001b[0m, in \u001b[0;36mSocketIO.readinto\u001b[0;34m(self, b)\u001b[0m\n\u001b[1;32m    705\u001b[0m \u001b[38;5;28;01mtry\u001b[39;00m:\n\u001b[0;32m--> 706\u001b[0m     \u001b[38;5;28;01mreturn\u001b[39;00m \u001b[38;5;28mself\u001b[39m\u001b[38;5;241m.\u001b[39m_sock\u001b[38;5;241m.\u001b[39mrecv_into(b)\n\u001b[1;32m    707\u001b[0m \u001b[38;5;28;01mexcept\u001b[39;00m timeout:\n",
      "File \u001b[0;32m~/anaconda3/lib/python3.11/ssl.py:1278\u001b[0m, in \u001b[0;36mSSLSocket.recv_into\u001b[0;34m(self, buffer, nbytes, flags)\u001b[0m\n\u001b[1;32m   1275\u001b[0m         \u001b[38;5;28;01mraise\u001b[39;00m \u001b[38;5;167;01mValueError\u001b[39;00m(\n\u001b[1;32m   1276\u001b[0m           \u001b[38;5;124m\"\u001b[39m\u001b[38;5;124mnon-zero flags not allowed in calls to recv_into() on \u001b[39m\u001b[38;5;132;01m%s\u001b[39;00m\u001b[38;5;124m\"\u001b[39m \u001b[38;5;241m%\u001b[39m\n\u001b[1;32m   1277\u001b[0m           \u001b[38;5;28mself\u001b[39m\u001b[38;5;241m.\u001b[39m\u001b[38;5;18m__class__\u001b[39m)\n\u001b[0;32m-> 1278\u001b[0m     \u001b[38;5;28;01mreturn\u001b[39;00m \u001b[38;5;28mself\u001b[39m\u001b[38;5;241m.\u001b[39mread(nbytes, buffer)\n\u001b[1;32m   1279\u001b[0m \u001b[38;5;28;01melse\u001b[39;00m:\n",
      "File \u001b[0;32m~/anaconda3/lib/python3.11/ssl.py:1134\u001b[0m, in \u001b[0;36mSSLSocket.read\u001b[0;34m(self, len, buffer)\u001b[0m\n\u001b[1;32m   1133\u001b[0m \u001b[38;5;28;01mif\u001b[39;00m buffer \u001b[38;5;129;01mis\u001b[39;00m \u001b[38;5;129;01mnot\u001b[39;00m \u001b[38;5;28;01mNone\u001b[39;00m:\n\u001b[0;32m-> 1134\u001b[0m     \u001b[38;5;28;01mreturn\u001b[39;00m \u001b[38;5;28mself\u001b[39m\u001b[38;5;241m.\u001b[39m_sslobj\u001b[38;5;241m.\u001b[39mread(\u001b[38;5;28mlen\u001b[39m, buffer)\n\u001b[1;32m   1135\u001b[0m \u001b[38;5;28;01melse\u001b[39;00m:\n",
      "\u001b[0;31mTimeoutError\u001b[0m: The read operation timed out",
      "\nDuring handling of the above exception, another exception occurred:\n",
      "\u001b[0;31mReadTimeoutError\u001b[0m                          Traceback (most recent call last)",
      "File \u001b[0;32m~/anaconda3/lib/python3.11/site-packages/requests/adapters.py:486\u001b[0m, in \u001b[0;36mHTTPAdapter.send\u001b[0;34m(self, request, stream, timeout, verify, cert, proxies)\u001b[0m\n\u001b[1;32m    485\u001b[0m \u001b[38;5;28;01mtry\u001b[39;00m:\n\u001b[0;32m--> 486\u001b[0m     resp \u001b[38;5;241m=\u001b[39m conn\u001b[38;5;241m.\u001b[39murlopen(\n\u001b[1;32m    487\u001b[0m         method\u001b[38;5;241m=\u001b[39mrequest\u001b[38;5;241m.\u001b[39mmethod,\n\u001b[1;32m    488\u001b[0m         url\u001b[38;5;241m=\u001b[39murl,\n\u001b[1;32m    489\u001b[0m         body\u001b[38;5;241m=\u001b[39mrequest\u001b[38;5;241m.\u001b[39mbody,\n\u001b[1;32m    490\u001b[0m         headers\u001b[38;5;241m=\u001b[39mrequest\u001b[38;5;241m.\u001b[39mheaders,\n\u001b[1;32m    491\u001b[0m         redirect\u001b[38;5;241m=\u001b[39m\u001b[38;5;28;01mFalse\u001b[39;00m,\n\u001b[1;32m    492\u001b[0m         assert_same_host\u001b[38;5;241m=\u001b[39m\u001b[38;5;28;01mFalse\u001b[39;00m,\n\u001b[1;32m    493\u001b[0m         preload_content\u001b[38;5;241m=\u001b[39m\u001b[38;5;28;01mFalse\u001b[39;00m,\n\u001b[1;32m    494\u001b[0m         decode_content\u001b[38;5;241m=\u001b[39m\u001b[38;5;28;01mFalse\u001b[39;00m,\n\u001b[1;32m    495\u001b[0m         retries\u001b[38;5;241m=\u001b[39m\u001b[38;5;28mself\u001b[39m\u001b[38;5;241m.\u001b[39mmax_retries,\n\u001b[1;32m    496\u001b[0m         timeout\u001b[38;5;241m=\u001b[39mtimeout,\n\u001b[1;32m    497\u001b[0m         chunked\u001b[38;5;241m=\u001b[39mchunked,\n\u001b[1;32m    498\u001b[0m     )\n\u001b[1;32m    500\u001b[0m \u001b[38;5;28;01mexcept\u001b[39;00m (ProtocolError, \u001b[38;5;167;01mOSError\u001b[39;00m) \u001b[38;5;28;01mas\u001b[39;00m err:\n",
      "File \u001b[0;32m~/anaconda3/lib/python3.11/site-packages/urllib3/connectionpool.py:798\u001b[0m, in \u001b[0;36mHTTPConnectionPool.urlopen\u001b[0;34m(self, method, url, body, headers, retries, redirect, assert_same_host, timeout, pool_timeout, release_conn, chunked, body_pos, **response_kw)\u001b[0m\n\u001b[1;32m    796\u001b[0m     e \u001b[38;5;241m=\u001b[39m ProtocolError(\u001b[38;5;124m\"\u001b[39m\u001b[38;5;124mConnection aborted.\u001b[39m\u001b[38;5;124m\"\u001b[39m, e)\n\u001b[0;32m--> 798\u001b[0m retries \u001b[38;5;241m=\u001b[39m retries\u001b[38;5;241m.\u001b[39mincrement(\n\u001b[1;32m    799\u001b[0m     method, url, error\u001b[38;5;241m=\u001b[39me, _pool\u001b[38;5;241m=\u001b[39m\u001b[38;5;28mself\u001b[39m, _stacktrace\u001b[38;5;241m=\u001b[39msys\u001b[38;5;241m.\u001b[39mexc_info()[\u001b[38;5;241m2\u001b[39m]\n\u001b[1;32m    800\u001b[0m )\n\u001b[1;32m    801\u001b[0m retries\u001b[38;5;241m.\u001b[39msleep()\n",
      "File \u001b[0;32m~/anaconda3/lib/python3.11/site-packages/urllib3/util/retry.py:550\u001b[0m, in \u001b[0;36mRetry.increment\u001b[0;34m(self, method, url, response, error, _pool, _stacktrace)\u001b[0m\n\u001b[1;32m    549\u001b[0m \u001b[38;5;28;01mif\u001b[39;00m read \u001b[38;5;129;01mis\u001b[39;00m \u001b[38;5;28;01mFalse\u001b[39;00m \u001b[38;5;129;01mor\u001b[39;00m \u001b[38;5;129;01mnot\u001b[39;00m \u001b[38;5;28mself\u001b[39m\u001b[38;5;241m.\u001b[39m_is_method_retryable(method):\n\u001b[0;32m--> 550\u001b[0m     \u001b[38;5;28;01mraise\u001b[39;00m six\u001b[38;5;241m.\u001b[39mreraise(\u001b[38;5;28mtype\u001b[39m(error), error, _stacktrace)\n\u001b[1;32m    551\u001b[0m \u001b[38;5;28;01melif\u001b[39;00m read \u001b[38;5;129;01mis\u001b[39;00m \u001b[38;5;129;01mnot\u001b[39;00m \u001b[38;5;28;01mNone\u001b[39;00m:\n",
      "File \u001b[0;32m~/anaconda3/lib/python3.11/site-packages/urllib3/packages/six.py:770\u001b[0m, in \u001b[0;36mreraise\u001b[0;34m(tp, value, tb)\u001b[0m\n\u001b[1;32m    769\u001b[0m         \u001b[38;5;28;01mraise\u001b[39;00m value\u001b[38;5;241m.\u001b[39mwith_traceback(tb)\n\u001b[0;32m--> 770\u001b[0m     \u001b[38;5;28;01mraise\u001b[39;00m value\n\u001b[1;32m    771\u001b[0m \u001b[38;5;28;01mfinally\u001b[39;00m:\n",
      "File \u001b[0;32m~/anaconda3/lib/python3.11/site-packages/urllib3/connectionpool.py:714\u001b[0m, in \u001b[0;36mHTTPConnectionPool.urlopen\u001b[0;34m(self, method, url, body, headers, retries, redirect, assert_same_host, timeout, pool_timeout, release_conn, chunked, body_pos, **response_kw)\u001b[0m\n\u001b[1;32m    713\u001b[0m \u001b[38;5;66;03m# Make the request on the httplib connection object.\u001b[39;00m\n\u001b[0;32m--> 714\u001b[0m httplib_response \u001b[38;5;241m=\u001b[39m \u001b[38;5;28mself\u001b[39m\u001b[38;5;241m.\u001b[39m_make_request(\n\u001b[1;32m    715\u001b[0m     conn,\n\u001b[1;32m    716\u001b[0m     method,\n\u001b[1;32m    717\u001b[0m     url,\n\u001b[1;32m    718\u001b[0m     timeout\u001b[38;5;241m=\u001b[39mtimeout_obj,\n\u001b[1;32m    719\u001b[0m     body\u001b[38;5;241m=\u001b[39mbody,\n\u001b[1;32m    720\u001b[0m     headers\u001b[38;5;241m=\u001b[39mheaders,\n\u001b[1;32m    721\u001b[0m     chunked\u001b[38;5;241m=\u001b[39mchunked,\n\u001b[1;32m    722\u001b[0m )\n\u001b[1;32m    724\u001b[0m \u001b[38;5;66;03m# If we're going to release the connection in ``finally:``, then\u001b[39;00m\n\u001b[1;32m    725\u001b[0m \u001b[38;5;66;03m# the response doesn't need to know about the connection. Otherwise\u001b[39;00m\n\u001b[1;32m    726\u001b[0m \u001b[38;5;66;03m# it will also try to release it and we'll have a double-release\u001b[39;00m\n\u001b[1;32m    727\u001b[0m \u001b[38;5;66;03m# mess.\u001b[39;00m\n",
      "File \u001b[0;32m~/anaconda3/lib/python3.11/site-packages/urllib3/connectionpool.py:468\u001b[0m, in \u001b[0;36mHTTPConnectionPool._make_request\u001b[0;34m(self, conn, method, url, timeout, chunked, **httplib_request_kw)\u001b[0m\n\u001b[1;32m    467\u001b[0m \u001b[38;5;28;01mexcept\u001b[39;00m (SocketTimeout, BaseSSLError, SocketError) \u001b[38;5;28;01mas\u001b[39;00m e:\n\u001b[0;32m--> 468\u001b[0m     \u001b[38;5;28mself\u001b[39m\u001b[38;5;241m.\u001b[39m_raise_timeout(err\u001b[38;5;241m=\u001b[39me, url\u001b[38;5;241m=\u001b[39murl, timeout_value\u001b[38;5;241m=\u001b[39mread_timeout)\n\u001b[1;32m    469\u001b[0m     \u001b[38;5;28;01mraise\u001b[39;00m\n",
      "File \u001b[0;32m~/anaconda3/lib/python3.11/site-packages/urllib3/connectionpool.py:357\u001b[0m, in \u001b[0;36mHTTPConnectionPool._raise_timeout\u001b[0;34m(self, err, url, timeout_value)\u001b[0m\n\u001b[1;32m    356\u001b[0m \u001b[38;5;28;01mif\u001b[39;00m \u001b[38;5;28misinstance\u001b[39m(err, SocketTimeout):\n\u001b[0;32m--> 357\u001b[0m     \u001b[38;5;28;01mraise\u001b[39;00m ReadTimeoutError(\n\u001b[1;32m    358\u001b[0m         \u001b[38;5;28mself\u001b[39m, url, \u001b[38;5;124m\"\u001b[39m\u001b[38;5;124mRead timed out. (read timeout=\u001b[39m\u001b[38;5;132;01m%s\u001b[39;00m\u001b[38;5;124m)\u001b[39m\u001b[38;5;124m\"\u001b[39m \u001b[38;5;241m%\u001b[39m timeout_value\n\u001b[1;32m    359\u001b[0m     )\n\u001b[1;32m    361\u001b[0m \u001b[38;5;66;03m# See the above comment about EAGAIN in Python 3. In Python 2 we have\u001b[39;00m\n\u001b[1;32m    362\u001b[0m \u001b[38;5;66;03m# to specifically catch it and throw the timeout error\u001b[39;00m\n",
      "\u001b[0;31mReadTimeoutError\u001b[0m: HTTPSConnectionPool(host='api.openai.com', port=443): Read timed out. (read timeout=600)",
      "\nDuring handling of the above exception, another exception occurred:\n",
      "\u001b[0;31mReadTimeout\u001b[0m                               Traceback (most recent call last)",
      "File \u001b[0;32m~/anaconda3/lib/python3.11/site-packages/openai/api_requestor.py:596\u001b[0m, in \u001b[0;36mAPIRequestor.request_raw\u001b[0;34m(self, method, url, params, supplied_headers, files, stream, request_id, request_timeout)\u001b[0m\n\u001b[1;32m    595\u001b[0m \u001b[38;5;28;01mtry\u001b[39;00m:\n\u001b[0;32m--> 596\u001b[0m     result \u001b[38;5;241m=\u001b[39m _thread_context\u001b[38;5;241m.\u001b[39msession\u001b[38;5;241m.\u001b[39mrequest(\n\u001b[1;32m    597\u001b[0m         method,\n\u001b[1;32m    598\u001b[0m         abs_url,\n\u001b[1;32m    599\u001b[0m         headers\u001b[38;5;241m=\u001b[39mheaders,\n\u001b[1;32m    600\u001b[0m         data\u001b[38;5;241m=\u001b[39mdata,\n\u001b[1;32m    601\u001b[0m         files\u001b[38;5;241m=\u001b[39mfiles,\n\u001b[1;32m    602\u001b[0m         stream\u001b[38;5;241m=\u001b[39mstream,\n\u001b[1;32m    603\u001b[0m         timeout\u001b[38;5;241m=\u001b[39mrequest_timeout \u001b[38;5;28;01mif\u001b[39;00m request_timeout \u001b[38;5;28;01melse\u001b[39;00m TIMEOUT_SECS,\n\u001b[1;32m    604\u001b[0m         proxies\u001b[38;5;241m=\u001b[39m_thread_context\u001b[38;5;241m.\u001b[39msession\u001b[38;5;241m.\u001b[39mproxies,\n\u001b[1;32m    605\u001b[0m     )\n\u001b[1;32m    606\u001b[0m \u001b[38;5;28;01mexcept\u001b[39;00m requests\u001b[38;5;241m.\u001b[39mexceptions\u001b[38;5;241m.\u001b[39mTimeout \u001b[38;5;28;01mas\u001b[39;00m e:\n",
      "File \u001b[0;32m~/anaconda3/lib/python3.11/site-packages/requests/sessions.py:589\u001b[0m, in \u001b[0;36mSession.request\u001b[0;34m(self, method, url, params, data, headers, cookies, files, auth, timeout, allow_redirects, proxies, hooks, stream, verify, cert, json)\u001b[0m\n\u001b[1;32m    588\u001b[0m send_kwargs\u001b[38;5;241m.\u001b[39mupdate(settings)\n\u001b[0;32m--> 589\u001b[0m resp \u001b[38;5;241m=\u001b[39m \u001b[38;5;28mself\u001b[39m\u001b[38;5;241m.\u001b[39msend(prep, \u001b[38;5;241m*\u001b[39m\u001b[38;5;241m*\u001b[39msend_kwargs)\n\u001b[1;32m    591\u001b[0m \u001b[38;5;28;01mreturn\u001b[39;00m resp\n",
      "File \u001b[0;32m~/anaconda3/lib/python3.11/site-packages/requests/sessions.py:703\u001b[0m, in \u001b[0;36mSession.send\u001b[0;34m(self, request, **kwargs)\u001b[0m\n\u001b[1;32m    702\u001b[0m \u001b[38;5;66;03m# Send the request\u001b[39;00m\n\u001b[0;32m--> 703\u001b[0m r \u001b[38;5;241m=\u001b[39m adapter\u001b[38;5;241m.\u001b[39msend(request, \u001b[38;5;241m*\u001b[39m\u001b[38;5;241m*\u001b[39mkwargs)\n\u001b[1;32m    705\u001b[0m \u001b[38;5;66;03m# Total elapsed time of the request (approximately)\u001b[39;00m\n",
      "File \u001b[0;32m~/anaconda3/lib/python3.11/site-packages/requests/adapters.py:532\u001b[0m, in \u001b[0;36mHTTPAdapter.send\u001b[0;34m(self, request, stream, timeout, verify, cert, proxies)\u001b[0m\n\u001b[1;32m    531\u001b[0m \u001b[38;5;28;01melif\u001b[39;00m \u001b[38;5;28misinstance\u001b[39m(e, ReadTimeoutError):\n\u001b[0;32m--> 532\u001b[0m     \u001b[38;5;28;01mraise\u001b[39;00m ReadTimeout(e, request\u001b[38;5;241m=\u001b[39mrequest)\n\u001b[1;32m    533\u001b[0m \u001b[38;5;28;01melif\u001b[39;00m \u001b[38;5;28misinstance\u001b[39m(e, _InvalidHeader):\n",
      "\u001b[0;31mReadTimeout\u001b[0m: HTTPSConnectionPool(host='api.openai.com', port=443): Read timed out. (read timeout=600)",
      "\nThe above exception was the direct cause of the following exception:\n",
      "\u001b[0;31mTimeout\u001b[0m                                   Traceback (most recent call last)",
      "Cell \u001b[0;32mIn[151], line 5\u001b[0m\n\u001b[1;32m      3\u001b[0m output_full \u001b[38;5;241m=\u001b[39m []\n\u001b[1;32m      4\u001b[0m \u001b[38;5;28;01mfor\u001b[39;00m i \u001b[38;5;129;01min\u001b[39;00m \u001b[38;5;28mrange\u001b[39m(\u001b[38;5;28mlen\u001b[39m(prompt)):\n\u001b[0;32m----> 5\u001b[0m     response \u001b[38;5;241m=\u001b[39m openai\u001b[38;5;241m.\u001b[39mChatCompletion\u001b[38;5;241m.\u001b[39mcreate(\n\u001b[1;32m      6\u001b[0m         model \u001b[38;5;241m=\u001b[39m \u001b[38;5;124m'\u001b[39m\u001b[38;5;124mgpt-3.5-turbo\u001b[39m\u001b[38;5;124m'\u001b[39m,\n\u001b[1;32m      7\u001b[0m         messages \u001b[38;5;241m=\u001b[39m [{\u001b[38;5;124m'\u001b[39m\u001b[38;5;124mrole\u001b[39m\u001b[38;5;124m'\u001b[39m: \u001b[38;5;124m'\u001b[39m\u001b[38;5;124muser\u001b[39m\u001b[38;5;124m'\u001b[39m, \u001b[38;5;124m'\u001b[39m\u001b[38;5;124mcontent\u001b[39m\u001b[38;5;124m'\u001b[39m: prompt[i]}],\n\u001b[1;32m      8\u001b[0m         temperature \u001b[38;5;241m=\u001b[39m \u001b[38;5;241m0.6\u001b[39m,\n\u001b[1;32m      9\u001b[0m         max_tokens \u001b[38;5;241m=\u001b[39m \u001b[38;5;241m200\u001b[39m\n\u001b[1;32m     10\u001b[0m       )\n\u001b[1;32m     12\u001b[0m     chat_response \u001b[38;5;241m=\u001b[39m response[\u001b[38;5;124m'\u001b[39m\u001b[38;5;124mchoices\u001b[39m\u001b[38;5;124m'\u001b[39m][\u001b[38;5;241m0\u001b[39m][\u001b[38;5;124m'\u001b[39m\u001b[38;5;124mmessage\u001b[39m\u001b[38;5;124m'\u001b[39m][\u001b[38;5;124m'\u001b[39m\u001b[38;5;124mcontent\u001b[39m\u001b[38;5;124m'\u001b[39m]\n\u001b[1;32m     13\u001b[0m     output_full\u001b[38;5;241m.\u001b[39mappend(chat_response)\n",
      "File \u001b[0;32m~/anaconda3/lib/python3.11/site-packages/openai/api_resources/chat_completion.py:25\u001b[0m, in \u001b[0;36mChatCompletion.create\u001b[0;34m(cls, *args, **kwargs)\u001b[0m\n\u001b[1;32m     23\u001b[0m \u001b[38;5;28;01mwhile\u001b[39;00m \u001b[38;5;28;01mTrue\u001b[39;00m:\n\u001b[1;32m     24\u001b[0m     \u001b[38;5;28;01mtry\u001b[39;00m:\n\u001b[0;32m---> 25\u001b[0m         \u001b[38;5;28;01mreturn\u001b[39;00m \u001b[38;5;28msuper\u001b[39m()\u001b[38;5;241m.\u001b[39mcreate(\u001b[38;5;241m*\u001b[39margs, \u001b[38;5;241m*\u001b[39m\u001b[38;5;241m*\u001b[39mkwargs)\n\u001b[1;32m     26\u001b[0m     \u001b[38;5;28;01mexcept\u001b[39;00m TryAgain \u001b[38;5;28;01mas\u001b[39;00m e:\n\u001b[1;32m     27\u001b[0m         \u001b[38;5;28;01mif\u001b[39;00m timeout \u001b[38;5;129;01mis\u001b[39;00m \u001b[38;5;129;01mnot\u001b[39;00m \u001b[38;5;28;01mNone\u001b[39;00m \u001b[38;5;129;01mand\u001b[39;00m time\u001b[38;5;241m.\u001b[39mtime() \u001b[38;5;241m>\u001b[39m start \u001b[38;5;241m+\u001b[39m timeout:\n",
      "File \u001b[0;32m~/anaconda3/lib/python3.11/site-packages/openai/api_resources/abstract/engine_api_resource.py:153\u001b[0m, in \u001b[0;36mEngineAPIResource.create\u001b[0;34m(cls, api_key, api_base, api_type, request_id, api_version, organization, **params)\u001b[0m\n\u001b[1;32m    127\u001b[0m \u001b[38;5;129m@classmethod\u001b[39m\n\u001b[1;32m    128\u001b[0m \u001b[38;5;28;01mdef\u001b[39;00m \u001b[38;5;21mcreate\u001b[39m(\n\u001b[1;32m    129\u001b[0m     \u001b[38;5;28mcls\u001b[39m,\n\u001b[0;32m   (...)\u001b[0m\n\u001b[1;32m    136\u001b[0m     \u001b[38;5;241m*\u001b[39m\u001b[38;5;241m*\u001b[39mparams,\n\u001b[1;32m    137\u001b[0m ):\n\u001b[1;32m    138\u001b[0m     (\n\u001b[1;32m    139\u001b[0m         deployment_id,\n\u001b[1;32m    140\u001b[0m         engine,\n\u001b[0;32m   (...)\u001b[0m\n\u001b[1;32m    150\u001b[0m         api_key, api_base, api_type, api_version, organization, \u001b[38;5;241m*\u001b[39m\u001b[38;5;241m*\u001b[39mparams\n\u001b[1;32m    151\u001b[0m     )\n\u001b[0;32m--> 153\u001b[0m     response, _, api_key \u001b[38;5;241m=\u001b[39m requestor\u001b[38;5;241m.\u001b[39mrequest(\n\u001b[1;32m    154\u001b[0m         \u001b[38;5;124m\"\u001b[39m\u001b[38;5;124mpost\u001b[39m\u001b[38;5;124m\"\u001b[39m,\n\u001b[1;32m    155\u001b[0m         url,\n\u001b[1;32m    156\u001b[0m         params\u001b[38;5;241m=\u001b[39mparams,\n\u001b[1;32m    157\u001b[0m         headers\u001b[38;5;241m=\u001b[39mheaders,\n\u001b[1;32m    158\u001b[0m         stream\u001b[38;5;241m=\u001b[39mstream,\n\u001b[1;32m    159\u001b[0m         request_id\u001b[38;5;241m=\u001b[39mrequest_id,\n\u001b[1;32m    160\u001b[0m         request_timeout\u001b[38;5;241m=\u001b[39mrequest_timeout,\n\u001b[1;32m    161\u001b[0m     )\n\u001b[1;32m    163\u001b[0m     \u001b[38;5;28;01mif\u001b[39;00m stream:\n\u001b[1;32m    164\u001b[0m         \u001b[38;5;66;03m# must be an iterator\u001b[39;00m\n\u001b[1;32m    165\u001b[0m         \u001b[38;5;28;01massert\u001b[39;00m \u001b[38;5;129;01mnot\u001b[39;00m \u001b[38;5;28misinstance\u001b[39m(response, OpenAIResponse)\n",
      "File \u001b[0;32m~/anaconda3/lib/python3.11/site-packages/openai/api_requestor.py:288\u001b[0m, in \u001b[0;36mAPIRequestor.request\u001b[0;34m(self, method, url, params, headers, files, stream, request_id, request_timeout)\u001b[0m\n\u001b[1;32m    277\u001b[0m \u001b[38;5;28;01mdef\u001b[39;00m \u001b[38;5;21mrequest\u001b[39m(\n\u001b[1;32m    278\u001b[0m     \u001b[38;5;28mself\u001b[39m,\n\u001b[1;32m    279\u001b[0m     method,\n\u001b[0;32m   (...)\u001b[0m\n\u001b[1;32m    286\u001b[0m     request_timeout: Optional[Union[\u001b[38;5;28mfloat\u001b[39m, Tuple[\u001b[38;5;28mfloat\u001b[39m, \u001b[38;5;28mfloat\u001b[39m]]] \u001b[38;5;241m=\u001b[39m \u001b[38;5;28;01mNone\u001b[39;00m,\n\u001b[1;32m    287\u001b[0m ) \u001b[38;5;241m-\u001b[39m\u001b[38;5;241m>\u001b[39m Tuple[Union[OpenAIResponse, Iterator[OpenAIResponse]], \u001b[38;5;28mbool\u001b[39m, \u001b[38;5;28mstr\u001b[39m]:\n\u001b[0;32m--> 288\u001b[0m     result \u001b[38;5;241m=\u001b[39m \u001b[38;5;28mself\u001b[39m\u001b[38;5;241m.\u001b[39mrequest_raw(\n\u001b[1;32m    289\u001b[0m         method\u001b[38;5;241m.\u001b[39mlower(),\n\u001b[1;32m    290\u001b[0m         url,\n\u001b[1;32m    291\u001b[0m         params\u001b[38;5;241m=\u001b[39mparams,\n\u001b[1;32m    292\u001b[0m         supplied_headers\u001b[38;5;241m=\u001b[39mheaders,\n\u001b[1;32m    293\u001b[0m         files\u001b[38;5;241m=\u001b[39mfiles,\n\u001b[1;32m    294\u001b[0m         stream\u001b[38;5;241m=\u001b[39mstream,\n\u001b[1;32m    295\u001b[0m         request_id\u001b[38;5;241m=\u001b[39mrequest_id,\n\u001b[1;32m    296\u001b[0m         request_timeout\u001b[38;5;241m=\u001b[39mrequest_timeout,\n\u001b[1;32m    297\u001b[0m     )\n\u001b[1;32m    298\u001b[0m     resp, got_stream \u001b[38;5;241m=\u001b[39m \u001b[38;5;28mself\u001b[39m\u001b[38;5;241m.\u001b[39m_interpret_response(result, stream)\n\u001b[1;32m    299\u001b[0m     \u001b[38;5;28;01mreturn\u001b[39;00m resp, got_stream, \u001b[38;5;28mself\u001b[39m\u001b[38;5;241m.\u001b[39mapi_key\n",
      "File \u001b[0;32m~/anaconda3/lib/python3.11/site-packages/openai/api_requestor.py:607\u001b[0m, in \u001b[0;36mAPIRequestor.request_raw\u001b[0;34m(self, method, url, params, supplied_headers, files, stream, request_id, request_timeout)\u001b[0m\n\u001b[1;32m    596\u001b[0m     result \u001b[38;5;241m=\u001b[39m _thread_context\u001b[38;5;241m.\u001b[39msession\u001b[38;5;241m.\u001b[39mrequest(\n\u001b[1;32m    597\u001b[0m         method,\n\u001b[1;32m    598\u001b[0m         abs_url,\n\u001b[0;32m   (...)\u001b[0m\n\u001b[1;32m    604\u001b[0m         proxies\u001b[38;5;241m=\u001b[39m_thread_context\u001b[38;5;241m.\u001b[39msession\u001b[38;5;241m.\u001b[39mproxies,\n\u001b[1;32m    605\u001b[0m     )\n\u001b[1;32m    606\u001b[0m \u001b[38;5;28;01mexcept\u001b[39;00m requests\u001b[38;5;241m.\u001b[39mexceptions\u001b[38;5;241m.\u001b[39mTimeout \u001b[38;5;28;01mas\u001b[39;00m e:\n\u001b[0;32m--> 607\u001b[0m     \u001b[38;5;28;01mraise\u001b[39;00m error\u001b[38;5;241m.\u001b[39mTimeout(\u001b[38;5;124m\"\u001b[39m\u001b[38;5;124mRequest timed out: \u001b[39m\u001b[38;5;132;01m{}\u001b[39;00m\u001b[38;5;124m\"\u001b[39m\u001b[38;5;241m.\u001b[39mformat(e)) \u001b[38;5;28;01mfrom\u001b[39;00m \u001b[38;5;21;01me\u001b[39;00m\n\u001b[1;32m    608\u001b[0m \u001b[38;5;28;01mexcept\u001b[39;00m requests\u001b[38;5;241m.\u001b[39mexceptions\u001b[38;5;241m.\u001b[39mRequestException \u001b[38;5;28;01mas\u001b[39;00m e:\n\u001b[1;32m    609\u001b[0m     \u001b[38;5;28;01mraise\u001b[39;00m error\u001b[38;5;241m.\u001b[39mAPIConnectionError(\n\u001b[1;32m    610\u001b[0m         \u001b[38;5;124m\"\u001b[39m\u001b[38;5;124mError communicating with OpenAI: \u001b[39m\u001b[38;5;132;01m{}\u001b[39;00m\u001b[38;5;124m\"\u001b[39m\u001b[38;5;241m.\u001b[39mformat(e)\n\u001b[1;32m    611\u001b[0m     ) \u001b[38;5;28;01mfrom\u001b[39;00m \u001b[38;5;21;01me\u001b[39;00m\n",
      "\u001b[0;31mTimeout\u001b[0m: Request timed out: HTTPSConnectionPool(host='api.openai.com', port=443): Read timed out. (read timeout=600)"
     ]
    }
   ],
   "source": [
    "#2\n",
    "prompt = f\"Answer the following question as a user: {davinci_prompts_adj1}\"\n",
    "output_full = []\n",
    "for i in range(500,1000):\n",
    "    response = openai.ChatCompletion.create(\n",
    "        model = 'gpt-3.5-turbo',\n",
    "        messages = [{'role': 'user', 'content': prompt[i]}],\n",
    "        temperature = 0.6,\n",
    "        max_tokens = 200\n",
    "      )\n",
    "  \n",
    "    chat_response = response['choices'][0]['message']['content']\n",
    "    output_full.append(chat_response)"
   ]
  },
  {
   "cell_type": "code",
   "execution_count": 151,
   "id": "3ddd2f86-bed1-4817-aef7-cdbb1d5199d6",
   "metadata": {
    "tags": []
   },
   "outputs": [
    {
     "ename": "Timeout",
     "evalue": "Request timed out: HTTPSConnectionPool(host='api.openai.com', port=443): Read timed out. (read timeout=600)",
     "output_type": "error",
     "traceback": [
      "\u001b[0;31m---------------------------------------------------------------------------\u001b[0m",
      "\u001b[0;31mTimeoutError\u001b[0m                              Traceback (most recent call last)",
      "File \u001b[0;32m~/anaconda3/lib/python3.11/site-packages/urllib3/connectionpool.py:466\u001b[0m, in \u001b[0;36mHTTPConnectionPool._make_request\u001b[0;34m(self, conn, method, url, timeout, chunked, **httplib_request_kw)\u001b[0m\n\u001b[1;32m    462\u001b[0m         \u001b[38;5;28;01mexcept\u001b[39;00m \u001b[38;5;167;01mBaseException\u001b[39;00m \u001b[38;5;28;01mas\u001b[39;00m e:\n\u001b[1;32m    463\u001b[0m             \u001b[38;5;66;03m# Remove the TypeError from the exception chain in\u001b[39;00m\n\u001b[1;32m    464\u001b[0m             \u001b[38;5;66;03m# Python 3 (including for exceptions like SystemExit).\u001b[39;00m\n\u001b[1;32m    465\u001b[0m             \u001b[38;5;66;03m# Otherwise it looks like a bug in the code.\u001b[39;00m\n\u001b[0;32m--> 466\u001b[0m             six\u001b[38;5;241m.\u001b[39mraise_from(e, \u001b[38;5;28;01mNone\u001b[39;00m)\n\u001b[1;32m    467\u001b[0m \u001b[38;5;28;01mexcept\u001b[39;00m (SocketTimeout, BaseSSLError, SocketError) \u001b[38;5;28;01mas\u001b[39;00m e:\n",
      "File \u001b[0;32m<string>:3\u001b[0m, in \u001b[0;36mraise_from\u001b[0;34m(value, from_value)\u001b[0m\n",
      "File \u001b[0;32m~/anaconda3/lib/python3.11/site-packages/urllib3/connectionpool.py:461\u001b[0m, in \u001b[0;36mHTTPConnectionPool._make_request\u001b[0;34m(self, conn, method, url, timeout, chunked, **httplib_request_kw)\u001b[0m\n\u001b[1;32m    460\u001b[0m \u001b[38;5;28;01mtry\u001b[39;00m:\n\u001b[0;32m--> 461\u001b[0m     httplib_response \u001b[38;5;241m=\u001b[39m conn\u001b[38;5;241m.\u001b[39mgetresponse()\n\u001b[1;32m    462\u001b[0m \u001b[38;5;28;01mexcept\u001b[39;00m \u001b[38;5;167;01mBaseException\u001b[39;00m \u001b[38;5;28;01mas\u001b[39;00m e:\n\u001b[1;32m    463\u001b[0m     \u001b[38;5;66;03m# Remove the TypeError from the exception chain in\u001b[39;00m\n\u001b[1;32m    464\u001b[0m     \u001b[38;5;66;03m# Python 3 (including for exceptions like SystemExit).\u001b[39;00m\n\u001b[1;32m    465\u001b[0m     \u001b[38;5;66;03m# Otherwise it looks like a bug in the code.\u001b[39;00m\n",
      "File \u001b[0;32m~/anaconda3/lib/python3.11/http/client.py:1378\u001b[0m, in \u001b[0;36mHTTPConnection.getresponse\u001b[0;34m(self)\u001b[0m\n\u001b[1;32m   1377\u001b[0m \u001b[38;5;28;01mtry\u001b[39;00m:\n\u001b[0;32m-> 1378\u001b[0m     response\u001b[38;5;241m.\u001b[39mbegin()\n\u001b[1;32m   1379\u001b[0m \u001b[38;5;28;01mexcept\u001b[39;00m \u001b[38;5;167;01mConnectionError\u001b[39;00m:\n",
      "File \u001b[0;32m~/anaconda3/lib/python3.11/http/client.py:318\u001b[0m, in \u001b[0;36mHTTPResponse.begin\u001b[0;34m(self)\u001b[0m\n\u001b[1;32m    317\u001b[0m \u001b[38;5;28;01mwhile\u001b[39;00m \u001b[38;5;28;01mTrue\u001b[39;00m:\n\u001b[0;32m--> 318\u001b[0m     version, status, reason \u001b[38;5;241m=\u001b[39m \u001b[38;5;28mself\u001b[39m\u001b[38;5;241m.\u001b[39m_read_status()\n\u001b[1;32m    319\u001b[0m     \u001b[38;5;28;01mif\u001b[39;00m status \u001b[38;5;241m!=\u001b[39m CONTINUE:\n",
      "File \u001b[0;32m~/anaconda3/lib/python3.11/http/client.py:279\u001b[0m, in \u001b[0;36mHTTPResponse._read_status\u001b[0;34m(self)\u001b[0m\n\u001b[1;32m    278\u001b[0m \u001b[38;5;28;01mdef\u001b[39;00m \u001b[38;5;21m_read_status\u001b[39m(\u001b[38;5;28mself\u001b[39m):\n\u001b[0;32m--> 279\u001b[0m     line \u001b[38;5;241m=\u001b[39m \u001b[38;5;28mstr\u001b[39m(\u001b[38;5;28mself\u001b[39m\u001b[38;5;241m.\u001b[39mfp\u001b[38;5;241m.\u001b[39mreadline(_MAXLINE \u001b[38;5;241m+\u001b[39m \u001b[38;5;241m1\u001b[39m), \u001b[38;5;124m\"\u001b[39m\u001b[38;5;124miso-8859-1\u001b[39m\u001b[38;5;124m\"\u001b[39m)\n\u001b[1;32m    280\u001b[0m     \u001b[38;5;28;01mif\u001b[39;00m \u001b[38;5;28mlen\u001b[39m(line) \u001b[38;5;241m>\u001b[39m _MAXLINE:\n",
      "File \u001b[0;32m~/anaconda3/lib/python3.11/socket.py:706\u001b[0m, in \u001b[0;36mSocketIO.readinto\u001b[0;34m(self, b)\u001b[0m\n\u001b[1;32m    705\u001b[0m \u001b[38;5;28;01mtry\u001b[39;00m:\n\u001b[0;32m--> 706\u001b[0m     \u001b[38;5;28;01mreturn\u001b[39;00m \u001b[38;5;28mself\u001b[39m\u001b[38;5;241m.\u001b[39m_sock\u001b[38;5;241m.\u001b[39mrecv_into(b)\n\u001b[1;32m    707\u001b[0m \u001b[38;5;28;01mexcept\u001b[39;00m timeout:\n",
      "File \u001b[0;32m~/anaconda3/lib/python3.11/ssl.py:1278\u001b[0m, in \u001b[0;36mSSLSocket.recv_into\u001b[0;34m(self, buffer, nbytes, flags)\u001b[0m\n\u001b[1;32m   1275\u001b[0m         \u001b[38;5;28;01mraise\u001b[39;00m \u001b[38;5;167;01mValueError\u001b[39;00m(\n\u001b[1;32m   1276\u001b[0m           \u001b[38;5;124m\"\u001b[39m\u001b[38;5;124mnon-zero flags not allowed in calls to recv_into() on \u001b[39m\u001b[38;5;132;01m%s\u001b[39;00m\u001b[38;5;124m\"\u001b[39m \u001b[38;5;241m%\u001b[39m\n\u001b[1;32m   1277\u001b[0m           \u001b[38;5;28mself\u001b[39m\u001b[38;5;241m.\u001b[39m\u001b[38;5;18m__class__\u001b[39m)\n\u001b[0;32m-> 1278\u001b[0m     \u001b[38;5;28;01mreturn\u001b[39;00m \u001b[38;5;28mself\u001b[39m\u001b[38;5;241m.\u001b[39mread(nbytes, buffer)\n\u001b[1;32m   1279\u001b[0m \u001b[38;5;28;01melse\u001b[39;00m:\n",
      "File \u001b[0;32m~/anaconda3/lib/python3.11/ssl.py:1134\u001b[0m, in \u001b[0;36mSSLSocket.read\u001b[0;34m(self, len, buffer)\u001b[0m\n\u001b[1;32m   1133\u001b[0m \u001b[38;5;28;01mif\u001b[39;00m buffer \u001b[38;5;129;01mis\u001b[39;00m \u001b[38;5;129;01mnot\u001b[39;00m \u001b[38;5;28;01mNone\u001b[39;00m:\n\u001b[0;32m-> 1134\u001b[0m     \u001b[38;5;28;01mreturn\u001b[39;00m \u001b[38;5;28mself\u001b[39m\u001b[38;5;241m.\u001b[39m_sslobj\u001b[38;5;241m.\u001b[39mread(\u001b[38;5;28mlen\u001b[39m, buffer)\n\u001b[1;32m   1135\u001b[0m \u001b[38;5;28;01melse\u001b[39;00m:\n",
      "\u001b[0;31mTimeoutError\u001b[0m: The read operation timed out",
      "\nDuring handling of the above exception, another exception occurred:\n",
      "\u001b[0;31mReadTimeoutError\u001b[0m                          Traceback (most recent call last)",
      "File \u001b[0;32m~/anaconda3/lib/python3.11/site-packages/requests/adapters.py:486\u001b[0m, in \u001b[0;36mHTTPAdapter.send\u001b[0;34m(self, request, stream, timeout, verify, cert, proxies)\u001b[0m\n\u001b[1;32m    485\u001b[0m \u001b[38;5;28;01mtry\u001b[39;00m:\n\u001b[0;32m--> 486\u001b[0m     resp \u001b[38;5;241m=\u001b[39m conn\u001b[38;5;241m.\u001b[39murlopen(\n\u001b[1;32m    487\u001b[0m         method\u001b[38;5;241m=\u001b[39mrequest\u001b[38;5;241m.\u001b[39mmethod,\n\u001b[1;32m    488\u001b[0m         url\u001b[38;5;241m=\u001b[39murl,\n\u001b[1;32m    489\u001b[0m         body\u001b[38;5;241m=\u001b[39mrequest\u001b[38;5;241m.\u001b[39mbody,\n\u001b[1;32m    490\u001b[0m         headers\u001b[38;5;241m=\u001b[39mrequest\u001b[38;5;241m.\u001b[39mheaders,\n\u001b[1;32m    491\u001b[0m         redirect\u001b[38;5;241m=\u001b[39m\u001b[38;5;28;01mFalse\u001b[39;00m,\n\u001b[1;32m    492\u001b[0m         assert_same_host\u001b[38;5;241m=\u001b[39m\u001b[38;5;28;01mFalse\u001b[39;00m,\n\u001b[1;32m    493\u001b[0m         preload_content\u001b[38;5;241m=\u001b[39m\u001b[38;5;28;01mFalse\u001b[39;00m,\n\u001b[1;32m    494\u001b[0m         decode_content\u001b[38;5;241m=\u001b[39m\u001b[38;5;28;01mFalse\u001b[39;00m,\n\u001b[1;32m    495\u001b[0m         retries\u001b[38;5;241m=\u001b[39m\u001b[38;5;28mself\u001b[39m\u001b[38;5;241m.\u001b[39mmax_retries,\n\u001b[1;32m    496\u001b[0m         timeout\u001b[38;5;241m=\u001b[39mtimeout,\n\u001b[1;32m    497\u001b[0m         chunked\u001b[38;5;241m=\u001b[39mchunked,\n\u001b[1;32m    498\u001b[0m     )\n\u001b[1;32m    500\u001b[0m \u001b[38;5;28;01mexcept\u001b[39;00m (ProtocolError, \u001b[38;5;167;01mOSError\u001b[39;00m) \u001b[38;5;28;01mas\u001b[39;00m err:\n",
      "File \u001b[0;32m~/anaconda3/lib/python3.11/site-packages/urllib3/connectionpool.py:798\u001b[0m, in \u001b[0;36mHTTPConnectionPool.urlopen\u001b[0;34m(self, method, url, body, headers, retries, redirect, assert_same_host, timeout, pool_timeout, release_conn, chunked, body_pos, **response_kw)\u001b[0m\n\u001b[1;32m    796\u001b[0m     e \u001b[38;5;241m=\u001b[39m ProtocolError(\u001b[38;5;124m\"\u001b[39m\u001b[38;5;124mConnection aborted.\u001b[39m\u001b[38;5;124m\"\u001b[39m, e)\n\u001b[0;32m--> 798\u001b[0m retries \u001b[38;5;241m=\u001b[39m retries\u001b[38;5;241m.\u001b[39mincrement(\n\u001b[1;32m    799\u001b[0m     method, url, error\u001b[38;5;241m=\u001b[39me, _pool\u001b[38;5;241m=\u001b[39m\u001b[38;5;28mself\u001b[39m, _stacktrace\u001b[38;5;241m=\u001b[39msys\u001b[38;5;241m.\u001b[39mexc_info()[\u001b[38;5;241m2\u001b[39m]\n\u001b[1;32m    800\u001b[0m )\n\u001b[1;32m    801\u001b[0m retries\u001b[38;5;241m.\u001b[39msleep()\n",
      "File \u001b[0;32m~/anaconda3/lib/python3.11/site-packages/urllib3/util/retry.py:550\u001b[0m, in \u001b[0;36mRetry.increment\u001b[0;34m(self, method, url, response, error, _pool, _stacktrace)\u001b[0m\n\u001b[1;32m    549\u001b[0m \u001b[38;5;28;01mif\u001b[39;00m read \u001b[38;5;129;01mis\u001b[39;00m \u001b[38;5;28;01mFalse\u001b[39;00m \u001b[38;5;129;01mor\u001b[39;00m \u001b[38;5;129;01mnot\u001b[39;00m \u001b[38;5;28mself\u001b[39m\u001b[38;5;241m.\u001b[39m_is_method_retryable(method):\n\u001b[0;32m--> 550\u001b[0m     \u001b[38;5;28;01mraise\u001b[39;00m six\u001b[38;5;241m.\u001b[39mreraise(\u001b[38;5;28mtype\u001b[39m(error), error, _stacktrace)\n\u001b[1;32m    551\u001b[0m \u001b[38;5;28;01melif\u001b[39;00m read \u001b[38;5;129;01mis\u001b[39;00m \u001b[38;5;129;01mnot\u001b[39;00m \u001b[38;5;28;01mNone\u001b[39;00m:\n",
      "File \u001b[0;32m~/anaconda3/lib/python3.11/site-packages/urllib3/packages/six.py:770\u001b[0m, in \u001b[0;36mreraise\u001b[0;34m(tp, value, tb)\u001b[0m\n\u001b[1;32m    769\u001b[0m         \u001b[38;5;28;01mraise\u001b[39;00m value\u001b[38;5;241m.\u001b[39mwith_traceback(tb)\n\u001b[0;32m--> 770\u001b[0m     \u001b[38;5;28;01mraise\u001b[39;00m value\n\u001b[1;32m    771\u001b[0m \u001b[38;5;28;01mfinally\u001b[39;00m:\n",
      "File \u001b[0;32m~/anaconda3/lib/python3.11/site-packages/urllib3/connectionpool.py:714\u001b[0m, in \u001b[0;36mHTTPConnectionPool.urlopen\u001b[0;34m(self, method, url, body, headers, retries, redirect, assert_same_host, timeout, pool_timeout, release_conn, chunked, body_pos, **response_kw)\u001b[0m\n\u001b[1;32m    713\u001b[0m \u001b[38;5;66;03m# Make the request on the httplib connection object.\u001b[39;00m\n\u001b[0;32m--> 714\u001b[0m httplib_response \u001b[38;5;241m=\u001b[39m \u001b[38;5;28mself\u001b[39m\u001b[38;5;241m.\u001b[39m_make_request(\n\u001b[1;32m    715\u001b[0m     conn,\n\u001b[1;32m    716\u001b[0m     method,\n\u001b[1;32m    717\u001b[0m     url,\n\u001b[1;32m    718\u001b[0m     timeout\u001b[38;5;241m=\u001b[39mtimeout_obj,\n\u001b[1;32m    719\u001b[0m     body\u001b[38;5;241m=\u001b[39mbody,\n\u001b[1;32m    720\u001b[0m     headers\u001b[38;5;241m=\u001b[39mheaders,\n\u001b[1;32m    721\u001b[0m     chunked\u001b[38;5;241m=\u001b[39mchunked,\n\u001b[1;32m    722\u001b[0m )\n\u001b[1;32m    724\u001b[0m \u001b[38;5;66;03m# If we're going to release the connection in ``finally:``, then\u001b[39;00m\n\u001b[1;32m    725\u001b[0m \u001b[38;5;66;03m# the response doesn't need to know about the connection. Otherwise\u001b[39;00m\n\u001b[1;32m    726\u001b[0m \u001b[38;5;66;03m# it will also try to release it and we'll have a double-release\u001b[39;00m\n\u001b[1;32m    727\u001b[0m \u001b[38;5;66;03m# mess.\u001b[39;00m\n",
      "File \u001b[0;32m~/anaconda3/lib/python3.11/site-packages/urllib3/connectionpool.py:468\u001b[0m, in \u001b[0;36mHTTPConnectionPool._make_request\u001b[0;34m(self, conn, method, url, timeout, chunked, **httplib_request_kw)\u001b[0m\n\u001b[1;32m    467\u001b[0m \u001b[38;5;28;01mexcept\u001b[39;00m (SocketTimeout, BaseSSLError, SocketError) \u001b[38;5;28;01mas\u001b[39;00m e:\n\u001b[0;32m--> 468\u001b[0m     \u001b[38;5;28mself\u001b[39m\u001b[38;5;241m.\u001b[39m_raise_timeout(err\u001b[38;5;241m=\u001b[39me, url\u001b[38;5;241m=\u001b[39murl, timeout_value\u001b[38;5;241m=\u001b[39mread_timeout)\n\u001b[1;32m    469\u001b[0m     \u001b[38;5;28;01mraise\u001b[39;00m\n",
      "File \u001b[0;32m~/anaconda3/lib/python3.11/site-packages/urllib3/connectionpool.py:357\u001b[0m, in \u001b[0;36mHTTPConnectionPool._raise_timeout\u001b[0;34m(self, err, url, timeout_value)\u001b[0m\n\u001b[1;32m    356\u001b[0m \u001b[38;5;28;01mif\u001b[39;00m \u001b[38;5;28misinstance\u001b[39m(err, SocketTimeout):\n\u001b[0;32m--> 357\u001b[0m     \u001b[38;5;28;01mraise\u001b[39;00m ReadTimeoutError(\n\u001b[1;32m    358\u001b[0m         \u001b[38;5;28mself\u001b[39m, url, \u001b[38;5;124m\"\u001b[39m\u001b[38;5;124mRead timed out. (read timeout=\u001b[39m\u001b[38;5;132;01m%s\u001b[39;00m\u001b[38;5;124m)\u001b[39m\u001b[38;5;124m\"\u001b[39m \u001b[38;5;241m%\u001b[39m timeout_value\n\u001b[1;32m    359\u001b[0m     )\n\u001b[1;32m    361\u001b[0m \u001b[38;5;66;03m# See the above comment about EAGAIN in Python 3. In Python 2 we have\u001b[39;00m\n\u001b[1;32m    362\u001b[0m \u001b[38;5;66;03m# to specifically catch it and throw the timeout error\u001b[39;00m\n",
      "\u001b[0;31mReadTimeoutError\u001b[0m: HTTPSConnectionPool(host='api.openai.com', port=443): Read timed out. (read timeout=600)",
      "\nDuring handling of the above exception, another exception occurred:\n",
      "\u001b[0;31mReadTimeout\u001b[0m                               Traceback (most recent call last)",
      "File \u001b[0;32m~/anaconda3/lib/python3.11/site-packages/openai/api_requestor.py:596\u001b[0m, in \u001b[0;36mAPIRequestor.request_raw\u001b[0;34m(self, method, url, params, supplied_headers, files, stream, request_id, request_timeout)\u001b[0m\n\u001b[1;32m    595\u001b[0m \u001b[38;5;28;01mtry\u001b[39;00m:\n\u001b[0;32m--> 596\u001b[0m     result \u001b[38;5;241m=\u001b[39m _thread_context\u001b[38;5;241m.\u001b[39msession\u001b[38;5;241m.\u001b[39mrequest(\n\u001b[1;32m    597\u001b[0m         method,\n\u001b[1;32m    598\u001b[0m         abs_url,\n\u001b[1;32m    599\u001b[0m         headers\u001b[38;5;241m=\u001b[39mheaders,\n\u001b[1;32m    600\u001b[0m         data\u001b[38;5;241m=\u001b[39mdata,\n\u001b[1;32m    601\u001b[0m         files\u001b[38;5;241m=\u001b[39mfiles,\n\u001b[1;32m    602\u001b[0m         stream\u001b[38;5;241m=\u001b[39mstream,\n\u001b[1;32m    603\u001b[0m         timeout\u001b[38;5;241m=\u001b[39mrequest_timeout \u001b[38;5;28;01mif\u001b[39;00m request_timeout \u001b[38;5;28;01melse\u001b[39;00m TIMEOUT_SECS,\n\u001b[1;32m    604\u001b[0m         proxies\u001b[38;5;241m=\u001b[39m_thread_context\u001b[38;5;241m.\u001b[39msession\u001b[38;5;241m.\u001b[39mproxies,\n\u001b[1;32m    605\u001b[0m     )\n\u001b[1;32m    606\u001b[0m \u001b[38;5;28;01mexcept\u001b[39;00m requests\u001b[38;5;241m.\u001b[39mexceptions\u001b[38;5;241m.\u001b[39mTimeout \u001b[38;5;28;01mas\u001b[39;00m e:\n",
      "File \u001b[0;32m~/anaconda3/lib/python3.11/site-packages/requests/sessions.py:589\u001b[0m, in \u001b[0;36mSession.request\u001b[0;34m(self, method, url, params, data, headers, cookies, files, auth, timeout, allow_redirects, proxies, hooks, stream, verify, cert, json)\u001b[0m\n\u001b[1;32m    588\u001b[0m send_kwargs\u001b[38;5;241m.\u001b[39mupdate(settings)\n\u001b[0;32m--> 589\u001b[0m resp \u001b[38;5;241m=\u001b[39m \u001b[38;5;28mself\u001b[39m\u001b[38;5;241m.\u001b[39msend(prep, \u001b[38;5;241m*\u001b[39m\u001b[38;5;241m*\u001b[39msend_kwargs)\n\u001b[1;32m    591\u001b[0m \u001b[38;5;28;01mreturn\u001b[39;00m resp\n",
      "File \u001b[0;32m~/anaconda3/lib/python3.11/site-packages/requests/sessions.py:703\u001b[0m, in \u001b[0;36mSession.send\u001b[0;34m(self, request, **kwargs)\u001b[0m\n\u001b[1;32m    702\u001b[0m \u001b[38;5;66;03m# Send the request\u001b[39;00m\n\u001b[0;32m--> 703\u001b[0m r \u001b[38;5;241m=\u001b[39m adapter\u001b[38;5;241m.\u001b[39msend(request, \u001b[38;5;241m*\u001b[39m\u001b[38;5;241m*\u001b[39mkwargs)\n\u001b[1;32m    705\u001b[0m \u001b[38;5;66;03m# Total elapsed time of the request (approximately)\u001b[39;00m\n",
      "File \u001b[0;32m~/anaconda3/lib/python3.11/site-packages/requests/adapters.py:532\u001b[0m, in \u001b[0;36mHTTPAdapter.send\u001b[0;34m(self, request, stream, timeout, verify, cert, proxies)\u001b[0m\n\u001b[1;32m    531\u001b[0m \u001b[38;5;28;01melif\u001b[39;00m \u001b[38;5;28misinstance\u001b[39m(e, ReadTimeoutError):\n\u001b[0;32m--> 532\u001b[0m     \u001b[38;5;28;01mraise\u001b[39;00m ReadTimeout(e, request\u001b[38;5;241m=\u001b[39mrequest)\n\u001b[1;32m    533\u001b[0m \u001b[38;5;28;01melif\u001b[39;00m \u001b[38;5;28misinstance\u001b[39m(e, _InvalidHeader):\n",
      "\u001b[0;31mReadTimeout\u001b[0m: HTTPSConnectionPool(host='api.openai.com', port=443): Read timed out. (read timeout=600)",
      "\nThe above exception was the direct cause of the following exception:\n",
      "\u001b[0;31mTimeout\u001b[0m                                   Traceback (most recent call last)",
      "Cell \u001b[0;32mIn[151], line 5\u001b[0m\n\u001b[1;32m      3\u001b[0m output_full \u001b[38;5;241m=\u001b[39m []\n\u001b[1;32m      4\u001b[0m \u001b[38;5;28;01mfor\u001b[39;00m i \u001b[38;5;129;01min\u001b[39;00m \u001b[38;5;28mrange\u001b[39m(\u001b[38;5;28mlen\u001b[39m(prompt)):\n\u001b[0;32m----> 5\u001b[0m     response \u001b[38;5;241m=\u001b[39m openai\u001b[38;5;241m.\u001b[39mChatCompletion\u001b[38;5;241m.\u001b[39mcreate(\n\u001b[1;32m      6\u001b[0m         model \u001b[38;5;241m=\u001b[39m \u001b[38;5;124m'\u001b[39m\u001b[38;5;124mgpt-3.5-turbo\u001b[39m\u001b[38;5;124m'\u001b[39m,\n\u001b[1;32m      7\u001b[0m         messages \u001b[38;5;241m=\u001b[39m [{\u001b[38;5;124m'\u001b[39m\u001b[38;5;124mrole\u001b[39m\u001b[38;5;124m'\u001b[39m: \u001b[38;5;124m'\u001b[39m\u001b[38;5;124muser\u001b[39m\u001b[38;5;124m'\u001b[39m, \u001b[38;5;124m'\u001b[39m\u001b[38;5;124mcontent\u001b[39m\u001b[38;5;124m'\u001b[39m: prompt[i]}],\n\u001b[1;32m      8\u001b[0m         temperature \u001b[38;5;241m=\u001b[39m \u001b[38;5;241m0.6\u001b[39m,\n\u001b[1;32m      9\u001b[0m         max_tokens \u001b[38;5;241m=\u001b[39m \u001b[38;5;241m200\u001b[39m\n\u001b[1;32m     10\u001b[0m       )\n\u001b[1;32m     12\u001b[0m     chat_response \u001b[38;5;241m=\u001b[39m response[\u001b[38;5;124m'\u001b[39m\u001b[38;5;124mchoices\u001b[39m\u001b[38;5;124m'\u001b[39m][\u001b[38;5;241m0\u001b[39m][\u001b[38;5;124m'\u001b[39m\u001b[38;5;124mmessage\u001b[39m\u001b[38;5;124m'\u001b[39m][\u001b[38;5;124m'\u001b[39m\u001b[38;5;124mcontent\u001b[39m\u001b[38;5;124m'\u001b[39m]\n\u001b[1;32m     13\u001b[0m     output_full\u001b[38;5;241m.\u001b[39mappend(chat_response)\n",
      "File \u001b[0;32m~/anaconda3/lib/python3.11/site-packages/openai/api_resources/chat_completion.py:25\u001b[0m, in \u001b[0;36mChatCompletion.create\u001b[0;34m(cls, *args, **kwargs)\u001b[0m\n\u001b[1;32m     23\u001b[0m \u001b[38;5;28;01mwhile\u001b[39;00m \u001b[38;5;28;01mTrue\u001b[39;00m:\n\u001b[1;32m     24\u001b[0m     \u001b[38;5;28;01mtry\u001b[39;00m:\n\u001b[0;32m---> 25\u001b[0m         \u001b[38;5;28;01mreturn\u001b[39;00m \u001b[38;5;28msuper\u001b[39m()\u001b[38;5;241m.\u001b[39mcreate(\u001b[38;5;241m*\u001b[39margs, \u001b[38;5;241m*\u001b[39m\u001b[38;5;241m*\u001b[39mkwargs)\n\u001b[1;32m     26\u001b[0m     \u001b[38;5;28;01mexcept\u001b[39;00m TryAgain \u001b[38;5;28;01mas\u001b[39;00m e:\n\u001b[1;32m     27\u001b[0m         \u001b[38;5;28;01mif\u001b[39;00m timeout \u001b[38;5;129;01mis\u001b[39;00m \u001b[38;5;129;01mnot\u001b[39;00m \u001b[38;5;28;01mNone\u001b[39;00m \u001b[38;5;129;01mand\u001b[39;00m time\u001b[38;5;241m.\u001b[39mtime() \u001b[38;5;241m>\u001b[39m start \u001b[38;5;241m+\u001b[39m timeout:\n",
      "File \u001b[0;32m~/anaconda3/lib/python3.11/site-packages/openai/api_resources/abstract/engine_api_resource.py:153\u001b[0m, in \u001b[0;36mEngineAPIResource.create\u001b[0;34m(cls, api_key, api_base, api_type, request_id, api_version, organization, **params)\u001b[0m\n\u001b[1;32m    127\u001b[0m \u001b[38;5;129m@classmethod\u001b[39m\n\u001b[1;32m    128\u001b[0m \u001b[38;5;28;01mdef\u001b[39;00m \u001b[38;5;21mcreate\u001b[39m(\n\u001b[1;32m    129\u001b[0m     \u001b[38;5;28mcls\u001b[39m,\n\u001b[0;32m   (...)\u001b[0m\n\u001b[1;32m    136\u001b[0m     \u001b[38;5;241m*\u001b[39m\u001b[38;5;241m*\u001b[39mparams,\n\u001b[1;32m    137\u001b[0m ):\n\u001b[1;32m    138\u001b[0m     (\n\u001b[1;32m    139\u001b[0m         deployment_id,\n\u001b[1;32m    140\u001b[0m         engine,\n\u001b[0;32m   (...)\u001b[0m\n\u001b[1;32m    150\u001b[0m         api_key, api_base, api_type, api_version, organization, \u001b[38;5;241m*\u001b[39m\u001b[38;5;241m*\u001b[39mparams\n\u001b[1;32m    151\u001b[0m     )\n\u001b[0;32m--> 153\u001b[0m     response, _, api_key \u001b[38;5;241m=\u001b[39m requestor\u001b[38;5;241m.\u001b[39mrequest(\n\u001b[1;32m    154\u001b[0m         \u001b[38;5;124m\"\u001b[39m\u001b[38;5;124mpost\u001b[39m\u001b[38;5;124m\"\u001b[39m,\n\u001b[1;32m    155\u001b[0m         url,\n\u001b[1;32m    156\u001b[0m         params\u001b[38;5;241m=\u001b[39mparams,\n\u001b[1;32m    157\u001b[0m         headers\u001b[38;5;241m=\u001b[39mheaders,\n\u001b[1;32m    158\u001b[0m         stream\u001b[38;5;241m=\u001b[39mstream,\n\u001b[1;32m    159\u001b[0m         request_id\u001b[38;5;241m=\u001b[39mrequest_id,\n\u001b[1;32m    160\u001b[0m         request_timeout\u001b[38;5;241m=\u001b[39mrequest_timeout,\n\u001b[1;32m    161\u001b[0m     )\n\u001b[1;32m    163\u001b[0m     \u001b[38;5;28;01mif\u001b[39;00m stream:\n\u001b[1;32m    164\u001b[0m         \u001b[38;5;66;03m# must be an iterator\u001b[39;00m\n\u001b[1;32m    165\u001b[0m         \u001b[38;5;28;01massert\u001b[39;00m \u001b[38;5;129;01mnot\u001b[39;00m \u001b[38;5;28misinstance\u001b[39m(response, OpenAIResponse)\n",
      "File \u001b[0;32m~/anaconda3/lib/python3.11/site-packages/openai/api_requestor.py:288\u001b[0m, in \u001b[0;36mAPIRequestor.request\u001b[0;34m(self, method, url, params, headers, files, stream, request_id, request_timeout)\u001b[0m\n\u001b[1;32m    277\u001b[0m \u001b[38;5;28;01mdef\u001b[39;00m \u001b[38;5;21mrequest\u001b[39m(\n\u001b[1;32m    278\u001b[0m     \u001b[38;5;28mself\u001b[39m,\n\u001b[1;32m    279\u001b[0m     method,\n\u001b[0;32m   (...)\u001b[0m\n\u001b[1;32m    286\u001b[0m     request_timeout: Optional[Union[\u001b[38;5;28mfloat\u001b[39m, Tuple[\u001b[38;5;28mfloat\u001b[39m, \u001b[38;5;28mfloat\u001b[39m]]] \u001b[38;5;241m=\u001b[39m \u001b[38;5;28;01mNone\u001b[39;00m,\n\u001b[1;32m    287\u001b[0m ) \u001b[38;5;241m-\u001b[39m\u001b[38;5;241m>\u001b[39m Tuple[Union[OpenAIResponse, Iterator[OpenAIResponse]], \u001b[38;5;28mbool\u001b[39m, \u001b[38;5;28mstr\u001b[39m]:\n\u001b[0;32m--> 288\u001b[0m     result \u001b[38;5;241m=\u001b[39m \u001b[38;5;28mself\u001b[39m\u001b[38;5;241m.\u001b[39mrequest_raw(\n\u001b[1;32m    289\u001b[0m         method\u001b[38;5;241m.\u001b[39mlower(),\n\u001b[1;32m    290\u001b[0m         url,\n\u001b[1;32m    291\u001b[0m         params\u001b[38;5;241m=\u001b[39mparams,\n\u001b[1;32m    292\u001b[0m         supplied_headers\u001b[38;5;241m=\u001b[39mheaders,\n\u001b[1;32m    293\u001b[0m         files\u001b[38;5;241m=\u001b[39mfiles,\n\u001b[1;32m    294\u001b[0m         stream\u001b[38;5;241m=\u001b[39mstream,\n\u001b[1;32m    295\u001b[0m         request_id\u001b[38;5;241m=\u001b[39mrequest_id,\n\u001b[1;32m    296\u001b[0m         request_timeout\u001b[38;5;241m=\u001b[39mrequest_timeout,\n\u001b[1;32m    297\u001b[0m     )\n\u001b[1;32m    298\u001b[0m     resp, got_stream \u001b[38;5;241m=\u001b[39m \u001b[38;5;28mself\u001b[39m\u001b[38;5;241m.\u001b[39m_interpret_response(result, stream)\n\u001b[1;32m    299\u001b[0m     \u001b[38;5;28;01mreturn\u001b[39;00m resp, got_stream, \u001b[38;5;28mself\u001b[39m\u001b[38;5;241m.\u001b[39mapi_key\n",
      "File \u001b[0;32m~/anaconda3/lib/python3.11/site-packages/openai/api_requestor.py:607\u001b[0m, in \u001b[0;36mAPIRequestor.request_raw\u001b[0;34m(self, method, url, params, supplied_headers, files, stream, request_id, request_timeout)\u001b[0m\n\u001b[1;32m    596\u001b[0m     result \u001b[38;5;241m=\u001b[39m _thread_context\u001b[38;5;241m.\u001b[39msession\u001b[38;5;241m.\u001b[39mrequest(\n\u001b[1;32m    597\u001b[0m         method,\n\u001b[1;32m    598\u001b[0m         abs_url,\n\u001b[0;32m   (...)\u001b[0m\n\u001b[1;32m    604\u001b[0m         proxies\u001b[38;5;241m=\u001b[39m_thread_context\u001b[38;5;241m.\u001b[39msession\u001b[38;5;241m.\u001b[39mproxies,\n\u001b[1;32m    605\u001b[0m     )\n\u001b[1;32m    606\u001b[0m \u001b[38;5;28;01mexcept\u001b[39;00m requests\u001b[38;5;241m.\u001b[39mexceptions\u001b[38;5;241m.\u001b[39mTimeout \u001b[38;5;28;01mas\u001b[39;00m e:\n\u001b[0;32m--> 607\u001b[0m     \u001b[38;5;28;01mraise\u001b[39;00m error\u001b[38;5;241m.\u001b[39mTimeout(\u001b[38;5;124m\"\u001b[39m\u001b[38;5;124mRequest timed out: \u001b[39m\u001b[38;5;132;01m{}\u001b[39;00m\u001b[38;5;124m\"\u001b[39m\u001b[38;5;241m.\u001b[39mformat(e)) \u001b[38;5;28;01mfrom\u001b[39;00m \u001b[38;5;21;01me\u001b[39;00m\n\u001b[1;32m    608\u001b[0m \u001b[38;5;28;01mexcept\u001b[39;00m requests\u001b[38;5;241m.\u001b[39mexceptions\u001b[38;5;241m.\u001b[39mRequestException \u001b[38;5;28;01mas\u001b[39;00m e:\n\u001b[1;32m    609\u001b[0m     \u001b[38;5;28;01mraise\u001b[39;00m error\u001b[38;5;241m.\u001b[39mAPIConnectionError(\n\u001b[1;32m    610\u001b[0m         \u001b[38;5;124m\"\u001b[39m\u001b[38;5;124mError communicating with OpenAI: \u001b[39m\u001b[38;5;132;01m{}\u001b[39;00m\u001b[38;5;124m\"\u001b[39m\u001b[38;5;241m.\u001b[39mformat(e)\n\u001b[1;32m    611\u001b[0m     ) \u001b[38;5;28;01mfrom\u001b[39;00m \u001b[38;5;21;01me\u001b[39;00m\n",
      "\u001b[0;31mTimeout\u001b[0m: Request timed out: HTTPSConnectionPool(host='api.openai.com', port=443): Read timed out. (read timeout=600)"
     ]
    }
   ],
   "source": [
    "#3\n",
    "prompt = f\"Answer the following question as a user: {davinci_prompts_adj1}\"\n",
    "output_full = []\n",
    "for i in range(2000,3000):\n",
    "    response = openai.ChatCompletion.create(\n",
    "        model = 'gpt-3.5-turbo',\n",
    "        messages = [{'role': 'user', 'content': prompt[i]}],\n",
    "        temperature = 0.6,\n",
    "        max_tokens = 200\n",
    "      )\n",
    "  \n",
    "    chat_response = response['choices'][0]['message']['content']\n",
    "    output_full.append(chat_response)"
   ]
  },
  {
   "cell_type": "code",
   "execution_count": 151,
   "id": "cc7f3ca5-4e45-4f98-a3c0-a0f5a821a49b",
   "metadata": {
    "tags": []
   },
   "outputs": [
    {
     "ename": "Timeout",
     "evalue": "Request timed out: HTTPSConnectionPool(host='api.openai.com', port=443): Read timed out. (read timeout=600)",
     "output_type": "error",
     "traceback": [
      "\u001b[0;31m---------------------------------------------------------------------------\u001b[0m",
      "\u001b[0;31mTimeoutError\u001b[0m                              Traceback (most recent call last)",
      "File \u001b[0;32m~/anaconda3/lib/python3.11/site-packages/urllib3/connectionpool.py:466\u001b[0m, in \u001b[0;36mHTTPConnectionPool._make_request\u001b[0;34m(self, conn, method, url, timeout, chunked, **httplib_request_kw)\u001b[0m\n\u001b[1;32m    462\u001b[0m         \u001b[38;5;28;01mexcept\u001b[39;00m \u001b[38;5;167;01mBaseException\u001b[39;00m \u001b[38;5;28;01mas\u001b[39;00m e:\n\u001b[1;32m    463\u001b[0m             \u001b[38;5;66;03m# Remove the TypeError from the exception chain in\u001b[39;00m\n\u001b[1;32m    464\u001b[0m             \u001b[38;5;66;03m# Python 3 (including for exceptions like SystemExit).\u001b[39;00m\n\u001b[1;32m    465\u001b[0m             \u001b[38;5;66;03m# Otherwise it looks like a bug in the code.\u001b[39;00m\n\u001b[0;32m--> 466\u001b[0m             six\u001b[38;5;241m.\u001b[39mraise_from(e, \u001b[38;5;28;01mNone\u001b[39;00m)\n\u001b[1;32m    467\u001b[0m \u001b[38;5;28;01mexcept\u001b[39;00m (SocketTimeout, BaseSSLError, SocketError) \u001b[38;5;28;01mas\u001b[39;00m e:\n",
      "File \u001b[0;32m<string>:3\u001b[0m, in \u001b[0;36mraise_from\u001b[0;34m(value, from_value)\u001b[0m\n",
      "File \u001b[0;32m~/anaconda3/lib/python3.11/site-packages/urllib3/connectionpool.py:461\u001b[0m, in \u001b[0;36mHTTPConnectionPool._make_request\u001b[0;34m(self, conn, method, url, timeout, chunked, **httplib_request_kw)\u001b[0m\n\u001b[1;32m    460\u001b[0m \u001b[38;5;28;01mtry\u001b[39;00m:\n\u001b[0;32m--> 461\u001b[0m     httplib_response \u001b[38;5;241m=\u001b[39m conn\u001b[38;5;241m.\u001b[39mgetresponse()\n\u001b[1;32m    462\u001b[0m \u001b[38;5;28;01mexcept\u001b[39;00m \u001b[38;5;167;01mBaseException\u001b[39;00m \u001b[38;5;28;01mas\u001b[39;00m e:\n\u001b[1;32m    463\u001b[0m     \u001b[38;5;66;03m# Remove the TypeError from the exception chain in\u001b[39;00m\n\u001b[1;32m    464\u001b[0m     \u001b[38;5;66;03m# Python 3 (including for exceptions like SystemExit).\u001b[39;00m\n\u001b[1;32m    465\u001b[0m     \u001b[38;5;66;03m# Otherwise it looks like a bug in the code.\u001b[39;00m\n",
      "File \u001b[0;32m~/anaconda3/lib/python3.11/http/client.py:1378\u001b[0m, in \u001b[0;36mHTTPConnection.getresponse\u001b[0;34m(self)\u001b[0m\n\u001b[1;32m   1377\u001b[0m \u001b[38;5;28;01mtry\u001b[39;00m:\n\u001b[0;32m-> 1378\u001b[0m     response\u001b[38;5;241m.\u001b[39mbegin()\n\u001b[1;32m   1379\u001b[0m \u001b[38;5;28;01mexcept\u001b[39;00m \u001b[38;5;167;01mConnectionError\u001b[39;00m:\n",
      "File \u001b[0;32m~/anaconda3/lib/python3.11/http/client.py:318\u001b[0m, in \u001b[0;36mHTTPResponse.begin\u001b[0;34m(self)\u001b[0m\n\u001b[1;32m    317\u001b[0m \u001b[38;5;28;01mwhile\u001b[39;00m \u001b[38;5;28;01mTrue\u001b[39;00m:\n\u001b[0;32m--> 318\u001b[0m     version, status, reason \u001b[38;5;241m=\u001b[39m \u001b[38;5;28mself\u001b[39m\u001b[38;5;241m.\u001b[39m_read_status()\n\u001b[1;32m    319\u001b[0m     \u001b[38;5;28;01mif\u001b[39;00m status \u001b[38;5;241m!=\u001b[39m CONTINUE:\n",
      "File \u001b[0;32m~/anaconda3/lib/python3.11/http/client.py:279\u001b[0m, in \u001b[0;36mHTTPResponse._read_status\u001b[0;34m(self)\u001b[0m\n\u001b[1;32m    278\u001b[0m \u001b[38;5;28;01mdef\u001b[39;00m \u001b[38;5;21m_read_status\u001b[39m(\u001b[38;5;28mself\u001b[39m):\n\u001b[0;32m--> 279\u001b[0m     line \u001b[38;5;241m=\u001b[39m \u001b[38;5;28mstr\u001b[39m(\u001b[38;5;28mself\u001b[39m\u001b[38;5;241m.\u001b[39mfp\u001b[38;5;241m.\u001b[39mreadline(_MAXLINE \u001b[38;5;241m+\u001b[39m \u001b[38;5;241m1\u001b[39m), \u001b[38;5;124m\"\u001b[39m\u001b[38;5;124miso-8859-1\u001b[39m\u001b[38;5;124m\"\u001b[39m)\n\u001b[1;32m    280\u001b[0m     \u001b[38;5;28;01mif\u001b[39;00m \u001b[38;5;28mlen\u001b[39m(line) \u001b[38;5;241m>\u001b[39m _MAXLINE:\n",
      "File \u001b[0;32m~/anaconda3/lib/python3.11/socket.py:706\u001b[0m, in \u001b[0;36mSocketIO.readinto\u001b[0;34m(self, b)\u001b[0m\n\u001b[1;32m    705\u001b[0m \u001b[38;5;28;01mtry\u001b[39;00m:\n\u001b[0;32m--> 706\u001b[0m     \u001b[38;5;28;01mreturn\u001b[39;00m \u001b[38;5;28mself\u001b[39m\u001b[38;5;241m.\u001b[39m_sock\u001b[38;5;241m.\u001b[39mrecv_into(b)\n\u001b[1;32m    707\u001b[0m \u001b[38;5;28;01mexcept\u001b[39;00m timeout:\n",
      "File \u001b[0;32m~/anaconda3/lib/python3.11/ssl.py:1278\u001b[0m, in \u001b[0;36mSSLSocket.recv_into\u001b[0;34m(self, buffer, nbytes, flags)\u001b[0m\n\u001b[1;32m   1275\u001b[0m         \u001b[38;5;28;01mraise\u001b[39;00m \u001b[38;5;167;01mValueError\u001b[39;00m(\n\u001b[1;32m   1276\u001b[0m           \u001b[38;5;124m\"\u001b[39m\u001b[38;5;124mnon-zero flags not allowed in calls to recv_into() on \u001b[39m\u001b[38;5;132;01m%s\u001b[39;00m\u001b[38;5;124m\"\u001b[39m \u001b[38;5;241m%\u001b[39m\n\u001b[1;32m   1277\u001b[0m           \u001b[38;5;28mself\u001b[39m\u001b[38;5;241m.\u001b[39m\u001b[38;5;18m__class__\u001b[39m)\n\u001b[0;32m-> 1278\u001b[0m     \u001b[38;5;28;01mreturn\u001b[39;00m \u001b[38;5;28mself\u001b[39m\u001b[38;5;241m.\u001b[39mread(nbytes, buffer)\n\u001b[1;32m   1279\u001b[0m \u001b[38;5;28;01melse\u001b[39;00m:\n",
      "File \u001b[0;32m~/anaconda3/lib/python3.11/ssl.py:1134\u001b[0m, in \u001b[0;36mSSLSocket.read\u001b[0;34m(self, len, buffer)\u001b[0m\n\u001b[1;32m   1133\u001b[0m \u001b[38;5;28;01mif\u001b[39;00m buffer \u001b[38;5;129;01mis\u001b[39;00m \u001b[38;5;129;01mnot\u001b[39;00m \u001b[38;5;28;01mNone\u001b[39;00m:\n\u001b[0;32m-> 1134\u001b[0m     \u001b[38;5;28;01mreturn\u001b[39;00m \u001b[38;5;28mself\u001b[39m\u001b[38;5;241m.\u001b[39m_sslobj\u001b[38;5;241m.\u001b[39mread(\u001b[38;5;28mlen\u001b[39m, buffer)\n\u001b[1;32m   1135\u001b[0m \u001b[38;5;28;01melse\u001b[39;00m:\n",
      "\u001b[0;31mTimeoutError\u001b[0m: The read operation timed out",
      "\nDuring handling of the above exception, another exception occurred:\n",
      "\u001b[0;31mReadTimeoutError\u001b[0m                          Traceback (most recent call last)",
      "File \u001b[0;32m~/anaconda3/lib/python3.11/site-packages/requests/adapters.py:486\u001b[0m, in \u001b[0;36mHTTPAdapter.send\u001b[0;34m(self, request, stream, timeout, verify, cert, proxies)\u001b[0m\n\u001b[1;32m    485\u001b[0m \u001b[38;5;28;01mtry\u001b[39;00m:\n\u001b[0;32m--> 486\u001b[0m     resp \u001b[38;5;241m=\u001b[39m conn\u001b[38;5;241m.\u001b[39murlopen(\n\u001b[1;32m    487\u001b[0m         method\u001b[38;5;241m=\u001b[39mrequest\u001b[38;5;241m.\u001b[39mmethod,\n\u001b[1;32m    488\u001b[0m         url\u001b[38;5;241m=\u001b[39murl,\n\u001b[1;32m    489\u001b[0m         body\u001b[38;5;241m=\u001b[39mrequest\u001b[38;5;241m.\u001b[39mbody,\n\u001b[1;32m    490\u001b[0m         headers\u001b[38;5;241m=\u001b[39mrequest\u001b[38;5;241m.\u001b[39mheaders,\n\u001b[1;32m    491\u001b[0m         redirect\u001b[38;5;241m=\u001b[39m\u001b[38;5;28;01mFalse\u001b[39;00m,\n\u001b[1;32m    492\u001b[0m         assert_same_host\u001b[38;5;241m=\u001b[39m\u001b[38;5;28;01mFalse\u001b[39;00m,\n\u001b[1;32m    493\u001b[0m         preload_content\u001b[38;5;241m=\u001b[39m\u001b[38;5;28;01mFalse\u001b[39;00m,\n\u001b[1;32m    494\u001b[0m         decode_content\u001b[38;5;241m=\u001b[39m\u001b[38;5;28;01mFalse\u001b[39;00m,\n\u001b[1;32m    495\u001b[0m         retries\u001b[38;5;241m=\u001b[39m\u001b[38;5;28mself\u001b[39m\u001b[38;5;241m.\u001b[39mmax_retries,\n\u001b[1;32m    496\u001b[0m         timeout\u001b[38;5;241m=\u001b[39mtimeout,\n\u001b[1;32m    497\u001b[0m         chunked\u001b[38;5;241m=\u001b[39mchunked,\n\u001b[1;32m    498\u001b[0m     )\n\u001b[1;32m    500\u001b[0m \u001b[38;5;28;01mexcept\u001b[39;00m (ProtocolError, \u001b[38;5;167;01mOSError\u001b[39;00m) \u001b[38;5;28;01mas\u001b[39;00m err:\n",
      "File \u001b[0;32m~/anaconda3/lib/python3.11/site-packages/urllib3/connectionpool.py:798\u001b[0m, in \u001b[0;36mHTTPConnectionPool.urlopen\u001b[0;34m(self, method, url, body, headers, retries, redirect, assert_same_host, timeout, pool_timeout, release_conn, chunked, body_pos, **response_kw)\u001b[0m\n\u001b[1;32m    796\u001b[0m     e \u001b[38;5;241m=\u001b[39m ProtocolError(\u001b[38;5;124m\"\u001b[39m\u001b[38;5;124mConnection aborted.\u001b[39m\u001b[38;5;124m\"\u001b[39m, e)\n\u001b[0;32m--> 798\u001b[0m retries \u001b[38;5;241m=\u001b[39m retries\u001b[38;5;241m.\u001b[39mincrement(\n\u001b[1;32m    799\u001b[0m     method, url, error\u001b[38;5;241m=\u001b[39me, _pool\u001b[38;5;241m=\u001b[39m\u001b[38;5;28mself\u001b[39m, _stacktrace\u001b[38;5;241m=\u001b[39msys\u001b[38;5;241m.\u001b[39mexc_info()[\u001b[38;5;241m2\u001b[39m]\n\u001b[1;32m    800\u001b[0m )\n\u001b[1;32m    801\u001b[0m retries\u001b[38;5;241m.\u001b[39msleep()\n",
      "File \u001b[0;32m~/anaconda3/lib/python3.11/site-packages/urllib3/util/retry.py:550\u001b[0m, in \u001b[0;36mRetry.increment\u001b[0;34m(self, method, url, response, error, _pool, _stacktrace)\u001b[0m\n\u001b[1;32m    549\u001b[0m \u001b[38;5;28;01mif\u001b[39;00m read \u001b[38;5;129;01mis\u001b[39;00m \u001b[38;5;28;01mFalse\u001b[39;00m \u001b[38;5;129;01mor\u001b[39;00m \u001b[38;5;129;01mnot\u001b[39;00m \u001b[38;5;28mself\u001b[39m\u001b[38;5;241m.\u001b[39m_is_method_retryable(method):\n\u001b[0;32m--> 550\u001b[0m     \u001b[38;5;28;01mraise\u001b[39;00m six\u001b[38;5;241m.\u001b[39mreraise(\u001b[38;5;28mtype\u001b[39m(error), error, _stacktrace)\n\u001b[1;32m    551\u001b[0m \u001b[38;5;28;01melif\u001b[39;00m read \u001b[38;5;129;01mis\u001b[39;00m \u001b[38;5;129;01mnot\u001b[39;00m \u001b[38;5;28;01mNone\u001b[39;00m:\n",
      "File \u001b[0;32m~/anaconda3/lib/python3.11/site-packages/urllib3/packages/six.py:770\u001b[0m, in \u001b[0;36mreraise\u001b[0;34m(tp, value, tb)\u001b[0m\n\u001b[1;32m    769\u001b[0m         \u001b[38;5;28;01mraise\u001b[39;00m value\u001b[38;5;241m.\u001b[39mwith_traceback(tb)\n\u001b[0;32m--> 770\u001b[0m     \u001b[38;5;28;01mraise\u001b[39;00m value\n\u001b[1;32m    771\u001b[0m \u001b[38;5;28;01mfinally\u001b[39;00m:\n",
      "File \u001b[0;32m~/anaconda3/lib/python3.11/site-packages/urllib3/connectionpool.py:714\u001b[0m, in \u001b[0;36mHTTPConnectionPool.urlopen\u001b[0;34m(self, method, url, body, headers, retries, redirect, assert_same_host, timeout, pool_timeout, release_conn, chunked, body_pos, **response_kw)\u001b[0m\n\u001b[1;32m    713\u001b[0m \u001b[38;5;66;03m# Make the request on the httplib connection object.\u001b[39;00m\n\u001b[0;32m--> 714\u001b[0m httplib_response \u001b[38;5;241m=\u001b[39m \u001b[38;5;28mself\u001b[39m\u001b[38;5;241m.\u001b[39m_make_request(\n\u001b[1;32m    715\u001b[0m     conn,\n\u001b[1;32m    716\u001b[0m     method,\n\u001b[1;32m    717\u001b[0m     url,\n\u001b[1;32m    718\u001b[0m     timeout\u001b[38;5;241m=\u001b[39mtimeout_obj,\n\u001b[1;32m    719\u001b[0m     body\u001b[38;5;241m=\u001b[39mbody,\n\u001b[1;32m    720\u001b[0m     headers\u001b[38;5;241m=\u001b[39mheaders,\n\u001b[1;32m    721\u001b[0m     chunked\u001b[38;5;241m=\u001b[39mchunked,\n\u001b[1;32m    722\u001b[0m )\n\u001b[1;32m    724\u001b[0m \u001b[38;5;66;03m# If we're going to release the connection in ``finally:``, then\u001b[39;00m\n\u001b[1;32m    725\u001b[0m \u001b[38;5;66;03m# the response doesn't need to know about the connection. Otherwise\u001b[39;00m\n\u001b[1;32m    726\u001b[0m \u001b[38;5;66;03m# it will also try to release it and we'll have a double-release\u001b[39;00m\n\u001b[1;32m    727\u001b[0m \u001b[38;5;66;03m# mess.\u001b[39;00m\n",
      "File \u001b[0;32m~/anaconda3/lib/python3.11/site-packages/urllib3/connectionpool.py:468\u001b[0m, in \u001b[0;36mHTTPConnectionPool._make_request\u001b[0;34m(self, conn, method, url, timeout, chunked, **httplib_request_kw)\u001b[0m\n\u001b[1;32m    467\u001b[0m \u001b[38;5;28;01mexcept\u001b[39;00m (SocketTimeout, BaseSSLError, SocketError) \u001b[38;5;28;01mas\u001b[39;00m e:\n\u001b[0;32m--> 468\u001b[0m     \u001b[38;5;28mself\u001b[39m\u001b[38;5;241m.\u001b[39m_raise_timeout(err\u001b[38;5;241m=\u001b[39me, url\u001b[38;5;241m=\u001b[39murl, timeout_value\u001b[38;5;241m=\u001b[39mread_timeout)\n\u001b[1;32m    469\u001b[0m     \u001b[38;5;28;01mraise\u001b[39;00m\n",
      "File \u001b[0;32m~/anaconda3/lib/python3.11/site-packages/urllib3/connectionpool.py:357\u001b[0m, in \u001b[0;36mHTTPConnectionPool._raise_timeout\u001b[0;34m(self, err, url, timeout_value)\u001b[0m\n\u001b[1;32m    356\u001b[0m \u001b[38;5;28;01mif\u001b[39;00m \u001b[38;5;28misinstance\u001b[39m(err, SocketTimeout):\n\u001b[0;32m--> 357\u001b[0m     \u001b[38;5;28;01mraise\u001b[39;00m ReadTimeoutError(\n\u001b[1;32m    358\u001b[0m         \u001b[38;5;28mself\u001b[39m, url, \u001b[38;5;124m\"\u001b[39m\u001b[38;5;124mRead timed out. (read timeout=\u001b[39m\u001b[38;5;132;01m%s\u001b[39;00m\u001b[38;5;124m)\u001b[39m\u001b[38;5;124m\"\u001b[39m \u001b[38;5;241m%\u001b[39m timeout_value\n\u001b[1;32m    359\u001b[0m     )\n\u001b[1;32m    361\u001b[0m \u001b[38;5;66;03m# See the above comment about EAGAIN in Python 3. In Python 2 we have\u001b[39;00m\n\u001b[1;32m    362\u001b[0m \u001b[38;5;66;03m# to specifically catch it and throw the timeout error\u001b[39;00m\n",
      "\u001b[0;31mReadTimeoutError\u001b[0m: HTTPSConnectionPool(host='api.openai.com', port=443): Read timed out. (read timeout=600)",
      "\nDuring handling of the above exception, another exception occurred:\n",
      "\u001b[0;31mReadTimeout\u001b[0m                               Traceback (most recent call last)",
      "File \u001b[0;32m~/anaconda3/lib/python3.11/site-packages/openai/api_requestor.py:596\u001b[0m, in \u001b[0;36mAPIRequestor.request_raw\u001b[0;34m(self, method, url, params, supplied_headers, files, stream, request_id, request_timeout)\u001b[0m\n\u001b[1;32m    595\u001b[0m \u001b[38;5;28;01mtry\u001b[39;00m:\n\u001b[0;32m--> 596\u001b[0m     result \u001b[38;5;241m=\u001b[39m _thread_context\u001b[38;5;241m.\u001b[39msession\u001b[38;5;241m.\u001b[39mrequest(\n\u001b[1;32m    597\u001b[0m         method,\n\u001b[1;32m    598\u001b[0m         abs_url,\n\u001b[1;32m    599\u001b[0m         headers\u001b[38;5;241m=\u001b[39mheaders,\n\u001b[1;32m    600\u001b[0m         data\u001b[38;5;241m=\u001b[39mdata,\n\u001b[1;32m    601\u001b[0m         files\u001b[38;5;241m=\u001b[39mfiles,\n\u001b[1;32m    602\u001b[0m         stream\u001b[38;5;241m=\u001b[39mstream,\n\u001b[1;32m    603\u001b[0m         timeout\u001b[38;5;241m=\u001b[39mrequest_timeout \u001b[38;5;28;01mif\u001b[39;00m request_timeout \u001b[38;5;28;01melse\u001b[39;00m TIMEOUT_SECS,\n\u001b[1;32m    604\u001b[0m         proxies\u001b[38;5;241m=\u001b[39m_thread_context\u001b[38;5;241m.\u001b[39msession\u001b[38;5;241m.\u001b[39mproxies,\n\u001b[1;32m    605\u001b[0m     )\n\u001b[1;32m    606\u001b[0m \u001b[38;5;28;01mexcept\u001b[39;00m requests\u001b[38;5;241m.\u001b[39mexceptions\u001b[38;5;241m.\u001b[39mTimeout \u001b[38;5;28;01mas\u001b[39;00m e:\n",
      "File \u001b[0;32m~/anaconda3/lib/python3.11/site-packages/requests/sessions.py:589\u001b[0m, in \u001b[0;36mSession.request\u001b[0;34m(self, method, url, params, data, headers, cookies, files, auth, timeout, allow_redirects, proxies, hooks, stream, verify, cert, json)\u001b[0m\n\u001b[1;32m    588\u001b[0m send_kwargs\u001b[38;5;241m.\u001b[39mupdate(settings)\n\u001b[0;32m--> 589\u001b[0m resp \u001b[38;5;241m=\u001b[39m \u001b[38;5;28mself\u001b[39m\u001b[38;5;241m.\u001b[39msend(prep, \u001b[38;5;241m*\u001b[39m\u001b[38;5;241m*\u001b[39msend_kwargs)\n\u001b[1;32m    591\u001b[0m \u001b[38;5;28;01mreturn\u001b[39;00m resp\n",
      "File \u001b[0;32m~/anaconda3/lib/python3.11/site-packages/requests/sessions.py:703\u001b[0m, in \u001b[0;36mSession.send\u001b[0;34m(self, request, **kwargs)\u001b[0m\n\u001b[1;32m    702\u001b[0m \u001b[38;5;66;03m# Send the request\u001b[39;00m\n\u001b[0;32m--> 703\u001b[0m r \u001b[38;5;241m=\u001b[39m adapter\u001b[38;5;241m.\u001b[39msend(request, \u001b[38;5;241m*\u001b[39m\u001b[38;5;241m*\u001b[39mkwargs)\n\u001b[1;32m    705\u001b[0m \u001b[38;5;66;03m# Total elapsed time of the request (approximately)\u001b[39;00m\n",
      "File \u001b[0;32m~/anaconda3/lib/python3.11/site-packages/requests/adapters.py:532\u001b[0m, in \u001b[0;36mHTTPAdapter.send\u001b[0;34m(self, request, stream, timeout, verify, cert, proxies)\u001b[0m\n\u001b[1;32m    531\u001b[0m \u001b[38;5;28;01melif\u001b[39;00m \u001b[38;5;28misinstance\u001b[39m(e, ReadTimeoutError):\n\u001b[0;32m--> 532\u001b[0m     \u001b[38;5;28;01mraise\u001b[39;00m ReadTimeout(e, request\u001b[38;5;241m=\u001b[39mrequest)\n\u001b[1;32m    533\u001b[0m \u001b[38;5;28;01melif\u001b[39;00m \u001b[38;5;28misinstance\u001b[39m(e, _InvalidHeader):\n",
      "\u001b[0;31mReadTimeout\u001b[0m: HTTPSConnectionPool(host='api.openai.com', port=443): Read timed out. (read timeout=600)",
      "\nThe above exception was the direct cause of the following exception:\n",
      "\u001b[0;31mTimeout\u001b[0m                                   Traceback (most recent call last)",
      "Cell \u001b[0;32mIn[151], line 5\u001b[0m\n\u001b[1;32m      3\u001b[0m output_full \u001b[38;5;241m=\u001b[39m []\n\u001b[1;32m      4\u001b[0m \u001b[38;5;28;01mfor\u001b[39;00m i \u001b[38;5;129;01min\u001b[39;00m \u001b[38;5;28mrange\u001b[39m(\u001b[38;5;28mlen\u001b[39m(prompt)):\n\u001b[0;32m----> 5\u001b[0m     response \u001b[38;5;241m=\u001b[39m openai\u001b[38;5;241m.\u001b[39mChatCompletion\u001b[38;5;241m.\u001b[39mcreate(\n\u001b[1;32m      6\u001b[0m         model \u001b[38;5;241m=\u001b[39m \u001b[38;5;124m'\u001b[39m\u001b[38;5;124mgpt-3.5-turbo\u001b[39m\u001b[38;5;124m'\u001b[39m,\n\u001b[1;32m      7\u001b[0m         messages \u001b[38;5;241m=\u001b[39m [{\u001b[38;5;124m'\u001b[39m\u001b[38;5;124mrole\u001b[39m\u001b[38;5;124m'\u001b[39m: \u001b[38;5;124m'\u001b[39m\u001b[38;5;124muser\u001b[39m\u001b[38;5;124m'\u001b[39m, \u001b[38;5;124m'\u001b[39m\u001b[38;5;124mcontent\u001b[39m\u001b[38;5;124m'\u001b[39m: prompt[i]}],\n\u001b[1;32m      8\u001b[0m         temperature \u001b[38;5;241m=\u001b[39m \u001b[38;5;241m0.6\u001b[39m,\n\u001b[1;32m      9\u001b[0m         max_tokens \u001b[38;5;241m=\u001b[39m \u001b[38;5;241m200\u001b[39m\n\u001b[1;32m     10\u001b[0m       )\n\u001b[1;32m     12\u001b[0m     chat_response \u001b[38;5;241m=\u001b[39m response[\u001b[38;5;124m'\u001b[39m\u001b[38;5;124mchoices\u001b[39m\u001b[38;5;124m'\u001b[39m][\u001b[38;5;241m0\u001b[39m][\u001b[38;5;124m'\u001b[39m\u001b[38;5;124mmessage\u001b[39m\u001b[38;5;124m'\u001b[39m][\u001b[38;5;124m'\u001b[39m\u001b[38;5;124mcontent\u001b[39m\u001b[38;5;124m'\u001b[39m]\n\u001b[1;32m     13\u001b[0m     output_full\u001b[38;5;241m.\u001b[39mappend(chat_response)\n",
      "File \u001b[0;32m~/anaconda3/lib/python3.11/site-packages/openai/api_resources/chat_completion.py:25\u001b[0m, in \u001b[0;36mChatCompletion.create\u001b[0;34m(cls, *args, **kwargs)\u001b[0m\n\u001b[1;32m     23\u001b[0m \u001b[38;5;28;01mwhile\u001b[39;00m \u001b[38;5;28;01mTrue\u001b[39;00m:\n\u001b[1;32m     24\u001b[0m     \u001b[38;5;28;01mtry\u001b[39;00m:\n\u001b[0;32m---> 25\u001b[0m         \u001b[38;5;28;01mreturn\u001b[39;00m \u001b[38;5;28msuper\u001b[39m()\u001b[38;5;241m.\u001b[39mcreate(\u001b[38;5;241m*\u001b[39margs, \u001b[38;5;241m*\u001b[39m\u001b[38;5;241m*\u001b[39mkwargs)\n\u001b[1;32m     26\u001b[0m     \u001b[38;5;28;01mexcept\u001b[39;00m TryAgain \u001b[38;5;28;01mas\u001b[39;00m e:\n\u001b[1;32m     27\u001b[0m         \u001b[38;5;28;01mif\u001b[39;00m timeout \u001b[38;5;129;01mis\u001b[39;00m \u001b[38;5;129;01mnot\u001b[39;00m \u001b[38;5;28;01mNone\u001b[39;00m \u001b[38;5;129;01mand\u001b[39;00m time\u001b[38;5;241m.\u001b[39mtime() \u001b[38;5;241m>\u001b[39m start \u001b[38;5;241m+\u001b[39m timeout:\n",
      "File \u001b[0;32m~/anaconda3/lib/python3.11/site-packages/openai/api_resources/abstract/engine_api_resource.py:153\u001b[0m, in \u001b[0;36mEngineAPIResource.create\u001b[0;34m(cls, api_key, api_base, api_type, request_id, api_version, organization, **params)\u001b[0m\n\u001b[1;32m    127\u001b[0m \u001b[38;5;129m@classmethod\u001b[39m\n\u001b[1;32m    128\u001b[0m \u001b[38;5;28;01mdef\u001b[39;00m \u001b[38;5;21mcreate\u001b[39m(\n\u001b[1;32m    129\u001b[0m     \u001b[38;5;28mcls\u001b[39m,\n\u001b[0;32m   (...)\u001b[0m\n\u001b[1;32m    136\u001b[0m     \u001b[38;5;241m*\u001b[39m\u001b[38;5;241m*\u001b[39mparams,\n\u001b[1;32m    137\u001b[0m ):\n\u001b[1;32m    138\u001b[0m     (\n\u001b[1;32m    139\u001b[0m         deployment_id,\n\u001b[1;32m    140\u001b[0m         engine,\n\u001b[0;32m   (...)\u001b[0m\n\u001b[1;32m    150\u001b[0m         api_key, api_base, api_type, api_version, organization, \u001b[38;5;241m*\u001b[39m\u001b[38;5;241m*\u001b[39mparams\n\u001b[1;32m    151\u001b[0m     )\n\u001b[0;32m--> 153\u001b[0m     response, _, api_key \u001b[38;5;241m=\u001b[39m requestor\u001b[38;5;241m.\u001b[39mrequest(\n\u001b[1;32m    154\u001b[0m         \u001b[38;5;124m\"\u001b[39m\u001b[38;5;124mpost\u001b[39m\u001b[38;5;124m\"\u001b[39m,\n\u001b[1;32m    155\u001b[0m         url,\n\u001b[1;32m    156\u001b[0m         params\u001b[38;5;241m=\u001b[39mparams,\n\u001b[1;32m    157\u001b[0m         headers\u001b[38;5;241m=\u001b[39mheaders,\n\u001b[1;32m    158\u001b[0m         stream\u001b[38;5;241m=\u001b[39mstream,\n\u001b[1;32m    159\u001b[0m         request_id\u001b[38;5;241m=\u001b[39mrequest_id,\n\u001b[1;32m    160\u001b[0m         request_timeout\u001b[38;5;241m=\u001b[39mrequest_timeout,\n\u001b[1;32m    161\u001b[0m     )\n\u001b[1;32m    163\u001b[0m     \u001b[38;5;28;01mif\u001b[39;00m stream:\n\u001b[1;32m    164\u001b[0m         \u001b[38;5;66;03m# must be an iterator\u001b[39;00m\n\u001b[1;32m    165\u001b[0m         \u001b[38;5;28;01massert\u001b[39;00m \u001b[38;5;129;01mnot\u001b[39;00m \u001b[38;5;28misinstance\u001b[39m(response, OpenAIResponse)\n",
      "File \u001b[0;32m~/anaconda3/lib/python3.11/site-packages/openai/api_requestor.py:288\u001b[0m, in \u001b[0;36mAPIRequestor.request\u001b[0;34m(self, method, url, params, headers, files, stream, request_id, request_timeout)\u001b[0m\n\u001b[1;32m    277\u001b[0m \u001b[38;5;28;01mdef\u001b[39;00m \u001b[38;5;21mrequest\u001b[39m(\n\u001b[1;32m    278\u001b[0m     \u001b[38;5;28mself\u001b[39m,\n\u001b[1;32m    279\u001b[0m     method,\n\u001b[0;32m   (...)\u001b[0m\n\u001b[1;32m    286\u001b[0m     request_timeout: Optional[Union[\u001b[38;5;28mfloat\u001b[39m, Tuple[\u001b[38;5;28mfloat\u001b[39m, \u001b[38;5;28mfloat\u001b[39m]]] \u001b[38;5;241m=\u001b[39m \u001b[38;5;28;01mNone\u001b[39;00m,\n\u001b[1;32m    287\u001b[0m ) \u001b[38;5;241m-\u001b[39m\u001b[38;5;241m>\u001b[39m Tuple[Union[OpenAIResponse, Iterator[OpenAIResponse]], \u001b[38;5;28mbool\u001b[39m, \u001b[38;5;28mstr\u001b[39m]:\n\u001b[0;32m--> 288\u001b[0m     result \u001b[38;5;241m=\u001b[39m \u001b[38;5;28mself\u001b[39m\u001b[38;5;241m.\u001b[39mrequest_raw(\n\u001b[1;32m    289\u001b[0m         method\u001b[38;5;241m.\u001b[39mlower(),\n\u001b[1;32m    290\u001b[0m         url,\n\u001b[1;32m    291\u001b[0m         params\u001b[38;5;241m=\u001b[39mparams,\n\u001b[1;32m    292\u001b[0m         supplied_headers\u001b[38;5;241m=\u001b[39mheaders,\n\u001b[1;32m    293\u001b[0m         files\u001b[38;5;241m=\u001b[39mfiles,\n\u001b[1;32m    294\u001b[0m         stream\u001b[38;5;241m=\u001b[39mstream,\n\u001b[1;32m    295\u001b[0m         request_id\u001b[38;5;241m=\u001b[39mrequest_id,\n\u001b[1;32m    296\u001b[0m         request_timeout\u001b[38;5;241m=\u001b[39mrequest_timeout,\n\u001b[1;32m    297\u001b[0m     )\n\u001b[1;32m    298\u001b[0m     resp, got_stream \u001b[38;5;241m=\u001b[39m \u001b[38;5;28mself\u001b[39m\u001b[38;5;241m.\u001b[39m_interpret_response(result, stream)\n\u001b[1;32m    299\u001b[0m     \u001b[38;5;28;01mreturn\u001b[39;00m resp, got_stream, \u001b[38;5;28mself\u001b[39m\u001b[38;5;241m.\u001b[39mapi_key\n",
      "File \u001b[0;32m~/anaconda3/lib/python3.11/site-packages/openai/api_requestor.py:607\u001b[0m, in \u001b[0;36mAPIRequestor.request_raw\u001b[0;34m(self, method, url, params, supplied_headers, files, stream, request_id, request_timeout)\u001b[0m\n\u001b[1;32m    596\u001b[0m     result \u001b[38;5;241m=\u001b[39m _thread_context\u001b[38;5;241m.\u001b[39msession\u001b[38;5;241m.\u001b[39mrequest(\n\u001b[1;32m    597\u001b[0m         method,\n\u001b[1;32m    598\u001b[0m         abs_url,\n\u001b[0;32m   (...)\u001b[0m\n\u001b[1;32m    604\u001b[0m         proxies\u001b[38;5;241m=\u001b[39m_thread_context\u001b[38;5;241m.\u001b[39msession\u001b[38;5;241m.\u001b[39mproxies,\n\u001b[1;32m    605\u001b[0m     )\n\u001b[1;32m    606\u001b[0m \u001b[38;5;28;01mexcept\u001b[39;00m requests\u001b[38;5;241m.\u001b[39mexceptions\u001b[38;5;241m.\u001b[39mTimeout \u001b[38;5;28;01mas\u001b[39;00m e:\n\u001b[0;32m--> 607\u001b[0m     \u001b[38;5;28;01mraise\u001b[39;00m error\u001b[38;5;241m.\u001b[39mTimeout(\u001b[38;5;124m\"\u001b[39m\u001b[38;5;124mRequest timed out: \u001b[39m\u001b[38;5;132;01m{}\u001b[39;00m\u001b[38;5;124m\"\u001b[39m\u001b[38;5;241m.\u001b[39mformat(e)) \u001b[38;5;28;01mfrom\u001b[39;00m \u001b[38;5;21;01me\u001b[39;00m\n\u001b[1;32m    608\u001b[0m \u001b[38;5;28;01mexcept\u001b[39;00m requests\u001b[38;5;241m.\u001b[39mexceptions\u001b[38;5;241m.\u001b[39mRequestException \u001b[38;5;28;01mas\u001b[39;00m e:\n\u001b[1;32m    609\u001b[0m     \u001b[38;5;28;01mraise\u001b[39;00m error\u001b[38;5;241m.\u001b[39mAPIConnectionError(\n\u001b[1;32m    610\u001b[0m         \u001b[38;5;124m\"\u001b[39m\u001b[38;5;124mError communicating with OpenAI: \u001b[39m\u001b[38;5;132;01m{}\u001b[39;00m\u001b[38;5;124m\"\u001b[39m\u001b[38;5;241m.\u001b[39mformat(e)\n\u001b[1;32m    611\u001b[0m     ) \u001b[38;5;28;01mfrom\u001b[39;00m \u001b[38;5;21;01me\u001b[39;00m\n",
      "\u001b[0;31mTimeout\u001b[0m: Request timed out: HTTPSConnectionPool(host='api.openai.com', port=443): Read timed out. (read timeout=600)"
     ]
    }
   ],
   "source": [
    "#2\n",
    "prompt = f\"Answer the following question as a user: {davinci_prompts_adj1}\"\n",
    "output_full = []\n",
    "for i in range(2000,3000):\n",
    "    response = openai.ChatCompletion.create(\n",
    "        model = 'gpt-3.5-turbo',\n",
    "        messages = [{'role': 'user', 'content': prompt[i]}],\n",
    "        temperature = 0.6,\n",
    "        max_tokens = 200\n",
    "      )\n",
    "  \n",
    "    chat_response = response['choices'][0]['message']['content']\n",
    "    output_full.append(chat_response)"
   ]
  },
  {
   "cell_type": "code",
   "execution_count": null,
   "id": "7b0029bd-f1d6-4e32-8af7-eaa62e07f2b0",
   "metadata": {},
   "outputs": [],
   "source": []
  },
  {
   "cell_type": "code",
   "execution_count": 154,
   "id": "6ee54373-52af-43cf-8808-4ea2f4d02999",
   "metadata": {
    "tags": []
   },
   "outputs": [
    {
     "data": {
      "text/plain": [
       "472"
      ]
     },
     "execution_count": 154,
     "metadata": {},
     "output_type": "execute_result"
    }
   ],
   "source": [
    "len(output_full)"
   ]
  },
  {
   "cell_type": "code",
   "execution_count": 92,
   "id": "198fb61a-27fc-4127-ace0-fa52bf73592a",
   "metadata": {
    "tags": []
   },
   "outputs": [
    {
     "data": {
      "text/plain": [
       "dict_keys(['warning', 'id', 'object', 'created', 'model', 'choices', 'usage'])"
      ]
     },
     "execution_count": 92,
     "metadata": {},
     "output_type": "execute_result"
    }
   ],
   "source": [
    "dv_response.keys()"
   ]
  },
  {
   "cell_type": "code",
   "execution_count": 93,
   "id": "46631791-faf4-4de4-a1e6-799385c99209",
   "metadata": {
    "collapsed": true,
    "jupyter": {
     "outputs_hidden": true
    },
    "tags": []
   },
   "outputs": [
    {
     "data": {
      "text/plain": [
       "'\\n\\nUltimately, it depends on your individual situation and preferences. Consider the amount of student loan debt you have, as well as the amount of time it would take to pay it off. You should also factor in the cost of living in the area of the 78k job, as well as the potential for career growth and professional development. Ultimately, the decision is yours and should be based on what will give you the most financial security and professional satisfaction.'"
      ]
     },
     "execution_count": 93,
     "metadata": {},
     "output_type": "execute_result"
    }
   ],
   "source": [
    "dv_response['choices'][0]['text']"
   ]
  },
  {
   "cell_type": "code",
   "execution_count": 94,
   "id": "11583489-d3ad-4d5e-93f7-8ae070c3d76c",
   "metadata": {
    "tags": []
   },
   "outputs": [],
   "source": [
    "ai_responses = [res['text'].strip() for res in dv_response['choices']]"
   ]
  },
  {
   "cell_type": "code",
   "execution_count": null,
   "id": "1c3d0589-e2f9-46d7-b67d-9cb1a3f11bda",
   "metadata": {},
   "outputs": [],
   "source": [
    "ai_responses_full = [res['text'].strip() for res in d['choices']]"
   ]
  },
  {
   "cell_type": "code",
   "execution_count": 95,
   "id": "4d415030-cbc1-4536-a8ec-73bb25a593d5",
   "metadata": {
    "tags": []
   },
   "outputs": [],
   "source": [
    "full_data = [{\n",
    "    'question' : i['title'],\n",
    "    'human_answer' : i['top_comment'],\n",
    "    'ai answer': j} for i, j in zip(data_1, ai_responses)]\n"
   ]
  },
  {
   "cell_type": "code",
   "execution_count": 129,
   "id": "e28f3a70-09ba-49ce-a909-26af1d192464",
   "metadata": {
    "tags": []
   },
   "outputs": [],
   "source": [
    "df_prep = pd.DataFrame(data_1)\n",
    "df_prep.to_csv(\"reddit_data_pull.csv\")"
   ]
  },
  {
   "cell_type": "code",
   "execution_count": 155,
   "id": "28a88bbe-2ba1-4cc8-bca3-54b27f129835",
   "metadata": {
    "tags": []
   },
   "outputs": [],
   "source": [
    "full_data = [{\n",
    "    'question' : i['title'],\n",
    "    'human_answer' : i['top_comment'],\n",
    "    'ai answer': j} for i, j in zip(data_1, output_full)]\n"
   ]
  },
  {
   "cell_type": "code",
   "execution_count": 156,
   "id": "4e806af9-37f9-4dc5-a7be-6d940b7d1be6",
   "metadata": {
    "tags": []
   },
   "outputs": [],
   "source": [
    "df = pd.DataFrame(full_data)\n",
    "df.to_csv(\"first_prototype.csv\")"
   ]
  },
  {
   "cell_type": "code",
   "execution_count": null,
   "id": "7f24f8f3-3bf0-4ec1-9008-424d6aea8d5a",
   "metadata": {},
   "outputs": [],
   "source": [
    "#remove rows with just 1 word answers \"deleted\"\n",
    "#create single column with ai data under the human data\n",
    "#label ai data as 1\n",
    "#normalize 1s\n",
    "#"
   ]
  },
  {
   "cell_type": "code",
   "execution_count": 169,
   "id": "8d5f5e3b-36b3-4119-8315-28a43037b6e5",
   "metadata": {
    "tags": []
   },
   "outputs": [],
   "source": [
    "df[\"is_human\"] = [0 if i != \"\" else 1 for i in df[\"human_answer\"]]"
   ]
  },
  {
   "cell_type": "code",
   "execution_count": 171,
   "id": "96a71160-3a86-46fc-af76-f5665e8d0c80",
   "metadata": {
    "tags": []
   },
   "outputs": [],
   "source": [
    "df[\"is_ai\"] = [1 if i != \"\" else 0 for i in df[\"ai answer\"]]"
   ]
  },
  {
   "cell_type": "code",
   "execution_count": 165,
   "id": "a97517fd-c3b0-4099-856e-9f95abddeaad",
   "metadata": {
    "tags": []
   },
   "outputs": [],
   "source": [
    "df[\"question_dubs\"] = df[\"question\"]"
   ]
  },
  {
   "cell_type": "code",
   "execution_count": 172,
   "id": "74a93920-8fdd-4f64-993f-3dc601464d39",
   "metadata": {
    "tags": []
   },
   "outputs": [
    {
     "data": {
      "text/html": [
       "<div>\n",
       "<style scoped>\n",
       "    .dataframe tbody tr th:only-of-type {\n",
       "        vertical-align: middle;\n",
       "    }\n",
       "\n",
       "    .dataframe tbody tr th {\n",
       "        vertical-align: top;\n",
       "    }\n",
       "\n",
       "    .dataframe thead th {\n",
       "        text-align: right;\n",
       "    }\n",
       "</style>\n",
       "<table border=\"1\" class=\"dataframe\">\n",
       "  <thead>\n",
       "    <tr style=\"text-align: right;\">\n",
       "      <th></th>\n",
       "      <th>question</th>\n",
       "      <th>human_answer</th>\n",
       "      <th>ai answer</th>\n",
       "      <th>is_human</th>\n",
       "      <th>question_dubs</th>\n",
       "      <th>is_ai</th>\n",
       "    </tr>\n",
       "  </thead>\n",
       "  <tbody>\n",
       "    <tr>\n",
       "      <th>0</th>\n",
       "      <td>Redditors who make +$100K and aren’t being kil...</td>\n",
       "      <td>If that’s important to you then not working at...</td>\n",
       "      <td>As an AI language model, I don't have personal...</td>\n",
       "      <td>0</td>\n",
       "      <td>Redditors who make +$100K and aren’t being kil...</td>\n",
       "      <td>1</td>\n",
       "    </tr>\n",
       "    <tr>\n",
       "      <th>1</th>\n",
       "      <td>Quitting after 8 years without notice. Am I wr...</td>\n",
       "      <td>You are not wrong.\\nLoyalty is a two-way stree...</td>\n",
       "      <td>Quitting a job without notice after eight year...</td>\n",
       "      <td>0</td>\n",
       "      <td>Quitting after 8 years without notice. Am I wr...</td>\n",
       "      <td>1</td>\n",
       "    </tr>\n",
       "    <tr>\n",
       "      <th>2</th>\n",
       "      <td>My boss is pressuring to tell him where my new...</td>\n",
       "      <td>No. Do not say anything to him. Managers are n...</td>\n",
       "      <td>As an AI language model, I can provide some ge...</td>\n",
       "      <td>0</td>\n",
       "      <td>My boss is pressuring to tell him where my new...</td>\n",
       "      <td>1</td>\n",
       "    </tr>\n",
       "    <tr>\n",
       "      <th>3</th>\n",
       "      <td>BS’ed my way into a 160K job offer, am I crazy...</td>\n",
       "      <td>Literally every single person I've known who e...</td>\n",
       "      <td>Deciding whether to turn down a job offer is a...</td>\n",
       "      <td>0</td>\n",
       "      <td>BS’ed my way into a 160K job offer, am I crazy...</td>\n",
       "      <td>1</td>\n",
       "    </tr>\n",
       "    <tr>\n",
       "      <th>4</th>\n",
       "      <td>My boss confronted me about only working 7 hou...</td>\n",
       "      <td>Work an extra 15 minutes and tell him you didn...</td>\n",
       "      <td>When faced with a situation where your boss co...</td>\n",
       "      <td>0</td>\n",
       "      <td>My boss confronted me about only working 7 hou...</td>\n",
       "      <td>1</td>\n",
       "    </tr>\n",
       "  </tbody>\n",
       "</table>\n",
       "</div>"
      ],
      "text/plain": [
       "                                            question  \\\n",
       "0  Redditors who make +$100K and aren’t being kil...   \n",
       "1  Quitting after 8 years without notice. Am I wr...   \n",
       "2  My boss is pressuring to tell him where my new...   \n",
       "3  BS’ed my way into a 160K job offer, am I crazy...   \n",
       "4  My boss confronted me about only working 7 hou...   \n",
       "\n",
       "                                        human_answer  \\\n",
       "0  If that’s important to you then not working at...   \n",
       "1  You are not wrong.\\nLoyalty is a two-way stree...   \n",
       "2  No. Do not say anything to him. Managers are n...   \n",
       "3  Literally every single person I've known who e...   \n",
       "4  Work an extra 15 minutes and tell him you didn...   \n",
       "\n",
       "                                           ai answer  is_human  \\\n",
       "0  As an AI language model, I don't have personal...         0   \n",
       "1  Quitting a job without notice after eight year...         0   \n",
       "2  As an AI language model, I can provide some ge...         0   \n",
       "3  Deciding whether to turn down a job offer is a...         0   \n",
       "4  When faced with a situation where your boss co...         0   \n",
       "\n",
       "                                       question_dubs  is_ai  \n",
       "0  Redditors who make +$100K and aren’t being kil...      1  \n",
       "1  Quitting after 8 years without notice. Am I wr...      1  \n",
       "2  My boss is pressuring to tell him where my new...      1  \n",
       "3  BS’ed my way into a 160K job offer, am I crazy...      1  \n",
       "4  My boss confronted me about only working 7 hou...      1  "
      ]
     },
     "execution_count": 172,
     "metadata": {},
     "output_type": "execute_result"
    }
   ],
   "source": [
    "df.head()"
   ]
  },
  {
   "cell_type": "code",
   "execution_count": 173,
   "id": "7e18aa7b-1808-4f37-9ff8-5736b81e8107",
   "metadata": {
    "tags": []
   },
   "outputs": [
    {
     "name": "stderr",
     "output_type": "stream",
     "text": [
      "/var/folders/r7/lck4_m6n3qvgvrpymc_hdq900000gn/T/ipykernel_63146/2881736332.py:2: FutureWarning: The frame.append method is deprecated and will be removed from pandas in a future version. Use pandas.concat instead.\n",
      "  df_consolidated = df[['question', 'human_answer', \"is_human\"]].append(df[[\n"
     ]
    }
   ],
   "source": [
    "#move ai_answer below human_answer\n",
    "df_consolidated = df[['question', 'human_answer', \"is_human\"]].append(df[[\n",
    "    'question_dubs','ai answer',\"is_ai\"]].set_axis(['question', 'human_answer',\"is_human\"], axis=1)).reset_index(drop=True)"
   ]
  },
  {
   "cell_type": "code",
   "execution_count": 179,
   "id": "33697fa9-501d-4c5c-a43e-72770d0a5c95",
   "metadata": {
    "tags": []
   },
   "outputs": [],
   "source": [
    "df_consolidated.rename(columns={\"human_answer\": \"answer\"}, inplace=True)"
   ]
  },
  {
   "cell_type": "code",
   "execution_count": 175,
   "id": "a30d8e0d-8672-459e-91db-a660e6721c12",
   "metadata": {
    "tags": []
   },
   "outputs": [
    {
     "data": {
      "text/plain": [
       "0    472\n",
       "1    472\n",
       "Name: is_human, dtype: int64"
      ]
     },
     "execution_count": 175,
     "metadata": {},
     "output_type": "execute_result"
    }
   ],
   "source": [
    "df_consolidated[\"is_human\"].value_counts()"
   ]
  },
  {
   "cell_type": "code",
   "execution_count": 181,
   "id": "2c39fce2-62ae-4df1-ad96-1185035d934c",
   "metadata": {
    "tags": []
   },
   "outputs": [],
   "source": [
    "X = df_consolidated[\"answer\"]\n",
    "y = df_consolidated[\"is_human\"]"
   ]
  },
  {
   "cell_type": "code",
   "execution_count": 184,
   "id": "71aaa710-df91-4a5b-aa18-9352731f5a7e",
   "metadata": {
    "tags": []
   },
   "outputs": [],
   "source": [
    "# Split the data into the training and testing sets.\n",
    "X_train, X_test, y_train, y_test = train_test_split(X,\n",
    "                                                    y,\n",
    "                                                    random_state=42)"
   ]
  },
  {
   "cell_type": "code",
   "execution_count": 188,
   "id": "7c84df75-e2f8-4636-b2c5-3c71d59eb861",
   "metadata": {
    "tags": []
   },
   "outputs": [],
   "source": [
    "pipe = Pipeline([\n",
    "    ('cvec', CountVectorizer()),\n",
    "    ('bnb', BernoulliNB())\n",
    "])"
   ]
  },
  {
   "cell_type": "code",
   "execution_count": 190,
   "id": "597389f8-6e59-46c7-acc5-cfa11de50bf4",
   "metadata": {
    "tags": []
   },
   "outputs": [],
   "source": [
    "from nltk.corpus import stopwords\n",
    "nltk_stop = stopwords.words('english')"
   ]
  },
  {
   "cell_type": "code",
   "execution_count": 191,
   "id": "7ea12937-2ca7-4489-aa58-cc1e22eac533",
   "metadata": {
    "tags": []
   },
   "outputs": [],
   "source": [
    "pipe_params = {\n",
    "    'cvec__max_features' : [5000],\n",
    "    'cvec__min_df' : [2,5],\n",
    "    'cvec__max_df' : [0.9, 0.95],\n",
    "    'cvec__ngram_range' : [(1,1), (1, 2), (2,2)],\n",
    "    'cvec__stop_words' : ['english', nltk_stop]\n",
    "}"
   ]
  },
  {
   "cell_type": "code",
   "execution_count": 192,
   "id": "618bbf03-7245-442e-8330-5d2890c261ce",
   "metadata": {
    "tags": []
   },
   "outputs": [],
   "source": [
    "gs = GridSearchCV(pipe, \n",
    "                  pipe_params, \n",
    "                  cv = 5)"
   ]
  },
  {
   "cell_type": "code",
   "execution_count": 193,
   "id": "ccdc85fc-d8af-4199-a10c-fc6b040e12e0",
   "metadata": {
    "tags": []
   },
   "outputs": [
    {
     "data": {
      "text/html": [
       "<style>#sk-container-id-1 {color: black;}#sk-container-id-1 pre{padding: 0;}#sk-container-id-1 div.sk-toggleable {background-color: white;}#sk-container-id-1 label.sk-toggleable__label {cursor: pointer;display: block;width: 100%;margin-bottom: 0;padding: 0.3em;box-sizing: border-box;text-align: center;}#sk-container-id-1 label.sk-toggleable__label-arrow:before {content: \"▸\";float: left;margin-right: 0.25em;color: #696969;}#sk-container-id-1 label.sk-toggleable__label-arrow:hover:before {color: black;}#sk-container-id-1 div.sk-estimator:hover label.sk-toggleable__label-arrow:before {color: black;}#sk-container-id-1 div.sk-toggleable__content {max-height: 0;max-width: 0;overflow: hidden;text-align: left;background-color: #f0f8ff;}#sk-container-id-1 div.sk-toggleable__content pre {margin: 0.2em;color: black;border-radius: 0.25em;background-color: #f0f8ff;}#sk-container-id-1 input.sk-toggleable__control:checked~div.sk-toggleable__content {max-height: 200px;max-width: 100%;overflow: auto;}#sk-container-id-1 input.sk-toggleable__control:checked~label.sk-toggleable__label-arrow:before {content: \"▾\";}#sk-container-id-1 div.sk-estimator input.sk-toggleable__control:checked~label.sk-toggleable__label {background-color: #d4ebff;}#sk-container-id-1 div.sk-label input.sk-toggleable__control:checked~label.sk-toggleable__label {background-color: #d4ebff;}#sk-container-id-1 input.sk-hidden--visually {border: 0;clip: rect(1px 1px 1px 1px);clip: rect(1px, 1px, 1px, 1px);height: 1px;margin: -1px;overflow: hidden;padding: 0;position: absolute;width: 1px;}#sk-container-id-1 div.sk-estimator {font-family: monospace;background-color: #f0f8ff;border: 1px dotted black;border-radius: 0.25em;box-sizing: border-box;margin-bottom: 0.5em;}#sk-container-id-1 div.sk-estimator:hover {background-color: #d4ebff;}#sk-container-id-1 div.sk-parallel-item::after {content: \"\";width: 100%;border-bottom: 1px solid gray;flex-grow: 1;}#sk-container-id-1 div.sk-label:hover label.sk-toggleable__label {background-color: #d4ebff;}#sk-container-id-1 div.sk-serial::before {content: \"\";position: absolute;border-left: 1px solid gray;box-sizing: border-box;top: 0;bottom: 0;left: 50%;z-index: 0;}#sk-container-id-1 div.sk-serial {display: flex;flex-direction: column;align-items: center;background-color: white;padding-right: 0.2em;padding-left: 0.2em;position: relative;}#sk-container-id-1 div.sk-item {position: relative;z-index: 1;}#sk-container-id-1 div.sk-parallel {display: flex;align-items: stretch;justify-content: center;background-color: white;position: relative;}#sk-container-id-1 div.sk-item::before, #sk-container-id-1 div.sk-parallel-item::before {content: \"\";position: absolute;border-left: 1px solid gray;box-sizing: border-box;top: 0;bottom: 0;left: 50%;z-index: -1;}#sk-container-id-1 div.sk-parallel-item {display: flex;flex-direction: column;z-index: 1;position: relative;background-color: white;}#sk-container-id-1 div.sk-parallel-item:first-child::after {align-self: flex-end;width: 50%;}#sk-container-id-1 div.sk-parallel-item:last-child::after {align-self: flex-start;width: 50%;}#sk-container-id-1 div.sk-parallel-item:only-child::after {width: 0;}#sk-container-id-1 div.sk-dashed-wrapped {border: 1px dashed gray;margin: 0 0.4em 0.5em 0.4em;box-sizing: border-box;padding-bottom: 0.4em;background-color: white;}#sk-container-id-1 div.sk-label label {font-family: monospace;font-weight: bold;display: inline-block;line-height: 1.2em;}#sk-container-id-1 div.sk-label-container {text-align: center;}#sk-container-id-1 div.sk-container {/* jupyter's `normalize.less` sets `[hidden] { display: none; }` but bootstrap.min.css set `[hidden] { display: none !important; }` so we also need the `!important` here to be able to override the default hidden behavior on the sphinx rendered scikit-learn.org. See: https://github.com/scikit-learn/scikit-learn/issues/21755 */display: inline-block !important;position: relative;}#sk-container-id-1 div.sk-text-repr-fallback {display: none;}</style><div id=\"sk-container-id-1\" class=\"sk-top-container\"><div class=\"sk-text-repr-fallback\"><pre>GridSearchCV(cv=5,\n",
       "             estimator=Pipeline(steps=[(&#x27;cvec&#x27;, CountVectorizer()),\n",
       "                                       (&#x27;bnb&#x27;, BernoulliNB())]),\n",
       "             param_grid={&#x27;cvec__max_df&#x27;: [0.9, 0.95],\n",
       "                         &#x27;cvec__max_features&#x27;: [5000], &#x27;cvec__min_df&#x27;: [2, 5],\n",
       "                         &#x27;cvec__ngram_range&#x27;: [(1, 1), (1, 2), (2, 2)],\n",
       "                         &#x27;cvec__stop_words&#x27;: [&#x27;english&#x27;,\n",
       "                                              [&#x27;i&#x27;, &#x27;me&#x27;, &#x27;my&#x27;, &#x27;myself&#x27;, &#x27;we&#x27;,\n",
       "                                               &#x27;our&#x27;, &#x27;ours&#x27;, &#x27;ourselves&#x27;,\n",
       "                                               &#x27;you&#x27;, &quot;you&#x27;re&quot;, &quot;you&#x27;ve&quot;,\n",
       "                                               &quot;you&#x27;ll&quot;, &quot;you&#x27;d&quot;, &#x27;your&#x27;,\n",
       "                                               &#x27;yours&#x27;, &#x27;yourself&#x27;,\n",
       "                                               &#x27;yourselves&#x27;, &#x27;he&#x27;, &#x27;him&#x27;, &#x27;his&#x27;,\n",
       "                                               &#x27;himself&#x27;, &#x27;she&#x27;, &quot;she&#x27;s&quot;, &#x27;her&#x27;,\n",
       "                                               &#x27;hers&#x27;, &#x27;herself&#x27;, &#x27;it&#x27;, &quot;it&#x27;s&quot;,\n",
       "                                               &#x27;its&#x27;, &#x27;itself&#x27;, ...]]})</pre><b>In a Jupyter environment, please rerun this cell to show the HTML representation or trust the notebook. <br />On GitHub, the HTML representation is unable to render, please try loading this page with nbviewer.org.</b></div><div class=\"sk-container\" hidden><div class=\"sk-item sk-dashed-wrapped\"><div class=\"sk-label-container\"><div class=\"sk-label sk-toggleable\"><input class=\"sk-toggleable__control sk-hidden--visually\" id=\"sk-estimator-id-1\" type=\"checkbox\" ><label for=\"sk-estimator-id-1\" class=\"sk-toggleable__label sk-toggleable__label-arrow\">GridSearchCV</label><div class=\"sk-toggleable__content\"><pre>GridSearchCV(cv=5,\n",
       "             estimator=Pipeline(steps=[(&#x27;cvec&#x27;, CountVectorizer()),\n",
       "                                       (&#x27;bnb&#x27;, BernoulliNB())]),\n",
       "             param_grid={&#x27;cvec__max_df&#x27;: [0.9, 0.95],\n",
       "                         &#x27;cvec__max_features&#x27;: [5000], &#x27;cvec__min_df&#x27;: [2, 5],\n",
       "                         &#x27;cvec__ngram_range&#x27;: [(1, 1), (1, 2), (2, 2)],\n",
       "                         &#x27;cvec__stop_words&#x27;: [&#x27;english&#x27;,\n",
       "                                              [&#x27;i&#x27;, &#x27;me&#x27;, &#x27;my&#x27;, &#x27;myself&#x27;, &#x27;we&#x27;,\n",
       "                                               &#x27;our&#x27;, &#x27;ours&#x27;, &#x27;ourselves&#x27;,\n",
       "                                               &#x27;you&#x27;, &quot;you&#x27;re&quot;, &quot;you&#x27;ve&quot;,\n",
       "                                               &quot;you&#x27;ll&quot;, &quot;you&#x27;d&quot;, &#x27;your&#x27;,\n",
       "                                               &#x27;yours&#x27;, &#x27;yourself&#x27;,\n",
       "                                               &#x27;yourselves&#x27;, &#x27;he&#x27;, &#x27;him&#x27;, &#x27;his&#x27;,\n",
       "                                               &#x27;himself&#x27;, &#x27;she&#x27;, &quot;she&#x27;s&quot;, &#x27;her&#x27;,\n",
       "                                               &#x27;hers&#x27;, &#x27;herself&#x27;, &#x27;it&#x27;, &quot;it&#x27;s&quot;,\n",
       "                                               &#x27;its&#x27;, &#x27;itself&#x27;, ...]]})</pre></div></div></div><div class=\"sk-parallel\"><div class=\"sk-parallel-item\"><div class=\"sk-item\"><div class=\"sk-label-container\"><div class=\"sk-label sk-toggleable\"><input class=\"sk-toggleable__control sk-hidden--visually\" id=\"sk-estimator-id-2\" type=\"checkbox\" ><label for=\"sk-estimator-id-2\" class=\"sk-toggleable__label sk-toggleable__label-arrow\">estimator: Pipeline</label><div class=\"sk-toggleable__content\"><pre>Pipeline(steps=[(&#x27;cvec&#x27;, CountVectorizer()), (&#x27;bnb&#x27;, BernoulliNB())])</pre></div></div></div><div class=\"sk-serial\"><div class=\"sk-item\"><div class=\"sk-serial\"><div class=\"sk-item\"><div class=\"sk-estimator sk-toggleable\"><input class=\"sk-toggleable__control sk-hidden--visually\" id=\"sk-estimator-id-3\" type=\"checkbox\" ><label for=\"sk-estimator-id-3\" class=\"sk-toggleable__label sk-toggleable__label-arrow\">CountVectorizer</label><div class=\"sk-toggleable__content\"><pre>CountVectorizer()</pre></div></div></div><div class=\"sk-item\"><div class=\"sk-estimator sk-toggleable\"><input class=\"sk-toggleable__control sk-hidden--visually\" id=\"sk-estimator-id-4\" type=\"checkbox\" ><label for=\"sk-estimator-id-4\" class=\"sk-toggleable__label sk-toggleable__label-arrow\">BernoulliNB</label><div class=\"sk-toggleable__content\"><pre>BernoulliNB()</pre></div></div></div></div></div></div></div></div></div></div></div></div>"
      ],
      "text/plain": [
       "GridSearchCV(cv=5,\n",
       "             estimator=Pipeline(steps=[('cvec', CountVectorizer()),\n",
       "                                       ('bnb', BernoulliNB())]),\n",
       "             param_grid={'cvec__max_df': [0.9, 0.95],\n",
       "                         'cvec__max_features': [5000], 'cvec__min_df': [2, 5],\n",
       "                         'cvec__ngram_range': [(1, 1), (1, 2), (2, 2)],\n",
       "                         'cvec__stop_words': ['english',\n",
       "                                              ['i', 'me', 'my', 'myself', 'we',\n",
       "                                               'our', 'ours', 'ourselves',\n",
       "                                               'you', \"you're\", \"you've\",\n",
       "                                               \"you'll\", \"you'd\", 'your',\n",
       "                                               'yours', 'yourself',\n",
       "                                               'yourselves', 'he', 'him', 'his',\n",
       "                                               'himself', 'she', \"she's\", 'her',\n",
       "                                               'hers', 'herself', 'it', \"it's\",\n",
       "                                               'its', 'itself', ...]]})"
      ]
     },
     "execution_count": 193,
     "metadata": {},
     "output_type": "execute_result"
    }
   ],
   "source": [
    "gs.fit(X_train, y_train)"
   ]
  },
  {
   "cell_type": "code",
   "execution_count": 194,
   "id": "f5c3b6c1-328f-4d2d-857f-503cbbd7a70f",
   "metadata": {
    "tags": []
   },
   "outputs": [
    {
     "data": {
      "text/plain": [
       "0.9534112476276096"
      ]
     },
     "execution_count": 194,
     "metadata": {},
     "output_type": "execute_result"
    }
   ],
   "source": [
    "gs.best_score_"
   ]
  },
  {
   "cell_type": "code",
   "execution_count": 195,
   "id": "dc0692ee-e920-4599-866c-764540d18b0e",
   "metadata": {
    "tags": []
   },
   "outputs": [
    {
     "name": "stdout",
     "output_type": "stream",
     "text": [
      "0.9689265536723164\n",
      "0.9703389830508474\n"
     ]
    }
   ],
   "source": [
    "print(gs.score(X_train,y_train))\n",
    "print(gs.score(X_test,y_test))\n"
   ]
  }
 ],
 "metadata": {
  "kernelspec": {
   "display_name": "Python 3 (ipykernel)",
   "language": "python",
   "name": "python3"
  },
  "language_info": {
   "codemirror_mode": {
    "name": "ipython",
    "version": 3
   },
   "file_extension": ".py",
   "mimetype": "text/x-python",
   "name": "python",
   "nbconvert_exporter": "python",
   "pygments_lexer": "ipython3",
   "version": "3.11.4"
  }
 },
 "nbformat": 4,
 "nbformat_minor": 5
}
