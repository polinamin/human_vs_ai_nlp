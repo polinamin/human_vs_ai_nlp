{
 "cells": [
  {
   "cell_type": "code",
   "execution_count": 3,
   "id": "49b11639-75bb-41ea-b9aa-10ed7583c7fd",
   "metadata": {
    "tags": []
   },
   "outputs": [],
   "source": [
    "davinci_prompts_adj1 = pd.read_csv(\"reddit_data_pull.csv\")"
   ]
  },
  {
   "cell_type": "code",
   "execution_count": 196,
   "id": "d2be14e6-143d-465f-baa8-845f3e924ade",
   "metadata": {
    "tags": []
   },
   "outputs": [],
   "source": [
    "import numpy as np\n",
    "import pandas as pd\n",
    "import praw\n",
    "import time\n",
    "from pmaw import PushshiftAPI\n",
    "import openai\n",
    "import matplotlib.pyplot as plt\n",
    "from sklearn.model_selection import train_test_split, GridSearchCV\n",
    "from sklearn.pipeline import Pipeline\n",
    "from sklearn.naive_bayes import MultinomialNB, BernoulliNB, GaussianNB\n",
    "from sklearn.linear_model import LogisticRegression\n",
    "from sklearn.metrics import confusion_matrix, ConfusionMatrixDisplay\n",
    "from sklearn.feature_extraction.text import CountVectorizer, TfidfVectorizer"
   ]
  },
  {
   "cell_type": "code",
   "execution_count": 19,
   "id": "20bccfbb-2bd0-4241-9673-be48a5df7b18",
   "metadata": {
    "tags": []
   },
   "outputs": [],
   "source": [
    "reddit = praw.Reddit(\n",
    "    client_id=\"bS2woFNO7TolN-CSV6_Gmg\",\n",
    "    client_secret=\"3djpRwiN5aHfy8EVEdtGrQ5UW_7G0g\",\n",
    "    redirect_url=\"http://localhost:8080\",\n",
    "    user_agent=\"GA project 1 by u/sillypolly\",\n",
    ")\n",
    "#print(reddit.auth.url(scopes=[\"identity\"], state=\"...\", duration=\"permanent\"))"
   ]
  },
  {
   "cell_type": "code",
   "execution_count": 20,
   "id": "4b4f1776-2749-4637-a57f-4e4359f97d58",
   "metadata": {
    "tags": []
   },
   "outputs": [],
   "source": [
    "reddit = praw.Reddit(\n",
    "    client_id=\"bS2woFNO7TolN-CSV6_Gmg\",\n",
    "    client_secret=\"3djpRwiN5aHfy8EVEdtGrQ5UW_7G0g\",\n",
    "    password=\"P0lin@rocks\",\n",
    "    user_agent=\"GA project 1 by u/sillypolly\",\n",
    "    username=\"sillypolly\"\n",
    ")"
   ]
  },
  {
   "cell_type": "code",
   "execution_count": 21,
   "id": "7d999d02-7c17-4a2d-a22f-698f49c43bb4",
   "metadata": {
    "tags": []
   },
   "outputs": [
    {
     "name": "stdout",
     "output_type": "stream",
     "text": [
      "sillypolly\n"
     ]
    }
   ],
   "source": [
    "print(reddit.user.me())\n"
   ]
  },
  {
   "cell_type": "code",
   "execution_count": 22,
   "id": "1d9e7314-a215-420e-aafa-a2714f8fb2e6",
   "metadata": {
    "tags": []
   },
   "outputs": [
    {
     "name": "stdout",
     "output_type": "stream",
     "text": [
      "False\n"
     ]
    }
   ],
   "source": [
    "print(reddit.read_only)"
   ]
  },
  {
   "cell_type": "code",
   "execution_count": 23,
   "id": "76433a9f-64fe-4a39-801a-b8d5497802bd",
   "metadata": {
    "tags": []
   },
   "outputs": [
    {
     "data": {
      "text/plain": [
       "<praw.models.listing.generator.ListingGenerator at 0x28d359f90>"
      ]
     },
     "execution_count": 23,
     "metadata": {},
     "output_type": "execute_result"
    }
   ],
   "source": [
    "reddit.user.me().saved(limit=None)"
   ]
  },
  {
   "cell_type": "code",
   "execution_count": 24,
   "id": "f49da939-e581-415b-963f-3e9652964b22",
   "metadata": {
    "tags": []
   },
   "outputs": [],
   "source": [
    "api_praw = PushshiftAPI(praw=reddit)"
   ]
  },
  {
   "cell_type": "code",
   "execution_count": 25,
   "id": "26f3305b-cb97-45a3-8357-3803f5933f62",
   "metadata": {},
   "outputs": [],
   "source": [
    "reddit.read_only = True"
   ]
  },
  {
   "cell_type": "code",
   "execution_count": 26,
   "id": "0b9f560a-3aa9-4039-993e-3fb576f3e36f",
   "metadata": {
    "tags": []
   },
   "outputs": [],
   "source": [
    "import os"
   ]
  },
  {
   "cell_type": "code",
   "execution_count": 27,
   "id": "cc1c476e-22b0-46f5-9fa3-724e09c0d647",
   "metadata": {
    "tags": []
   },
   "outputs": [],
   "source": [
    "openai.api_key = os.environ.get(\"OPENAI_API_KEY\")"
   ]
  },
  {
   "cell_type": "code",
   "execution_count": 12,
   "id": "bf9c45cf-d891-4a22-b9bd-f2d266c47f5c",
   "metadata": {
    "tags": []
   },
   "outputs": [
    {
     "name": "stdout",
     "output_type": "stream",
     "text": [
      "# conda environments:\n",
      "#\n",
      "base                  *  /Users/polinaminkovski/anaconda3\n",
      "project-env              /Users/polinaminkovski/anaconda3/envs/project-env\n",
      "\n"
     ]
    }
   ],
   "source": [
    "!conda env list"
   ]
  },
  {
   "cell_type": "code",
   "execution_count": 99,
   "id": "910a9669-5dfc-4fdd-9e53-6348b609fa5f",
   "metadata": {
    "tags": []
   },
   "outputs": [],
   "source": [
    "data_1 = []"
   ]
  },
  {
   "cell_type": "code",
   "execution_count": 114,
   "id": "06254277-1b02-4a0b-8f71-614ba7f4dda5",
   "metadata": {
    "tags": []
   },
   "outputs": [],
   "source": [
    "subreddit = reddit.subreddit(\"CareerGuidance\").top(limit = 2000, time_filter = 'year')"
   ]
  },
  {
   "cell_type": "code",
   "execution_count": 115,
   "id": "6d221a31-18b3-4120-8d4a-b94a03ff5d45",
   "metadata": {
    "collapsed": true,
    "jupyter": {
     "outputs_hidden": true
    },
    "tags": []
   },
   "outputs": [
    {
     "data": {
      "text/html": [
       "<div>\n",
       "<style scoped>\n",
       "    .dataframe tbody tr th:only-of-type {\n",
       "        vertical-align: middle;\n",
       "    }\n",
       "\n",
       "    .dataframe tbody tr th {\n",
       "        vertical-align: top;\n",
       "    }\n",
       "\n",
       "    .dataframe thead th {\n",
       "        text-align: right;\n",
       "    }\n",
       "</style>\n",
       "<table border=\"1\" class=\"dataframe\">\n",
       "  <thead>\n",
       "    <tr style=\"text-align: right;\">\n",
       "      <th></th>\n",
       "      <th>title</th>\n",
       "      <th>selftext</th>\n",
       "      <th>comments</th>\n",
       "      <th>created_utc</th>\n",
       "      <th>comment_upvotes</th>\n",
       "      <th>top_comment</th>\n",
       "    </tr>\n",
       "  </thead>\n",
       "  <tbody>\n",
       "    <tr>\n",
       "      <th>0</th>\n",
       "      <td>Redditors who make +$100K and aren’t being kil...</td>\n",
       "      <td>careerguidance</td>\n",
       "      <td>(jjrltoe, jjrloy9, jjrj0ix, jjrqv1u, jjrkukd, ...</td>\n",
       "      <td>1.683823e+09</td>\n",
       "      <td>2012</td>\n",
       "      <td>If that’s important to you then not working at...</td>\n",
       "    </tr>\n",
       "    <tr>\n",
       "      <th>1</th>\n",
       "      <td>Quitting after 8 years without notice. Am I wr...</td>\n",
       "      <td>careerguidance</td>\n",
       "      <td>(jwy89qz, jwy71ys, jwy92k5, jwyd2wg, jwy8pbg, ...</td>\n",
       "      <td>1.692499e+09</td>\n",
       "      <td>2269</td>\n",
       "      <td>You are not wrong.\\nLoyalty is a two-way stree...</td>\n",
       "    </tr>\n",
       "    <tr>\n",
       "      <th>2</th>\n",
       "      <td>My boss is pressuring to tell him where my new...</td>\n",
       "      <td>careerguidance</td>\n",
       "      <td>(jtj5lbh, jtj4y6i, jtjhn8p, jtj6fjl, jtjfnyy, ...</td>\n",
       "      <td>1.690384e+09</td>\n",
       "      <td>2483</td>\n",
       "      <td>No. Do not say anything to him. Managers are n...</td>\n",
       "    </tr>\n",
       "    <tr>\n",
       "      <th>3</th>\n",
       "      <td>BS’ed my way into a 160K job offer, am I crazy...</td>\n",
       "      <td>careerguidance</td>\n",
       "      <td>(jza8nj5, jza84ye, jza4o7j, jza7hpb, jzaaybs, ...</td>\n",
       "      <td>1.693943e+09</td>\n",
       "      <td>3388</td>\n",
       "      <td>Literally every single person I've known who e...</td>\n",
       "    </tr>\n",
       "    <tr>\n",
       "      <th>4</th>\n",
       "      <td>My boss confronted me about only working 7 hou...</td>\n",
       "      <td>careerguidance</td>\n",
       "      <td>(jy5lzz7, jy618tp, jy5jca5, jy5rfkp, jy5i9o6, ...</td>\n",
       "      <td>1.693260e+09</td>\n",
       "      <td>2297</td>\n",
       "      <td>Work an extra 15 minutes and tell him you didn...</td>\n",
       "    </tr>\n",
       "    <tr>\n",
       "      <th>...</th>\n",
       "      <td>...</td>\n",
       "      <td>...</td>\n",
       "      <td>...</td>\n",
       "      <td>...</td>\n",
       "      <td>...</td>\n",
       "      <td>...</td>\n",
       "    </tr>\n",
       "    <tr>\n",
       "      <th>4527</th>\n",
       "      <td>Where are you now, English majors?</td>\n",
       "      <td>careerguidance</td>\n",
       "      <td>(j5kbk9w, j5jtwln, j5jwwy9, j5k53gd, j5keu3k, ...</td>\n",
       "      <td>1.674482e+09</td>\n",
       "      <td>143</td>\n",
       "      <td>Retired after 40 years in financial services. ...</td>\n",
       "    </tr>\n",
       "    <tr>\n",
       "      <th>4528</th>\n",
       "      <td>Do I leave a good job I haven't been at long f...</td>\n",
       "      <td>careerguidance</td>\n",
       "      <td>(j1vx5i4, j1w0cen, j1vvznz, j1wanot, j1vtqho, ...</td>\n",
       "      <td>1.672170e+09</td>\n",
       "      <td>202</td>\n",
       "      <td>There is not a soul on this planet that is wor...</td>\n",
       "    </tr>\n",
       "    <tr>\n",
       "      <th>4529</th>\n",
       "      <td>How to leave my job when I’m the only employee?</td>\n",
       "      <td>careerguidance</td>\n",
       "      <td>(jzhvhtu, jzhuzf5, jzidudv, jzi5d2v, jzhv5je, ...</td>\n",
       "      <td>1.694069e+09</td>\n",
       "      <td>114</td>\n",
       "      <td>If they cared about you they would fight to ke...</td>\n",
       "    </tr>\n",
       "    <tr>\n",
       "      <th>4530</th>\n",
       "      <td>I belive I am not fit to be in the corporate w...</td>\n",
       "      <td>careerguidance</td>\n",
       "      <td>(ju7o753, ju7ix3v, ju7sypy, ju8s6mf, ju7fyt5, ...</td>\n",
       "      <td>1.690810e+09</td>\n",
       "      <td>97</td>\n",
       "      <td>Expecting life fulfillment from your job will ...</td>\n",
       "    </tr>\n",
       "    <tr>\n",
       "      <th>4531</th>\n",
       "      <td>What’s a job that’s low on stress but decent o...</td>\n",
       "      <td>careerguidance</td>\n",
       "      <td>(jc2xxqd, jc2sv7p, jc4m2uf, jc3ig8p, jc2rt8r, ...</td>\n",
       "      <td>1.678725e+09</td>\n",
       "      <td>106</td>\n",
       "      <td>Painting. You can easily make 60k a year. I li...</td>\n",
       "    </tr>\n",
       "  </tbody>\n",
       "</table>\n",
       "<p>4532 rows × 6 columns</p>\n",
       "</div>"
      ],
      "text/plain": [
       "                                                  title        selftext  \\\n",
       "0     Redditors who make +$100K and aren’t being kil...  careerguidance   \n",
       "1     Quitting after 8 years without notice. Am I wr...  careerguidance   \n",
       "2     My boss is pressuring to tell him where my new...  careerguidance   \n",
       "3     BS’ed my way into a 160K job offer, am I crazy...  careerguidance   \n",
       "4     My boss confronted me about only working 7 hou...  careerguidance   \n",
       "...                                                 ...             ...   \n",
       "4527                 Where are you now, English majors?  careerguidance   \n",
       "4528  Do I leave a good job I haven't been at long f...  careerguidance   \n",
       "4529    How to leave my job when I’m the only employee?  careerguidance   \n",
       "4530  I belive I am not fit to be in the corporate w...  careerguidance   \n",
       "4531  What’s a job that’s low on stress but decent o...  careerguidance   \n",
       "\n",
       "                                               comments   created_utc  \\\n",
       "0     (jjrltoe, jjrloy9, jjrj0ix, jjrqv1u, jjrkukd, ...  1.683823e+09   \n",
       "1     (jwy89qz, jwy71ys, jwy92k5, jwyd2wg, jwy8pbg, ...  1.692499e+09   \n",
       "2     (jtj5lbh, jtj4y6i, jtjhn8p, jtj6fjl, jtjfnyy, ...  1.690384e+09   \n",
       "3     (jza8nj5, jza84ye, jza4o7j, jza7hpb, jzaaybs, ...  1.693943e+09   \n",
       "4     (jy5lzz7, jy618tp, jy5jca5, jy5rfkp, jy5i9o6, ...  1.693260e+09   \n",
       "...                                                 ...           ...   \n",
       "4527  (j5kbk9w, j5jtwln, j5jwwy9, j5k53gd, j5keu3k, ...  1.674482e+09   \n",
       "4528  (j1vx5i4, j1w0cen, j1vvznz, j1wanot, j1vtqho, ...  1.672170e+09   \n",
       "4529  (jzhvhtu, jzhuzf5, jzidudv, jzi5d2v, jzhv5je, ...  1.694069e+09   \n",
       "4530  (ju7o753, ju7ix3v, ju7sypy, ju8s6mf, ju7fyt5, ...  1.690810e+09   \n",
       "4531  (jc2xxqd, jc2sv7p, jc4m2uf, jc3ig8p, jc2rt8r, ...  1.678725e+09   \n",
       "\n",
       "      comment_upvotes                                        top_comment  \n",
       "0                2012  If that’s important to you then not working at...  \n",
       "1                2269  You are not wrong.\\nLoyalty is a two-way stree...  \n",
       "2                2483  No. Do not say anything to him. Managers are n...  \n",
       "3                3388  Literally every single person I've known who e...  \n",
       "4                2297  Work an extra 15 minutes and tell him you didn...  \n",
       "...               ...                                                ...  \n",
       "4527              143  Retired after 40 years in financial services. ...  \n",
       "4528              202  There is not a soul on this planet that is wor...  \n",
       "4529              114  If they cared about you they would fight to ke...  \n",
       "4530               97  Expecting life fulfillment from your job will ...  \n",
       "4531              106  Painting. You can easily make 60k a year. I li...  \n",
       "\n",
       "[4532 rows x 6 columns]"
      ]
     },
     "execution_count": 115,
     "metadata": {},
     "output_type": "execute_result"
    }
   ],
   "source": [
    "for post in subreddit:\n",
    "    if not post.over_18:\n",
    "        post.comments.replace_more(limit = 0)\n",
    "        highest_ups = -1\n",
    "        for comment in post.comments:\n",
    "            if comment.ups > highest_ups:\n",
    "                best_comment = comment.body\n",
    "                highest_ups = comment.ups\n",
    "        data_1.append(\n",
    "            {'title': post.title,\n",
    "            'selftext': post.subreddit,\n",
    "            'comments': post.comments,\n",
    "            'created_utc': post.created_utc,\n",
    "            'comment_upvotes': highest_ups,\n",
    "            'top_comment': best_comment\n",
    "            }\n",
    "        )"
   ]
  },
  {
   "cell_type": "code",
   "execution_count": 102,
   "id": "cebacc65-2a7d-43e3-9687-58422b1856f9",
   "metadata": {
    "tags": []
   },
   "outputs": [],
   "source": [
    "subreddit1 = reddit.subreddit(\"cscareerquestions\").top(limit = 5000, time_filter = 'year')"
   ]
  },
  {
   "cell_type": "code",
   "execution_count": 103,
   "id": "e39b6884-68a3-4f9c-85f7-ab954cf8cc4e",
   "metadata": {
    "collapsed": true,
    "jupyter": {
     "outputs_hidden": true
    },
    "tags": []
   },
   "outputs": [
    {
     "data": {
      "text/html": [
       "<div>\n",
       "<style scoped>\n",
       "    .dataframe tbody tr th:only-of-type {\n",
       "        vertical-align: middle;\n",
       "    }\n",
       "\n",
       "    .dataframe tbody tr th {\n",
       "        vertical-align: top;\n",
       "    }\n",
       "\n",
       "    .dataframe thead th {\n",
       "        text-align: right;\n",
       "    }\n",
       "</style>\n",
       "<table border=\"1\" class=\"dataframe\">\n",
       "  <thead>\n",
       "    <tr style=\"text-align: right;\">\n",
       "      <th></th>\n",
       "      <th>title</th>\n",
       "      <th>selftext</th>\n",
       "      <th>comments</th>\n",
       "      <th>created_utc</th>\n",
       "      <th>comment_upvotes</th>\n",
       "      <th>top_comment</th>\n",
       "    </tr>\n",
       "  </thead>\n",
       "  <tbody>\n",
       "    <tr>\n",
       "      <th>0</th>\n",
       "      <td>Redditors who make +$100K and aren’t being kil...</td>\n",
       "      <td>careerguidance</td>\n",
       "      <td>(jjrltoe, jjrloy9, jjrj0ix, jjrqv1u, jjrkukd, ...</td>\n",
       "      <td>1.683823e+09</td>\n",
       "      <td>2012</td>\n",
       "      <td>If that’s important to you then not working at...</td>\n",
       "    </tr>\n",
       "    <tr>\n",
       "      <th>1</th>\n",
       "      <td>Quitting after 8 years without notice. Am I wr...</td>\n",
       "      <td>careerguidance</td>\n",
       "      <td>(jwy89qz, jwy71ys, jwy92k5, jwyd2wg, jwy8pbg, ...</td>\n",
       "      <td>1.692499e+09</td>\n",
       "      <td>2269</td>\n",
       "      <td>You are not wrong.\\nLoyalty is a two-way stree...</td>\n",
       "    </tr>\n",
       "    <tr>\n",
       "      <th>2</th>\n",
       "      <td>My boss is pressuring to tell him where my new...</td>\n",
       "      <td>careerguidance</td>\n",
       "      <td>(jtj5lbh, jtj4y6i, jtjhn8p, jtj6fjl, jtjfnyy, ...</td>\n",
       "      <td>1.690384e+09</td>\n",
       "      <td>2483</td>\n",
       "      <td>No. Do not say anything to him. Managers are n...</td>\n",
       "    </tr>\n",
       "    <tr>\n",
       "      <th>3</th>\n",
       "      <td>BS’ed my way into a 160K job offer, am I crazy...</td>\n",
       "      <td>careerguidance</td>\n",
       "      <td>(jza8nj5, jza84ye, jza4o7j, jza7hpb, jzaaybs, ...</td>\n",
       "      <td>1.693943e+09</td>\n",
       "      <td>3388</td>\n",
       "      <td>Literally every single person I've known who e...</td>\n",
       "    </tr>\n",
       "    <tr>\n",
       "      <th>4</th>\n",
       "      <td>My boss confronted me about only working 7 hou...</td>\n",
       "      <td>careerguidance</td>\n",
       "      <td>(jy5lzz7, jy618tp, jy5jca5, jy5rfkp, jy5i9o6, ...</td>\n",
       "      <td>1.693260e+09</td>\n",
       "      <td>2297</td>\n",
       "      <td>Work an extra 15 minutes and tell him you didn...</td>\n",
       "    </tr>\n",
       "    <tr>\n",
       "      <th>...</th>\n",
       "      <td>...</td>\n",
       "      <td>...</td>\n",
       "      <td>...</td>\n",
       "      <td>...</td>\n",
       "      <td>...</td>\n",
       "      <td>...</td>\n",
       "    </tr>\n",
       "    <tr>\n",
       "      <th>1250</th>\n",
       "      <td>Random company I applied to on LinkedIn turns ...</td>\n",
       "      <td>cscareerquestions</td>\n",
       "      <td>(jsiovyk, jsiyep1, jsjc0e5, jsix7h5, jsji36k, ...</td>\n",
       "      <td>1.689722e+09</td>\n",
       "      <td>385</td>\n",
       "      <td>RUN. Specifically looking for new college grad...</td>\n",
       "    </tr>\n",
       "    <tr>\n",
       "      <th>1251</th>\n",
       "      <td>Does messaging strangers for job referrals work?</td>\n",
       "      <td>cscareerquestions</td>\n",
       "      <td>(jkq910s, jkq5efm, jkq6sfz, jkq6sgn, jkqagfv, ...</td>\n",
       "      <td>1.684464e+09</td>\n",
       "      <td>287</td>\n",
       "      <td>I would be open to referring a stranger depend...</td>\n",
       "    </tr>\n",
       "    <tr>\n",
       "      <th>1252</th>\n",
       "      <td>I have a B.S. in Computer Science and graduate...</td>\n",
       "      <td>cscareerquestions</td>\n",
       "      <td>(jcccx5u, jcd36xp, jcc7h4v, jccc2sk, jcccc6p, ...</td>\n",
       "      <td>1.678909e+09</td>\n",
       "      <td>240</td>\n",
       "      <td>Delete the Summary, reverse the order of the j...</td>\n",
       "    </tr>\n",
       "    <tr>\n",
       "      <th>1253</th>\n",
       "      <td>Apart from tech skills, has the hiring bar for...</td>\n",
       "      <td>cscareerquestions</td>\n",
       "      <td>(jkpaj98, jkotv5m, jkoqfti, jkop63h, jkp6z0f, ...</td>\n",
       "      <td>1.684443e+09</td>\n",
       "      <td>184</td>\n",
       "      <td>What is happening now is the same thing that h...</td>\n",
       "    </tr>\n",
       "    <tr>\n",
       "      <th>1254</th>\n",
       "      <td>Feeling incompetent and it’s killing me</td>\n",
       "      <td>cscareerquestions</td>\n",
       "      <td>(jlihz2j, jliigcs, jlhyss7, jli4zqm, jli3hf1, ...</td>\n",
       "      <td>1.684972e+09</td>\n",
       "      <td>171</td>\n",
       "      <td>1. Writing a lot of code\\n2. Working with peop...</td>\n",
       "    </tr>\n",
       "  </tbody>\n",
       "</table>\n",
       "<p>1255 rows × 6 columns</p>\n",
       "</div>"
      ],
      "text/plain": [
       "                                                  title           selftext  \\\n",
       "0     Redditors who make +$100K and aren’t being kil...     careerguidance   \n",
       "1     Quitting after 8 years without notice. Am I wr...     careerguidance   \n",
       "2     My boss is pressuring to tell him where my new...     careerguidance   \n",
       "3     BS’ed my way into a 160K job offer, am I crazy...     careerguidance   \n",
       "4     My boss confronted me about only working 7 hou...     careerguidance   \n",
       "...                                                 ...                ...   \n",
       "1250  Random company I applied to on LinkedIn turns ...  cscareerquestions   \n",
       "1251   Does messaging strangers for job referrals work?  cscareerquestions   \n",
       "1252  I have a B.S. in Computer Science and graduate...  cscareerquestions   \n",
       "1253  Apart from tech skills, has the hiring bar for...  cscareerquestions   \n",
       "1254            Feeling incompetent and it’s killing me  cscareerquestions   \n",
       "\n",
       "                                               comments   created_utc  \\\n",
       "0     (jjrltoe, jjrloy9, jjrj0ix, jjrqv1u, jjrkukd, ...  1.683823e+09   \n",
       "1     (jwy89qz, jwy71ys, jwy92k5, jwyd2wg, jwy8pbg, ...  1.692499e+09   \n",
       "2     (jtj5lbh, jtj4y6i, jtjhn8p, jtj6fjl, jtjfnyy, ...  1.690384e+09   \n",
       "3     (jza8nj5, jza84ye, jza4o7j, jza7hpb, jzaaybs, ...  1.693943e+09   \n",
       "4     (jy5lzz7, jy618tp, jy5jca5, jy5rfkp, jy5i9o6, ...  1.693260e+09   \n",
       "...                                                 ...           ...   \n",
       "1250  (jsiovyk, jsiyep1, jsjc0e5, jsix7h5, jsji36k, ...  1.689722e+09   \n",
       "1251  (jkq910s, jkq5efm, jkq6sfz, jkq6sgn, jkqagfv, ...  1.684464e+09   \n",
       "1252  (jcccx5u, jcd36xp, jcc7h4v, jccc2sk, jcccc6p, ...  1.678909e+09   \n",
       "1253  (jkpaj98, jkotv5m, jkoqfti, jkop63h, jkp6z0f, ...  1.684443e+09   \n",
       "1254  (jlihz2j, jliigcs, jlhyss7, jli4zqm, jli3hf1, ...  1.684972e+09   \n",
       "\n",
       "      comment_upvotes                                        top_comment  \n",
       "0                2012  If that’s important to you then not working at...  \n",
       "1                2269  You are not wrong.\\nLoyalty is a two-way stree...  \n",
       "2                2483  No. Do not say anything to him. Managers are n...  \n",
       "3                3388  Literally every single person I've known who e...  \n",
       "4                2297  Work an extra 15 minutes and tell him you didn...  \n",
       "...               ...                                                ...  \n",
       "1250              385  RUN. Specifically looking for new college grad...  \n",
       "1251              287  I would be open to referring a stranger depend...  \n",
       "1252              240  Delete the Summary, reverse the order of the j...  \n",
       "1253              184  What is happening now is the same thing that h...  \n",
       "1254              171  1. Writing a lot of code\\n2. Working with peop...  \n",
       "\n",
       "[1255 rows x 6 columns]"
      ]
     },
     "execution_count": 103,
     "metadata": {},
     "output_type": "execute_result"
    }
   ],
   "source": [
    "for post in subreddit1:\n",
    "    if not post.over_18:\n",
    "        post.comments.replace_more(limit = 0)\n",
    "        highest_ups = -1\n",
    "        for comment in post.comments:\n",
    "            if comment.ups > highest_ups:\n",
    "                best_comment = comment.body\n",
    "                highest_ups = comment.ups\n",
    "        data_1.append(\n",
    "            {'title': post.title,\n",
    "            'selftext': post.subreddit,\n",
    "            'comments': post.comments,\n",
    "            'created_utc': post.created_utc,\n",
    "            'comment_upvotes': highest_ups,\n",
    "            'top_comment': best_comment\n",
    "            }\n",
    "        )"
   ]
  },
  {
   "cell_type": "code",
   "execution_count": 110,
   "id": "1a26f1de-1ac6-4e7b-bff3-1a7931f1a87d",
   "metadata": {
    "tags": []
   },
   "outputs": [],
   "source": [
    "subreddit2 = reddit.subreddit(\"askscience\").top(limit = 2000, time_filter = 'year')"
   ]
  },
  {
   "cell_type": "code",
   "execution_count": 111,
   "id": "548a542c-2391-4f0a-8796-5fef1cca98e3",
   "metadata": {
    "tags": []
   },
   "outputs": [],
   "source": [
    "for post in subreddit2:\n",
    "    if not post.over_18:\n",
    "        post.comments.replace_more(limit = 0)\n",
    "        highest_ups = -1\n",
    "        for comment in post.comments:\n",
    "            if comment.ups > highest_ups:\n",
    "                best_comment = comment.body\n",
    "                highest_ups = comment.ups\n",
    "        data_1.append(\n",
    "            {'title': post.title,\n",
    "            'selftext': post.subreddit,\n",
    "            'comments': post.comments,\n",
    "            'created_utc': post.created_utc,\n",
    "            'comment_upvotes': highest_ups,\n",
    "            'top_comment': best_comment\n",
    "            }\n",
    "        )"
   ]
  },
  {
   "cell_type": "code",
   "execution_count": 106,
   "id": "1b8139da-e8c5-4132-96af-735bf736c616",
   "metadata": {
    "tags": []
   },
   "outputs": [],
   "source": [
    "subreddit3 = reddit.subreddit(\"asksreddit\").top(limit = 2000, time_filter = 'year')"
   ]
  },
  {
   "cell_type": "code",
   "execution_count": 107,
   "id": "6d4170f1-9693-4cb2-b3c5-302f231da4d1",
   "metadata": {
    "collapsed": true,
    "jupyter": {
     "outputs_hidden": true
    },
    "tags": []
   },
   "outputs": [
    {
     "data": {
      "text/html": [
       "<div>\n",
       "<style scoped>\n",
       "    .dataframe tbody tr th:only-of-type {\n",
       "        vertical-align: middle;\n",
       "    }\n",
       "\n",
       "    .dataframe tbody tr th {\n",
       "        vertical-align: top;\n",
       "    }\n",
       "\n",
       "    .dataframe thead th {\n",
       "        text-align: right;\n",
       "    }\n",
       "</style>\n",
       "<table border=\"1\" class=\"dataframe\">\n",
       "  <thead>\n",
       "    <tr style=\"text-align: right;\">\n",
       "      <th></th>\n",
       "      <th>title</th>\n",
       "      <th>selftext</th>\n",
       "      <th>comments</th>\n",
       "      <th>created_utc</th>\n",
       "      <th>comment_upvotes</th>\n",
       "      <th>top_comment</th>\n",
       "    </tr>\n",
       "  </thead>\n",
       "  <tbody>\n",
       "    <tr>\n",
       "      <th>0</th>\n",
       "      <td>Redditors who make +$100K and aren’t being kil...</td>\n",
       "      <td>careerguidance</td>\n",
       "      <td>(jjrltoe, jjrloy9, jjrj0ix, jjrqv1u, jjrkukd, ...</td>\n",
       "      <td>1.683823e+09</td>\n",
       "      <td>2012</td>\n",
       "      <td>If that’s important to you then not working at...</td>\n",
       "    </tr>\n",
       "    <tr>\n",
       "      <th>1</th>\n",
       "      <td>Quitting after 8 years without notice. Am I wr...</td>\n",
       "      <td>careerguidance</td>\n",
       "      <td>(jwy89qz, jwy71ys, jwy92k5, jwyd2wg, jwy8pbg, ...</td>\n",
       "      <td>1.692499e+09</td>\n",
       "      <td>2269</td>\n",
       "      <td>You are not wrong.\\nLoyalty is a two-way stree...</td>\n",
       "    </tr>\n",
       "    <tr>\n",
       "      <th>2</th>\n",
       "      <td>My boss is pressuring to tell him where my new...</td>\n",
       "      <td>careerguidance</td>\n",
       "      <td>(jtj5lbh, jtj4y6i, jtjhn8p, jtj6fjl, jtjfnyy, ...</td>\n",
       "      <td>1.690384e+09</td>\n",
       "      <td>2483</td>\n",
       "      <td>No. Do not say anything to him. Managers are n...</td>\n",
       "    </tr>\n",
       "    <tr>\n",
       "      <th>3</th>\n",
       "      <td>BS’ed my way into a 160K job offer, am I crazy...</td>\n",
       "      <td>careerguidance</td>\n",
       "      <td>(jza8nj5, jza84ye, jza4o7j, jza7hpb, jzaaybs, ...</td>\n",
       "      <td>1.693943e+09</td>\n",
       "      <td>3388</td>\n",
       "      <td>Literally every single person I've known who e...</td>\n",
       "    </tr>\n",
       "    <tr>\n",
       "      <th>4</th>\n",
       "      <td>My boss confronted me about only working 7 hou...</td>\n",
       "      <td>careerguidance</td>\n",
       "      <td>(jy5lzz7, jy618tp, jy5jca5, jy5rfkp, jy5i9o6, ...</td>\n",
       "      <td>1.693260e+09</td>\n",
       "      <td>2297</td>\n",
       "      <td>Work an extra 15 minutes and tell him you didn...</td>\n",
       "    </tr>\n",
       "    <tr>\n",
       "      <th>...</th>\n",
       "      <td>...</td>\n",
       "      <td>...</td>\n",
       "      <td>...</td>\n",
       "      <td>...</td>\n",
       "      <td>...</td>\n",
       "      <td>...</td>\n",
       "    </tr>\n",
       "    <tr>\n",
       "      <th>1750</th>\n",
       "      <td>Could you make gamma rays via Bremsstrahlung?</td>\n",
       "      <td>askscience</td>\n",
       "      <td>(jg845x0, jg7jug9, jg7yhny, jg8a6x6, jg8qd24, ...</td>\n",
       "      <td>1.681464e+09</td>\n",
       "      <td>200</td>\n",
       "      <td>Some of the other comments are about x and gam...</td>\n",
       "    </tr>\n",
       "    <tr>\n",
       "      <th>1751</th>\n",
       "      <td>Quote from an article on the Guardian news web...</td>\n",
       "      <td>askscience</td>\n",
       "      <td>(iwzju6o, ix0jsuh, iwz812j, ix036id, ix0hkm4, ...</td>\n",
       "      <td>1.668853e+09</td>\n",
       "      <td>405</td>\n",
       "      <td>I believe it is an inaccurate statement.  They...</td>\n",
       "    </tr>\n",
       "    <tr>\n",
       "      <th>1752</th>\n",
       "      <td>How fast do bubbles rise in water?</td>\n",
       "      <td>askscience</td>\n",
       "      <td>(irpci2q, irpojn2, irpznxu, irpc0n0, irpdlhd, ...</td>\n",
       "      <td>1.665361e+09</td>\n",
       "      <td>597</td>\n",
       "      <td>Bubbles are ellipsoidal in shape, motion is ir...</td>\n",
       "    </tr>\n",
       "    <tr>\n",
       "      <th>1753</th>\n",
       "      <td>How do cancer vaccines stand out from other st...</td>\n",
       "      <td>askscience</td>\n",
       "      <td>(jlsvm83, jlsj1sq, jltxsc5, jltj8bc, jltuw69, ...</td>\n",
       "      <td>1.685158e+09</td>\n",
       "      <td>111</td>\n",
       "      <td>Cancer vaccines are targeted against antigens ...</td>\n",
       "    </tr>\n",
       "    <tr>\n",
       "      <th>1754</th>\n",
       "      <td>r/AsksReddit needs moderators and is currently...</td>\n",
       "      <td>AsksReddit</td>\n",
       "      <td>()</td>\n",
       "      <td>1.573170e+09</td>\n",
       "      <td>-1</td>\n",
       "      <td>Cancer vaccines are targeted against antigens ...</td>\n",
       "    </tr>\n",
       "  </tbody>\n",
       "</table>\n",
       "<p>1755 rows × 6 columns</p>\n",
       "</div>"
      ],
      "text/plain": [
       "                                                  title        selftext  \\\n",
       "0     Redditors who make +$100K and aren’t being kil...  careerguidance   \n",
       "1     Quitting after 8 years without notice. Am I wr...  careerguidance   \n",
       "2     My boss is pressuring to tell him where my new...  careerguidance   \n",
       "3     BS’ed my way into a 160K job offer, am I crazy...  careerguidance   \n",
       "4     My boss confronted me about only working 7 hou...  careerguidance   \n",
       "...                                                 ...             ...   \n",
       "1750      Could you make gamma rays via Bremsstrahlung?      askscience   \n",
       "1751  Quote from an article on the Guardian news web...      askscience   \n",
       "1752                 How fast do bubbles rise in water?      askscience   \n",
       "1753  How do cancer vaccines stand out from other st...      askscience   \n",
       "1754  r/AsksReddit needs moderators and is currently...      AsksReddit   \n",
       "\n",
       "                                               comments   created_utc  \\\n",
       "0     (jjrltoe, jjrloy9, jjrj0ix, jjrqv1u, jjrkukd, ...  1.683823e+09   \n",
       "1     (jwy89qz, jwy71ys, jwy92k5, jwyd2wg, jwy8pbg, ...  1.692499e+09   \n",
       "2     (jtj5lbh, jtj4y6i, jtjhn8p, jtj6fjl, jtjfnyy, ...  1.690384e+09   \n",
       "3     (jza8nj5, jza84ye, jza4o7j, jza7hpb, jzaaybs, ...  1.693943e+09   \n",
       "4     (jy5lzz7, jy618tp, jy5jca5, jy5rfkp, jy5i9o6, ...  1.693260e+09   \n",
       "...                                                 ...           ...   \n",
       "1750  (jg845x0, jg7jug9, jg7yhny, jg8a6x6, jg8qd24, ...  1.681464e+09   \n",
       "1751  (iwzju6o, ix0jsuh, iwz812j, ix036id, ix0hkm4, ...  1.668853e+09   \n",
       "1752  (irpci2q, irpojn2, irpznxu, irpc0n0, irpdlhd, ...  1.665361e+09   \n",
       "1753  (jlsvm83, jlsj1sq, jltxsc5, jltj8bc, jltuw69, ...  1.685158e+09   \n",
       "1754                                                 ()  1.573170e+09   \n",
       "\n",
       "      comment_upvotes                                        top_comment  \n",
       "0                2012  If that’s important to you then not working at...  \n",
       "1                2269  You are not wrong.\\nLoyalty is a two-way stree...  \n",
       "2                2483  No. Do not say anything to him. Managers are n...  \n",
       "3                3388  Literally every single person I've known who e...  \n",
       "4                2297  Work an extra 15 minutes and tell him you didn...  \n",
       "...               ...                                                ...  \n",
       "1750              200  Some of the other comments are about x and gam...  \n",
       "1751              405  I believe it is an inaccurate statement.  They...  \n",
       "1752              597  Bubbles are ellipsoidal in shape, motion is ir...  \n",
       "1753              111  Cancer vaccines are targeted against antigens ...  \n",
       "1754               -1  Cancer vaccines are targeted against antigens ...  \n",
       "\n",
       "[1755 rows x 6 columns]"
      ]
     },
     "execution_count": 107,
     "metadata": {},
     "output_type": "execute_result"
    }
   ],
   "source": [
    "for post in subreddit3:\n",
    "    if not post.over_18:\n",
    "        post.comments.replace_more(limit = 0)\n",
    "        highest_ups = -1\n",
    "        for comment in post.comments:\n",
    "            if comment.ups > highest_ups:\n",
    "                best_comment = comment.body\n",
    "                highest_ups = comment.ups\n",
    "        data_1.append(\n",
    "            {'title': post.title,\n",
    "            'selftext': post.subreddit,\n",
    "            'comments': post.comments,\n",
    "            'created_utc': post.created_utc,\n",
    "            'comment_upvotes': highest_ups,\n",
    "            'top_comment': best_comment\n",
    "            }\n",
    "        )"
   ]
  },
  {
   "cell_type": "code",
   "execution_count": 118,
   "id": "4cca11ce-d4b1-4e19-b3bd-d4e5032c65f2",
   "metadata": {
    "tags": []
   },
   "outputs": [],
   "source": [
    "subreddit4 = reddit.subreddit(\"AskHistory\").top(limit = 2000, time_filter = 'year')"
   ]
  },
  {
   "cell_type": "code",
   "execution_count": 120,
   "id": "a4bf21b7-a925-4aa2-b0c0-737822f53cf3",
   "metadata": {
    "tags": []
   },
   "outputs": [],
   "source": [
    "for post in subreddit4:\n",
    "    if not post.over_18:\n",
    "        post.comments.replace_more(limit = 0)\n",
    "        highest_ups = -1\n",
    "        for comment in post.comments:\n",
    "            if comment.ups > highest_ups:\n",
    "                best_comment = comment.body\n",
    "                highest_ups = comment.ups\n",
    "        data_1.append(\n",
    "            {'title': post.title,\n",
    "            'selftext': post.subreddit,\n",
    "            'comments': post.comments,\n",
    "            'created_utc': post.created_utc,\n",
    "            'comment_upvotes': highest_ups,\n",
    "            'top_comment': best_comment\n",
    "            }\n",
    "        )"
   ]
  },
  {
   "cell_type": "code",
   "execution_count": 121,
   "id": "37a32390-942e-49c4-a542-c68f3ef0be44",
   "metadata": {
    "tags": []
   },
   "outputs": [
    {
     "data": {
      "text/plain": [
       "5523"
      ]
     },
     "execution_count": 121,
     "metadata": {},
     "output_type": "execute_result"
    }
   ],
   "source": [
    "len(data_1)"
   ]
  },
  {
   "cell_type": "code",
   "execution_count": null,
   "id": "0d226f20-9665-44f9-8edb-e14c1a3b1299",
   "metadata": {},
   "outputs": [],
   "source": [
    "#Count number of prompts with Question marks in them"
   ]
  },
  {
   "cell_type": "code",
   "execution_count": 85,
   "id": "5bebd33c-e973-47f5-aee5-470a048caae8",
   "metadata": {
    "tags": []
   },
   "outputs": [],
   "source": [
    "davinci_prompts = [p['title'] for p in data_1]"
   ]
  },
  {
   "cell_type": "code",
   "execution_count": 86,
   "id": "32e06d54-739a-4d87-856f-500c711c7427",
   "metadata": {
    "tags": []
   },
   "outputs": [
    {
     "name": "stdout",
     "output_type": "stream",
     "text": [
      "49\n",
      "0.1101123595505618\n"
     ]
    }
   ],
   "source": [
    "count_q = 0\n",
    "for t in davinci_prompts:\n",
    "    if \"?\" in t:\n",
    "        count_q +=1\n",
    "print(count_q)\n",
    "print(count_q/len(data_))"
   ]
  },
  {
   "cell_type": "code",
   "execution_count": 87,
   "id": "ad025d2e-a632-437a-a433-915805df4cd7",
   "metadata": {
    "tags": []
   },
   "outputs": [],
   "source": [
    "davinci_prompts_adj = [p['title'] for p in data_1 if \"?\" in p[\"title\"]]"
   ]
  },
  {
   "cell_type": "code",
   "execution_count": null,
   "id": "0d17afda-91bc-46ac-b488-b2073f41a0d8",
   "metadata": {
    "tags": []
   },
   "outputs": [],
   "source": [
    "#average number of words in each question prompt"
   ]
  },
  {
   "cell_type": "code",
   "execution_count": 89,
   "id": "474183ad-3723-4701-8eb7-620b299b8d67",
   "metadata": {
    "tags": []
   },
   "outputs": [
    {
     "data": {
      "text/plain": [
       "17.877551020408163"
      ]
     },
     "execution_count": 89,
     "metadata": {},
     "output_type": "execute_result"
    }
   ],
   "source": [
    "import nltk\n",
    "from statistics import mean\n",
    "\n",
    "davinci_prompts_adj_tokens = [len(nltk.word_tokenize(p['title'])) for p in data_1]\n",
    "mean(davinci_prompts_adj_tokens)"
   ]
  },
  {
   "cell_type": "code",
   "execution_count": 33,
   "id": "00b4340e-fd2c-4dcb-abfe-7302d027af50",
   "metadata": {
    "tags": []
   },
   "outputs": [],
   "source": [
    "data_1_use = pd.read_csv(\"reddit_data_pull.csv\")"
   ]
  },
  {
   "cell_type": "code",
   "execution_count": 36,
   "id": "5526fee9-8a01-473b-8600-28a276e0eab3",
   "metadata": {
    "tags": []
   },
   "outputs": [],
   "source": [
    "data_1_use_ = list(data_1_use[\"title\"])"
   ]
  },
  {
   "cell_type": "code",
   "execution_count": 365,
   "id": "b7ee9b31-28fa-41e9-9a79-08eac17377b9",
   "metadata": {
    "collapsed": true,
    "jupyter": {
     "outputs_hidden": true
    },
    "tags": []
   },
   "outputs": [
    {
     "ename": "IndexError",
     "evalue": "list index out of range",
     "output_type": "error",
     "traceback": [
      "\u001b[0;31m---------------------------------------------------------------------------\u001b[0m",
      "\u001b[0;31mIndexError\u001b[0m                                Traceback (most recent call last)",
      "Cell \u001b[0;32mIn[365], line 7\u001b[0m\n\u001b[1;32m      1\u001b[0m output_full25a \u001b[38;5;241m=\u001b[39m []\n\u001b[1;32m      2\u001b[0m \u001b[38;5;66;03m#i = 0\u001b[39;00m\n\u001b[1;32m      3\u001b[0m \n\u001b[1;32m      4\u001b[0m \u001b[38;5;66;03m#for i in range(5523):\u001b[39;00m\n\u001b[1;32m      5\u001b[0m dv_response \u001b[38;5;241m=\u001b[39m openai\u001b[38;5;241m.\u001b[39mCompletion\u001b[38;5;241m.\u001b[39mcreate(\n\u001b[1;32m      6\u001b[0m     model \u001b[38;5;241m=\u001b[39m \u001b[38;5;124m'\u001b[39m\u001b[38;5;124mtext-babbage-001\u001b[39m\u001b[38;5;124m'\u001b[39m,\n\u001b[0;32m----> 7\u001b[0m     prompt \u001b[38;5;241m=\u001b[39m data_1_use_[\u001b[38;5;241m5523\u001b[39m],\u001b[38;5;66;03m#[i:i+20],\u001b[39;00m\n\u001b[1;32m      8\u001b[0m     \u001b[38;5;66;03m#message = [{'role': 'user', 'content': \"Answer the following question as a user:\"}],\u001b[39;00m\n\u001b[1;32m      9\u001b[0m     temperature \u001b[38;5;241m=\u001b[39m \u001b[38;5;241m0.6\u001b[39m,\n\u001b[1;32m     10\u001b[0m     max_tokens \u001b[38;5;241m=\u001b[39m \u001b[38;5;241m300\u001b[39m,   \n\u001b[1;32m     11\u001b[0m )\n\u001b[1;32m     12\u001b[0m \u001b[38;5;66;03m# chat_response = dv_response['choices'][0]['message']['content']\u001b[39;00m\n\u001b[1;32m     13\u001b[0m chat_response \u001b[38;5;241m=\u001b[39m dv_response\u001b[38;5;241m.\u001b[39mchoices[\u001b[38;5;241m0\u001b[39m][\u001b[38;5;124m'\u001b[39m\u001b[38;5;124mtext\u001b[39m\u001b[38;5;124m'\u001b[39m]\n",
      "\u001b[0;31mIndexError\u001b[0m: list index out of range"
     ]
    }
   ],
   "source": [
    "#Thank you to Eric for helping select a better model and understand parameters (tried davinci and gpt turbo unsuccessfully at first)\n",
    "output_full25a = [] #re-ran this function multiple times in order to get through all collected reddit prompts; done manually, as the function would time out and not get through the entire range\n",
    "i = 0\n",
    "\n",
    "for i in range(len(data_1_use)):\n",
    "    dv_response = openai.Completion.create(\n",
    "        model = 'text-babbage-001',\n",
    "        prompt = data_1_use_[i:i+20],\n",
    "        #message = [{'role': 'user', 'content': \"Answer the following question as a user:\"}],\n",
    "        temperature = 0.6,\n",
    "        max_tokens = 300,   \n",
    "    )\n",
    "    # chat_response = dv_response['choices'][0]['message']['content']\n",
    "    chat_response = dv_response.choices[0]['text']\n",
    "    output_full25a.append(chat_response)\n",
    "    \n",
    "i+=20\n",
    "time.sleep(0.03)"
   ]
  },
  {
   "cell_type": "markdown",
   "id": "c063bf7b-d1b3-4992-80c5-6b9f500a585a",
   "metadata": {
    "tags": []
   },
   "source": [
    "## Wrangling OpenAI to get to 5523 answered prompts"
   ]
  },
  {
   "cell_type": "code",
   "execution_count": 366,
   "id": "6d49b3a7-3909-4ca7-b2f4-a59d3a3e3e3b",
   "metadata": {
    "tags": []
   },
   "outputs": [],
   "source": [
    "full_output = output_full2 + \\\n",
    "            output_full2a + \\\n",
    "            output_full3 + \\\n",
    "            output_full3a + \\\n",
    "            output_full4 + \\\n",
    "            output_full4a + \\\n",
    "            output_full5 + \\\n",
    "            output_full5a + \\\n",
    "            output_full6 + \\\n",
    "            output_full6a + \\\n",
    "            output_full7 + \\\n",
    "            output_full7a + \\\n",
    "            output_full8 + \\\n",
    "            output_full8a + \\\n",
    "            output_full9 + \\\n",
    "            output_full9a + \\\n",
    "            output_full10 + \\\n",
    "            output_full10a + \\\n",
    "            output_full11 + \\\n",
    "            output_full11a + \\\n",
    "            output_full12 + \\\n",
    "            output_full12a + \\\n",
    "            output_full13 + \\\n",
    "            output_full13a + \\\n",
    "            output_full14 + \\\n",
    "            output_full14a + \\\n",
    "            output_full15 + \\\n",
    "            output_full15a + \\\n",
    "            output_full16 + \\\n",
    "            output_full16a + \\\n",
    "            output_full17 + \\\n",
    "            output_full17a + \\\n",
    "            output_full18 + \\\n",
    "            output_full18a + \\\n",
    "            output_full19 + \\\n",
    "            output_full19a + \\\n",
    "            output_full20 + \\\n",
    "            output_full20a + \\\n",
    "            output_full21 + \\\n",
    "            output_full21a + \\\n",
    "            output_full22 + \\\n",
    "            output_full22a + \\\n",
    "            output_full23 + \\\n",
    "            output_full23a + \\\n",
    "            output_full24 + \\\n",
    "            output_full24a + \\\n",
    "            output_full25"
   ]
  },
  {
   "cell_type": "code",
   "execution_count": 336,
   "id": "4ed05997-0a48-448c-bb1d-c81807332a28",
   "metadata": {
    "collapsed": true,
    "jupyter": {
     "outputs_hidden": true
    },
    "tags": []
   },
   "outputs": [
    {
     "data": {
      "text/plain": [
       "1362"
      ]
     },
     "execution_count": 336,
     "metadata": {},
     "output_type": "execute_result"
    }
   ],
   "source": [
    "len(full_output)"
   ]
  },
  {
   "cell_type": "code",
   "execution_count": 241,
   "id": "e24530b5-84df-4fda-a255-e784133ad67b",
   "metadata": {
    "collapsed": true,
    "jupyter": {
     "outputs_hidden": true
    },
    "tags": []
   },
   "outputs": [
    {
     "data": {
      "text/plain": [
       "912"
      ]
     },
     "execution_count": 241,
     "metadata": {},
     "output_type": "execute_result"
    }
   ],
   "source": [
    "len(output_full2)\n",
    "#loop through AI and reddit prompts from 0-912; since I made a mistake with the ranges; I'm running the above prompt and inserting single index rows as 'a' after each output file."
   ]
  },
  {
   "cell_type": "code",
   "execution_count": 252,
   "id": "b4a3c680-4692-4db8-b3b7-621da1ef8805",
   "metadata": {
    "collapsed": true,
    "jupyter": {
     "outputs_hidden": true
    },
    "tags": []
   },
   "outputs": [
    {
     "data": {
      "text/plain": [
       "449"
      ]
     },
     "execution_count": 252,
     "metadata": {},
     "output_type": "execute_result"
    }
   ],
   "source": [
    "len(output_full3)\n",
    "#loop through AI and reddit prompts from 913-1362"
   ]
  },
  {
   "cell_type": "code",
   "execution_count": 248,
   "id": "95b7ff60-ce84-41da-91cf-2b0449286888",
   "metadata": {
    "collapsed": true,
    "jupyter": {
     "outputs_hidden": true
    },
    "tags": []
   },
   "outputs": [
    {
     "data": {
      "text/plain": [
       "160"
      ]
     },
     "execution_count": 248,
     "metadata": {},
     "output_type": "execute_result"
    }
   ],
   "source": [
    "len(output_full4)\n",
    "#loop through AI and reddit prompts from 1363-1523"
   ]
  },
  {
   "cell_type": "code",
   "execution_count": 254,
   "id": "d5e402a8-ef53-4e4e-8867-8ee2ee3da613",
   "metadata": {
    "collapsed": true,
    "jupyter": {
     "outputs_hidden": true
    },
    "tags": []
   },
   "outputs": [
    {
     "data": {
      "text/plain": [
       "181"
      ]
     },
     "execution_count": 254,
     "metadata": {},
     "output_type": "execute_result"
    }
   ],
   "source": [
    "len(output_full5)\n",
    "#loop through AI and reddit prompts from 1524-1705"
   ]
  },
  {
   "cell_type": "code",
   "execution_count": 257,
   "id": "2649e33a-6c72-4a70-9170-00291d6bddc3",
   "metadata": {
    "collapsed": true,
    "jupyter": {
     "outputs_hidden": true
    },
    "tags": []
   },
   "outputs": [
    {
     "data": {
      "text/plain": [
       "208"
      ]
     },
     "execution_count": 257,
     "metadata": {},
     "output_type": "execute_result"
    }
   ],
   "source": [
    "len(output_full6)\n",
    "#loop through AI and reddit prompts from 1706-1914"
   ]
  },
  {
   "cell_type": "code",
   "execution_count": 259,
   "id": "e6625c90-c390-4fcb-bc10-88bb391ec521",
   "metadata": {
    "collapsed": true,
    "jupyter": {
     "outputs_hidden": true
    },
    "tags": []
   },
   "outputs": [
    {
     "data": {
      "text/plain": [
       "209"
      ]
     },
     "execution_count": 259,
     "metadata": {},
     "output_type": "execute_result"
    }
   ],
   "source": [
    "len(output_full7)\n",
    "#loop through AI and reddit prompts from 1915-2124"
   ]
  },
  {
   "cell_type": "code",
   "execution_count": 261,
   "id": "9707a0b5-73ba-4a76-bcc2-04c1ed28d9c3",
   "metadata": {
    "collapsed": true,
    "jupyter": {
     "outputs_hidden": true
    },
    "tags": []
   },
   "outputs": [
    {
     "data": {
      "text/plain": [
       "129"
      ]
     },
     "execution_count": 261,
     "metadata": {},
     "output_type": "execute_result"
    }
   ],
   "source": [
    "len(output_full8)\n",
    "#loop through AI and reddit prompts from 2125-2254"
   ]
  },
  {
   "cell_type": "code",
   "execution_count": 263,
   "id": "e66ec9ce-7454-4b75-9166-e397c5df64bb",
   "metadata": {
    "collapsed": true,
    "jupyter": {
     "outputs_hidden": true
    },
    "tags": []
   },
   "outputs": [
    {
     "data": {
      "text/plain": [
       "140"
      ]
     },
     "execution_count": 263,
     "metadata": {},
     "output_type": "execute_result"
    }
   ],
   "source": [
    "len(output_full9)\n",
    "#loop through AI and reddit prompts from 2255-2395"
   ]
  },
  {
   "cell_type": "code",
   "execution_count": 274,
   "id": "a74797e0-d6d5-4d2f-a683-f8e4e3f367ec",
   "metadata": {
    "collapsed": true,
    "jupyter": {
     "outputs_hidden": true
    },
    "tags": []
   },
   "outputs": [
    {
     "data": {
      "text/plain": [
       "171"
      ]
     },
     "execution_count": 274,
     "metadata": {},
     "output_type": "execute_result"
    }
   ],
   "source": [
    "len(output_full10)\n",
    "#loop through AI and reddit prompts from 2396-2567"
   ]
  },
  {
   "cell_type": "code",
   "execution_count": 276,
   "id": "72923598-9582-4874-94f9-e562e7d7dd98",
   "metadata": {
    "collapsed": true,
    "jupyter": {
     "outputs_hidden": true
    },
    "tags": []
   },
   "outputs": [
    {
     "data": {
      "text/plain": [
       "157"
      ]
     },
     "execution_count": 276,
     "metadata": {},
     "output_type": "execute_result"
    }
   ],
   "source": [
    "len(output_full11)\n",
    "#loop through AI and reddit prompts from 2568-2725"
   ]
  },
  {
   "cell_type": "code",
   "execution_count": 278,
   "id": "469b163e-83b9-45e6-b368-8d17c8eddeee",
   "metadata": {
    "collapsed": true,
    "jupyter": {
     "outputs_hidden": true
    },
    "tags": []
   },
   "outputs": [
    {
     "data": {
      "text/plain": [
       "181"
      ]
     },
     "execution_count": 278,
     "metadata": {},
     "output_type": "execute_result"
    }
   ],
   "source": [
    "len(output_full12)\n",
    "#loop through AI and reddit prompts from 2726-2907"
   ]
  },
  {
   "cell_type": "code",
   "execution_count": 280,
   "id": "e101f97e-7779-4cb6-906f-493d761aefe3",
   "metadata": {
    "collapsed": true,
    "jupyter": {
     "outputs_hidden": true
    },
    "tags": []
   },
   "outputs": [
    {
     "data": {
      "text/plain": [
       "145"
      ]
     },
     "execution_count": 280,
     "metadata": {},
     "output_type": "execute_result"
    }
   ],
   "source": [
    "len(output_full13)\n",
    "#loop through AI and reddit prompts from 2908-3053"
   ]
  },
  {
   "cell_type": "code",
   "execution_count": 286,
   "id": "08dd1e4f-c86b-42b4-85e8-8fc8fa336a1b",
   "metadata": {
    "collapsed": true,
    "jupyter": {
     "outputs_hidden": true
    },
    "tags": []
   },
   "outputs": [
    {
     "data": {
      "text/plain": [
       "101"
      ]
     },
     "execution_count": 286,
     "metadata": {},
     "output_type": "execute_result"
    }
   ],
   "source": [
    "len(output_full14)\n",
    "#loop through AI and reddit prompts from 3054-3155"
   ]
  },
  {
   "cell_type": "code",
   "execution_count": 288,
   "id": "356ad837-f61a-4502-86c8-bc1a82ce320d",
   "metadata": {
    "collapsed": true,
    "jupyter": {
     "outputs_hidden": true
    },
    "tags": []
   },
   "outputs": [
    {
     "data": {
      "text/plain": [
       "158"
      ]
     },
     "execution_count": 288,
     "metadata": {},
     "output_type": "execute_result"
    }
   ],
   "source": [
    "len(output_full15)\n",
    "#loop through AI and reddit prompts from 3156-3314"
   ]
  },
  {
   "cell_type": "code",
   "execution_count": 290,
   "id": "f5d024ae-f049-4736-a478-249d6f866e8d",
   "metadata": {
    "collapsed": true,
    "jupyter": {
     "outputs_hidden": true
    },
    "tags": []
   },
   "outputs": [
    {
     "data": {
      "text/plain": [
       "125"
      ]
     },
     "execution_count": 290,
     "metadata": {},
     "output_type": "execute_result"
    }
   ],
   "source": [
    "len(output_full16)\n",
    "#loop through AI and reddit prompts from 3315-3440"
   ]
  },
  {
   "cell_type": "code",
   "execution_count": 292,
   "id": "da1fb1ef-3666-4d83-a7cb-4668a55e3838",
   "metadata": {
    "collapsed": true,
    "jupyter": {
     "outputs_hidden": true
    },
    "tags": []
   },
   "outputs": [
    {
     "data": {
      "text/plain": [
       "218"
      ]
     },
     "execution_count": 292,
     "metadata": {},
     "output_type": "execute_result"
    }
   ],
   "source": [
    "len(output_full17)\n",
    "#loop through AI and reddit prompts from 3441-3659"
   ]
  },
  {
   "cell_type": "code",
   "execution_count": 294,
   "id": "391d9d6c-f3f3-4cb9-a5db-bf9eebf8054f",
   "metadata": {
    "collapsed": true,
    "jupyter": {
     "outputs_hidden": true
    },
    "tags": []
   },
   "outputs": [
    {
     "data": {
      "text/plain": [
       "399"
      ]
     },
     "execution_count": 294,
     "metadata": {},
     "output_type": "execute_result"
    }
   ],
   "source": [
    "len(output_full18)\n",
    "#loop through AI and reddit prompts from 3660-4059"
   ]
  },
  {
   "cell_type": "code",
   "execution_count": 296,
   "id": "98a579cc-6f34-419c-8e3e-aebde9373e25",
   "metadata": {
    "collapsed": true,
    "jupyter": {
     "outputs_hidden": true
    },
    "tags": []
   },
   "outputs": [
    {
     "data": {
      "text/plain": [
       "494"
      ]
     },
     "execution_count": 296,
     "metadata": {},
     "output_type": "execute_result"
    }
   ],
   "source": [
    "len(output_full19)\n",
    "#loop through AI and reddit prompts from 4060-4554"
   ]
  },
  {
   "cell_type": "code",
   "execution_count": 298,
   "id": "1775edf7-4520-402b-bc8e-d3e2906d7bc5",
   "metadata": {
    "collapsed": true,
    "jupyter": {
     "outputs_hidden": true
    },
    "tags": []
   },
   "outputs": [
    {
     "data": {
      "text/plain": [
       "170"
      ]
     },
     "execution_count": 298,
     "metadata": {},
     "output_type": "execute_result"
    }
   ],
   "source": [
    "len(output_full20)\n",
    "#loop through AI and reddit prompts from 4555-4725"
   ]
  },
  {
   "cell_type": "code",
   "execution_count": 300,
   "id": "fdd7b8bd-dde8-454f-8979-2526a10f3cba",
   "metadata": {
    "collapsed": true,
    "jupyter": {
     "outputs_hidden": true
    },
    "tags": []
   },
   "outputs": [
    {
     "data": {
      "text/plain": [
       "155"
      ]
     },
     "execution_count": 300,
     "metadata": {},
     "output_type": "execute_result"
    }
   ],
   "source": [
    "len(output_full21)\n",
    "#loop through AI and reddit prompts from 4726-4881"
   ]
  },
  {
   "cell_type": "code",
   "execution_count": 302,
   "id": "5391e27d-bdca-4511-9a5d-8ec85849e1da",
   "metadata": {
    "collapsed": true,
    "jupyter": {
     "outputs_hidden": true
    },
    "tags": []
   },
   "outputs": [
    {
     "data": {
      "text/plain": [
       "178"
      ]
     },
     "execution_count": 302,
     "metadata": {},
     "output_type": "execute_result"
    }
   ],
   "source": [
    "len(output_full22)\n",
    "#loop through AI and reddit prompts from 4882-5060"
   ]
  },
  {
   "cell_type": "code",
   "execution_count": 304,
   "id": "23636928-622c-43fa-9655-64d7a56c0577",
   "metadata": {
    "collapsed": true,
    "jupyter": {
     "outputs_hidden": true
    },
    "tags": []
   },
   "outputs": [
    {
     "data": {
      "text/plain": [
       "195"
      ]
     },
     "execution_count": 304,
     "metadata": {},
     "output_type": "execute_result"
    }
   ],
   "source": [
    "len(output_full23)\n",
    "#loop through AI and reddit prompts from 5061-5256"
   ]
  },
  {
   "cell_type": "code",
   "execution_count": 306,
   "id": "e99872db-ce35-478a-bfc7-8292782a180e",
   "metadata": {
    "tags": []
   },
   "outputs": [
    {
     "data": {
      "text/plain": [
       "182"
      ]
     },
     "execution_count": 306,
     "metadata": {},
     "output_type": "execute_result"
    }
   ],
   "source": [
    "len(output_full24)\n",
    "#loop through AI and reddit prompts from 5257-5439"
   ]
  },
  {
   "cell_type": "code",
   "execution_count": 309,
   "id": "d6ab9c4c-8b18-4a3d-a666-397133136c79",
   "metadata": {
    "tags": []
   },
   "outputs": [
    {
     "data": {
      "text/plain": [
       "83"
      ]
     },
     "execution_count": 309,
     "metadata": {},
     "output_type": "execute_result"
    }
   ],
   "source": [
    "len(output_full25)\n",
    "#loop through AI and reddit prompts from 5440-5523"
   ]
  },
  {
   "cell_type": "code",
   "execution_count": 370,
   "id": "47972721-485f-428e-938a-fe106886330f",
   "metadata": {
    "tags": []
   },
   "outputs": [],
   "source": [
    "full_output_for_use = pd.DataFrame(zip(data_1_use_,full_output))\n",
    "full_output_for_use[\"human_answer\"] = data_1_use[\"top_comment\"]\n",
    "full_output_for_use.rename(columns={0: \"question\", 1: \"ai_answer\"}, inplace=True)"
   ]
  },
  {
   "cell_type": "code",
   "execution_count": 373,
   "id": "510e2a97-c962-4005-b6bb-cfbf7301b3fd",
   "metadata": {
    "tags": []
   },
   "outputs": [],
   "source": [
    "full_output_for_use.to_csv(\"combined_data_for_use.csv\")"
   ]
  },
  {
   "cell_type": "markdown",
   "id": "956d669c-6b5e-4c00-8091-68c96fbf8b84",
   "metadata": {
    "tags": []
   },
   "source": [
    "## Moving on to EDA"
   ]
  },
  {
   "cell_type": "code",
   "execution_count": 122,
   "id": "c9ed9c81-79b7-45f2-b43c-8834087137be",
   "metadata": {
    "tags": []
   },
   "outputs": [],
   "source": [
    "davinci_prompts_full = [p['title'] for p in data_1]"
   ]
  },
  {
   "cell_type": "code",
   "execution_count": 124,
   "id": "20d42bde-3ffd-4537-af42-027d81c8a982",
   "metadata": {
    "tags": []
   },
   "outputs": [
    {
     "name": "stdout",
     "output_type": "stream",
     "text": [
      "4877\n",
      "0.8830345826543545\n"
     ]
    }
   ],
   "source": [
    "count_q = 0\n",
    "for t in davinci_prompts_full:\n",
    "    if \"?\" in t:\n",
    "        count_q +=1\n",
    "print(count_q)\n",
    "print(count_q/len(data_1))"
   ]
  },
  {
   "cell_type": "code",
   "execution_count": 125,
   "id": "ac63d135-6ad4-4064-bdfc-289ebffb3f74",
   "metadata": {
    "tags": []
   },
   "outputs": [],
   "source": [
    "davinci_prompts_adj1 = [p['title'] for p in data_1 if \"?\" in p[\"title\"]]"
   ]
  },
  {
   "cell_type": "code",
   "execution_count": 126,
   "id": "d4b757e6-a841-46f7-8008-44014612451f",
   "metadata": {
    "tags": []
   },
   "outputs": [
    {
     "data": {
      "text/plain": [
       "17.595147564729313"
      ]
     },
     "execution_count": 126,
     "metadata": {},
     "output_type": "execute_result"
    }
   ],
   "source": [
    "import nltk\n",
    "from statistics import mean\n",
    "\n",
    "davinci_prompts_adj_tokens1 = [len(nltk.word_tokenize(p['title'])) for p in data_1]\n",
    "mean(davinci_prompts_adj_tokens1)"
   ]
  },
  {
   "cell_type": "code",
   "execution_count": 17,
   "id": "d499c2d6-d92e-46c8-8f6a-9d3a371a1ef0",
   "metadata": {
    "tags": []
   },
   "outputs": [
    {
     "data": {
      "text/plain": [
       "579"
      ]
     },
     "execution_count": 17,
     "metadata": {},
     "output_type": "execute_result"
    }
   ],
   "source": [
    "len(output_full1)"
   ]
  },
  {
   "cell_type": "code",
   "execution_count": 94,
   "id": "11583489-d3ad-4d5e-93f7-8ae070c3d76c",
   "metadata": {
    "tags": []
   },
   "outputs": [],
   "source": [
    "ai_responses = [res['text'].strip() for res in dv_response['choices']]"
   ]
  },
  {
   "cell_type": "code",
   "execution_count": 95,
   "id": "4d415030-cbc1-4536-a8ec-73bb25a593d5",
   "metadata": {
    "tags": []
   },
   "outputs": [],
   "source": [
    "full_data = [{\n",
    "    'question' : i['title'],\n",
    "    'human_answer' : i['top_comment'],\n",
    "    'ai answer': j} for i, j in zip(data_1, ai_responses)]\n"
   ]
  },
  {
   "cell_type": "code",
   "execution_count": 129,
   "id": "e28f3a70-09ba-49ce-a909-26af1d192464",
   "metadata": {
    "tags": []
   },
   "outputs": [],
   "source": [
    "df_prep = pd.DataFrame(data_1)\n",
    "df_prep.to_csv(\"reddit_data_pull.csv\")"
   ]
  },
  {
   "cell_type": "code",
   "execution_count": 266,
   "id": "c86f8ba5-2708-4a76-aa7d-fdc429227f74",
   "metadata": {
    "tags": []
   },
   "outputs": [],
   "source": [
    "output1 = pd.DataFrame(zip(data_1_use_,full_output))\n",
    "output1[\"human_answer\"] = data_1_use[\"top_comment\"]"
   ]
  },
  {
   "cell_type": "code",
   "execution_count": 269,
   "id": "1ca7dce0-d77f-49bd-8cd0-df002423b411",
   "metadata": {
    "tags": []
   },
   "outputs": [],
   "source": [
    "output1.rename(columns={0: \"question\", 1: \"ai_answer\"}, inplace=True)"
   ]
  },
  {
   "cell_type": "code",
   "execution_count": 272,
   "id": "ae648002-9b73-480b-a200-dc6e644fd805",
   "metadata": {
    "tags": []
   },
   "outputs": [],
   "source": [
    "output2 = output1.replace('\\n',' ', regex=True)"
   ]
  },
  {
   "cell_type": "code",
   "execution_count": 273,
   "id": "694a258c-b8e5-4d14-b1a9-130ca37ee88c",
   "metadata": {
    "tags": []
   },
   "outputs": [
    {
     "data": {
      "text/html": [
       "<div>\n",
       "<style scoped>\n",
       "    .dataframe tbody tr th:only-of-type {\n",
       "        vertical-align: middle;\n",
       "    }\n",
       "\n",
       "    .dataframe tbody tr th {\n",
       "        vertical-align: top;\n",
       "    }\n",
       "\n",
       "    .dataframe thead th {\n",
       "        text-align: right;\n",
       "    }\n",
       "</style>\n",
       "<table border=\"1\" class=\"dataframe\">\n",
       "  <thead>\n",
       "    <tr style=\"text-align: right;\">\n",
       "      <th></th>\n",
       "      <th>question</th>\n",
       "      <th>ai_answer</th>\n",
       "      <th>human_answer</th>\n",
       "    </tr>\n",
       "  </thead>\n",
       "  <tbody>\n",
       "    <tr>\n",
       "      <th>0</th>\n",
       "      <td>Redditors who make +$100K and aren’t being kil...</td>\n",
       "      <td>Some Redditors who make +$100K and aren’t be...</td>\n",
       "      <td>If that’s important to you then not working at...</td>\n",
       "    </tr>\n",
       "    <tr>\n",
       "      <th>1</th>\n",
       "      <td>Quitting after 8 years without notice. Am I wr...</td>\n",
       "      <td>Yes, you are wrong. You are allowed to quit ...</td>\n",
       "      <td>You are not wrong. Loyalty is a two-way street...</td>\n",
       "    </tr>\n",
       "    <tr>\n",
       "      <th>2</th>\n",
       "      <td>My boss is pressuring to tell him where my new...</td>\n",
       "      <td>If you are in a position of authority and ar...</td>\n",
       "      <td>No. Do not say anything to him. Managers are n...</td>\n",
       "    </tr>\n",
       "    <tr>\n",
       "      <th>3</th>\n",
       "      <td>BS’ed my way into a 160K job offer, am I crazy...</td>\n",
       "      <td>There is no definitive answer to this questi...</td>\n",
       "      <td>Literally every single person I've known who e...</td>\n",
       "    </tr>\n",
       "    <tr>\n",
       "      <th>4</th>\n",
       "      <td>My boss confronted me about only working 7 hou...</td>\n",
       "      <td>If your boss confronts you about working onl...</td>\n",
       "      <td>Work an extra 15 minutes and tell him you didn...</td>\n",
       "    </tr>\n",
       "  </tbody>\n",
       "</table>\n",
       "</div>"
      ],
      "text/plain": [
       "                                            question  \\\n",
       "0  Redditors who make +$100K and aren’t being kil...   \n",
       "1  Quitting after 8 years without notice. Am I wr...   \n",
       "2  My boss is pressuring to tell him where my new...   \n",
       "3  BS’ed my way into a 160K job offer, am I crazy...   \n",
       "4  My boss confronted me about only working 7 hou...   \n",
       "\n",
       "                                           ai_answer  \\\n",
       "0    Some Redditors who make +$100K and aren’t be...   \n",
       "1    Yes, you are wrong. You are allowed to quit ...   \n",
       "2    If you are in a position of authority and ar...   \n",
       "3    There is no definitive answer to this questi...   \n",
       "4    If your boss confronts you about working onl...   \n",
       "\n",
       "                                        human_answer  \n",
       "0  If that’s important to you then not working at...  \n",
       "1  You are not wrong. Loyalty is a two-way street...  \n",
       "2  No. Do not say anything to him. Managers are n...  \n",
       "3  Literally every single person I've known who e...  \n",
       "4  Work an extra 15 minutes and tell him you didn...  "
      ]
     },
     "execution_count": 273,
     "metadata": {},
     "output_type": "execute_result"
    }
   ],
   "source": [
    "output2.head()"
   ]
  },
  {
   "cell_type": "code",
   "execution_count": 53,
   "id": "73ee16dd-0848-46de-a91d-8c74c1d60f00",
   "metadata": {
    "tags": []
   },
   "outputs": [],
   "source": [
    "output2[\"isnot_human\"] = [0 if i != \"\" else 1 for i in output2[\"human_answer\"]]"
   ]
  },
  {
   "cell_type": "code",
   "execution_count": 54,
   "id": "ef68b0b2-4be9-4fcc-ad9a-66ccfbe80dd7",
   "metadata": {
    "tags": []
   },
   "outputs": [],
   "source": [
    "output2[\"is_ai\"] = [1 if i != \"\" else 0 for i in output2[\"ai answer\"]]"
   ]
  },
  {
   "cell_type": "code",
   "execution_count": 55,
   "id": "f69a9ed4-08e6-435a-84b5-d11eef6aa173",
   "metadata": {
    "tags": []
   },
   "outputs": [],
   "source": [
    "output2[\"question_dubs\"] = output2[\"question\"]"
   ]
  },
  {
   "cell_type": "code",
   "execution_count": 326,
   "id": "28a88bbe-2ba1-4cc8-bca3-54b27f129835",
   "metadata": {
    "tags": []
   },
   "outputs": [
    {
     "ename": "NameError",
     "evalue": "name 'data_1' is not defined",
     "output_type": "error",
     "traceback": [
      "\u001b[0;31m---------------------------------------------------------------------------\u001b[0m",
      "\u001b[0;31mNameError\u001b[0m                                 Traceback (most recent call last)",
      "Cell \u001b[0;32mIn[326], line 4\u001b[0m\n\u001b[1;32m      1\u001b[0m full_data_for_use \u001b[38;5;241m=\u001b[39m [{\n\u001b[1;32m      2\u001b[0m     \u001b[38;5;124m'\u001b[39m\u001b[38;5;124mquestion\u001b[39m\u001b[38;5;124m'\u001b[39m : i[\u001b[38;5;124m'\u001b[39m\u001b[38;5;124mtitle\u001b[39m\u001b[38;5;124m'\u001b[39m],\n\u001b[1;32m      3\u001b[0m     \u001b[38;5;124m'\u001b[39m\u001b[38;5;124mhuman_answer\u001b[39m\u001b[38;5;124m'\u001b[39m : i[\u001b[38;5;124m'\u001b[39m\u001b[38;5;124mtop_comment\u001b[39m\u001b[38;5;124m'\u001b[39m],\n\u001b[0;32m----> 4\u001b[0m     \u001b[38;5;124m'\u001b[39m\u001b[38;5;124mai answer\u001b[39m\u001b[38;5;124m'\u001b[39m: j} \u001b[38;5;28;01mfor\u001b[39;00m i, j \u001b[38;5;129;01min\u001b[39;00m \u001b[38;5;28mzip\u001b[39m(data_1, full_output)]\n",
      "\u001b[0;31mNameError\u001b[0m: name 'data_1' is not defined"
     ]
    }
   ],
   "source": [
    "full_data_for_use = [{\n",
    "    'question' : i['title'],\n",
    "    'human_answer' : i['top_comment'],\n",
    "    'ai answer': j} for i, j in zip(data_1, full_output)]\n"
   ]
  },
  {
   "cell_type": "code",
   "execution_count": 156,
   "id": "4e806af9-37f9-4dc5-a7be-6d940b7d1be6",
   "metadata": {
    "tags": []
   },
   "outputs": [],
   "source": [
    "df = pd.DataFrame(full_data)\n",
    "df.to_csv(\"first_prototype.csv\")"
   ]
  },
  {
   "cell_type": "code",
   "execution_count": null,
   "id": "7f24f8f3-3bf0-4ec1-9008-424d6aea8d5a",
   "metadata": {},
   "outputs": [],
   "source": [
    "#remove rows with just 1 word answers \"deleted\"\n",
    "#create single column with ai data under the human data\n",
    "#label ai data as 1\n",
    "#normalize 1s\n",
    "#"
   ]
  },
  {
   "cell_type": "code",
   "execution_count": 52,
   "id": "c235f315-cd3c-4cd5-a5f5-d4dd34b2b2e5",
   "metadata": {
    "tags": []
   },
   "outputs": [],
   "source": [
    "df = pd.read_csv(\"first_prototype.csv\")"
   ]
  },
  {
   "cell_type": "code",
   "execution_count": 53,
   "id": "8d5f5e3b-36b3-4119-8315-28a43037b6e5",
   "metadata": {
    "tags": []
   },
   "outputs": [],
   "source": [
    "df[\"is_human\"] = [0 if i != \"\" else 1 for i in df[\"human_answer\"]]"
   ]
  },
  {
   "cell_type": "code",
   "execution_count": 54,
   "id": "96a71160-3a86-46fc-af76-f5665e8d0c80",
   "metadata": {
    "tags": []
   },
   "outputs": [],
   "source": [
    "df[\"is_ai\"] = [1 if i != \"\" else 0 for i in df[\"ai answer\"]]"
   ]
  },
  {
   "cell_type": "code",
   "execution_count": 55,
   "id": "a97517fd-c3b0-4099-856e-9f95abddeaad",
   "metadata": {
    "tags": []
   },
   "outputs": [],
   "source": [
    "df[\"question_dubs\"] = df[\"question\"]"
   ]
  },
  {
   "cell_type": "code",
   "execution_count": 56,
   "id": "74a93920-8fdd-4f64-993f-3dc601464d39",
   "metadata": {
    "tags": []
   },
   "outputs": [
    {
     "data": {
      "text/html": [
       "<div>\n",
       "<style scoped>\n",
       "    .dataframe tbody tr th:only-of-type {\n",
       "        vertical-align: middle;\n",
       "    }\n",
       "\n",
       "    .dataframe tbody tr th {\n",
       "        vertical-align: top;\n",
       "    }\n",
       "\n",
       "    .dataframe thead th {\n",
       "        text-align: right;\n",
       "    }\n",
       "</style>\n",
       "<table border=\"1\" class=\"dataframe\">\n",
       "  <thead>\n",
       "    <tr style=\"text-align: right;\">\n",
       "      <th></th>\n",
       "      <th>Unnamed: 0</th>\n",
       "      <th>question</th>\n",
       "      <th>human_answer</th>\n",
       "      <th>ai answer</th>\n",
       "      <th>is_human</th>\n",
       "      <th>is_ai</th>\n",
       "      <th>question_dubs</th>\n",
       "    </tr>\n",
       "  </thead>\n",
       "  <tbody>\n",
       "    <tr>\n",
       "      <th>0</th>\n",
       "      <td>0</td>\n",
       "      <td>Redditors who make +$100K and aren’t being kil...</td>\n",
       "      <td>If that’s important to you then not working at...</td>\n",
       "      <td>As an AI language model, I don't have personal...</td>\n",
       "      <td>0</td>\n",
       "      <td>1</td>\n",
       "      <td>Redditors who make +$100K and aren’t being kil...</td>\n",
       "    </tr>\n",
       "    <tr>\n",
       "      <th>1</th>\n",
       "      <td>1</td>\n",
       "      <td>Quitting after 8 years without notice. Am I wr...</td>\n",
       "      <td>You are not wrong.\\nLoyalty is a two-way stree...</td>\n",
       "      <td>Quitting a job without notice after eight year...</td>\n",
       "      <td>0</td>\n",
       "      <td>1</td>\n",
       "      <td>Quitting after 8 years without notice. Am I wr...</td>\n",
       "    </tr>\n",
       "    <tr>\n",
       "      <th>2</th>\n",
       "      <td>2</td>\n",
       "      <td>My boss is pressuring to tell him where my new...</td>\n",
       "      <td>No. Do not say anything to him. Managers are n...</td>\n",
       "      <td>As an AI language model, I can provide some ge...</td>\n",
       "      <td>0</td>\n",
       "      <td>1</td>\n",
       "      <td>My boss is pressuring to tell him where my new...</td>\n",
       "    </tr>\n",
       "    <tr>\n",
       "      <th>3</th>\n",
       "      <td>3</td>\n",
       "      <td>BS’ed my way into a 160K job offer, am I crazy...</td>\n",
       "      <td>Literally every single person I've known who e...</td>\n",
       "      <td>Deciding whether to turn down a job offer is a...</td>\n",
       "      <td>0</td>\n",
       "      <td>1</td>\n",
       "      <td>BS’ed my way into a 160K job offer, am I crazy...</td>\n",
       "    </tr>\n",
       "    <tr>\n",
       "      <th>4</th>\n",
       "      <td>4</td>\n",
       "      <td>My boss confronted me about only working 7 hou...</td>\n",
       "      <td>Work an extra 15 minutes and tell him you didn...</td>\n",
       "      <td>When faced with a situation where your boss co...</td>\n",
       "      <td>0</td>\n",
       "      <td>1</td>\n",
       "      <td>My boss confronted me about only working 7 hou...</td>\n",
       "    </tr>\n",
       "  </tbody>\n",
       "</table>\n",
       "</div>"
      ],
      "text/plain": [
       "   Unnamed: 0                                           question  \\\n",
       "0           0  Redditors who make +$100K and aren’t being kil...   \n",
       "1           1  Quitting after 8 years without notice. Am I wr...   \n",
       "2           2  My boss is pressuring to tell him where my new...   \n",
       "3           3  BS’ed my way into a 160K job offer, am I crazy...   \n",
       "4           4  My boss confronted me about only working 7 hou...   \n",
       "\n",
       "                                        human_answer  \\\n",
       "0  If that’s important to you then not working at...   \n",
       "1  You are not wrong.\\nLoyalty is a two-way stree...   \n",
       "2  No. Do not say anything to him. Managers are n...   \n",
       "3  Literally every single person I've known who e...   \n",
       "4  Work an extra 15 minutes and tell him you didn...   \n",
       "\n",
       "                                           ai answer  is_human  is_ai  \\\n",
       "0  As an AI language model, I don't have personal...         0      1   \n",
       "1  Quitting a job without notice after eight year...         0      1   \n",
       "2  As an AI language model, I can provide some ge...         0      1   \n",
       "3  Deciding whether to turn down a job offer is a...         0      1   \n",
       "4  When faced with a situation where your boss co...         0      1   \n",
       "\n",
       "                                       question_dubs  \n",
       "0  Redditors who make +$100K and aren’t being kil...  \n",
       "1  Quitting after 8 years without notice. Am I wr...  \n",
       "2  My boss is pressuring to tell him where my new...  \n",
       "3  BS’ed my way into a 160K job offer, am I crazy...  \n",
       "4  My boss confronted me about only working 7 hou...  "
      ]
     },
     "execution_count": 56,
     "metadata": {},
     "output_type": "execute_result"
    }
   ],
   "source": [
    "df.head()"
   ]
  },
  {
   "cell_type": "code",
   "execution_count": 57,
   "id": "7e18aa7b-1808-4f37-9ff8-5736b81e8107",
   "metadata": {
    "tags": []
   },
   "outputs": [
    {
     "name": "stderr",
     "output_type": "stream",
     "text": [
      "/var/folders/r7/lck4_m6n3qvgvrpymc_hdq900000gn/T/ipykernel_1998/2881736332.py:2: FutureWarning: The frame.append method is deprecated and will be removed from pandas in a future version. Use pandas.concat instead.\n",
      "  df_consolidated = df[['question', 'human_answer', \"is_human\"]].append(df[[\n"
     ]
    }
   ],
   "source": [
    "#move ai_answer below human_answer\n",
    "df_consolidated = df[['question', 'human_answer', \"is_human\"]].append(df[[\n",
    "    'question_dubs','ai answer',\"is_ai\"]].set_axis(['question', 'human_answer',\"is_human\"], axis=1)).reset_index(drop=True)"
   ]
  },
  {
   "cell_type": "code",
   "execution_count": 58,
   "id": "33697fa9-501d-4c5c-a43e-72770d0a5c95",
   "metadata": {
    "tags": []
   },
   "outputs": [],
   "source": [
    "df_consolidated.rename(columns={\"human_answer\": \"answer\"}, inplace=True)"
   ]
  },
  {
   "cell_type": "code",
   "execution_count": 59,
   "id": "a30d8e0d-8672-459e-91db-a660e6721c12",
   "metadata": {
    "tags": []
   },
   "outputs": [
    {
     "data": {
      "text/plain": [
       "0    472\n",
       "1    472\n",
       "Name: is_human, dtype: int64"
      ]
     },
     "execution_count": 59,
     "metadata": {},
     "output_type": "execute_result"
    }
   ],
   "source": [
    "df_consolidated[\"is_human\"].value_counts()"
   ]
  },
  {
   "cell_type": "code",
   "execution_count": 123,
   "id": "057e36b9-44de-4473-a6e6-f48fd8e241ba",
   "metadata": {
    "tags": []
   },
   "outputs": [
    {
     "data": {
      "text/html": [
       "<div>\n",
       "<style scoped>\n",
       "    .dataframe tbody tr th:only-of-type {\n",
       "        vertical-align: middle;\n",
       "    }\n",
       "\n",
       "    .dataframe tbody tr th {\n",
       "        vertical-align: top;\n",
       "    }\n",
       "\n",
       "    .dataframe thead th {\n",
       "        text-align: right;\n",
       "    }\n",
       "</style>\n",
       "<table border=\"1\" class=\"dataframe\">\n",
       "  <thead>\n",
       "    <tr style=\"text-align: right;\">\n",
       "      <th></th>\n",
       "      <th>question</th>\n",
       "      <th>answer</th>\n",
       "      <th>is_human</th>\n",
       "    </tr>\n",
       "  </thead>\n",
       "  <tbody>\n",
       "    <tr>\n",
       "      <th>939</th>\n",
       "      <td>Should I renege on my first offer?</td>\n",
       "      <td>While it may not be an \"easy\" process, there a...</td>\n",
       "      <td>1</td>\n",
       "    </tr>\n",
       "    <tr>\n",
       "      <th>940</th>\n",
       "      <td>Coinbase to slash 20% of workforce in second m...</td>\n",
       "      <td>Before deciding whether or not to complete the...</td>\n",
       "      <td>1</td>\n",
       "    </tr>\n",
       "    <tr>\n",
       "      <th>941</th>\n",
       "      <td>Why do companies offer benefits if they don't ...</td>\n",
       "      <td>Whether or not you need to send the gift back ...</td>\n",
       "      <td>1</td>\n",
       "    </tr>\n",
       "    <tr>\n",
       "      <th>942</th>\n",
       "      <td>A little note about dealing with recent times ...</td>\n",
       "      <td>As an AI language model, I don't have personal...</td>\n",
       "      <td>1</td>\n",
       "    </tr>\n",
       "    <tr>\n",
       "      <th>943</th>\n",
       "      <td>My Companies Return To Work Policy Is Ruining ...</td>\n",
       "      <td>While it is important to approach this questio...</td>\n",
       "      <td>1</td>\n",
       "    </tr>\n",
       "  </tbody>\n",
       "</table>\n",
       "</div>"
      ],
      "text/plain": [
       "                                              question  \\\n",
       "939                 Should I renege on my first offer?   \n",
       "940  Coinbase to slash 20% of workforce in second m...   \n",
       "941  Why do companies offer benefits if they don't ...   \n",
       "942  A little note about dealing with recent times ...   \n",
       "943  My Companies Return To Work Policy Is Ruining ...   \n",
       "\n",
       "                                                answer  is_human  \n",
       "939  While it may not be an \"easy\" process, there a...         1  \n",
       "940  Before deciding whether or not to complete the...         1  \n",
       "941  Whether or not you need to send the gift back ...         1  \n",
       "942  As an AI language model, I don't have personal...         1  \n",
       "943  While it is important to approach this questio...         1  "
      ]
     },
     "execution_count": 123,
     "metadata": {},
     "output_type": "execute_result"
    }
   ],
   "source": [
    "df_consolidated.tail()"
   ]
  },
  {
   "cell_type": "code",
   "execution_count": 149,
   "id": "5f544a08-b4da-4a67-a8cc-0ddd4667400b",
   "metadata": {
    "tags": []
   },
   "outputs": [],
   "source": [
    "df_consolidated.loc[df_consolidated[\"is_human\"] == 1, \"answer\"] = df_consolidated[\"answer\"].str.replace(\"I am only a machine\", \"\")\n",
    "df_consolidated.loc[df_consolidated[\"is_human\"] == 1, \"answer\"] = df_consolidated[\"answer\"].str.replace(\"As an AI language model\", \"\")"
   ]
  },
  {
   "cell_type": "code",
   "execution_count": 161,
   "id": "597389f8-6e59-46c7-acc5-cfa11de50bf4",
   "metadata": {
    "tags": []
   },
   "outputs": [],
   "source": [
    "from nltk.corpus import stopwords\n",
    "from nltk.stem import PorterStemmer, SnowballStemmer\n",
    "from nltk import WordNetLemmatizer\n",
    "from nltk.tokenize import RegexpTokenizer\n",
    "import nltk\n",
    "\n",
    " \n",
    "nltk_stop = stopwords.words('english')"
   ]
  },
  {
   "cell_type": "code",
   "execution_count": 162,
   "id": "12b011ca-d810-45b0-8b98-5545157ec00f",
   "metadata": {
    "tags": []
   },
   "outputs": [],
   "source": [
    "tokenizer = RegexpTokenizer(r'\\w+')\n",
    "lemmatizer = WordNetLemmatizer()\n",
    "stemmer = SnowballStemmer(\"english\")"
   ]
  },
  {
   "cell_type": "code",
   "execution_count": 167,
   "id": "f7a964e4-efc0-4d0a-a803-aea87a330bcd",
   "metadata": {
    "tags": []
   },
   "outputs": [
    {
     "data": {
      "text/plain": [
       "0      [If, that, ’, s, important, to, you, then, not...\n",
       "1      [You, are, not, wrong, ., Loyalty, is, a, two-...\n",
       "2      [No, ., Do, not, say, anything, to, him, ., Ma...\n",
       "3      [Literally, every, single, person, I, 've, kno...\n",
       "4      [Work, an, extra, 15, minutes, and, tell, him,...\n",
       "                             ...                        \n",
       "939    [While, it, may, not, be, an, ``, easy, '', pr...\n",
       "940    [Before, deciding, whether, or, not, to, compl...\n",
       "941    [Whether, or, not, you, need, to, send, the, g...\n",
       "942    [,, I, do, n't, have, personal, experiences, o...\n",
       "943    [While, it, is, important, to, approach, this,...\n",
       "Name: answer, Length: 944, dtype: object"
      ]
     },
     "execution_count": 167,
     "metadata": {},
     "output_type": "execute_result"
    }
   ],
   "source": [
    "df_consolidated_splits = df_consolidated[\"answer\"].apply(nltk.word_tokenize)\n",
    "df_consolidated_splits"
   ]
  },
  {
   "cell_type": "code",
   "execution_count": 171,
   "id": "1a2cd645-7ac3-4f46-a4d5-b9abb3c71b8e",
   "metadata": {
    "tags": []
   },
   "outputs": [],
   "source": [
    "for i in range(len(df_consolidated_splits)):\n",
    "    df_consolidated_splits[i] = ' '.join([lemmatizer.lemmatize(w) for w in df_consolidated_splits[i]])"
   ]
  },
  {
   "cell_type": "code",
   "execution_count": 60,
   "id": "cf036d69-30f7-470a-b3a5-8e4349425192",
   "metadata": {
    "tags": []
   },
   "outputs": [],
   "source": [
    "df_consolidated.to_pickle(\"df_use.pkl\")"
   ]
  },
  {
   "cell_type": "code",
   "execution_count": 173,
   "id": "2c39fce2-62ae-4df1-ad96-1185035d934c",
   "metadata": {
    "tags": []
   },
   "outputs": [],
   "source": [
    "X = df_consolidated[\"answer\"]\n",
    "y = df_consolidated[\"is_human\"]"
   ]
  },
  {
   "cell_type": "code",
   "execution_count": 174,
   "id": "71aaa710-df91-4a5b-aa18-9352731f5a7e",
   "metadata": {
    "tags": []
   },
   "outputs": [],
   "source": [
    "# Split the data into the training and testing sets.\n",
    "X_train, X_test, y_train, y_test = train_test_split(X,\n",
    "                                                    y,\n",
    "                                                    random_state=42)"
   ]
  },
  {
   "cell_type": "code",
   "execution_count": 175,
   "id": "7c84df75-e2f8-4636-b2c5-3c71d59eb861",
   "metadata": {
    "tags": []
   },
   "outputs": [],
   "source": [
    "pipe = Pipeline([\n",
    "    ('cvec', CountVectorizer()),\n",
    "    ('bnb', BernoulliNB())\n",
    "])"
   ]
  },
  {
   "cell_type": "code",
   "execution_count": 176,
   "id": "7ea12937-2ca7-4489-aa58-cc1e22eac533",
   "metadata": {
    "tags": []
   },
   "outputs": [],
   "source": [
    "pipe_params = {\n",
    "    'cvec__max_features' : [5000],\n",
    "    'cvec__min_df' : [2,5],\n",
    "    'cvec__max_df' : [0.9, 0.95],\n",
    "    'cvec__ngram_range' : [(1,1), (1, 2), (2,2)],\n",
    "    'cvec__stop_words' : ['english', nltk_stop],\n",
    "}"
   ]
  },
  {
   "cell_type": "code",
   "execution_count": 177,
   "id": "618bbf03-7245-442e-8330-5d2890c261ce",
   "metadata": {
    "tags": []
   },
   "outputs": [],
   "source": [
    "gs = GridSearchCV(pipe, \n",
    "                  pipe_params, \n",
    "                  cv = 5)"
   ]
  },
  {
   "cell_type": "code",
   "execution_count": 178,
   "id": "ccdc85fc-d8af-4199-a10c-fc6b040e12e0",
   "metadata": {
    "tags": []
   },
   "outputs": [
    {
     "data": {
      "text/html": [
       "<style>#sk-container-id-3 {color: black;}#sk-container-id-3 pre{padding: 0;}#sk-container-id-3 div.sk-toggleable {background-color: white;}#sk-container-id-3 label.sk-toggleable__label {cursor: pointer;display: block;width: 100%;margin-bottom: 0;padding: 0.3em;box-sizing: border-box;text-align: center;}#sk-container-id-3 label.sk-toggleable__label-arrow:before {content: \"▸\";float: left;margin-right: 0.25em;color: #696969;}#sk-container-id-3 label.sk-toggleable__label-arrow:hover:before {color: black;}#sk-container-id-3 div.sk-estimator:hover label.sk-toggleable__label-arrow:before {color: black;}#sk-container-id-3 div.sk-toggleable__content {max-height: 0;max-width: 0;overflow: hidden;text-align: left;background-color: #f0f8ff;}#sk-container-id-3 div.sk-toggleable__content pre {margin: 0.2em;color: black;border-radius: 0.25em;background-color: #f0f8ff;}#sk-container-id-3 input.sk-toggleable__control:checked~div.sk-toggleable__content {max-height: 200px;max-width: 100%;overflow: auto;}#sk-container-id-3 input.sk-toggleable__control:checked~label.sk-toggleable__label-arrow:before {content: \"▾\";}#sk-container-id-3 div.sk-estimator input.sk-toggleable__control:checked~label.sk-toggleable__label {background-color: #d4ebff;}#sk-container-id-3 div.sk-label input.sk-toggleable__control:checked~label.sk-toggleable__label {background-color: #d4ebff;}#sk-container-id-3 input.sk-hidden--visually {border: 0;clip: rect(1px 1px 1px 1px);clip: rect(1px, 1px, 1px, 1px);height: 1px;margin: -1px;overflow: hidden;padding: 0;position: absolute;width: 1px;}#sk-container-id-3 div.sk-estimator {font-family: monospace;background-color: #f0f8ff;border: 1px dotted black;border-radius: 0.25em;box-sizing: border-box;margin-bottom: 0.5em;}#sk-container-id-3 div.sk-estimator:hover {background-color: #d4ebff;}#sk-container-id-3 div.sk-parallel-item::after {content: \"\";width: 100%;border-bottom: 1px solid gray;flex-grow: 1;}#sk-container-id-3 div.sk-label:hover label.sk-toggleable__label {background-color: #d4ebff;}#sk-container-id-3 div.sk-serial::before {content: \"\";position: absolute;border-left: 1px solid gray;box-sizing: border-box;top: 0;bottom: 0;left: 50%;z-index: 0;}#sk-container-id-3 div.sk-serial {display: flex;flex-direction: column;align-items: center;background-color: white;padding-right: 0.2em;padding-left: 0.2em;position: relative;}#sk-container-id-3 div.sk-item {position: relative;z-index: 1;}#sk-container-id-3 div.sk-parallel {display: flex;align-items: stretch;justify-content: center;background-color: white;position: relative;}#sk-container-id-3 div.sk-item::before, #sk-container-id-3 div.sk-parallel-item::before {content: \"\";position: absolute;border-left: 1px solid gray;box-sizing: border-box;top: 0;bottom: 0;left: 50%;z-index: -1;}#sk-container-id-3 div.sk-parallel-item {display: flex;flex-direction: column;z-index: 1;position: relative;background-color: white;}#sk-container-id-3 div.sk-parallel-item:first-child::after {align-self: flex-end;width: 50%;}#sk-container-id-3 div.sk-parallel-item:last-child::after {align-self: flex-start;width: 50%;}#sk-container-id-3 div.sk-parallel-item:only-child::after {width: 0;}#sk-container-id-3 div.sk-dashed-wrapped {border: 1px dashed gray;margin: 0 0.4em 0.5em 0.4em;box-sizing: border-box;padding-bottom: 0.4em;background-color: white;}#sk-container-id-3 div.sk-label label {font-family: monospace;font-weight: bold;display: inline-block;line-height: 1.2em;}#sk-container-id-3 div.sk-label-container {text-align: center;}#sk-container-id-3 div.sk-container {/* jupyter's `normalize.less` sets `[hidden] { display: none; }` but bootstrap.min.css set `[hidden] { display: none !important; }` so we also need the `!important` here to be able to override the default hidden behavior on the sphinx rendered scikit-learn.org. See: https://github.com/scikit-learn/scikit-learn/issues/21755 */display: inline-block !important;position: relative;}#sk-container-id-3 div.sk-text-repr-fallback {display: none;}</style><div id=\"sk-container-id-3\" class=\"sk-top-container\"><div class=\"sk-text-repr-fallback\"><pre>GridSearchCV(cv=5,\n",
       "             estimator=Pipeline(steps=[(&#x27;cvec&#x27;, CountVectorizer()),\n",
       "                                       (&#x27;bnb&#x27;, BernoulliNB())]),\n",
       "             param_grid={&#x27;cvec__max_df&#x27;: [0.9, 0.95],\n",
       "                         &#x27;cvec__max_features&#x27;: [5000], &#x27;cvec__min_df&#x27;: [2, 5],\n",
       "                         &#x27;cvec__ngram_range&#x27;: [(1, 1), (1, 2), (2, 2)],\n",
       "                         &#x27;cvec__stop_words&#x27;: [&#x27;english&#x27;,\n",
       "                                              [&#x27;i&#x27;, &#x27;me&#x27;, &#x27;my&#x27;, &#x27;myself&#x27;, &#x27;we&#x27;,\n",
       "                                               &#x27;our&#x27;, &#x27;ours&#x27;, &#x27;ourselves&#x27;,\n",
       "                                               &#x27;you&#x27;, &quot;you&#x27;re&quot;, &quot;you&#x27;ve&quot;,\n",
       "                                               &quot;you&#x27;ll&quot;, &quot;you&#x27;d&quot;, &#x27;your&#x27;,\n",
       "                                               &#x27;yours&#x27;, &#x27;yourself&#x27;,\n",
       "                                               &#x27;yourselves&#x27;, &#x27;he&#x27;, &#x27;him&#x27;, &#x27;his&#x27;,\n",
       "                                               &#x27;himself&#x27;, &#x27;she&#x27;, &quot;she&#x27;s&quot;, &#x27;her&#x27;,\n",
       "                                               &#x27;hers&#x27;, &#x27;herself&#x27;, &#x27;it&#x27;, &quot;it&#x27;s&quot;,\n",
       "                                               &#x27;its&#x27;, &#x27;itself&#x27;, ...]]})</pre><b>In a Jupyter environment, please rerun this cell to show the HTML representation or trust the notebook. <br />On GitHub, the HTML representation is unable to render, please try loading this page with nbviewer.org.</b></div><div class=\"sk-container\" hidden><div class=\"sk-item sk-dashed-wrapped\"><div class=\"sk-label-container\"><div class=\"sk-label sk-toggleable\"><input class=\"sk-toggleable__control sk-hidden--visually\" id=\"sk-estimator-id-9\" type=\"checkbox\" ><label for=\"sk-estimator-id-9\" class=\"sk-toggleable__label sk-toggleable__label-arrow\">GridSearchCV</label><div class=\"sk-toggleable__content\"><pre>GridSearchCV(cv=5,\n",
       "             estimator=Pipeline(steps=[(&#x27;cvec&#x27;, CountVectorizer()),\n",
       "                                       (&#x27;bnb&#x27;, BernoulliNB())]),\n",
       "             param_grid={&#x27;cvec__max_df&#x27;: [0.9, 0.95],\n",
       "                         &#x27;cvec__max_features&#x27;: [5000], &#x27;cvec__min_df&#x27;: [2, 5],\n",
       "                         &#x27;cvec__ngram_range&#x27;: [(1, 1), (1, 2), (2, 2)],\n",
       "                         &#x27;cvec__stop_words&#x27;: [&#x27;english&#x27;,\n",
       "                                              [&#x27;i&#x27;, &#x27;me&#x27;, &#x27;my&#x27;, &#x27;myself&#x27;, &#x27;we&#x27;,\n",
       "                                               &#x27;our&#x27;, &#x27;ours&#x27;, &#x27;ourselves&#x27;,\n",
       "                                               &#x27;you&#x27;, &quot;you&#x27;re&quot;, &quot;you&#x27;ve&quot;,\n",
       "                                               &quot;you&#x27;ll&quot;, &quot;you&#x27;d&quot;, &#x27;your&#x27;,\n",
       "                                               &#x27;yours&#x27;, &#x27;yourself&#x27;,\n",
       "                                               &#x27;yourselves&#x27;, &#x27;he&#x27;, &#x27;him&#x27;, &#x27;his&#x27;,\n",
       "                                               &#x27;himself&#x27;, &#x27;she&#x27;, &quot;she&#x27;s&quot;, &#x27;her&#x27;,\n",
       "                                               &#x27;hers&#x27;, &#x27;herself&#x27;, &#x27;it&#x27;, &quot;it&#x27;s&quot;,\n",
       "                                               &#x27;its&#x27;, &#x27;itself&#x27;, ...]]})</pre></div></div></div><div class=\"sk-parallel\"><div class=\"sk-parallel-item\"><div class=\"sk-item\"><div class=\"sk-label-container\"><div class=\"sk-label sk-toggleable\"><input class=\"sk-toggleable__control sk-hidden--visually\" id=\"sk-estimator-id-10\" type=\"checkbox\" ><label for=\"sk-estimator-id-10\" class=\"sk-toggleable__label sk-toggleable__label-arrow\">estimator: Pipeline</label><div class=\"sk-toggleable__content\"><pre>Pipeline(steps=[(&#x27;cvec&#x27;, CountVectorizer()), (&#x27;bnb&#x27;, BernoulliNB())])</pre></div></div></div><div class=\"sk-serial\"><div class=\"sk-item\"><div class=\"sk-serial\"><div class=\"sk-item\"><div class=\"sk-estimator sk-toggleable\"><input class=\"sk-toggleable__control sk-hidden--visually\" id=\"sk-estimator-id-11\" type=\"checkbox\" ><label for=\"sk-estimator-id-11\" class=\"sk-toggleable__label sk-toggleable__label-arrow\">CountVectorizer</label><div class=\"sk-toggleable__content\"><pre>CountVectorizer()</pre></div></div></div><div class=\"sk-item\"><div class=\"sk-estimator sk-toggleable\"><input class=\"sk-toggleable__control sk-hidden--visually\" id=\"sk-estimator-id-12\" type=\"checkbox\" ><label for=\"sk-estimator-id-12\" class=\"sk-toggleable__label sk-toggleable__label-arrow\">BernoulliNB</label><div class=\"sk-toggleable__content\"><pre>BernoulliNB()</pre></div></div></div></div></div></div></div></div></div></div></div></div>"
      ],
      "text/plain": [
       "GridSearchCV(cv=5,\n",
       "             estimator=Pipeline(steps=[('cvec', CountVectorizer()),\n",
       "                                       ('bnb', BernoulliNB())]),\n",
       "             param_grid={'cvec__max_df': [0.9, 0.95],\n",
       "                         'cvec__max_features': [5000], 'cvec__min_df': [2, 5],\n",
       "                         'cvec__ngram_range': [(1, 1), (1, 2), (2, 2)],\n",
       "                         'cvec__stop_words': ['english',\n",
       "                                              ['i', 'me', 'my', 'myself', 'we',\n",
       "                                               'our', 'ours', 'ourselves',\n",
       "                                               'you', \"you're\", \"you've\",\n",
       "                                               \"you'll\", \"you'd\", 'your',\n",
       "                                               'yours', 'yourself',\n",
       "                                               'yourselves', 'he', 'him', 'his',\n",
       "                                               'himself', 'she', \"she's\", 'her',\n",
       "                                               'hers', 'herself', 'it', \"it's\",\n",
       "                                               'its', 'itself', ...]]})"
      ]
     },
     "execution_count": 178,
     "metadata": {},
     "output_type": "execute_result"
    }
   ],
   "source": [
    "gs.fit(X_train, y_train)"
   ]
  },
  {
   "cell_type": "code",
   "execution_count": 179,
   "id": "f5c3b6c1-328f-4d2d-857f-503cbbd7a70f",
   "metadata": {
    "tags": []
   },
   "outputs": [
    {
     "data": {
      "text/plain": [
       "0.9505843572070722"
      ]
     },
     "execution_count": 179,
     "metadata": {},
     "output_type": "execute_result"
    }
   ],
   "source": [
    "gs.best_score_"
   ]
  },
  {
   "cell_type": "code",
   "execution_count": 180,
   "id": "dc0692ee-e920-4599-866c-764540d18b0e",
   "metadata": {
    "tags": []
   },
   "outputs": [
    {
     "name": "stdout",
     "output_type": "stream",
     "text": [
      "0.9689265536723164\n",
      "0.961864406779661\n"
     ]
    }
   ],
   "source": [
    "print(gs.score(X_train,y_train))\n",
    "print(gs.score(X_test,y_test))\n"
   ]
  },
  {
   "cell_type": "code",
   "execution_count": 181,
   "id": "aa2449d9-31e5-497a-ae03-16020d77a929",
   "metadata": {
    "tags": []
   },
   "outputs": [],
   "source": [
    "pipe_params_tvec = {\n",
    "    'tvec__max_features' : [5000],\n",
    "    'tvec__min_df' : [2,5],\n",
    "    'tvec__max_df' : [0.9, 0.95],\n",
    "    'tvec__ngram_range' : [(1,1), (1, 2), (2,2)],\n",
    "    'tvec__stop_words' : ['english', nltk_stop]\n",
    "}"
   ]
  },
  {
   "cell_type": "code",
   "execution_count": 182,
   "id": "8eace460-ab31-4d92-8082-53065493a448",
   "metadata": {
    "tags": []
   },
   "outputs": [],
   "source": [
    "pipe_tvec = Pipeline([\n",
    "    ('tvec', TfidfVectorizer()),\n",
    "    ('bnb', BernoulliNB())\n",
    "])"
   ]
  },
  {
   "cell_type": "code",
   "execution_count": 185,
   "id": "067e7cf9-05f9-40da-b770-6cba3dc5c9e1",
   "metadata": {
    "tags": []
   },
   "outputs": [],
   "source": [
    "gs_tvec = GridSearchCV(pipe_tvec, \n",
    "                  pipe_params_, \n",
    "                  cv = 5)"
   ]
  },
  {
   "cell_type": "code",
   "execution_count": 186,
   "id": "c46f07b4-8db0-4fec-a88f-47b0b9ff1215",
   "metadata": {
    "tags": []
   },
   "outputs": [
    {
     "data": {
      "text/html": [
       "<style>#sk-container-id-4 {color: black;}#sk-container-id-4 pre{padding: 0;}#sk-container-id-4 div.sk-toggleable {background-color: white;}#sk-container-id-4 label.sk-toggleable__label {cursor: pointer;display: block;width: 100%;margin-bottom: 0;padding: 0.3em;box-sizing: border-box;text-align: center;}#sk-container-id-4 label.sk-toggleable__label-arrow:before {content: \"▸\";float: left;margin-right: 0.25em;color: #696969;}#sk-container-id-4 label.sk-toggleable__label-arrow:hover:before {color: black;}#sk-container-id-4 div.sk-estimator:hover label.sk-toggleable__label-arrow:before {color: black;}#sk-container-id-4 div.sk-toggleable__content {max-height: 0;max-width: 0;overflow: hidden;text-align: left;background-color: #f0f8ff;}#sk-container-id-4 div.sk-toggleable__content pre {margin: 0.2em;color: black;border-radius: 0.25em;background-color: #f0f8ff;}#sk-container-id-4 input.sk-toggleable__control:checked~div.sk-toggleable__content {max-height: 200px;max-width: 100%;overflow: auto;}#sk-container-id-4 input.sk-toggleable__control:checked~label.sk-toggleable__label-arrow:before {content: \"▾\";}#sk-container-id-4 div.sk-estimator input.sk-toggleable__control:checked~label.sk-toggleable__label {background-color: #d4ebff;}#sk-container-id-4 div.sk-label input.sk-toggleable__control:checked~label.sk-toggleable__label {background-color: #d4ebff;}#sk-container-id-4 input.sk-hidden--visually {border: 0;clip: rect(1px 1px 1px 1px);clip: rect(1px, 1px, 1px, 1px);height: 1px;margin: -1px;overflow: hidden;padding: 0;position: absolute;width: 1px;}#sk-container-id-4 div.sk-estimator {font-family: monospace;background-color: #f0f8ff;border: 1px dotted black;border-radius: 0.25em;box-sizing: border-box;margin-bottom: 0.5em;}#sk-container-id-4 div.sk-estimator:hover {background-color: #d4ebff;}#sk-container-id-4 div.sk-parallel-item::after {content: \"\";width: 100%;border-bottom: 1px solid gray;flex-grow: 1;}#sk-container-id-4 div.sk-label:hover label.sk-toggleable__label {background-color: #d4ebff;}#sk-container-id-4 div.sk-serial::before {content: \"\";position: absolute;border-left: 1px solid gray;box-sizing: border-box;top: 0;bottom: 0;left: 50%;z-index: 0;}#sk-container-id-4 div.sk-serial {display: flex;flex-direction: column;align-items: center;background-color: white;padding-right: 0.2em;padding-left: 0.2em;position: relative;}#sk-container-id-4 div.sk-item {position: relative;z-index: 1;}#sk-container-id-4 div.sk-parallel {display: flex;align-items: stretch;justify-content: center;background-color: white;position: relative;}#sk-container-id-4 div.sk-item::before, #sk-container-id-4 div.sk-parallel-item::before {content: \"\";position: absolute;border-left: 1px solid gray;box-sizing: border-box;top: 0;bottom: 0;left: 50%;z-index: -1;}#sk-container-id-4 div.sk-parallel-item {display: flex;flex-direction: column;z-index: 1;position: relative;background-color: white;}#sk-container-id-4 div.sk-parallel-item:first-child::after {align-self: flex-end;width: 50%;}#sk-container-id-4 div.sk-parallel-item:last-child::after {align-self: flex-start;width: 50%;}#sk-container-id-4 div.sk-parallel-item:only-child::after {width: 0;}#sk-container-id-4 div.sk-dashed-wrapped {border: 1px dashed gray;margin: 0 0.4em 0.5em 0.4em;box-sizing: border-box;padding-bottom: 0.4em;background-color: white;}#sk-container-id-4 div.sk-label label {font-family: monospace;font-weight: bold;display: inline-block;line-height: 1.2em;}#sk-container-id-4 div.sk-label-container {text-align: center;}#sk-container-id-4 div.sk-container {/* jupyter's `normalize.less` sets `[hidden] { display: none; }` but bootstrap.min.css set `[hidden] { display: none !important; }` so we also need the `!important` here to be able to override the default hidden behavior on the sphinx rendered scikit-learn.org. See: https://github.com/scikit-learn/scikit-learn/issues/21755 */display: inline-block !important;position: relative;}#sk-container-id-4 div.sk-text-repr-fallback {display: none;}</style><div id=\"sk-container-id-4\" class=\"sk-top-container\"><div class=\"sk-text-repr-fallback\"><pre>GridSearchCV(cv=5,\n",
       "             estimator=Pipeline(steps=[(&#x27;tvec&#x27;, TfidfVectorizer()),\n",
       "                                       (&#x27;bnb&#x27;, BernoulliNB())]),\n",
       "             param_grid={&#x27;tvec__max_df&#x27;: [0.9, 0.95],\n",
       "                         &#x27;tvec__max_features&#x27;: [5000], &#x27;tvec__min_df&#x27;: [2, 5],\n",
       "                         &#x27;tvec__ngram_range&#x27;: [(1, 1), (1, 2), (2, 2)],\n",
       "                         &#x27;tvec__stop_words&#x27;: [&#x27;english&#x27;,\n",
       "                                              [&#x27;i&#x27;, &#x27;me&#x27;, &#x27;my&#x27;, &#x27;myself&#x27;, &#x27;we&#x27;,\n",
       "                                               &#x27;our&#x27;, &#x27;ours&#x27;, &#x27;ourselves&#x27;,\n",
       "                                               &#x27;you&#x27;, &quot;you&#x27;re&quot;, &quot;you&#x27;ve&quot;,\n",
       "                                               &quot;you&#x27;ll&quot;, &quot;you&#x27;d&quot;, &#x27;your&#x27;,\n",
       "                                               &#x27;yours&#x27;, &#x27;yourself&#x27;,\n",
       "                                               &#x27;yourselves&#x27;, &#x27;he&#x27;, &#x27;him&#x27;, &#x27;his&#x27;,\n",
       "                                               &#x27;himself&#x27;, &#x27;she&#x27;, &quot;she&#x27;s&quot;, &#x27;her&#x27;,\n",
       "                                               &#x27;hers&#x27;, &#x27;herself&#x27;, &#x27;it&#x27;, &quot;it&#x27;s&quot;,\n",
       "                                               &#x27;its&#x27;, &#x27;itself&#x27;, ...]]})</pre><b>In a Jupyter environment, please rerun this cell to show the HTML representation or trust the notebook. <br />On GitHub, the HTML representation is unable to render, please try loading this page with nbviewer.org.</b></div><div class=\"sk-container\" hidden><div class=\"sk-item sk-dashed-wrapped\"><div class=\"sk-label-container\"><div class=\"sk-label sk-toggleable\"><input class=\"sk-toggleable__control sk-hidden--visually\" id=\"sk-estimator-id-13\" type=\"checkbox\" ><label for=\"sk-estimator-id-13\" class=\"sk-toggleable__label sk-toggleable__label-arrow\">GridSearchCV</label><div class=\"sk-toggleable__content\"><pre>GridSearchCV(cv=5,\n",
       "             estimator=Pipeline(steps=[(&#x27;tvec&#x27;, TfidfVectorizer()),\n",
       "                                       (&#x27;bnb&#x27;, BernoulliNB())]),\n",
       "             param_grid={&#x27;tvec__max_df&#x27;: [0.9, 0.95],\n",
       "                         &#x27;tvec__max_features&#x27;: [5000], &#x27;tvec__min_df&#x27;: [2, 5],\n",
       "                         &#x27;tvec__ngram_range&#x27;: [(1, 1), (1, 2), (2, 2)],\n",
       "                         &#x27;tvec__stop_words&#x27;: [&#x27;english&#x27;,\n",
       "                                              [&#x27;i&#x27;, &#x27;me&#x27;, &#x27;my&#x27;, &#x27;myself&#x27;, &#x27;we&#x27;,\n",
       "                                               &#x27;our&#x27;, &#x27;ours&#x27;, &#x27;ourselves&#x27;,\n",
       "                                               &#x27;you&#x27;, &quot;you&#x27;re&quot;, &quot;you&#x27;ve&quot;,\n",
       "                                               &quot;you&#x27;ll&quot;, &quot;you&#x27;d&quot;, &#x27;your&#x27;,\n",
       "                                               &#x27;yours&#x27;, &#x27;yourself&#x27;,\n",
       "                                               &#x27;yourselves&#x27;, &#x27;he&#x27;, &#x27;him&#x27;, &#x27;his&#x27;,\n",
       "                                               &#x27;himself&#x27;, &#x27;she&#x27;, &quot;she&#x27;s&quot;, &#x27;her&#x27;,\n",
       "                                               &#x27;hers&#x27;, &#x27;herself&#x27;, &#x27;it&#x27;, &quot;it&#x27;s&quot;,\n",
       "                                               &#x27;its&#x27;, &#x27;itself&#x27;, ...]]})</pre></div></div></div><div class=\"sk-parallel\"><div class=\"sk-parallel-item\"><div class=\"sk-item\"><div class=\"sk-label-container\"><div class=\"sk-label sk-toggleable\"><input class=\"sk-toggleable__control sk-hidden--visually\" id=\"sk-estimator-id-14\" type=\"checkbox\" ><label for=\"sk-estimator-id-14\" class=\"sk-toggleable__label sk-toggleable__label-arrow\">estimator: Pipeline</label><div class=\"sk-toggleable__content\"><pre>Pipeline(steps=[(&#x27;tvec&#x27;, TfidfVectorizer()), (&#x27;bnb&#x27;, BernoulliNB())])</pre></div></div></div><div class=\"sk-serial\"><div class=\"sk-item\"><div class=\"sk-serial\"><div class=\"sk-item\"><div class=\"sk-estimator sk-toggleable\"><input class=\"sk-toggleable__control sk-hidden--visually\" id=\"sk-estimator-id-15\" type=\"checkbox\" ><label for=\"sk-estimator-id-15\" class=\"sk-toggleable__label sk-toggleable__label-arrow\">TfidfVectorizer</label><div class=\"sk-toggleable__content\"><pre>TfidfVectorizer()</pre></div></div></div><div class=\"sk-item\"><div class=\"sk-estimator sk-toggleable\"><input class=\"sk-toggleable__control sk-hidden--visually\" id=\"sk-estimator-id-16\" type=\"checkbox\" ><label for=\"sk-estimator-id-16\" class=\"sk-toggleable__label sk-toggleable__label-arrow\">BernoulliNB</label><div class=\"sk-toggleable__content\"><pre>BernoulliNB()</pre></div></div></div></div></div></div></div></div></div></div></div></div>"
      ],
      "text/plain": [
       "GridSearchCV(cv=5,\n",
       "             estimator=Pipeline(steps=[('tvec', TfidfVectorizer()),\n",
       "                                       ('bnb', BernoulliNB())]),\n",
       "             param_grid={'tvec__max_df': [0.9, 0.95],\n",
       "                         'tvec__max_features': [5000], 'tvec__min_df': [2, 5],\n",
       "                         'tvec__ngram_range': [(1, 1), (1, 2), (2, 2)],\n",
       "                         'tvec__stop_words': ['english',\n",
       "                                              ['i', 'me', 'my', 'myself', 'we',\n",
       "                                               'our', 'ours', 'ourselves',\n",
       "                                               'you', \"you're\", \"you've\",\n",
       "                                               \"you'll\", \"you'd\", 'your',\n",
       "                                               'yours', 'yourself',\n",
       "                                               'yourselves', 'he', 'him', 'his',\n",
       "                                               'himself', 'she', \"she's\", 'her',\n",
       "                                               'hers', 'herself', 'it', \"it's\",\n",
       "                                               'its', 'itself', ...]]})"
      ]
     },
     "execution_count": 186,
     "metadata": {},
     "output_type": "execute_result"
    }
   ],
   "source": [
    "gs_tvec.fit(X_train, y_train)"
   ]
  },
  {
   "cell_type": "code",
   "execution_count": 187,
   "id": "c5bf6d14-bf32-452c-8a96-e3902a7664c7",
   "metadata": {
    "tags": []
   },
   "outputs": [
    {
     "data": {
      "text/plain": [
       "0.9505843572070722"
      ]
     },
     "execution_count": 187,
     "metadata": {},
     "output_type": "execute_result"
    }
   ],
   "source": [
    "gs_tvec.best_score_"
   ]
  },
  {
   "cell_type": "code",
   "execution_count": 188,
   "id": "60d4849f-a669-4f1b-a388-781e82f4415c",
   "metadata": {
    "tags": []
   },
   "outputs": [
    {
     "name": "stdout",
     "output_type": "stream",
     "text": [
      "0.9689265536723164\n",
      "0.961864406779661\n"
     ]
    }
   ],
   "source": [
    "print(gs_tvec.score(X_train,y_train))\n",
    "print(gs_tvec.score(X_test,y_test))"
   ]
  },
  {
   "cell_type": "code",
   "execution_count": null,
   "id": "881fb908-5595-4348-8da7-8da8e564399b",
   "metadata": {},
   "outputs": [],
   "source": []
  }
 ],
 "metadata": {
  "kernelspec": {
   "display_name": "Python 3 (ipykernel)",
   "language": "python",
   "name": "python3"
  },
  "language_info": {
   "codemirror_mode": {
    "name": "ipython",
    "version": 3
   },
   "file_extension": ".py",
   "mimetype": "text/x-python",
   "name": "python",
   "nbconvert_exporter": "python",
   "pygments_lexer": "ipython3",
   "version": "3.11.4"
  }
 },
 "nbformat": 4,
 "nbformat_minor": 5
}
